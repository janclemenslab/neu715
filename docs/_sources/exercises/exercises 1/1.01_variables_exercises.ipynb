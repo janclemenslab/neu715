{
 "cells": [
  {
   "cell_type": "markdown",
   "metadata": {
    "editable": true,
    "slideshow": {
     "slide_type": ""
    },
    "tags": []
   },
   "source": [
    "# Variables and notebook memory\n",
    "\n",
    "## How do I use the Exercises?\n",
    "\n",
    "1. Go to the course website: [http://janclemenslab.org/neu715/intro]\n",
    "2. In the table of content on the left, go to “Basics - exercises/Variables”\n",
    "3. Then, in the top bar do one of the following:\n",
    "    - _If you have a working python installation_: Click on the arrow to download the notebook with the exercises and open it in jupyter. \n",
    "    - _If you do not have a running python yet_ (let us know - we can help): Click on the rocket icon and run the notebook in google colab (more reliable but requires a google account) or in binder (less reliable but does not require any account).\n",
    "\n",
    "## Exercise 1: Variables and arithmetic\n",
    "### Compute the density of a whale using variables\n",
    "Mabel and Jolanda, our friends from the department of marine biology, ask us to help them with automating a computation for them.\n",
    "They have measured the weight and volume of Keiko, a whale they are tracking:\n",
    "- mass 41928 kg\n",
    "- volume 77.05 $m^3$\n",
    "\n",
    "They want to know Keiko's density. Knowing only basic python, they compute the whale's density as the ratio of its mass and volume:"
   ]
  },
  {
   "cell_type": "code",
   "execution_count": 1,
   "metadata": {},
   "outputs": [
    {
     "data": {
      "text/plain": [
       "544.1661258922777"
      ]
     },
     "execution_count": 1,
     "metadata": {},
     "output_type": "execute_result"
    }
   ],
   "source": [
    "41928 / 77.05"
   ]
  },
  {
   "cell_type": "markdown",
   "metadata": {},
   "source": [
    "This code has several disadvantages:\n",
    "- It is inflexible: Data values and computation are mixed.\n",
    "- It is not readable: It's unclear from the code alone what the two values are and what the code does!\n",
    "\n",
    "### Improve the code using variables\n",
    "- Make it flexible: Separate data and computation by creating two variables for mass and volume and by computing the density as the ratio of the two.\n",
    "- Make it readable: Give your variables meaningful names that indicate their content - do not use `a` and `b`. Add comments to indicate the variables' units."
   ]
  },
  {
   "cell_type": "code",
   "execution_count": null,
   "metadata": {},
   "outputs": [],
   "source": [
    "# your code here\n"
   ]
  },
  {
   "cell_type": "markdown",
   "metadata": {},
   "source": [
    "### Compute the whales' combined mass and volume, their individual densities, and the average of their densities.\n",
    "Mabel and Jolanda, our friends from the department of marine biology, need to ship Keiko and her mate, Moby, to the pacific. To know whether the capacity of our container is sufficient, they need to know their combined mass, their combined volume, and their average density. They need our help again!!\n",
    "\n",
    "Execute below cell once to create the variables for the whales' individual volumes and masses.\n",
    "Then perform the computations on these variables in the cell \"COMPUTATION!\" below that."
   ]
  },
  {
   "cell_type": "code",
   "execution_count": null,
   "metadata": {},
   "outputs": [],
   "source": [
    "mass_keiko = 41928  # kg\n",
    "vol_keiko = 77.05  # m^3\n",
    "\n",
    "mass_moby = 38653  # kg\n",
    "vol_moby = 67.23  # m^3"
   ]
  },
  {
   "cell_type": "code",
   "execution_count": null,
   "metadata": {},
   "outputs": [],
   "source": [
    "# COMPUTATION!\n",
    "# your solution here\n",
    "combined_mass = ...\n",
    "combined_volume = ...\n",
    "\n",
    "density_keiko = ...\n",
    "density_moby = ...\n",
    "\n",
    "average_density = ..."
   ]
  },
  {
   "cell_type": "markdown",
   "metadata": {},
   "source": [
    "## Exercise 2: Calculate the area and the volume of a cube.\n",
    "Here are the formulas for the area and volume of a cube:\n",
    "- $A = W * D$, $A$ is the area of the base of the cube, and $W$ and $D$ are the width and depth.\n",
    "- $V = W * D * H = A * H$, $H$ is the cube's height\n",
    "\n",
    "Make your code efficient by re-using already calculated results."
   ]
  },
  {
   "cell_type": "code",
   "execution_count": null,
   "metadata": {},
   "outputs": [],
   "source": [
    "# use these variables\n",
    "width = 10\n",
    "depth = 2\n",
    "height = 100\n",
    "\n",
    "# your solution here\n",
    "area = ...\n",
    "volume = ..."
   ]
  },
  {
   "cell_type": "markdown",
   "metadata": {},
   "source": [
    "## Exercise 3: Calculate the circumference and area of a circle and the volume of a sphere\n",
    "- circumference of a circle: $2*\\pi*r$\n",
    "- area of a circle: $\\pi * r^2$\n",
    "- volume of a sphere: $4/3 * \\pi * r^3$\n",
    "\n",
    "$\\pi$ is approximately 3.14.\n",
    "Make your code efficient by re-using already calculated results.\n",
    "\n",
    "Bonus: Use google to find out how to get the actual value of pi in python.\n"
   ]
  },
  {
   "cell_type": "code",
   "execution_count": null,
   "metadata": {},
   "outputs": [],
   "source": [
    "pi = 3.14\n",
    "radius = 85\n",
    "\n",
    "# your solution here\n"
   ]
  },
  {
   "cell_type": "markdown",
   "metadata": {},
   "source": [
    "## Exercise 4: variable types and type casting\n",
    "### Adding two numbers, two strings, and a string and a number\n",
    "We know what happens when we add two variables that are numbers:\n",
    "```python\n",
    "x = 1\n",
    "y = 58\n",
    "x + y  # 59\n",
    "```\n",
    "\n",
    "Try and see what happens if you add two variables that are strings?\n",
    "```python\n",
    "x = \"George\"\n",
    "y = \"Michael\"\n",
    "x + y  #?\n",
    "```\n",
    "Can you explain what is happening here? Why does the \"+\" sign do different things for numbers and strings?\n",
    "\n",
    "Try and see what happens if you add a variable that is a string to one that is a number?\n",
    "```python\n",
    "x = 10\n",
    "y = '20'\n",
    "x + y  # ?\n",
    "```\n",
    "Why does this fail?"
   ]
  },
  {
   "cell_type": "code",
   "execution_count": null,
   "metadata": {},
   "outputs": [],
   "source": [
    "# your try-and-see-what-happens code here"
   ]
  },
  {
   "cell_type": "markdown",
   "metadata": {},
   "source": [
    "### Fix the last error above using type casting\n",
    "In the previous exercise, you observed that adding variables of different types - for instance a string and a number does not work.\n",
    "\n",
    "You can fix this by converting the types of variables so that they match - a procedure called _type casting_.\n",
    "\n",
    "A variable can be converted:\n",
    "- to text via the `str` (string) function,\n",
    "- to an integer number via the `int` function,\n",
    "- to a floating point number via the `float` function."
   ]
  },
  {
   "cell_type": "markdown",
   "metadata": {},
   "source": [
    "Fix below code by casting the `x` and `y`\n",
    "\n",
    "1) to text using `str()` and\n",
    "2) to numbers using `float()` or `int()`\n",
    "\n",
    "Remember, functions are used via their name, followed by the input argument in parentheses: `output = function(input)`\n",
    "\n",
    "Can you explain the result you get when casting both variables to string?"
   ]
  },
  {
   "cell_type": "code",
   "execution_count": 1,
   "metadata": {},
   "outputs": [
    {
     "ename": "TypeError",
     "evalue": "unsupported operand type(s) for +: 'int' and 'str'",
     "output_type": "error",
     "traceback": [
      "\u001b[31m---------------------------------------------------------------------------\u001b[39m",
      "\u001b[31mTypeError\u001b[39m                                 Traceback (most recent call last)",
      "\u001b[36mCell\u001b[39m\u001b[36m \u001b[39m\u001b[32mIn[1]\u001b[39m\u001b[32m, line 4\u001b[39m\n\u001b[32m      2\u001b[39m x = \u001b[32m10\u001b[39m\n\u001b[32m      3\u001b[39m y = \u001b[33m'\u001b[39m\u001b[33m20\u001b[39m\u001b[33m'\u001b[39m\n\u001b[32m----> \u001b[39m\u001b[32m4\u001b[39m \u001b[43mx\u001b[49m\u001b[43m \u001b[49m\u001b[43m+\u001b[49m\u001b[43m \u001b[49m\u001b[43my\u001b[49m\n",
      "\u001b[31mTypeError\u001b[39m: unsupported operand type(s) for +: 'int' and 'str'"
     ]
    }
   ],
   "source": [
    "# FIXME!\n",
    "x = 10\n",
    "y = '20'\n",
    "x + y"
   ]
  },
  {
   "cell_type": "markdown",
   "metadata": {},
   "source": [
    "## Exercise 5: Keeping track of and re-using variables\n",
    "Since all cells in your notebook share the same namespace, you can re-use variables that you have created in another cell. \n",
    "This allows you to split your computation into multiple cells.\n",
    "\n",
    "__Caution__: This re-use can have unexpected consequences if you run the same cell multiple times while coding or if you run your cells out of order.\n",
    "\n",
    "Let's do some exercises about that:"
   ]
  },
  {
   "cell_type": "markdown",
   "metadata": {},
   "source": [
    "### What's the value of `x` at end of the program below?\n",
    "Go through the program line-by-line _without running it_ and explain the value of `x`.\n",
    "\n",
    "```python\n",
    "w = 100\n",
    "x = 2\n",
    "x = w\n",
    "```\n",
    "\n",
    "And what is the value of `x` after running this line? Why?\n",
    "```python\n",
    "x = x + 10\n",
    "```"
   ]
  },
  {
   "cell_type": "markdown",
   "metadata": {},
   "source": [
    "### What's the value of `c` if we run the code below? What is the value of `c` if we run below code a second time? \n",
    "Try to predict the result without running the code first. \n",
    "Then test your prediction by running the code.\n",
    "\n",
    "Was your prediction you correct?"
   ]
  },
  {
   "cell_type": "code",
   "execution_count": 16,
   "metadata": {},
   "outputs": [],
   "source": [
    "c = 1\n",
    "d = c + 5\n",
    "c = c + 8"
   ]
  },
  {
   "cell_type": "markdown",
   "metadata": {},
   "source": [
    "### Again: What's the value of `c` if we run the code below once? What is the value of `c` if we run the code a second time? \n",
    "After you've run the code above, try to predict the result of the code below.\n",
    "Then test your prediction by running the code.\n",
    "\n",
    "Why is the result different from runing the code above?"
   ]
  },
  {
   "cell_type": "code",
   "execution_count": 15,
   "metadata": {},
   "outputs": [],
   "source": [
    "d = c + 5\n",
    "c = c + 8"
   ]
  }
 ],
 "metadata": {
  "kernelspec": {
   "display_name": "Python 3 (ipykernel)",
   "language": "python",
   "name": "python3"
  },
  "language_info": {
   "codemirror_mode": {
    "name": "ipython",
    "version": 3
   },
   "file_extension": ".py",
   "mimetype": "text/x-python",
   "name": "python",
   "nbconvert_exporter": "python",
   "pygments_lexer": "ipython3",
   "version": "3.13.8"
  }
 },
 "nbformat": 4,
 "nbformat_minor": 4
}
