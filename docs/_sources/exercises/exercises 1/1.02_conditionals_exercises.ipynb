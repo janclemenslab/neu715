{
 "cells": [
  {
   "cell_type": "markdown",
   "metadata": {
    "editable": true,
    "slideshow": {
     "slide_type": ""
    },
    "tags": []
   },
   "source": [
    "# Conditionals"
   ]
  },
  {
   "cell_type": "markdown",
   "metadata": {},
   "source": [
    "## Exercise 1: Comparisons\n",
    "\n",
    "Let's create some variables:\n",
    "```python\n",
    "a = 10\n",
    "b = 20\n",
    "c = 10\n",
    "```\n",
    "\n",
    "Which of these expressions evaluate to `True`? Predict the result without running the code, then run the code and try to understand the result.\n",
    "```python\n",
    "a < b\n",
    "a < c\n",
    "a <= c\n",
    "a == c\n",
    "a + c >= b\n",
    "a - c == b - 2 * c\n",
    "```\n",
    "\n",
    "\n",
    "We can also compare variables that hold text. Which one of these four statements evaluates to `True`?\n",
    "```python\n",
    "bird = 'duck'\n",
    "bird == 'duck'\n",
    "bird == 'goose'\n",
    "bird == \"duck\"\n",
    "```"
   ]
  },
  {
   "cell_type": "markdown",
   "metadata": {},
   "source": [
    "## Exercise 2: if statements\n",
    "\n",
    "### Feeding up Keiko\n",
    "Mabel and Jolanda, our friends from marine biology, need our help, again!\n",
    "\n",
    "They want to know whether their favorite whale, Keiko, is heavier then their second favorite whale, Moby.\n",
    "\n",
    "The code below is not producing the correct result. What is wrong with the code? Can you fix it?"
   ]
  },
  {
   "cell_type": "code",
   "execution_count": 2,
   "metadata": {},
   "outputs": [
    {
     "name": "stdout",
     "output_type": "stream",
     "text": [
      "Keiko is heavier than Moby. Stop giving her extra rations!\n"
     ]
    }
   ],
   "source": [
    "# whale 1\n",
    "mass_keiko = 41928  # kg\n",
    "# whale 2\n",
    "mass_moby = 43872  # kg\n",
    "\n",
    "# FIX THIS CODE\n",
    "if mass_keiko < mass_moby:\n",
    "    print('Keiko is heavier than Moby. Stop giving her extra rations!')\n",
    "else:\n",
    "    print('Keiko is so skinny! She needs extra rations!')"
   ]
  },
  {
   "cell_type": "markdown",
   "metadata": {},
   "source": [
    "### Are the whales too heavy for shipping?\n",
    "Mabel and Jolanda keep pestering us about their whales!\n",
    "\n",
    "They want to ship the whales, but the container can only carry them if their combined mass is below 85 tons.\n",
    "\n",
    "Write a program that calculates the combined mass of the two whales and checks if it is below 85 tons. \n",
    "\n",
    "If the combined mass is below 85 tons, the program should print \"THE WHALES ARE READY FOR SHIPPING\". \n",
    "If the combined mass is above 85 tons, the program should print \"THE WHALES ARE TOO HEAVY FOR SHIPPING\". \n",
    "\n",
    "Modify the values of the individual masses to test your program. For instance, set the masses so that the combined mass is below 85 tons or above 85 tons."
   ]
  },
  {
   "cell_type": "code",
   "execution_count": 5,
   "metadata": {},
   "outputs": [
    {
     "name": "stdout",
     "output_type": "stream",
     "text": [
      "b\n"
     ]
    }
   ],
   "source": [
    "# whale 1\n",
    "mass_keiko = 41928  # kg\n",
    "# whale 2\n",
    "mass_moby = 43872  # kg\n",
    "\n",
    "# Your solution \n",
    "combined_mass= mass_keiko+mass_moby\n",
    "\n",
    "if combined_mass < 85000:\n",
    "    print(\"a\")\n",
    "else:\n",
    "    print(\"b\")\n",
    "    "
   ]
  },
  {
   "cell_type": "markdown",
   "metadata": {},
   "source": [
    "Now modify your program above to print \"A WONDER HAPPENED - THE WHALES WEIGH EXACTLY 85 TONS!!!\" if their combined mass is exactly 85 tons. "
   ]
  },
  {
   "cell_type": "markdown",
   "metadata": {},
   "source": [
    "## Exercise 3: Spike detection\n",
    "Back to spike detection: We now have all the ingredients for detecting spikes given the voltage value at an individual time point.\n",
    "\n",
    "Write a program that prints \"spike\" if the value of the `voltage` variable exceeds a threshold value of 0V.\n",
    "The value of the `voltage` variable is currently 10. Ensure that your program is working correctly by changing the value (to -10 or 0 or +10)."
   ]
  },
  {
   "cell_type": "code",
   "execution_count": 12,
   "metadata": {},
   "outputs": [
    {
     "name": "stdout",
     "output_type": "stream",
     "text": [
      "nothing\n"
     ]
    }
   ],
   "source": [
    "voltage = -50  # V\n",
    "threshold = 0  # V\n",
    "\n",
    "# your solution here\n",
    "if voltage < 100:\n",
    "    if voltage > threshold:\n",
    "        print('spike')\n",
    "else:\n",
    "    print('alternative')"
   ]
  },
  {
   "cell_type": "markdown",
   "metadata": {},
   "source": [
    "We noticed that neurons often die during our electrophysiology experiments. Let's assume the membrane voltage of a dead cell is +100V.\n",
    "\n",
    "Modify your code above to also print \"Oh no, the cell died!!!\" when the voltage is above +100V.\n",
    "\n",
    "Test your program by changing the value of the `voltage` variable.\n"
   ]
  },
  {
   "cell_type": "code",
   "execution_count": 3,
   "metadata": {},
   "outputs": [],
   "source": [
    "# your code here\n"
   ]
  }
 ],
 "metadata": {
  "celltoolbar": "Slideshow",
  "kernelspec": {
   "display_name": "Python 3 (ipykernel)",
   "language": "python",
   "name": "python3"
  },
  "language_info": {
   "codemirror_mode": {
    "name": "ipython",
    "version": 3
   },
   "file_extension": ".py",
   "mimetype": "text/x-python",
   "name": "python",
   "nbconvert_exporter": "python",
   "pygments_lexer": "ipython3",
   "version": "3.13.8"
  },
  "vscode": {
   "interpreter": {
    "hash": "7ea0ec616133ead53c1908c8f6539f5c0cb9b2f78368e2bb6ab3f847e89ca400"
   }
  }
 },
 "nbformat": 4,
 "nbformat_minor": 4
}
