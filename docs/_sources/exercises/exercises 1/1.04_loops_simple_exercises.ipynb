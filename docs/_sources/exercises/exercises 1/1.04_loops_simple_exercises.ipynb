{
 "cells": [
  {
   "cell_type": "markdown",
   "metadata": {},
   "source": [
    "# Loops"
   ]
  },
  {
   "cell_type": "markdown",
   "metadata": {},
   "source": [
    "## Exercise 1: Printing using a for loop\n",
    "Use a for loop to each list element in a separate line:"
   ]
  },
  {
   "cell_type": "code",
   "execution_count": 3,
   "metadata": {},
   "outputs": [
    {
     "name": "stdout",
     "output_type": "stream",
     "text": [
      "1243891290\n",
      "1234129401\n",
      "14910395130\n",
      "1340981394\n"
     ]
    }
   ],
   "source": [
    "weights = [1243891290, 1234129401, 14910395130, 1340981394]\n",
    "\n",
    "# your solution here"
   ]
  },
  {
   "cell_type": "markdown",
   "metadata": {},
   "source": [
    "## Exercise 2: Convert units\n",
    "We have a list of weights in grams. Use a for loop to convert the weights to tons and print them one by one."
   ]
  },
  {
   "cell_type": "code",
   "execution_count": 5,
   "metadata": {},
   "outputs": [
    {
     "name": "stdout",
     "output_type": "stream",
     "text": [
      "1243.89129\n",
      "1234.129401\n",
      "14910.39513\n",
      "1340.981394\n"
     ]
    }
   ],
   "source": [
    "grams = [1243891290, 1234129401, 14910395130, 1340981394]\n",
    "\n",
    "# your solution here"
   ]
  },
  {
   "cell_type": "markdown",
   "metadata": {},
   "source": [
    "## Exercise 3: Convert units and append the results to a new list\n",
    "We have a list of weights in grams - create a new list, called `tons` that contains the weights in tons."
   ]
  },
  {
   "cell_type": "code",
   "execution_count": 3,
   "metadata": {},
   "outputs": [],
   "source": [
    "grams = [1243891290, 1234129401, 14910395130, 1340981394]\n",
    "\n",
    "# your solution here\n"
   ]
  },
  {
   "cell_type": "markdown",
   "metadata": {},
   "source": [
    "## Exercise 4: Filtering a list (1)\n",
    "Print all list elements greater than 10:"
   ]
  },
  {
   "cell_type": "code",
   "execution_count": 4,
   "metadata": {},
   "outputs": [],
   "source": [
    "a = [34,5, 432, 3, 780]\n",
    "\n",
    "# your solution here"
   ]
  },
  {
   "cell_type": "markdown",
   "metadata": {},
   "source": [
    "## Exercise 5: Filtering a list (2)\n",
    "Create a new list that contains all elements greater than 10:"
   ]
  },
  {
   "cell_type": "code",
   "execution_count": 8,
   "metadata": {},
   "outputs": [],
   "source": [
    "a = [34,5, 432, 3, 780]\n",
    "\n",
    "# your solution here"
   ]
  },
  {
   "cell_type": "markdown",
   "metadata": {},
   "source": [
    "## Exercise 6: Filtering a list (3)\n",
    "Create a new list that contains all elements greater than 10 and less than 100:"
   ]
  },
  {
   "cell_type": "code",
   "execution_count": 5,
   "metadata": {},
   "outputs": [],
   "source": [
    "a = [34, 5, 11, 83, 432, 3, 50, 780]\n",
    "\n",
    "# your solution here"
   ]
  },
  {
   "cell_type": "markdown",
   "metadata": {},
   "source": [
    "## Exercise 7: Slice indexing\n",
    "The following code is supposed to generate a list that only contains the even values from the list `all_values`.\n",
    "\n",
    "Does it produce the correct result? If not, fix it!"
   ]
  },
  {
   "cell_type": "code",
   "execution_count": 7,
   "metadata": {},
   "outputs": [
    {
     "name": "stdout",
     "output_type": "stream",
     "text": [
      "[0, 1, 2, 3, 4, 5, 6, 7, 8, 9]\n",
      "[1, 3, 5, 7, 9]\n"
     ]
    }
   ],
   "source": [
    "all_values = list(range(10))\n",
    "print(all_values)\n",
    "\n",
    "# fix this code:\n",
    "even_values = []\n",
    "for value in all_values[1::2]:\n",
    "    even_values.append(value)\n",
    "\n",
    "print(even_values)"
   ]
  },
  {
   "cell_type": "markdown",
   "metadata": {},
   "source": [
    "## Exercise 8: Updating a variable\n",
    "The following code is supposed to compute the sum of the values in the list `all_values`.\n",
    "\n",
    "Does it produce the correct result? If not, fix it!"
   ]
  },
  {
   "cell_type": "code",
   "execution_count": 6,
   "metadata": {},
   "outputs": [
    {
     "name": "stdout",
     "output_type": "stream",
     "text": [
      "[0, 1, 2, 3, 4, 5, 6, 7, 8, 9]\n",
      "9\n"
     ]
    }
   ],
   "source": [
    "all_values = list(range(10))\n",
    "print(all_values)\n",
    "\n",
    "# fix this code:\n",
    "sum_of_values = 10\n",
    "for value in all_values:\n",
    "    sum_of_values = value\n",
    "\n",
    "print(sum_of_values)\n"
   ]
  }
 ],
 "metadata": {
  "kernelspec": {
   "display_name": "neu715",
   "language": "python",
   "name": "python3"
  },
  "language_info": {
   "codemirror_mode": {
    "name": "ipython",
    "version": 3
   },
   "file_extension": ".py",
   "mimetype": "text/x-python",
   "name": "python",
   "nbconvert_exporter": "python",
   "pygments_lexer": "ipython3",
   "version": "3.12.6"
  }
 },
 "nbformat": 4,
 "nbformat_minor": 4
}
