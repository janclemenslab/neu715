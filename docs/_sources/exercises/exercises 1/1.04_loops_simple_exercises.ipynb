{
 "cells": [
  {
   "cell_type": "markdown",
   "metadata": {},
   "source": [
    "# Exercises 1.4 - Loops\n",
    "## Exercise 1 - Convert units\n",
    "We have a list of weights in grams - create a new list, called `tons` that contains the weights in tons."
   ]
  },
  {
   "cell_type": "code",
   "execution_count": 1,
   "metadata": {},
   "outputs": [],
   "source": [
    "grams = [1243891290, 1234129401, 14910395130, 1340981394]\n",
    "\n",
    "# your solution here\n"
   ]
  },
  {
   "cell_type": "markdown",
   "metadata": {},
   "source": [
    "## Exercise 2\n",
    "The following code is supposed to generate a list that only contains the even values from the list `all_values`.\n",
    "\n",
    "Does it produce the correct result? If not, fix it!"
   ]
  },
  {
   "cell_type": "code",
   "execution_count": 2,
   "metadata": {},
   "outputs": [
    {
     "name": "stdout",
     "output_type": "stream",
     "text": [
      "[0, 1, 2, 3, 4, 5, 6, 7, 8, 9]\n",
      "[1, 3, 5, 7, 9]\n"
     ]
    }
   ],
   "source": [
    "all_values = list(range(10))\n",
    "print(all_values)\n",
    "\n",
    "# fix this code:\n",
    "even_values = []\n",
    "for value in all_values[1::2]:\n",
    "    even_values.append(value)\n",
    "\n",
    "print(even_values)"
   ]
  },
  {
   "cell_type": "markdown",
   "metadata": {},
   "source": [
    "## Exercise 3\n",
    "The following code is supposed to compute the sum of the values in the list `all_values`.\n",
    "\n",
    "Does it produce the correct result? If not, fix it!"
   ]
  },
  {
   "cell_type": "code",
   "execution_count": 3,
   "metadata": {},
   "outputs": [
    {
     "name": "stdout",
     "output_type": "stream",
     "text": [
      "[0, 1, 2, 3, 4, 5, 6, 7, 8, 9]\n",
      "9\n"
     ]
    }
   ],
   "source": [
    "all_values = list(range(10))\n",
    "print(all_values)\n",
    "\n",
    "# fix this code:\n",
    "sum_of_values = 10\n",
    "for value in all_values:\n",
    "    sum_of_values = value\n",
    "\n",
    "print(sum_of_values)"
   ]
  },
  {
   "cell_type": "markdown",
   "metadata": {},
   "source": [
    "## Exercises 4+5\n",
    "For the next two exercises, we will play with temperature anomaly data - deviations of the global mean temperature:"
   ]
  },
  {
   "cell_type": "code",
   "execution_count": 14,
   "metadata": {},
   "outputs": [
    {
     "name": "stdout",
     "output_type": "stream",
     "text": [
      "[-0.19, -0.177, -0.308, -0.289, -0.193, -0.057, 0.077, 0.026, 0.029, 0.068, 0.256, 0.342, 0.591, 0.792]\n"
     ]
    }
   ],
   "source": [
    "# EXECUTE BUT DO NOT CHANGE THIS CELL\n",
    "temperature_anomalies = [-0.19,-0.177,-0.308,-0.289,-0.193,-0.057,0.077,0.026,0.029,0.068,0.256, 0.342, 0.591, 0.792]\n",
    "print(temperature_anomalies)"
   ]
  },
  {
   "cell_type": "markdown",
   "metadata": {},
   "source": [
    "### Exercise 4 - substract the mean value\n",
    "We can use numpy, a numerical computing library, to compute the mean and standard deviation of the anomaly values.\n",
    "\n",
    "We will learn more about numpy later. For now, all you need to know is the following:\n",
    "- `avg_anomaly = np.mean(temperature_anomalies)` computes the average value of the list elements\n",
    "- `stdev_anomaly = np.std(temperature_anomalies)` computes the standard deviation value of the list elements\n",
    "\n",
    "This code is already in the next cell.\n",
    "\n",
    "Create a new list, `mean_subtracted` that holds the mean-subtracted anomaly values. Subtract the mean of the anomaly values from each element in `temperature_anomalies` using a for loop:"
   ]
  },
  {
   "cell_type": "code",
   "execution_count": 15,
   "metadata": {},
   "outputs": [
    {
     "name": "stdout",
     "output_type": "stream",
     "text": [
      "the average is 0.06907142857142858\n",
      "the standard deviation is 0.31516831428068814\n"
     ]
    }
   ],
   "source": [
    "temperature_anomalies = [-0.19,-0.177,-0.308,-0.289,-0.193,-0.057,0.077,0.026,0.029,0.068,0.256, 0.342, 0.591, 0.792]\n",
    "\n",
    "import numpy as np\n",
    "\n",
    "avg_anomaly = np.mean(temperature_anomalies)\n",
    "print(f\"the average is {avg_anomaly}\")\n",
    "stdev_anomaly = np.std(temperature_anomalies)\n",
    "print(f\"the standard deviation is {stdev_anomaly}\")\n",
    "\n",
    "# your solutions here\n"
   ]
  },
  {
   "cell_type": "markdown",
   "metadata": {},
   "source": [
    "### Exercise 5 - z-score\n",
    "\n",
    "A common operation in statistic is z-scoring - normalizing the data so that it has zero mean and unit standard deviation (std=1). \n",
    "\n",
    "This can be done by applying the following two steps to each value in the list:\n",
    "1) subtract the mean,\n",
    "2) divide by the standard deviation:\n",
    "\n",
    "In math: $x_z = (x - x_{mean}) / x_{std}$ where $x_z$ is the z-scored value and $x_{mean}$ and  $x_{std}$ are mean and standard deviation of the data.\n",
    "\n",
    "Create a new list of z-scored anomaly values using a for-loop:"
   ]
  },
  {
   "cell_type": "code",
   "execution_count": 16,
   "metadata": {},
   "outputs": [],
   "source": [
    "# your solutions here\n"
   ]
  }
 ],
 "metadata": {
  "kernelspec": {
   "display_name": "Python 3 (ipykernel)",
   "language": "python",
   "name": "python3"
  },
  "language_info": {
   "codemirror_mode": {
    "name": "ipython",
    "version": 3
   },
   "file_extension": ".py",
   "mimetype": "text/x-python",
   "name": "python",
   "nbconvert_exporter": "python",
   "pygments_lexer": "ipython3",
   "version": "3.12.0"
  },
  "vscode": {
   "interpreter": {
    "hash": "97ead24bb190f3c846c8ccaf2b3dc07d0b052bfb8e69b5aeffb27504f0f68adb"
   }
  }
 },
 "nbformat": 4,
 "nbformat_minor": 4
}
