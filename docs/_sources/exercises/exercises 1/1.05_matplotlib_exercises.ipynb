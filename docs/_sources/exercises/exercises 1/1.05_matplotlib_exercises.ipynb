{
 "cells": [
  {
   "cell_type": "markdown",
   "metadata": {},
   "source": [
    "# Exercises 1.5 - Plotting\n",
    "## Exercise 1: Plot temperature anomaly values\n",
    "\n",
    "Let's load some anomaly data:"
   ]
  },
  {
   "cell_type": "code",
   "execution_count": 1,
   "metadata": {},
   "outputs": [
    {
     "name": "stdout",
     "output_type": "stream",
     "text": [
      "[1880, 1881, 1882, 1883, 1884, 1885, 1886, 1887, 1888, 1889]\n",
      "[-0.1, -0.17, -0.11, -0.17, -0.28, -0.26, -0.27, -0.22, -0.09, -0.23]\n"
     ]
    }
   ],
   "source": [
    "# EXECUTE THIS CELL BUT DO NOT CHANGE IT\n",
    "import numpy as np\n",
    "\n",
    "# Load the full anomaly data set\n",
    "data = np.loadtxt('temperature.csv', skiprows=1, delimiter=',')\n",
    "years = [int(y) for y in data[:, 0]]  # unpack the table and cast years to int\n",
    "temperature_anomalies = list(data[:, 1])  # unpack the table\n",
    "print(years[:10])\n",
    "print(temperature_anomalies[:10])"
   ]
  },
  {
   "cell_type": "markdown",
   "metadata": {},
   "source": [
    "Plot the anomaly values similar to the figure below, with a black line connecting the individual values.\n",
    "\n",
    "Roughly like so:\n",
    "\n",
    "![](1.05_matplotlib_exercises2.png)\n"
   ]
  },
  {
   "cell_type": "code",
   "execution_count": 2,
   "metadata": {},
   "outputs": [],
   "source": [
    "# your solution\n"
   ]
  },
  {
   "cell_type": "markdown",
   "metadata": {},
   "source": [
    "Now copy the code for plotting above to the next cell and modify it to show:\n",
    "- a black line connecting individual values (as before)\n",
    "- a red dot if the anomaly value is positive\n",
    "- a horizontal red line at y=0\n",
    "\n",
    "Roughly like so:\n",
    "\n",
    "![](1.05_matplotlib_exercises2b.png)\n"
   ]
  },
  {
   "cell_type": "code",
   "execution_count": 3,
   "metadata": {},
   "outputs": [],
   "source": [
    "# your solution\n"
   ]
  },
  {
   "cell_type": "markdown",
   "metadata": {},
   "source": [
    "## Exercise 2: Plotting multiple datasets using for loops (IMPORTANT)\n",
    "You can combine for-loops and subplots to generate multi-panel plots.\n",
    "\n",
    "You are given a variable, `datasets`, which is a list of list. Each list in `datasets` contains a dataset composed of 3 values.\n",
    "\n",
    "Use a for loop to plot all three datasets in three subplots:\n",
    "- All subplots should have the same y-limits. \n",
    "- All subplots should have an y-axis label \"Awesomeness\" and an x-axis label \"Shuffle factor\". \n",
    "- Each subplot should have a title \"Dataset #\" where \"#\" is substituted by the number of the dataset (1,2,3).\n",
    "\n",
    "Roughly like so:\n",
    "\n",
    "![](1.05_matplotlib_exercises1.png)"
   ]
  },
  {
   "cell_type": "code",
   "execution_count": 4,
   "metadata": {},
   "outputs": [],
   "source": [
    "datasets = [[1,2,3], [3,2,1], [-3,2,3]]\n",
    "\n",
    "# your solution here\n"
   ]
  },
  {
   "cell_type": "markdown",
   "metadata": {},
   "source": [
    "This is nice, but there are too many redundant labels. Copy your code generating the figure from the cell above to the cell below and modify it in the following way:\n",
    "- Only the first subplot should have an y-axis label, \"Awesomeness\".\n",
    "- Only the second (central) subplot should have an x-axis label \"Shuffle factor\".\n",
    "\n",
    "Roughly like so:\n",
    "\n",
    "![](1.05_matplotlib_exercises1b.png)"
   ]
  },
  {
   "cell_type": "code",
   "execution_count": 5,
   "metadata": {},
   "outputs": [],
   "source": [
    "datasets = [[1,2,3], [3,2,1], [-3,2,3]]\n",
    "\n",
    "# your solution here"
   ]
  },
  {
   "cell_type": "markdown",
   "metadata": {},
   "source": [
    "## Exercise 3: Plot the original and \"downsampled\" anomaly values\n",
    "Downsample by computing the avg. anomaly value in blocks of 10 years. Each point in the plot is the average over ten years of anomaly data. The first green point is the average over years 1880-1890, and is placed at 1885, the second point is the average over the years 1890-1900 and is placed at 1895 etc. The original anomaly values are plotted as a grey line.\n",
    "\n",
    "Save the figure to an image file in the png-format using `plt.savefig(FILENAME)`, where `FILENAME` is the name of the image file, for instance `my_amazing_figure.png`. \n",
    "\n",
    "Important: For the figure to be saved in the png-format, the file's name needs to end in `.png`. You need to use `plt.savefig` in the same cell in which you generated the plot. But before calling `plt.show()`.\n",
    "\n",
    "Roughly like so:\n",
    "\n",
    "![](1.05_matplotlib_exercises3.png)\n"
   ]
  },
  {
   "cell_type": "code",
   "execution_count": 13,
   "metadata": {},
   "outputs": [],
   "source": [
    "# your solution\n"
   ]
  }
 ],
 "metadata": {
  "celltoolbar": "Slideshow",
  "kernelspec": {
   "display_name": "Python 3 (ipykernel)",
   "language": "python",
   "name": "python3"
  },
  "language_info": {
   "codemirror_mode": {
    "name": "ipython",
    "version": 3
   },
   "file_extension": ".py",
   "mimetype": "text/x-python",
   "name": "python",
   "nbconvert_exporter": "python",
   "pygments_lexer": "ipython3",
   "version": "3.12.0"
  },
  "vscode": {
   "interpreter": {
    "hash": "7ea0ec616133ead53c1908c8f6539f5c0cb9b2f78368e2bb6ab3f847e89ca400"
   }
  }
 },
 "nbformat": 4,
 "nbformat_minor": 4
}
