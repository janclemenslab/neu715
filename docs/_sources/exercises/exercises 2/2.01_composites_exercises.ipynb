{
 "cells": [
  {
   "cell_type": "markdown",
   "metadata": {},
   "source": [
    "# Composite data types\n",
    "## Exercise 1\n",
    "We are given data as a tuple. We want to set the third value to 3.\n",
    "Fix below code to make this work:"
   ]
  },
  {
   "cell_type": "code",
   "execution_count": 1,
   "metadata": {},
   "outputs": [
    {
     "ename": "TypeError",
     "evalue": "'tuple' object does not support item assignment",
     "output_type": "error",
     "traceback": [
      "\u001b[31m---------------------------------------------------------------------------\u001b[39m",
      "\u001b[31mTypeError\u001b[39m                                 Traceback (most recent call last)",
      "\u001b[36mCell\u001b[39m\u001b[36m \u001b[39m\u001b[32mIn[1]\u001b[39m\u001b[32m, line 2\u001b[39m\n\u001b[32m      1\u001b[39m data = (\u001b[32m1\u001b[39m, \u001b[32m2\u001b[39m, -\u001b[32m12\u001b[39m, \u001b[32m4\u001b[39m)\n\u001b[32m----> \u001b[39m\u001b[32m2\u001b[39m \u001b[43mdata\u001b[49m\u001b[43m[\u001b[49m\u001b[32;43m2\u001b[39;49m\u001b[43m]\u001b[49m = \u001b[32m3\u001b[39m\n",
      "\u001b[31mTypeError\u001b[39m: 'tuple' object does not support item assignment"
     ]
    }
   ],
   "source": [
    "data = (1, 2, -12, 4)\n",
    "data[2] = 3"
   ]
  },
  {
   "cell_type": "code",
   "execution_count": 2,
   "metadata": {},
   "outputs": [],
   "source": [
    "# fix the code here\n"
   ]
  },
  {
   "cell_type": "markdown",
   "metadata": {},
   "source": [
    "## Exercise 2: Make a digital phone book using a dictionary\n",
    "Make a phone book using a dictionary, so we can easily look up phone numbers using the name as the key.\n",
    "We are given two lists of matching names and phone numbers. Generate a phone book dictionary that has each name as a key and the associated phone number as a value."
   ]
  },
  {
   "cell_type": "code",
   "execution_count": 2,
   "metadata": {},
   "outputs": [
    {
     "data": {
      "text/plain": [
       "{'Alice': 432246234,\n",
       " 'Yolanda': 190998010,\n",
       " 'Tom': 984703,\n",
       " 'Francoise': 123156,\n",
       " 'Alan': 9630}"
      ]
     },
     "execution_count": 2,
     "metadata": {},
     "output_type": "execute_result"
    }
   ],
   "source": [
    "names = ['Alice', 'Yolanda', 'Tom', 'Francoise', 'Alan']\n",
    "phone_numbers = [432246234, 190998010, 984703, 123156, 9630]\n",
    "\n",
    "# your solution here\\\n",
    "phone_book = {}\n",
    "\n",
    "for idx in range(len(names)):\n",
    "    phone_book[names[idx]] = phone_numbers[idx]\n",
    "\n",
    "phone_book"
   ]
  },
  {
   "cell_type": "markdown",
   "metadata": {},
   "source": [
    "## Exercise 3: Modifying dictionaries\n",
    "We are given a dictionary with the name of chemical elements and the associated atomic number (number of protons in the nucleus).\n",
    "\n",
    "1. Delete vibranium from the list dictionary.\n",
    "2. Add the element silver and it's atomic number to the dictionary\n",
    "\n",
    "Print the dictionary to check your results"
   ]
  },
  {
   "cell_type": "code",
   "execution_count": 4,
   "metadata": {},
   "outputs": [
    {
     "name": "stdout",
     "output_type": "stream",
     "text": [
      "{'zinc': 30, 'gold': 79, 'vibranium': 1000, 'radium': 88}\n"
     ]
    },
    {
     "data": {
      "text/plain": [
       "{'zinc': 30, 'gold': 79, 'radium': 88, 'silver': 108}"
      ]
     },
     "execution_count": 4,
     "metadata": {},
     "output_type": "execute_result"
    }
   ],
   "source": [
    "atomic_numbers = {'zinc': 30, 'gold': 79, 'vibranium': 1000, 'radium': 88}\n",
    "print(atomic_numbers)\n",
    "\n",
    "# your solution here\n",
    "del atomic_numbers['vibranium']\n",
    "atomic_numbers['silver'] = 108\n",
    "\n",
    "atomic_numbers"
   ]
  },
  {
   "cell_type": "markdown",
   "metadata": {},
   "source": [
    "## Exercise 4: For loops and dictionaries\n",
    "Now use a for loop to loop over the key:value pairs of the _modified_ dictionary and print the element name and it's atomic number in a nicely formatted way (\"The atomic number for ELEMENT_NAME is ATOMIC_NUMBER.\"), each element in a separate line."
   ]
  },
  {
   "cell_type": "code",
   "execution_count": 9,
   "metadata": {},
   "outputs": [
    {
     "name": "stdout",
     "output_type": "stream",
     "text": [
      "The number is 0.33.\n"
     ]
    }
   ],
   "source": [
    "num = 1/3\n",
    "print(f'The number is {num:1.2f}.')\n"
   ]
  },
  {
   "cell_type": "markdown",
   "metadata": {},
   "source": [
    "## Exercise 5: Rewrite this code using a dictionary"
   ]
  },
  {
   "cell_type": "code",
   "execution_count": 11,
   "metadata": {},
   "outputs": [
    {
     "data": {
      "text/plain": [
       "{'Jerry': 32, 'Minnie': 29, 'Pinky': 25, 'Brain': 38, 'Mickey': 30}"
      ]
     },
     "execution_count": 11,
     "metadata": {},
     "output_type": "execute_result"
    }
   ],
   "source": [
    "mouse_names = ['Jerry', 'Minnie', 'Pinky', 'Brain', 'Mickey']\n",
    "mouse_weights = [32, 29, 25, 38, 30]\n",
    "\n",
    "mw = {}\n",
    "\n",
    "for idx in range(len(mouse_names)):\n",
    "    mw[mouse_names[idx]] = mouse_weights[idx]\n",
    "mw"
   ]
  },
  {
   "cell_type": "code",
   "execution_count": 12,
   "metadata": {},
   "outputs": [
    {
     "name": "stdout",
     "output_type": "stream",
     "text": [
      "Jerry 32\n",
      "Minnie 29\n",
      "Pinky 25\n",
      "Brain 38\n",
      "Mickey 30\n"
     ]
    }
   ],
   "source": [
    "# your solution here\n",
    "for name, weight in mw.items():\n",
    "    print(name, weight)"
   ]
  },
  {
   "cell_type": "code",
   "execution_count": null,
   "metadata": {},
   "outputs": [],
   "source": []
  }
 ],
 "metadata": {
  "kernelspec": {
   "display_name": "Python 3 (ipykernel)",
   "language": "python",
   "name": "python3"
  },
  "language_info": {
   "codemirror_mode": {
    "name": "ipython",
    "version": 3
   },
   "file_extension": ".py",
   "mimetype": "text/x-python",
   "name": "python",
   "nbconvert_exporter": "python",
   "pygments_lexer": "ipython3",
   "version": "3.13.8"
  }
 },
 "nbformat": 4,
 "nbformat_minor": 4
}
