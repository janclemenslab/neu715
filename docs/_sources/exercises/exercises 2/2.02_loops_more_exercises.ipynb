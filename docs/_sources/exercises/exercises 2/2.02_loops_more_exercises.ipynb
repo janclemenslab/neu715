{
 "cells": [
  {
   "cell_type": "markdown",
   "metadata": {},
   "source": [
    "# Exercise 2.2 - Loops (part 2)\n",
    "## Exercise 1 - Make a digital phone book\n",
    "Make a phone book using a dictionary, so we can easily look up phone numbers using the name as the key.\n",
    "We are given two parallel lists of names and phone numbers. Generate a phone book dictionary that has each name as a key and the associated phone number as a value. Use `zip` to loop over the parallel lists."
   ]
  },
  {
   "cell_type": "code",
   "execution_count": 1,
   "metadata": {},
   "outputs": [],
   "source": [
    "names = ['Alice', 'Yolanda', 'Tom', 'Francoise', 'Alan']\n",
    "phone_numbers = [432246234, 190998010, 984703, 123156, 9630]\n",
    "\n",
    "# your solution here"
   ]
  },
  {
   "cell_type": "markdown",
   "metadata": {},
   "source": [
    "## Exercise 1 - keeping track of and updating results in a for loop\n",
    "Using for loops:\n",
    "1. Determine the maximum value and the minimum value of the anomalies.\n",
    "2. Determine the index of the maximum and of the minimum value, so-called _argmax_ and _argmin_.\n",
    "3. Determine the year of the maximum and of the minimum value.\n",
    "3. Compute the average value"
   ]
  },
  {
   "cell_type": "code",
   "execution_count": 2,
   "metadata": {},
   "outputs": [
    {
     "name": "stdout",
     "output_type": "stream",
     "text": [
      "min value: -0.308\n",
      "max value: 0.792\n",
      "average value: 0.06907142857142858\n"
     ]
    }
   ],
   "source": [
    "temperature_anomalies = [-0.19,-0.177,-0.308,-0.289,-0.193,-0.057,0.077,0.026,0.029,0.068,0.256, 0.342, 0.591, 0.792]\n",
    "print('min value:', min(temperature_anomalies))\n",
    "print('max value:', max(temperature_anomalies))\n",
    "print('average value:', sum(temperature_anomalies) / len(temperature_anomalies))"
   ]
  },
  {
   "cell_type": "markdown",
   "metadata": {},
   "source": [
    "To learn how to handle data in lists and some coding patterns, let's re-create these functions. Do not use min/max/sum. Try to use `enumerate` and `zip` if possible!"
   ]
  },
  {
   "cell_type": "code",
   "execution_count": 3,
   "metadata": {},
   "outputs": [
    {
     "name": "stdout",
     "output_type": "stream",
     "text": [
      "[-0.19, -0.177, -0.308, -0.289, -0.193, -0.057, 0.077, 0.026, 0.029, 0.068, 0.256, 0.342, 0.591, 0.792]\n",
      "[1880, 1890, 1900, 1910, 1920, 1930, 1940, 1950, 1960, 1970, 1980, 1990, 2000, 2010]\n"
     ]
    }
   ],
   "source": [
    "temperature_anomalies = [-0.19,-0.177,-0.308,-0.289,-0.193,-0.057,0.077,0.026,0.029,0.068,0.256, 0.342, 0.591, 0.792]\n",
    "print(temperature_anomalies)\n",
    "years = [1880, 1890, 1900, 1910, 1920, 1930, 1940, 1950, 1960, 1970, 1980, 1990, 2000, 2010]\n",
    "print(years)\n",
    "\n",
    "# your solutions here"
   ]
  },
  {
   "cell_type": "markdown",
   "metadata": {},
   "source": [
    "## Exercise 2 - nested loops\n",
    "Take two lists, say for example these two:\n",
    "```python\n",
    "a = [1, 1, 2, 3, 5, 8, 13, 21, 34, 55, 89]\n",
    "b = [1, 2, 3, 4, 5, 6, 7, 8, 9, 10, 11]\n",
    "```\n",
    "and write a program that returns a list that contains only the elements that occur in both lists (without duplicates). Make sure your program works for any two lists."
   ]
  },
  {
   "cell_type": "code",
   "execution_count": 4,
   "metadata": {},
   "outputs": [],
   "source": [
    "# your solution here"
   ]
  },
  {
   "cell_type": "markdown",
   "metadata": {},
   "source": [
    "## Exercise 3 - filtering a list\n",
    "\n",
    "We'd like to produce a plot that highlights when neg. and pos. anomaly values occurred.\n",
    "\n",
    "1. Combine a for loop and if statements to construct lists that contain the years and anomaly values for negative anomaly values and for positive anomaly values."
   ]
  },
  {
   "cell_type": "code",
   "execution_count": 5,
   "metadata": {},
   "outputs": [],
   "source": [
    "temperature_anomalies = [-0.19,-0.177,-0.308,-0.289,-0.193,-0.057,0.077,0.026,0.029,0.068,0.256, 0.342, 0.591, 0.792]\n",
    "\n",
    "# your solution here"
   ]
  },
  {
   "cell_type": "markdown",
   "metadata": {},
   "source": [
    "2. Use these lists to reproduce a plot that shows the anomaly curve and marks neg/pos values as fat blue/red dots.\n",
    "\n",
    "Roughly like so:\n",
    "\n",
    "![](2.02_loops_more_exercises.png)"
   ]
  },
  {
   "cell_type": "code",
   "execution_count": 7,
   "metadata": {},
   "outputs": [],
   "source": [
    "# your code here"
   ]
  }
 ],
 "metadata": {
  "kernelspec": {
   "display_name": "Python 3 (ipykernel)",
   "language": "python",
   "name": "python3"
  },
  "language_info": {
   "codemirror_mode": {
    "name": "ipython",
    "version": 3
   },
   "file_extension": ".py",
   "mimetype": "text/x-python",
   "name": "python",
   "nbconvert_exporter": "python",
   "pygments_lexer": "ipython3",
   "version": "3.11.6"
  },
  "vscode": {
   "interpreter": {
    "hash": "97ead24bb190f3c846c8ccaf2b3dc07d0b052bfb8e69b5aeffb27504f0f68adb"
   }
  }
 },
 "nbformat": 4,
 "nbformat_minor": 4
}
