{
 "cells": [
  {
   "cell_type": "markdown",
   "metadata": {},
   "source": [
    "# Loops (part 2)\n",
    "\n",
    "## Exercise 1: Converting units\n",
    "Using `range` we can generate a sequence of numbers, with a specified start, end (non-inclusive) and step size: `r = range(start, stop, step)`\n",
    "\n",
    "The output of `range` is not a list but something special - so we need to cast it to a list: `r_as_list = list(r)`.\n",
    "\n",
    "Let's assume these numbers are angles, in radians.\n",
    "\n",
    "Create a new list with the angles in degrees\n",
    "\n",
    "Reminder: `degrees = radians * 180 / pi`\n",
    "\n",
    "`pi` is approximately 3.14."
   ]
  },
  {
   "cell_type": "code",
   "execution_count": 5,
   "metadata": {},
   "outputs": [
    {
     "name": "stdout",
     "output_type": "stream",
     "text": [
      "[0, 1, 2, 3, 4, 5]\n"
     ]
    }
   ],
   "source": [
    "angles_radians = list(range(6))\n",
    "print(angles_radians)\n",
    "\n",
    "# your solution here"
   ]
  },
  {
   "cell_type": "markdown",
   "metadata": {},
   "source": [
    "## Exercise 2: Lists of lists (1)\n",
    "You are given a list of lists called `datasets`. Each item in `datasets` is a list of 4 numbers, a single dataset:\n",
    "`datasets = [[1,2,3,4], [5,6,7,8], [9,10,11,12]]`\n",
    "\n",
    "First, familiarize your yourself with this slightly unusual form of data.\n",
    "\n",
    "1. Print the length of `datasets`\n",
    "2. Print the length of the first list in `datasets`.\n",
    "3. Write a for loop that prints each list in this list:\n",
    "```python\n",
    "[1,2,3,4]\n",
    "[5,6,7,8]\n",
    "[9,10,11,12]\n",
    "```"
   ]
  },
  {
   "cell_type": "code",
   "execution_count": 17,
   "metadata": {},
   "outputs": [],
   "source": [
    "datasets = [[1,2,3,4], [5,6,7,8], [9,10,11,12]]\n",
    "\n",
    "# your solution here"
   ]
  },
  {
   "cell_type": "markdown",
   "metadata": {},
   "source": [
    "## Exercise 3: Lists of lists (2)\n",
    "Now plot the data in the list of lists in the following way:\n",
    "1. Plot the first list of numbers in `datasets` as a red line with red dot as markers. Set the values of the x-ticks and y-ticks to 0, 2, 4.\n",
    "\n",
    "![](2.02_loops_more_exercises_01.png)\n",
    "\n",
    "2. Plot the second and third lists in `datasets` in side-by-side subplots as green and red lines, respectively. Have the y-axis start at 0 and end at 16 for both subplots.\n",
    "\n",
    "![](2.02_loops_more_exercises_02.png)\n"
   ]
  },
  {
   "cell_type": "code",
   "execution_count": 28,
   "metadata": {},
   "outputs": [
    {
     "data": {
      "image/png": "[encoded data removed]",
      "text/plain": [
       "<Figure size 1000x400 with 2 Axes>"
      ]
     },
     "metadata": {},
     "output_type": "display_data"
    }
   ],
   "source": [
    "data = [[1,2,3,4], [5,6,7,8], [9,10,11,12]]\n",
    "\n",
    "# your solution here"
   ]
  },
  {
   "cell_type": "markdown",
   "metadata": {},
   "source": [
    "## Exercise 4: Lists of lists (3)\n",
    "You can combine for-loops and subplots to generate multi-panel plots.\n",
    "\n",
    "You are given a variable, `datasets`, which is a list of lists. Each list in `datasets` is composed of 3 values.\n",
    "\n",
    "Use a for loop to plot the data in all three lists from `datasets` in three subplots:\n",
    "- All subplots should have the same y-limits. \n",
    "- All subplots should have an y-axis label \"Awesomeness\" and an x-axis label \"Shuffle factor\". \n",
    "- Each subplot should have a title \"Dataset #\" where \"#\" is substituted by the number of the dataset (1,2,3).\n",
    "\n",
    "__Hint:__ While indices start at 0 in python, the number `num` of the subplot you want to plot into (`plt.subplot(n_rows, n_cols, num)`) starts at 1!\n",
    "\n",
    "Roughly like so:\n",
    "\n",
    "![](1.05_matplotlib_exercises1.png)"
   ]
  },
  {
   "cell_type": "code",
   "execution_count": null,
   "metadata": {},
   "outputs": [],
   "source": [
    "datasets = [[1,2,3], [3,2,1], [-3,2,3]]\n",
    "\n",
    "# your solution here"
   ]
  },
  {
   "cell_type": "markdown",
   "metadata": {},
   "source": [
    "## Exercise 5: Lists of lists (4)\n",
    "This is nice, but there are too many redundant labels. Copy your code generating the figure from the cell above to the cell below and modify it in the following way:\n",
    "- Only the first subplot should have an y-axis label, \"Awesomeness\".\n",
    "- Only the second (central) subplot should have an x-axis label \"Shuffle factor\".\n",
    "\n",
    "Roughly like so:\n",
    "\n",
    "![](1.05_matplotlib_exercises1b.png)"
   ]
  },
  {
   "cell_type": "code",
   "execution_count": 6,
   "metadata": {},
   "outputs": [],
   "source": [
    "datasets = [[1,2,3], [3,2,1], [-3,2,3]]\n",
    "\n",
    "# your solution here"
   ]
  },
  {
   "cell_type": "markdown",
   "metadata": {},
   "source": [
    "## Exercise 6: Nested for loops\n",
    "Compute products of all combinations of the numbers in the two lists A, B, like so:\n",
    "`[1*10, 1*20, 1*30, 2*10, 2*20, 2*30, 3*10, 3*20, 3*30, 4*10, 4*20, 4*30]`"
   ]
  },
  {
   "cell_type": "code",
   "execution_count": 9,
   "metadata": {},
   "outputs": [
    {
     "name": "stdout",
     "output_type": "stream",
     "text": [
      "[10, 20, 30, 20, 40, 60, 30, 60, 90, 40, 80, 120]\n"
     ]
    }
   ],
   "source": [
    "A = [1, 2, 3, 4]\n",
    "B = [10, 20, 30]\n",
    "\n",
    "# your solution here"
   ]
  },
  {
   "cell_type": "markdown",
   "metadata": {},
   "source": [
    "## Exercise 7: Spike raster plot (Important)\n",
    "List of lists containing the spike times for different trials (stimulus presentations). Each item in this list is a list of spike times. "
   ]
  },
  {
   "cell_type": "code",
   "execution_count": 2,
   "metadata": {},
   "outputs": [],
   "source": [
    "# IGNORE THIS CODE\n",
    "import numpy as np\n",
    "rng = np.random.default_rng(seed=1)\n",
    "\n",
    "all_data = []\n",
    "nb_trials = 20\n",
    "for trial in range(nb_trials):\n",
    "    spike_data = np.cumsum(rng.gamma(10, 10, (50,)))\n",
    "    spike_data1 = spike_data[spike_data<2000]\n",
    "    spike_data = np.cumsum(rng.gamma(10, 5, (100,)))\n",
    "    spike_data2 = spike_data[spike_data<2000]\n",
    "    spike_data = np.cumsum(rng.gamma(10, 10, (50,)))\n",
    "    spike_data3 = spike_data[spike_data<2000]\n",
    "    spike_data = np.concatenate((spike_data1, spike_data2 + 2000, spike_data3 + 4000)) / 1_000\n",
    "    all_data.append(spike_data)\n",
    "\n",
    "np.savez('spike_data.npz', *all_data)\n",
    "all_data = np.load('spike_data.npz')\n",
    "all_data = [list(spike_times) for spike_times in all_data.values()]"
   ]
  },
  {
   "cell_type": "code",
   "execution_count": 36,
   "metadata": {},
   "outputs": [],
   "source": [
    "# EXECUTE BUT DO NOT CHANGE THIS CODE\n",
    "import numpy as np\n",
    "all_data = np.load('spike_data.npz')\n",
    "all_data = [list(spike_times) for spike_times in all_data.values()]\n",
    "# DO NOT CHANGE THE ABOVE CODE\n",
    "\n",
    "# your solution here"
   ]
  },
  {
   "cell_type": "markdown",
   "metadata": {},
   "source": [
    "## Exercise 8: Combining for loops and if statements\n",
    "Make a plot that shows:\n",
    "- a black line connecting individual values (as before)\n",
    "- a red dot if the anomaly value is positive (you will need a for loop combined with an if statement for that)\n",
    "\n",
    "Roughly like so:\n",
    "\n",
    "![](1.05_matplotlib_exercises2b_light.png)\n"
   ]
  },
  {
   "cell_type": "code",
   "execution_count": null,
   "metadata": {},
   "outputs": [
    {
     "name": "stdout",
     "output_type": "stream",
     "text": [
      "[-0.19, -0.177, -0.308, -0.289, -0.193, -0.057, 0.077, 0.026, 0.029, 0.068, 0.256, 0.342, 0.591, 0.792]\n",
      "[1880, 1890, 1900, 1910, 1920, 1930, 1940, 1950, 1960, 1970, 1980, 1990, 2000, 2010]\n",
      "0 1880 -0.19\n",
      "1 1890 -0.177\n",
      "2 1900 -0.308\n",
      "3 1910 -0.289\n",
      "4 1920 -0.193\n",
      "5 1930 -0.057\n",
      "6 1940 0.077\n",
      "7 1950 0.026\n",
      "8 1960 0.029\n",
      "9 1970 0.068\n",
      "10 1980 0.256\n",
      "11 1990 0.342\n",
      "12 2000 0.591\n",
      "13 2010 0.792\n"
     ]
    },
    {
     "data": {
      "image/png": "[encoded data removed]",
      "text/plain": [
       "<Figure size 640x480 with 1 Axes>"
      ]
     },
     "metadata": {},
     "output_type": "display_data"
    }
   ],
   "source": [
    "temperature_anomalies = [-0.19,-0.177,-0.308,-0.289,-0.193,-0.057,0.077,0.026,0.029,0.068,0.256, 0.342, 0.591, 0.792]\n",
    "print(temperature_anomalies)\n",
    "years = [1880, 1890, 1900, 1910, 1920, 1930, 1940, 1950, 1960, 1970, 1980, 1990, 2000, 2010]\n",
    "print(years)\n",
    "\n",
    "# your solution"
   ]
  },
  {
   "cell_type": "markdown",
   "metadata": {},
   "source": [
    "## Exercise 9: Keeping track of and updating results in a for loop\n",
    "Using for loops:\n",
    "1. Determine the _maximum_ value of the anomalies.\n",
    "2. Determine the _index_ of the maximum value.\n",
    "3. Use the index of the maximum value to determine the _year_ of the maximum value."
   ]
  },
  {
   "cell_type": "code",
   "execution_count": 5,
   "metadata": {},
   "outputs": [
    {
     "name": "stdout",
     "output_type": "stream",
     "text": [
      "[-0.19, -0.177, -0.308, -0.289, -0.193, -0.057, 0.077, 0.026, 0.029, 0.068, 0.256, 0.342, 0.591, 0.792]\n",
      "[1880, 1890, 1900, 1910, 1920, 1930, 1940, 1950, 1960, 1970, 1980, 1990, 2000, 2010]\n"
     ]
    }
   ],
   "source": [
    "temperature_anomalies = [-0.19,-0.177,-0.308,-0.289,-0.193,-0.057,0.077,0.026,0.029,0.068,0.256, 0.342, 0.591, 0.792]\n",
    "print(temperature_anomalies)\n",
    "years = [1880, 1890, 1900, 1910, 1920, 1930, 1940, 1950, 1960, 1970, 1980, 1990, 2000, 2010]\n",
    "print(years)\n",
    "\n",
    "# your solutions here"
   ]
  },
  {
   "cell_type": "markdown",
   "metadata": {},
   "source": [
    "## Exercise 10: Replace the loop variable\n",
    "The code below computes the area of square plots of land with side lengths given in the `lengths` list.\n",
    "\n",
    "Change the name of the loop variable in the code below with a more meaningful one, for instance, `length`. Make sure that the code still produces the correct result."
   ]
  },
  {
   "cell_type": "code",
   "execution_count": 38,
   "metadata": {},
   "outputs": [
    {
     "data": {
      "text/plain": [
       "[1, 4, 16, 64, 100]"
      ]
     },
     "execution_count": 38,
     "metadata": {},
     "output_type": "execute_result"
    }
   ],
   "source": [
    "# change this code\n",
    "lengths = [1, 2, 4, 8, 10]\n",
    "areas = []\n",
    "for x in lengths:\n",
    "    x = x ** 2\n",
    "    areas.append(x)\n",
    "areas"
   ]
  },
  {
   "cell_type": "markdown",
   "metadata": {},
   "source": [
    "## Exercise 11: Compute the square of all numbers between 0 and 100\n",
    "Plot the result."
   ]
  },
  {
   "cell_type": "code",
   "execution_count": 3,
   "metadata": {},
   "outputs": [],
   "source": [
    "# your solution here"
   ]
  },
  {
   "cell_type": "markdown",
   "metadata": {},
   "source": [
    "## Exercise 12: Compute the function y = 10 * x - 2 for 100 x values between -10 and 10\n",
    "Plot the result"
   ]
  },
  {
   "cell_type": "code",
   "execution_count": 4,
   "metadata": {},
   "outputs": [],
   "source": [
    "# your solution here"
   ]
  }
 ],
 "metadata": {
  "kernelspec": {
   "display_name": "Python 3 (ipykernel)",
   "language": "python",
   "name": "python3"
  },
  "language_info": {
   "codemirror_mode": {
    "name": "ipython",
    "version": 3
   },
   "file_extension": ".py",
   "mimetype": "text/x-python",
   "name": "python",
   "nbconvert_exporter": "python",
   "pygments_lexer": "ipython3",
   "version": "3.12.7"
  }
 },
 "nbformat": 4,
 "nbformat_minor": 4
}
