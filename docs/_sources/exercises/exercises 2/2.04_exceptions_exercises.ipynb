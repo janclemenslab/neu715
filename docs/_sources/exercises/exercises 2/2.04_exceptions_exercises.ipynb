{
 "cells": [
  {
   "cell_type": "markdown",
   "metadata": {},
   "source": [
    "# Exercise 2.4 - Handling errors\n",
    "\n",
    "## Exercise 1 - Catch a \"hidden\" error\n",
    "We have written a function that compares the values of two lists, element-by-element:"
   ]
  },
  {
   "cell_type": "code",
   "execution_count": 2,
   "metadata": {},
   "outputs": [
    {
     "data": {
      "text/plain": [
       "[False, True, True]"
      ]
     },
     "execution_count": 2,
     "metadata": {},
     "output_type": "execute_result"
    }
   ],
   "source": [
    "def elementwise_compare(l1, l2):\n",
    "    \"\"\"_summary_\n",
    "\n",
    "    Args:\n",
    "        l1 (_type_): _description_\n",
    "        l2 (_type_): _description_\n",
    "\n",
    "    Returns:\n",
    "        _type_: _description_\n",
    "    \"\"\"\n",
    "    same = []\n",
    "    for l1, l2 in zip(l1, l2):\n",
    "        same.append(l1==l2)\n",
    "    return same\n",
    "\n",
    "elementwise_compare([1,2,3], [0,2,3])"
   ]
  },
  {
   "cell_type": "markdown",
   "metadata": {},
   "source": [
    "However, if the two lists have different lengths, then `zip` will cut the lists to the shortest of the two:"
   ]
  },
  {
   "cell_type": "code",
   "execution_count": 3,
   "metadata": {},
   "outputs": [
    {
     "data": {
      "text/plain": [
       "[False, True, True]"
      ]
     },
     "execution_count": 3,
     "metadata": {},
     "output_type": "execute_result"
    }
   ],
   "source": [
    "elementwise_compare([1, 2, 3, 4], [0, 2, 3])  # first list as 4 elements, but only the first 3 elements are compared"
   ]
  },
  {
   "cell_type": "markdown",
   "metadata": {},
   "source": [
    "This is a potential source for bugs. We want to prevent that from happening! \n",
    "\n",
    "Modify the function to raise a `ValueError`` with an informative error message if both lists have different lenghts. The error message should indicate the length of both lists."
   ]
  },
  {
   "cell_type": "code",
   "execution_count": 5,
   "metadata": {},
   "outputs": [
    {
     "data": {
      "text/plain": [
       "[False, True, True]"
      ]
     },
     "execution_count": 5,
     "metadata": {},
     "output_type": "execute_result"
    }
   ],
   "source": [
    "# modify the function\n",
    "def elementwise_compare(l1, l2):\n",
    "    \"\"\"_summary_\n",
    "\n",
    "    Args:\n",
    "        l1 (_type_): _description_\n",
    "        l2 (_type_): _description_\n",
    "\n",
    "    Returns:\n",
    "        _type_: _description_\n",
    "    \"\"\"\n",
    "\n",
    "    # MODIFY HERE\n",
    "\n",
    "\n",
    "    same = []\n",
    "    for l1, l2 in zip(l1, l2):\n",
    "        same.append(l1==l2)\n",
    "    return same\n",
    "\n",
    "elementwise_compare([1, 2, 3], [0, 2, 3, 2])"
   ]
  },
  {
   "cell_type": "markdown",
   "metadata": {},
   "source": [
    "## Exercise 2 - Detecting and and fixing errors\n",
    "\n",
    "In the lecture, we saw how to detect the type of input arguments to the concat function, and raise an error if they are not lists:"
   ]
  },
  {
   "cell_type": "code",
   "execution_count": 6,
   "metadata": {},
   "outputs": [
    {
     "name": "stdout",
     "output_type": "stream",
     "text": [
      "[1, 2, 3, 10, 20, 30]\n"
     ]
    },
    {
     "ename": "TypeError",
     "evalue": "Both arguments need to be lists.",
     "output_type": "error",
     "traceback": [
      "\u001b[0;31m---------------------------------------------------------------------------\u001b[0m",
      "\u001b[0;31mTypeError\u001b[0m                                 Traceback (most recent call last)",
      "\u001b[1;32m/Users/clemens10/Library/CloudStorage/Dropbox/_teaching/2023ws python course/neu715/exercises/exercises 2/2.04_exceptions_exercises.ipynb Cell 8\u001b[0m line \u001b[0;36m2\n\u001b[1;32m     <a href='vscode-notebook-cell:/Users/clemens10/Library/CloudStorage/Dropbox/_teaching/2023ws%20python%20course/neu715/exercises/exercises%202/2.04_exceptions_exercises.ipynb#X10sZmlsZQ%3D%3D?line=18'>19</a>\u001b[0m b \u001b[39m=\u001b[39m [\u001b[39m10\u001b[39m, \u001b[39m20\u001b[39m, \u001b[39m30\u001b[39m]\n\u001b[1;32m     <a href='vscode-notebook-cell:/Users/clemens10/Library/CloudStorage/Dropbox/_teaching/2023ws%20python%20course/neu715/exercises/exercises%202/2.04_exceptions_exercises.ipynb#X10sZmlsZQ%3D%3D?line=20'>21</a>\u001b[0m \u001b[39mprint\u001b[39m(concat(a, b))  \u001b[39m# this works like intended\u001b[39;00m\n\u001b[0;32m---> <a href='vscode-notebook-cell:/Users/clemens10/Library/CloudStorage/Dropbox/_teaching/2023ws%20python%20course/neu715/exercises/exercises%202/2.04_exceptions_exercises.ipynb#X10sZmlsZQ%3D%3D?line=21'>22</a>\u001b[0m \u001b[39mprint\u001b[39m(concat(\u001b[39m2\u001b[39;49m, \u001b[39m3\u001b[39;49m))  \u001b[39m# this raises a TypeError\u001b[39;00m\n",
      "\u001b[1;32m/Users/clemens10/Library/CloudStorage/Dropbox/_teaching/2023ws python course/neu715/exercises/exercises 2/2.04_exceptions_exercises.ipynb Cell 8\u001b[0m line \u001b[0;36m1\n\u001b[1;32m     <a href='vscode-notebook-cell:/Users/clemens10/Library/CloudStorage/Dropbox/_teaching/2023ws%20python%20course/neu715/exercises/exercises%202/2.04_exceptions_exercises.ipynb#X10sZmlsZQ%3D%3D?line=11'>12</a>\u001b[0m \u001b[39m# check args\u001b[39;00m\n\u001b[1;32m     <a href='vscode-notebook-cell:/Users/clemens10/Library/CloudStorage/Dropbox/_teaching/2023ws%20python%20course/neu715/exercises/exercises%202/2.04_exceptions_exercises.ipynb#X10sZmlsZQ%3D%3D?line=12'>13</a>\u001b[0m \u001b[39mif\u001b[39;00m \u001b[39mnot\u001b[39;00m \u001b[39misinstance\u001b[39m(l1, \u001b[39mlist\u001b[39m) \u001b[39mor\u001b[39;00m \u001b[39mnot\u001b[39;00m \u001b[39misinstance\u001b[39m(l2, \u001b[39mlist\u001b[39m):\n\u001b[0;32m---> <a href='vscode-notebook-cell:/Users/clemens10/Library/CloudStorage/Dropbox/_teaching/2023ws%20python%20course/neu715/exercises/exercises%202/2.04_exceptions_exercises.ipynb#X10sZmlsZQ%3D%3D?line=13'>14</a>\u001b[0m     \u001b[39mraise\u001b[39;00m \u001b[39mTypeError\u001b[39;00m(\u001b[39mf\u001b[39m\u001b[39m\"\u001b[39m\u001b[39mBoth arguments need to be lists.\u001b[39m\u001b[39m\"\u001b[39m)\n\u001b[1;32m     <a href='vscode-notebook-cell:/Users/clemens10/Library/CloudStorage/Dropbox/_teaching/2023ws%20python%20course/neu715/exercises/exercises%202/2.04_exceptions_exercises.ipynb#X10sZmlsZQ%3D%3D?line=15'>16</a>\u001b[0m \u001b[39mreturn\u001b[39;00m l1 \u001b[39m+\u001b[39m l2\n",
      "\u001b[0;31mTypeError\u001b[0m: Both arguments need to be lists."
     ]
    }
   ],
   "source": [
    "# hidden error\n",
    "def concat(l1, l2):\n",
    "    \"\"\"Concatenates two lists.\n",
    "\n",
    "    Args:\n",
    "        l1 (list): First list to concatenate.\n",
    "        l2 (list): Second list to concatenate\n",
    "\n",
    "    Returns:\n",
    "        list: Concatenated list [*l1, *l2]\n",
    "    \"\"\"\n",
    "    # check args\n",
    "    if not isinstance(l1, list) or not isinstance(l2, list):\n",
    "        raise TypeError(f\"Both arguments need to be lists.\")\n",
    "\n",
    "    return l1 + l2\n",
    "\n",
    "a = [1, 2, 3]\n",
    "b = [10, 20, 30]\n",
    "\n",
    "print(concat(a, b))  # this works like intended\n",
    "print(concat(2, 3))  # this raises a TypeError"
   ]
  },
  {
   "cell_type": "markdown",
   "metadata": {},
   "source": [
    "An alternative is to fix the error inside the function, by turning numeric inputs into lists.\n",
    "\n",
    "Change the code below to do that:"
   ]
  },
  {
   "cell_type": "code",
   "execution_count": 8,
   "metadata": {},
   "outputs": [
    {
     "name": "stdout",
     "output_type": "stream",
     "text": [
      "[1, 2, 3, 10, 20, 30]\n"
     ]
    },
    {
     "ename": "TypeError",
     "evalue": "Both arguments need to be lists.",
     "output_type": "error",
     "traceback": [
      "\u001b[0;31m---------------------------------------------------------------------------\u001b[0m",
      "\u001b[0;31mTypeError\u001b[0m                                 Traceback (most recent call last)",
      "\u001b[1;32m/Users/clemens10/Library/CloudStorage/Dropbox/_teaching/2023ws python course/neu715/exercises/exercises 2/2.04_exceptions_exercises.ipynb Cell 10\u001b[0m line \u001b[0;36m2\n\u001b[1;32m     <a href='vscode-notebook-cell:/Users/clemens10/Library/CloudStorage/Dropbox/_teaching/2023ws%20python%20course/neu715/exercises/exercises%202/2.04_exceptions_exercises.ipynb#X12sZmlsZQ%3D%3D?line=17'>18</a>\u001b[0m b \u001b[39m=\u001b[39m [\u001b[39m10\u001b[39m, \u001b[39m20\u001b[39m, \u001b[39m30\u001b[39m]\n\u001b[1;32m     <a href='vscode-notebook-cell:/Users/clemens10/Library/CloudStorage/Dropbox/_teaching/2023ws%20python%20course/neu715/exercises/exercises%202/2.04_exceptions_exercises.ipynb#X12sZmlsZQ%3D%3D?line=19'>20</a>\u001b[0m \u001b[39mprint\u001b[39m(concat(a, b))  \u001b[39m# this works like intended\u001b[39;00m\n\u001b[0;32m---> <a href='vscode-notebook-cell:/Users/clemens10/Library/CloudStorage/Dropbox/_teaching/2023ws%20python%20course/neu715/exercises/exercises%202/2.04_exceptions_exercises.ipynb#X12sZmlsZQ%3D%3D?line=20'>21</a>\u001b[0m \u001b[39mprint\u001b[39m(concat(\u001b[39m2\u001b[39;49m, \u001b[39m3\u001b[39;49m))  \u001b[39m# now this does not raise an error but 'silently' changes the type of the inputs if they are not lists\u001b[39;00m\n",
      "\u001b[1;32m/Users/clemens10/Library/CloudStorage/Dropbox/_teaching/2023ws python course/neu715/exercises/exercises 2/2.04_exceptions_exercises.ipynb Cell 10\u001b[0m line \u001b[0;36m1\n\u001b[1;32m      <a href='vscode-notebook-cell:/Users/clemens10/Library/CloudStorage/Dropbox/_teaching/2023ws%20python%20course/neu715/exercises/exercises%202/2.04_exceptions_exercises.ipynb#X12sZmlsZQ%3D%3D?line=2'>3</a>\u001b[0m \u001b[39m\u001b[39m\u001b[39m\"\"\"Concatenates two lists.\u001b[39;00m\n\u001b[1;32m      <a href='vscode-notebook-cell:/Users/clemens10/Library/CloudStorage/Dropbox/_teaching/2023ws%20python%20course/neu715/exercises/exercises%202/2.04_exceptions_exercises.ipynb#X12sZmlsZQ%3D%3D?line=3'>4</a>\u001b[0m \n\u001b[1;32m      <a href='vscode-notebook-cell:/Users/clemens10/Library/CloudStorage/Dropbox/_teaching/2023ws%20python%20course/neu715/exercises/exercises%202/2.04_exceptions_exercises.ipynb#X12sZmlsZQ%3D%3D?line=4'>5</a>\u001b[0m \u001b[39mArgs:\u001b[39;00m\n\u001b[0;32m   (...)\u001b[0m\n\u001b[1;32m     <a href='vscode-notebook-cell:/Users/clemens10/Library/CloudStorage/Dropbox/_teaching/2023ws%20python%20course/neu715/exercises/exercises%202/2.04_exceptions_exercises.ipynb#X12sZmlsZQ%3D%3D?line=9'>10</a>\u001b[0m \u001b[39m    list: Concatenated list [*l1, *l2]\u001b[39;00m\n\u001b[1;32m     <a href='vscode-notebook-cell:/Users/clemens10/Library/CloudStorage/Dropbox/_teaching/2023ws%20python%20course/neu715/exercises/exercises%202/2.04_exceptions_exercises.ipynb#X12sZmlsZQ%3D%3D?line=10'>11</a>\u001b[0m \u001b[39m\"\"\"\u001b[39;00m\n\u001b[1;32m     <a href='vscode-notebook-cell:/Users/clemens10/Library/CloudStorage/Dropbox/_teaching/2023ws%20python%20course/neu715/exercises/exercises%202/2.04_exceptions_exercises.ipynb#X12sZmlsZQ%3D%3D?line=11'>12</a>\u001b[0m \u001b[39mif\u001b[39;00m \u001b[39mnot\u001b[39;00m \u001b[39misinstance\u001b[39m(l1, \u001b[39mlist\u001b[39m) \u001b[39mor\u001b[39;00m \u001b[39mnot\u001b[39;00m \u001b[39misinstance\u001b[39m(l2, \u001b[39mlist\u001b[39m):\n\u001b[0;32m---> <a href='vscode-notebook-cell:/Users/clemens10/Library/CloudStorage/Dropbox/_teaching/2023ws%20python%20course/neu715/exercises/exercises%202/2.04_exceptions_exercises.ipynb#X12sZmlsZQ%3D%3D?line=12'>13</a>\u001b[0m     \u001b[39mraise\u001b[39;00m \u001b[39mTypeError\u001b[39;00m(\u001b[39mf\u001b[39m\u001b[39m\"\u001b[39m\u001b[39mBoth arguments need to be lists.\u001b[39m\u001b[39m\"\u001b[39m)\n\u001b[1;32m     <a href='vscode-notebook-cell:/Users/clemens10/Library/CloudStorage/Dropbox/_teaching/2023ws%20python%20course/neu715/exercises/exercises%202/2.04_exceptions_exercises.ipynb#X12sZmlsZQ%3D%3D?line=14'>15</a>\u001b[0m \u001b[39mreturn\u001b[39;00m l1 \u001b[39m+\u001b[39m l2\n",
      "\u001b[0;31mTypeError\u001b[0m: Both arguments need to be lists."
     ]
    }
   ],
   "source": [
    "# your solution\n",
    "def concat(l1, l2):\n",
    "    \"\"\"Concatenates two lists.\n",
    "\n",
    "    Args:\n",
    "        l1 (list): First list to concatenate.\n",
    "        l2 (list): Second list to concatenate\n",
    "\n",
    "    Returns:\n",
    "        list: Concatenated list [*l1, *l2]\n",
    "    \"\"\"\n",
    "    if not isinstance(l1, list) or not isinstance(l2, list):\n",
    "        raise TypeError(f\"Both arguments need to be lists.\")\n",
    "\n",
    "    return l1 + l2\n",
    "\n",
    "a = [1, 2, 3]\n",
    "b = [10, 20, 30]\n",
    "\n",
    "print(concat(a, b))  # this works like intended\n",
    "print(concat(2, 3))  # now this does not raise an error but 'silently' changes the type of the inputs if they are not lists"
   ]
  },
  {
   "cell_type": "code",
   "execution_count": null,
   "metadata": {},
   "outputs": [],
   "source": []
  }
 ],
 "metadata": {
  "kernelspec": {
   "display_name": "Python 3 (ipykernel)",
   "language": "python",
   "name": "python3"
  },
  "language_info": {
   "codemirror_mode": {
    "name": "ipython",
    "version": 3
   },
   "file_extension": ".py",
   "mimetype": "text/x-python",
   "name": "python",
   "nbconvert_exporter": "python",
   "pygments_lexer": "ipython3",
   "version": "3.11.6"
  },
  "vscode": {
   "interpreter": {
    "hash": "7ea0ec616133ead53c1908c8f6539f5c0cb9b2f78368e2bb6ab3f847e89ca400"
   }
  }
 },
 "nbformat": 4,
 "nbformat_minor": 4
}
