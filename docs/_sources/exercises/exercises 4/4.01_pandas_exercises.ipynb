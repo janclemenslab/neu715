{
  "cells": [
    {
      "cell_type": "markdown",
      "metadata": {},
      "source": [
        "# Exercises 4 - Pandas and connectomics"
      ]
    },
    {
      "cell_type": "markdown",
      "metadata": {},
      "source": [
        "## Exercise 4.1: Groupby\n",
        "In the lecture, we used `groupby` and `aggregate` to compute the mean response for each animal.\n",
        "\n",
        "Extend the code from the lecture by computing not only the mean but also the standard deviation for each animal, and plotting them using error bars."
      ]
    },
    {
      "cell_type": "code",
      "execution_count": 20,
      "metadata": {},
      "outputs": [
        {
          "data": {
            "text/html": [
              "<div>\n",
              "<style scoped>\n",
              "    .dataframe tbody tr th:only-of-type {\n",
              "        vertical-align: middle;\n",
              "    }\n",
              "\n",
              "    .dataframe tbody tr th {\n",
              "        vertical-align: top;\n",
              "    }\n",
              "\n",
              "    .dataframe thead th {\n",
              "        text-align: right;\n",
              "    }\n",
              "</style>\n",
              "<table border=\"1\" class=\"dataframe\">\n",
              "  <thead>\n",
              "    <tr style=\"text-align: right;\">\n",
              "      <th></th>\n",
              "      <th>animal</th>\n",
              "      <th>pre</th>\n",
              "      <th>post</th>\n",
              "    </tr>\n",
              "  </thead>\n",
              "  <tbody>\n",
              "    <tr>\n",
              "      <th>0</th>\n",
              "      <td>0.0</td>\n",
              "      <td>2.211986</td>\n",
              "      <td>3.107796</td>\n",
              "    </tr>\n",
              "    <tr>\n",
              "      <th>1</th>\n",
              "      <td>0.0</td>\n",
              "      <td>2.204871</td>\n",
              "      <td>2.830730</td>\n",
              "    </tr>\n",
              "    <tr>\n",
              "      <th>2</th>\n",
              "      <td>0.0</td>\n",
              "      <td>2.560633</td>\n",
              "      <td>3.483980</td>\n",
              "    </tr>\n",
              "    <tr>\n",
              "      <th>3</th>\n",
              "      <td>0.0</td>\n",
              "      <td>1.476412</td>\n",
              "      <td>2.801709</td>\n",
              "    </tr>\n",
              "    <tr>\n",
              "      <th>4</th>\n",
              "      <td>0.0</td>\n",
              "      <td>3.662519</td>\n",
              "      <td>3.447005</td>\n",
              "    </tr>\n",
              "  </tbody>\n",
              "</table>\n",
              "</div>"
            ],
            "text/plain": [
              "   animal       pre      post\n",
              "0     0.0  2.211986  3.107796\n",
              "1     0.0  2.204871  2.830730\n",
              "2     0.0  2.560633  3.483980\n",
              "3     0.0  1.476412  2.801709\n",
              "4     0.0  3.662519  3.447005"
            ]
          },
          "metadata": {},
          "output_type": "display_data"
        }
      ],
      "source": [
        "df = pd.read_csv('dat/pd_groupby.csv')\n",
        "display(df.head())\n",
        "\n",
        "# your solution here\n"
      ]
    },
    {
      "cell_type": "markdown",
      "metadata": {},
      "source": [
        "## Exercise 4.2: Connectome analyses using pandas\n",
        "Johnston's Organ Neurons (JONs) are antennal mechanosensory neurons that occur in 6 subtypes (A-F) with different preferences for antennal movements. The JON A and B subtypes respond to fast antennal vibrations induced by sound, and hence act as the fly's auditory receptor neurons. Other JON subtypes respond to other features of antennal movement, for instance, JON C and E encode antennal position.\n",
        "\n",
        "In this exercise, we will use the connectome to:\n",
        "1. Determine the number of neurons in each JON subpopulation (JO-A ... JO-F).\n",
        "2. Determine whether a neuron that triggers startle and escape responses to odors, visual and acoustic stimuli is directly connecting to JONs.\n",
        "\n",
        "### Exercise 4.2a: Loading and inspecting the data\n",
        "But first, let's load the data. They are saved in two csv files:\n",
        "- 'dat/flywire/classification.csv.gz': Contains information on all cells (including cell types)\n",
        "- 'dat/flywire/connections.csv.gz': Synaptic connections and transmitter types\n",
        "\n",
        "Load them and familiarize yourself with the different columnes:"
      ]
    },
    {
      "cell_type": "code",
      "execution_count": 21,
      "metadata": {},
      "outputs": [],
      "source": [
        "# your solution here\n"
      ]
    },
    {
      "cell_type": "markdown",
      "metadata": {},
      "source": [
        "### Exercise 4.2b: How many JONs exist per subtype?\n",
        "For each of the 6 JON subtypes (A, B, C, D, E, F) find the number of neurons instances in the connectome and plot the number of neurons for each subtype as a bar plot (one bar per subtype, bar height indicates number of neurons for that subtype).\n",
        "\n",
        "Roughly like so:\n",
        "\n",
        "![](4.01_cell_numbers.png)"
      ]
    },
    {
      "cell_type": "code",
      "execution_count": 22,
      "metadata": {},
      "outputs": [],
      "source": [
        "# your solution here\n"
      ]
    },
    {
      "cell_type": "markdown",
      "metadata": {},
      "source": [
        "### Exercise 4.2c: Are JONs connected to the giant-fibre neuron? If so how many neurons per subtype?\n",
        "The giant-fibre neuron (GFN) is a large neuron that triggers startle and escape responses to different modalities - odors, visual stimuli but also sudden loud sounds. The giant fibre has an axon with a large diameter and is directly connected to motor neurons in the ventral nerve chord to rapidly trigger escape.\n",
        "\n",
        "Is it also directly connected to sensory neurons, in particular JONs?\n",
        "\n",
        "1. Find the GFN in the connectome - there should be two, one on each side.\n",
        "2. For each of the GFNs, identify it's inputs, and determine how many of each JON subtypes provide direct input to it. Plot this as a bar plot.\n",
        "\n",
        "__Hint__ The cell type of the GFN is \"DNp01\" (DN=Descending Neuron)\n",
        "\n",
        "FInd the GFNs in the connectome:"
      ]
    },
    {
      "cell_type": "code",
      "execution_count": 23,
      "metadata": {},
      "outputs": [],
      "source": [
        "# your solution here\n"
      ]
    },
    {
      "cell_type": "markdown",
      "metadata": {},
      "source": [
        "For each of the GFNs, identify it's inputs, and determine how many of each JON subtypes provide direct input to it. For each of the GFNs, plot the number of JONs of each subtype in the inputs as a bar plot.\n",
        "\n",
        "Roughly like so:\n",
        "\n",
        "![](4.01_GFN_inputs.png)"
      ]
    },
    {
      "cell_type": "code",
      "execution_count": 24,
      "metadata": {},
      "outputs": [],
      "source": [
        "# your solution here\n"
      ]
    },
    {
      "cell_type": "markdown",
      "metadata": {},
      "source": [
        "### Bonus: Plot the synapse count for each of the JON inputs to the GFN"
      ]
    },
    {
      "cell_type": "code",
      "execution_count": 25,
      "metadata": {},
      "outputs": [],
      "source": [
        "# your solution here\n"
      ]
    }
  ],
  "metadata": {
    "kernel_info": {
      "name": "python3"
    },
    "kernelspec": {
      "display_name": "base",
      "language": "python",
      "name": "python3"
    },
    "language_info": {
      "codemirror_mode": {
        "name": "ipython",
        "version": 3
      },
      "file_extension": ".py",
      "mimetype": "text/x-python",
      "name": "python",
      "nbconvert_exporter": "python",
      "pygments_lexer": "ipython3",
      "version": "3.12.0"
    },
    "nteract": {
      "version": "0.12.3"
    },
    "vscode": {
      "interpreter": {
        "hash": "7ea0ec616133ead53c1908c8f6539f5c0cb9b2f78368e2bb6ab3f847e89ca400"
      }
    }
  },
  "nbformat": 4,
  "nbformat_minor": 4
}
