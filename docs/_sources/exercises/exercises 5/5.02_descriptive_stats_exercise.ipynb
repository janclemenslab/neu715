{
 "cells": [
  {
   "cell_type": "markdown",
   "metadata": {},
   "source": [
    "# Exercise 5.02 - Descriptive Statistics\n",
    "\n",
    "## Exercise 1 - Plotting data and calculating descriptive statistics\n",
    "Write a function `distribution_analysis(x)` that expects a numpy array `x` as input argument and returns a dictionary `stats` with these statistical values as the keys:\n",
    "1) mean\n",
    "2) standard deviation (biased and unbiased)\n",
    "3) skewness\n",
    "4) kurtosis\n",
    "5) median\n",
    "6) interquartile range\n",
    "\n",
    "Moreover, the function should generate a figure with 3 subplots, showing:\n",
    "1) the raw data, plotted against the index (please note: for interpretation, it would be better to use individual markers. However, you will use this program for large amounts of data, for which the markers will overlap each other. Therefore, lines might help to visualize the data.)\n",
    "2) a histogram of the data\n",
    "3) the boxplot of the data\n",
    "\n",
    "Put that function in a file and import the function from the file.\n",
    "\n",
    "Make sure that this function is written in a general way (without fixed numbers or any other assumptions about the data that should be analyzed), because you will use this function repeatedly in this exercise and in the assignment. Test the function using samples drawn from a Normal distribution with mean 2 and std 1, stored in the variable `x` below.\n",
    "\n",
    "__IMPORTANT:__ Make sure you import the file and call the function in a way that makes use of the function from the file, not from your notebook. To ensure that you really use the function from the file, give the function a different name - for instance, `distribution_analysis_local` for the function you define in the notebook, and `distribution_analysis` for the function you define in the file.\n",
    "\n",
    "__Hint:__ Not all of these functions are available via numpy - you find these in the scipy.stats module.\n"
   ]
  },
  {
   "cell_type": "code",
   "execution_count": 1,
   "metadata": {},
   "outputs": [],
   "source": [
    "import numpy as np\n",
    "x = np.random.normal(2, 1, 1000)  # generate some data for testing your function\n",
    "\n",
    "# your solution here"
   ]
  },
  {
   "cell_type": "markdown",
   "metadata": {},
   "source": [
    "Check if you understood the concepts of generating random numbers and analyzing the distribution of values in a sample:\n",
    "\n",
    "Use your function to compare the descriptive statistics of samples for three different distributions.\n",
    "\n",
    "## Exercise 2 - Interpreting descriptive statistics of a Normal distribution\n",
    "First, generate 10000 samples from a normal distribution with mean 2.0 and standard deviation 1.0 as a reference. Use the function `np.random.normal`. Check the numpy documentation on how to use it.\n",
    "\n",
    "Apply your function `distribution_analysis` to this data set. Look at all output values and all subplots: Do they meet your expectation? Do the mean and std make sense? Compare the values for the mean and the median!"
   ]
  },
  {
   "cell_type": "code",
   "execution_count": 2,
   "metadata": {},
   "outputs": [],
   "source": [
    "# your solution here"
   ]
  },
  {
   "cell_type": "markdown",
   "metadata": {},
   "source": [
    "## Exercise 3 - Compare the descriptive statistics of Normal, Uniform, and Poisson distributions\n",
    "Now run the same distribution analysis for 10000 samples from a Uniform and a Poisson distribution.\n",
    "\n",
    "Generate 10000 samples from\n",
    "1. A uniform distribution with mean 2.0 and span (difference between smallest and largest value) 1.0. Use the function `np.random.random_sample`.\n",
    "2. A Poisson distribution with mean 2.0. Use the function `np.random.poisson`. Check the numpy documentation for how to use it. Hint: The first argument, `lam`(bda) corresponds to the mean of the distribution.\n",
    "\n",
    "Visualize the data and compute the descriptive statistics using your function. Compare the descriptive statistics of your Normal distribution above to the statistics from the Uniform and Poisson distributions:\n",
    "- Look at all output values and all subplots: Do they meet your expectation? Do mean and std make sense? Can you explain the values for the median and the IQR? Is the kurtosis greater or smaller than for a normal distribution with the same mean and std? How about the skewness?\n",
    "- Makes sure that you know how to interpret all evidences for a normal distribution you found in this task."
   ]
  },
  {
   "cell_type": "code",
   "execution_count": 3,
   "metadata": {},
   "outputs": [],
   "source": [
    "# your solution here"
   ]
  },
  {
   "cell_type": "markdown",
   "metadata": {},
   "source": [
    "## Exercise 4 - BONUS - Check convergence of different descriptive statistics for different sample sizes\n",
    "Explore how the estimates of mean and standard deviation scatter for multiple samples of different size.\n",
    "To do that we will repeatedly generate datasets of normally distributed samples, compute their statistics and then plot the distribution of these statistics.\n",
    "\n",
    "Make a function that\n",
    "- takes the sample size N as an input,\n",
    "- generates a normally distributed dataset with mean 10 and standard deviation 2 with the specified sample size,\n",
    "- computes:\n",
    "    - the empirical mean of the generated sample of random numbers\n",
    "    - the empirical unbiased standard deviation (normalized by the sample size N)\n",
    "    - the empirical biased standard deviation (normalized by N-1)\n",
    "\n",
    "Call that function 100 times with a sample size of 1000 and save the output values in an array (e.g. call the function 100 times to ultimately produce three vectors of 100 elements length, which contain the 100 means, and the 100 biased and unbiased standard deviations).\n",
    "\n",
    "__Bonus__ You can make your code more efficient by generating a matrix of 100x1000 samples at once and computing the statistics over the axis 1 of this matrix.\n",
    "\n",
    "Plot the histograms of the 3 empirical measures for sample sizes 10, 100, 1000. How do the distributions change with sample size? What is the difference between the biased and the unbiased standard deviation?\n",
    "\n",
    "Calculate the standard deviation of the vector of means for the three differet sample sizes. Does the value match the expected standard error of the mean for each sample size?\n"
   ]
  },
  {
   "cell_type": "code",
   "execution_count": 4,
   "metadata": {},
   "outputs": [],
   "source": [
    "# your solution here"
   ]
  }
 ],
 "metadata": {
  "interpreter": {
   "hash": "7ea0ec616133ead53c1908c8f6539f5c0cb9b2f78368e2bb6ab3f847e89ca400"
  },
  "kernelspec": {
   "display_name": "Python 3.7.6 64-bit ('base': conda)",
   "name": "python3"
  },
  "language_info": {
   "codemirror_mode": {
    "name": "ipython",
    "version": 3
   },
   "file_extension": ".py",
   "mimetype": "text/x-python",
   "name": "python",
   "nbconvert_exporter": "python",
   "pygments_lexer": "ipython3",
   "version": "3.12.0"
  }
 },
 "nbformat": 4,
 "nbformat_minor": 2
}
