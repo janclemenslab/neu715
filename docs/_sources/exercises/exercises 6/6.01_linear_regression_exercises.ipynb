{
 "cells": [
  {
   "cell_type": "markdown",
   "metadata": {},
   "source": [
    "# 6.01 Exercises - Linear regression\n",
    "\n",
    "## Exercise 1 - Perform linear regression on two data sets\n",
    "The file `5.01_linear_regression_exercises_1.npz` contains two datasets, `y1` and `y2` with common x-values in `x``\n",
    "\n",
    "For each dataset\n",
    "- plot the data\n",
    "- perform linear regression\n",
    "- plot the regression line (predictions from the linear regression)\n",
    "- interpret the result - based on your results: are x and y1 (or y2) related in a meaningful way? are they linearly related?"
   ]
  },
  {
   "cell_type": "code",
   "execution_count": 1,
   "metadata": {},
   "outputs": [],
   "source": [
    "# your solution here"
   ]
  },
  {
   "cell_type": "markdown",
   "metadata": {},
   "source": [
    "## Exercise 2 - Fit curves from multiple animals, compare params using statistics\n",
    "\n",
    "The file `5.01_linear_regression_exercises_2.npz` contains two datasets, `y_ctrl` and `y_treat` with the x-values in `x`.\n",
    "`y_ctrl` and `y_treat` are 100x10 matrices with control and treatment data from 10 animals:\n",
    "- 100 rows correspond to the y values for each of the 100 x-values\n",
    "- 10 columns correspond to data from 10 animals.\n",
    "\n",
    "Your task is in the diferent parts of this exercise are to:\n",
    "- perform linear regression on each of the 10 animals for the control and treatment data. You should get 10 slope and intercept parameters for the control and for the treatment data.\n",
    "- compare the 10 slope parameters for the control and treatment data using a plot\n",
    "- test whether there exists a statistically significant different between the slope parameters of the control and of the treatment animals.\n"
   ]
  },
  {
   "cell_type": "markdown",
   "metadata": {},
   "source": [
    "### Exercise 2a - Perform linear regression on each animal\n",
    "Perform linear regression on each of the 10 animals for the control and treatment data. You should get 10 slope and intercept parameters for the control and for the treatment data. Save the 10 slope parameters for each condition - in the next part, you will plot them and run statistics on them."
   ]
  },
  {
   "cell_type": "code",
   "execution_count": 2,
   "metadata": {},
   "outputs": [],
   "source": [
    "# your solution here"
   ]
  },
  {
   "cell_type": "markdown",
   "metadata": {},
   "source": [
    "### Exercise 2b - Visualize the slope parameters for the control and treatment animals"
   ]
  },
  {
   "cell_type": "code",
   "execution_count": 3,
   "metadata": {},
   "outputs": [],
   "source": [
    "# your solution here"
   ]
  },
  {
   "cell_type": "markdown",
   "metadata": {},
   "source": [
    "### Exercise 2c - Test whether the slope parameters differ between control and treatment animals"
   ]
  },
  {
   "cell_type": "code",
   "execution_count": 5,
   "metadata": {},
   "outputs": [],
   "source": [
    "# your solution here"
   ]
  }
 ],
 "metadata": {
  "interpreter": {
   "hash": "7ea0ec616133ead53c1908c8f6539f5c0cb9b2f78368e2bb6ab3f847e89ca400"
  },
  "kernelspec": {
   "display_name": "Python 3.7.6 64-bit ('base': conda)",
   "name": "python3"
  },
  "language_info": {
   "codemirror_mode": {
    "name": "ipython",
    "version": 3
   },
   "file_extension": ".py",
   "mimetype": "text/x-python",
   "name": "python",
   "nbconvert_exporter": "python",
   "pygments_lexer": "ipython3",
   "version": "3.12.0"
  }
 },
 "nbformat": 4,
 "nbformat_minor": 2
}
