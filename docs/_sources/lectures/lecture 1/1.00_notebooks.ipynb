{
 "cells": [
  {
   "cell_type": "markdown",
   "metadata": {
    "slideshow": {
     "slide_type": "slide"
    }
   },
   "source": [
    "# Intro to notebooks\n",
    "\n",
    "Jupyter notebooks combine code, code outputs (plots, tables), and text in a single file.\n",
    "\n",
    "They are a great way for working with python on small projects."
   ]
  },
  {
   "cell_type": "markdown",
   "metadata": {},
   "source": [
    "## Cells\n",
    "Notebooks are composed of so-called cells. They come in two types:\n",
    "\n",
    "- Code cells for adding python code.\n",
    "- Markdown cells for adding text.\n",
    "\n",
    "You can add cells using the \"+\" button in the toolbar.\n",
    "\n",
    "You can edit existing cells by double clicking them. \n",
    "\n",
    "You can \"run\" a cell by clicking \"Shift+Enter\" or by clicking the play (run) button in the toolbar above. This will execute the python code or format the markdown code."
   ]
  },
  {
   "cell_type": "markdown",
   "metadata": {},
   "source": [
    "### Code Cells\n",
    "Code cells contain python code. Running code cells will execute the code. An asterisk (*) will indicate that the cell is running. Code cells do not have to be run in order - you can flexibly run and re-run cells in any order you want. The result of the last line in a cell will be printed automatically. We will learn about more ways of printing results in a bit."
   ]
  },
  {
   "cell_type": "code",
   "execution_count": 5,
   "metadata": {},
   "outputs": [
    {
     "data": {
      "text/plain": [
       "10"
      ]
     },
     "execution_count": 5,
     "metadata": {},
     "output_type": "execute_result"
    }
   ],
   "source": [
    "5 + 5"
   ]
  },
  {
   "cell_type": "code",
   "execution_count": null,
   "metadata": {},
   "outputs": [],
   "source": []
  },
  {
   "cell_type": "code",
   "execution_count": 2,
   "metadata": {},
   "outputs": [
    {
     "data": {
      "text/plain": [
       "30"
      ]
     },
     "execution_count": 2,
     "metadata": {},
     "output_type": "execute_result"
    }
   ],
   "source": [
    "a = 10\n",
    "b = 20\n",
    "a + b"
   ]
  },
  {
   "cell_type": "markdown",
   "metadata": {},
   "source": [
    "### Markdown cells\n",
    "Markdown cells allow you to write normal text but come with extra options to format text:\n",
    "- single underscores `_italic_`: _italic_\n",
    "- double underscores `__bold__`: __bold__\n",
    "- 1 or more hash tags `# Header`: Headers at different levels\n",
    "- back ticks ``print(x)`` for inline code: `print(x)`\n",
    "- mathematical equations with `$y = ax + b$`: $y = ax + b$\n",
    "\n",
    "You can create formatted code blocks using triple back ticks \"\\``` ... ```\"\n",
    "```python\n",
    "x = 10\n",
    "print(x)\n",
    "```"
   ]
  }
 ],
 "metadata": {
  "kernelspec": {
   "display_name": "Python 3 (ipykernel)",
   "language": "python",
   "name": "python3"
  },
  "language_info": {
   "codemirror_mode": {
    "name": "ipython",
    "version": 3
   },
   "file_extension": ".py",
   "mimetype": "text/x-python",
   "name": "python",
   "nbconvert_exporter": "python",
   "pygments_lexer": "ipython3",
   "version": "3.12.6"
  }
 },
 "nbformat": 4,
 "nbformat_minor": 4
}
