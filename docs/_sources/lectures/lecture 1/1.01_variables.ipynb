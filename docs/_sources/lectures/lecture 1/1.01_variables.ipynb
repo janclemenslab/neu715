{
 "cells": [
  {
   "cell_type": "markdown",
   "metadata": {
    "slideshow": {
     "slide_type": "slide"
    }
   },
   "source": [
    "# Variables"
   ]
  },
  {
   "cell_type": "markdown",
   "metadata": {},
   "source": [
    "## A simple problem as motivation - spike detection\n",
    "To have a problem to start with, let's assumer we want to detect the spikes in this voltage trace.\n",
    "\n",
    "A spike is a peak in the voltage trace exceeding a threshold value. \n",
    "\n",
    "More specifically, we are interested in when the spikes occur - the spikes times.\n",
    "\n",
    "![](voltage_trace.png)"
   ]
  },
  {
   "cell_type": "markdown",
   "metadata": {},
   "source": [
    "### How would you solve this?\n",
    "Let's break this down into a sequence of simple steps, like a recipe:\n",
    "\n",
    "1. weigh 100 grams flour\n",
    "2. take 3 eggs\n",
    "3. mix eggs and floor in a bowl\n",
    "3. beat it!\n",
    "4. ...\n",
    "\n",
    "Now try to explain to your grandma or a 5-year old how you would extract the time of each spike:\n",
    "\n",
    "1. \n",
    "2.\n",
    "3."
   ]
  },
  {
   "cell_type": "markdown",
   "metadata": {},
   "source": [
    "<!-- ### What do we need to know to detect spikes using python?\n",
    "- [ ] Present data in code (individual voltage values, manipulate them and store the results) - variables\n",
    "- [ ] Compare variables (voltage to threshold) - boolean values\n",
    "- [ ] Perform different actions based on the value of a variable (only keep the position if the voltage exceeds the threshold) - if-else statements\n",
    "- [ ] Present and access data in a time series of voltage values - lists\n",
    "- [ ] Perform an action for each element in a sequence of values (inspect voltage values one-by-one) - for loops\n",
    "- [ ] Separate data and logic so we can use the same code for new recordings - functions\n",
    "- [ ] Apply this to multi data files\n",
    "- [ ] Plot and save the results -->"
   ]
  },
  {
   "cell_type": "markdown",
   "metadata": {
    "slideshow": {
     "slide_type": "subslide"
    }
   },
   "source": [
    "## Presenting data in code\n",
    "\n",
    "### Why have variables?\n",
    "You can work directly with numbers and use python as a calculator:"
   ]
  },
  {
   "cell_type": "code",
   "execution_count": 1,
   "metadata": {},
   "outputs": [
    {
     "data": {
      "text/plain": [
       "5"
      ]
     },
     "execution_count": 1,
     "metadata": {},
     "output_type": "execute_result"
    }
   ],
   "source": [
    "1 + 4"
   ]
  },
  {
   "cell_type": "markdown",
   "metadata": {},
   "source": [
    "Try it yourself by clicking into the cell above and changing the numbers.\n",
    "\n",
    "You can execute the code using Control+Enter."
   ]
  },
  {
   "cell_type": "markdown",
   "metadata": {},
   "source": [
    "### Variables abstract away specific data \"types\"/\"roles\" from the specific data values\n",
    "Working with numeric values directly isn't very general, since you tie your code to specific numeric values.\n",
    "\n",
    "Variables are a way to make your code more general (and thereby more useful), by separating specific data values from the general computation. You can think of the variable as a storage container: it can store information that you can access via its name and manipulate in your program.\n",
    "\n",
    "A variable is created with the syntax `name = value`.\n",
    "\n",
    "- `name` can be any combination of characters, underscores and numbers (as long as it does not start with a number)\n",
    "- `value` can be a number, text (or an arbitrary \"python object\").\n",
    "\n",
    "That way, you can express your program's computation in general terms - as the manipulation of variables.\n",
    "\n",
    "> What is a Variable? In computer programming, a variable has a name and contains a value. A variable is like a box. If you labeled the box as `toys` and put a yo-yo inside it, in programming terms, `toys` is the variable name, and yo-yo is the value.\n",
    "\n",
    "> In math, the `=` is used to test for equality ($a = b$). In python, we use it for assigning values to variables. Double equal signs `==` test for equality in python.\n",
    "\n",
    "### Computing firing rates\n",
    "Back to neuroscience: Say we want to compute the firing rate of a neuron. We have counted the number of spikes (132) our neuron fired during a recording of 16 seconds. The firing rates - the number of spikes per second (1/s=Hz) - is given by the ratio of both:"
   ]
  },
  {
   "cell_type": "code",
   "execution_count": 2,
   "metadata": {},
   "outputs": [
    {
     "data": {
      "text/plain": [
       "8.25"
      ]
     },
     "execution_count": 2,
     "metadata": {},
     "output_type": "execute_result"
    }
   ],
   "source": [
    "132 / 16"
   ]
  },
  {
   "cell_type": "markdown",
   "metadata": {},
   "source": [
    "But this is \n",
    "\n",
    "1. not very general and \n",
    "2. not very readable. \n",
    "\n",
    "First, we directly tie the computation - calculating the ratio - to the data values, if we want to compute the firing rate for another neuron, we have to meddle with the code. This becomes more relevant if the computation becomes more complicated.\n",
    "\n",
    "Second, it's unclear what `132 / 16` means without knowing the context of the code - these numbers could mean anything.\n",
    "\n",
    "Variables with informative names provide context - it's clear from looking at the code what is being computed!\n",
    "\n",
    "A variable is created and assigned a value, using the `=` character, like in math:\n",
    "`x = 10`. Here, `x` is the name of the variable and `10` is it's value.\n",
    "\n",
    "We can assign the number of spikes and the duration of experiments to two variables, `n_spikes` and `duration` and compute the firing rate as their ratio:"
   ]
  },
  {
   "cell_type": "code",
   "execution_count": 3,
   "metadata": {},
   "outputs": [
    {
     "data": {
      "text/plain": [
       "8.25"
      ]
     },
     "execution_count": 3,
     "metadata": {},
     "output_type": "execute_result"
    }
   ],
   "source": [
    "n_spikes = 132\n",
    "duration = 16  # seconds\n",
    "firing_rate = n_spikes / duration  # 1/seconds=Hz\n",
    "firing_rate"
   ]
  },
  {
   "cell_type": "markdown",
   "metadata": {},
   "source": [
    "__Note 1:__ The `#` character allows you to comment your code - everything following `#` will be treated as a comment and not as code that is executed by python.\n",
    "\n",
    "__Note 2:__ The value of the last line in a cell, in this case `firing_rate`, is printed below the cell automatically.\n",
    "\n",
    "By changing the value of the different variables, `n_spikes` and `duration`, you can run the same computation, `n_spikes / duration`, on different data (for instance, different trials from the same experiment). This is useful if the computation is more complicated."
   ]
  },
  {
   "cell_type": "markdown",
   "metadata": {},
   "source": [
    "Whenever you type a variable name in code it will be replaced by the value (in this case, the number) it is referring to.\n",
    "\n",
    "Above, the expression `firing_rate = n_spikes / duration` is treated the following by Python:\n",
    "1. The value of the variable `n_spikes` is looked up as `132`\n",
    "2. `n_spikes` in `n_spikes / duration` is replaced by `132`. The expression is now `132 / duration`\n",
    "3. the value of the variable `duration` is looked up as `16`\n",
    "4. `duration` in `132 / duration` is replaced by `16`. The expression is now `132 / 16`\n",
    "5. The computation is performed and the result, `8.25` assigned the variable `firing_rate`."
   ]
  },
  {
   "cell_type": "markdown",
   "metadata": {},
   "source": [
    "```{admonition} Clicker question \"my_var\" ([Click me!](https://go.uos.de/kjcBV))\n",
    "\n",
    "What will be the value of x after executing this code?\n",
    "\n",
    "```python\n",
    "my_var = 2\n",
    "my_var = my_var + 1\n",
    "```\n",
    "```"
   ]
  },
  {
   "cell_type": "markdown",
   "metadata": {},
   "source": [
    "### Working with numerical variables - arithmetics on numbers\n",
    "Back to numbers. To perform computations, you need mathematical operations. These are common (and not so common) operations defined in python:\n",
    "| Symbol | Computation performed |\n",
    "|----|---|\n",
    "| +  | addition |\n",
    "| -  | subtraction |\n",
    "| *  | multiplication |\n",
    "| /  | division |\n",
    "| **  | power ($2^3$=`2**3`) |\n",
    "| //  | floor division (yields the integer part of the division) |\n",
    "| %  | modulo (yields the remainder of the division)|"
   ]
  },
  {
   "cell_type": "code",
   "execution_count": 6,
   "metadata": {},
   "outputs": [
    {
     "name": "stdout",
     "output_type": "stream",
     "text": [
      "19 = a + b (addition)\n",
      "13 = a - b (subtraction)\n",
      "48 = a * b (multiplication)\n",
      "5.333333333333333 = a / b (division)\n",
      "4096  = a ** b (power)\n",
      "Plus some weird stuff that we will ignore for now:\n",
      "5 = a // b (Floor Division yields the integer part of the quotient.)\n",
      "1 = a % b (Modulo yields the remainder of division.)\n"
     ]
    }
   ],
   "source": [
    "# Examples\n",
    "a = 16\n",
    "b = 3\n",
    "\n",
    "\n",
    "print(a + b, '= a + b (addition)')\n",
    "print(a - b, '= a - b (subtraction)')\n",
    "print(a * b, '= a * b (multiplication)')\n",
    "print(a / b, '= a / b (division)')\n",
    "print(a ** b, ' = a ** b (power)')\n",
    "\n",
    "print('Plus some weird stuff that we will ignore for now:')\n",
    "\n",
    "print(a // b, '= a // b (Floor Division yields the integer part of the quotient.)')\n",
    "print(a % b, '= a % b (Modulo yields the remainder of division.)')"
   ]
  },
  {
   "cell_type": "markdown",
   "metadata": {},
   "source": [
    "### Dealing with text\n",
    "How about data that is not numeric, like names? The simplest example would be a phone book, in which we need to represent the names of our contacts.\n",
    "\n",
    "Simply assigning the name to a variable does not work - this will throw an error:"
   ]
  },
  {
   "cell_type": "code",
   "execution_count": 28,
   "metadata": {},
   "outputs": [
    {
     "ename": "NameError",
     "evalue": "name 'Keiko' is not defined",
     "output_type": "error",
     "traceback": [
      "\u001b[31m---------------------------------------------------------------------------\u001b[39m",
      "\u001b[31mNameError\u001b[39m                                 Traceback (most recent call last)",
      "\u001b[36mCell\u001b[39m\u001b[36m \u001b[39m\u001b[32mIn[28]\u001b[39m\u001b[32m, line 1\u001b[39m\n\u001b[32m----> \u001b[39m\u001b[32m1\u001b[39m name_of_the_whale = \u001b[43mKeiko\u001b[49m\n",
      "\u001b[31mNameError\u001b[39m: name 'Keiko' is not defined"
     ]
    }
   ],
   "source": [
    "name_of_the_whale = Keiko"
   ]
  },
  {
   "cell_type": "markdown",
   "metadata": {},
   "source": [
    "__Note on errors:__ When you write \"invalid\" code, python does not make your computer crash, but generates an error with a (sometimes cryptic) description of the cause of the error."
   ]
  },
  {
   "cell_type": "markdown",
   "metadata": {},
   "source": [
    "This is because single letters and words are interpreted as variable names.\n",
    "\n",
    "In the above example, python assumes that `Keiko` is a variable and looks up the value of the `Keiko` variable, but a variable with the name `Keiko` does not exist! Hence the `NameError`\n",
    "\n",
    "To tell python that the value of your variable is text, we wrap it in `'...'` or `\"...\"`.\n",
    "Variables with text as values are called _strings_."
   ]
  },
  {
   "cell_type": "code",
   "execution_count": 29,
   "metadata": {},
   "outputs": [],
   "source": [
    "name_of_the_whale = 'Keiko'\n",
    "speed = \"Mach 2\"\n",
    "year = \"1968\""
   ]
  },
  {
   "cell_type": "markdown",
   "metadata": {},
   "source": [
    "## Types of variables\n",
    "\n",
    "Variables come in different flavors - so far, we have encountered two kinds of variables: numbers and text.\n",
    "\n",
    "Kinds of variables are called _types_. These are the most important ones:\n",
    "\n",
    "- integer numbers: `int` - number without a decimal point (1, 2, 103241)\n",
    "- floating point numbers: `float` - number with a decimal point (3.141)\n",
    "- (complex numbers - not covered here: `complex`)\n",
    "- string: `str`: sequence of characters (\"yes\", 'no')\n",
    "- boolean variables: `bool`- only two values: `True` or `False`\n",
    "\n",
    "These types of variables exist in almost any programming language!"
   ]
  },
  {
   "cell_type": "markdown",
   "metadata": {},
   "source": [
    "### Determining the type of variables\n",
    "Wrong variable types can be a source of errors in your code.\n",
    "\n",
    "Below, an error is raised because one cannot add a variable of type string to a number in python."
   ]
  },
  {
   "cell_type": "code",
   "execution_count": 30,
   "metadata": {
    "scrolled": true
   },
   "outputs": [
    {
     "ename": "TypeError",
     "evalue": "unsupported operand type(s) for +: 'float' and 'str'",
     "output_type": "error",
     "traceback": [
      "\u001b[31m---------------------------------------------------------------------------\u001b[39m",
      "\u001b[31mTypeError\u001b[39m                                 Traceback (most recent call last)",
      "\u001b[36mCell\u001b[39m\u001b[36m \u001b[39m\u001b[32mIn[30]\u001b[39m\u001b[32m, line 3\u001b[39m\n\u001b[32m      1\u001b[39m a = \u001b[32m15.6\u001b[39m\n\u001b[32m      2\u001b[39m b = \u001b[33m'\u001b[39m\u001b[33m12.4\u001b[39m\u001b[33m'\u001b[39m\n\u001b[32m----> \u001b[39m\u001b[32m3\u001b[39m \u001b[43ma\u001b[49m\u001b[43m \u001b[49m\u001b[43m+\u001b[49m\u001b[43m \u001b[49m\u001b[43mb\u001b[49m\n",
      "\u001b[31mTypeError\u001b[39m: unsupported operand type(s) for +: 'float' and 'str'"
     ]
    }
   ],
   "source": [
    "a = 15.6\n",
    "b = '12.4'\n",
    "a + b"
   ]
  },
  {
   "cell_type": "markdown",
   "metadata": {},
   "source": [
    "It is therefore often useful to determine the type of a variable.\n",
    "\n",
    "The `type` function returns the type of a variable:"
   ]
  },
  {
   "cell_type": "markdown",
   "metadata": {},
   "source": [
    "#### Note: Functions\n",
    "Functions are used via their name, followed by the input argument in parentheses:\n",
    "\n",
    "```function_name(argument)```\n",
    "\n",
    "Many functions also return a result, that can be assigned to a new variable: \n",
    "\n",
    "```result = function_name(argument)```"
   ]
  },
  {
   "cell_type": "code",
   "execution_count": 31,
   "metadata": {},
   "outputs": [
    {
     "data": {
      "text/plain": [
       "(float, str)"
      ]
     },
     "execution_count": 31,
     "metadata": {},
     "output_type": "execute_result"
    }
   ],
   "source": [
    "type(a), type(b)"
   ]
  },
  {
   "cell_type": "markdown",
   "metadata": {},
   "source": [
    "### Changing variable types\n",
    "You can change the type of a variable - _cast_ it to another type - using the functions `int`, `float`, `str`, and `bool`, with the variable you want to cast as the argument:"
   ]
  },
  {
   "cell_type": "markdown",
   "metadata": {},
   "source": [
    "You can turn a string to a number using `int` or `float`. But this works only if the string variable contains only numerical data: "
   ]
  },
  {
   "cell_type": "code",
   "execution_count": 16,
   "metadata": {},
   "outputs": [
    {
     "data": {
      "text/plain": [
       "('10', 10, str, int)"
      ]
     },
     "execution_count": 16,
     "metadata": {},
     "output_type": "execute_result"
    }
   ],
   "source": [
    "age_as_str = '10'\n",
    "age_as_int = int(age_as_str)\n",
    "age_as_str, age_as_int, type(age_as_str), type(age_as_int)"
   ]
  },
  {
   "cell_type": "code",
   "execution_count": 17,
   "metadata": {},
   "outputs": [
    {
     "data": {
      "text/plain": [
       "(str, float)"
      ]
     },
     "execution_count": 17,
     "metadata": {},
     "output_type": "execute_result"
    }
   ],
   "source": [
    "b = '12.4'\n",
    "b_as_float = float(b)  # cast a from a string to a floating point\n",
    "type(b), type(b_as_float)"
   ]
  },
  {
   "cell_type": "markdown",
   "metadata": {},
   "source": [
    "You can turn a number into a text using `str`:"
   ]
  },
  {
   "cell_type": "code",
   "execution_count": 18,
   "metadata": {},
   "outputs": [
    {
     "data": {
      "text/plain": [
       "('10', int, str)"
      ]
     },
     "execution_count": 18,
     "metadata": {},
     "output_type": "execute_result"
    }
   ],
   "source": [
    "a = 10\n",
    "str(a), type(a), type(str(a))"
   ]
  },
  {
   "cell_type": "code",
   "execution_count": 19,
   "metadata": {},
   "outputs": [
    {
     "ename": "ValueError",
     "evalue": "invalid literal for int() with base 10: '10years'",
     "output_type": "error",
     "traceback": [
      "\u001b[31m---------------------------------------------------------------------------\u001b[39m",
      "\u001b[31mValueError\u001b[39m                                Traceback (most recent call last)",
      "\u001b[36mCell\u001b[39m\u001b[36m \u001b[39m\u001b[32mIn[19]\u001b[39m\u001b[32m, line 2\u001b[39m\n\u001b[32m      1\u001b[39m age_as_str = \u001b[33m'\u001b[39m\u001b[33m10years\u001b[39m\u001b[33m'\u001b[39m\n\u001b[32m----> \u001b[39m\u001b[32m2\u001b[39m age_as_number = \u001b[38;5;28;43mint\u001b[39;49m\u001b[43m(\u001b[49m\u001b[43mage_as_str\u001b[49m\u001b[43m)\u001b[49m\n",
      "\u001b[31mValueError\u001b[39m: invalid literal for int() with base 10: '10years'"
     ]
    }
   ],
   "source": [
    "age_as_str = '10years'\n",
    "age_as_number = int(age_as_str)"
   ]
  },
  {
   "cell_type": "code",
   "execution_count": 20,
   "metadata": {},
   "outputs": [
    {
     "ename": "ValueError",
     "evalue": "invalid literal for int() with base 10: '10 0'",
     "output_type": "error",
     "traceback": [
      "\u001b[31m---------------------------------------------------------------------------\u001b[39m",
      "\u001b[31mValueError\u001b[39m                                Traceback (most recent call last)",
      "\u001b[36mCell\u001b[39m\u001b[36m \u001b[39m\u001b[32mIn[20]\u001b[39m\u001b[32m, line 2\u001b[39m\n\u001b[32m      1\u001b[39m age_as_str = \u001b[33m'\u001b[39m\u001b[33m10 0\u001b[39m\u001b[33m'\u001b[39m\n\u001b[32m----> \u001b[39m\u001b[32m2\u001b[39m age_as_number = \u001b[38;5;28;43mint\u001b[39;49m\u001b[43m(\u001b[49m\u001b[43mage_as_str\u001b[49m\u001b[43m)\u001b[49m\n",
      "\u001b[31mValueError\u001b[39m: invalid literal for int() with base 10: '10 0'"
     ]
    }
   ],
   "source": [
    "age_as_str = '10 0'\n",
    "age_as_number = int(age_as_str)"
   ]
  },
  {
   "cell_type": "markdown",
   "metadata": {
    "slideshow": {
     "slide_type": "subslide"
    }
   },
   "source": [
    "### Naming variables\n",
    "You can name a variable *almost* anything you want.\n",
    "\n",
    "It needs to start with a letter or \"\\_\" and can contain alphanumeric characters (letters or numbers) plus underscores (\"\\_\"):"
   ]
  },
  {
   "cell_type": "code",
   "execution_count": 21,
   "metadata": {},
   "outputs": [],
   "source": [
    "# Valid names\n",
    "cool_variable = 10\n",
    "_cool_variable = 10\n",
    "password_123 = 'bad'"
   ]
  },
  {
   "cell_type": "code",
   "execution_count": 22,
   "metadata": {},
   "outputs": [
    {
     "ename": "SyntaxError",
     "evalue": "invalid decimal literal (3019652057.py, line 2)",
     "output_type": "error",
     "traceback": [
      "  \u001b[36mCell\u001b[39m\u001b[36m \u001b[39m\u001b[32mIn[22]\u001b[39m\u001b[32m, line 2\u001b[39m\n\u001b[31m    \u001b[39m\u001b[31m10th_number = 3.34\u001b[39m\n     ^\n\u001b[31mSyntaxError\u001b[39m\u001b[31m:\u001b[39m invalid decimal literal\n"
     ]
    }
   ],
   "source": [
    "# Invalid names\n",
    "10th_number = 3.34  # variables can't start with a number"
   ]
  },
  {
   "cell_type": "code",
   "execution_count": 23,
   "metadata": {},
   "outputs": [
    {
     "ename": "SyntaxError",
     "evalue": "cannot assign to expression here. Maybe you meant '==' instead of '='? (4082887190.py, line 1)",
     "output_type": "error",
     "traceback": [
      "  \u001b[36mCell\u001b[39m\u001b[36m \u001b[39m\u001b[32mIn[23]\u001b[39m\u001b[32m, line 1\u001b[39m\n\u001b[31m    \u001b[39m\u001b[31ma+b = 27  # variables should contain operands like +, -, / etc.\u001b[39m\n    ^\n\u001b[31mSyntaxError\u001b[39m\u001b[31m:\u001b[39m cannot assign to expression here. Maybe you meant '==' instead of '='?\n"
     ]
    }
   ],
   "source": [
    "a+b = 27  # variables should contain operands like +, -, / etc."
   ]
  },
  {
   "cell_type": "markdown",
   "metadata": {},
   "source": [
    "In addition, special key words are reserved for the language (no need to remember them - just keep this in mind so you know how to interpret the resulting error): `and`, `as`, `assert`, `break`, `class`, `continue`, `def`, `del`,\n",
    "`elif`, `else`, `except`, `exec`, `finally`, `for`, `from`, `global`, `if`, `import`, `in`, `is`, `lambda`, `not`, `or`, `pass`, `raise`, `return`, `try`, `while`, `with`, `yield`"
   ]
  },
  {
   "cell_type": "code",
   "execution_count": 25,
   "metadata": {},
   "outputs": [
    {
     "ename": "SyntaxError",
     "evalue": "invalid syntax (2151862977.py, line 2)",
     "output_type": "error",
     "traceback": [
      "  \u001b[36mCell\u001b[39m\u001b[36m \u001b[39m\u001b[32mIn[25]\u001b[39m\u001b[32m, line 2\u001b[39m\n\u001b[31m    \u001b[39m\u001b[31mif = 3\u001b[39m\n       ^\n\u001b[31mSyntaxError\u001b[39m\u001b[31m:\u001b[39m invalid syntax\n"
     ]
    }
   ],
   "source": [
    "# Example\n",
    "if = 3"
   ]
  },
  {
   "cell_type": "markdown",
   "metadata": {},
   "source": [
    "### Names should be short (but not too short) and descriptive\n",
    "- `a` is very short but meaningless - it is unclear what type of information `a` stores.\n",
    "- `concentration` or `subject_name` is a bit longer but its meaning is evident from the name.\n",
    "- `name_of_the_first_subject_on_monday_morning` is too long."
   ]
  },
  {
   "cell_type": "code",
   "execution_count": 26,
   "metadata": {
    "slideshow": {
     "slide_type": "fragment"
    }
   },
   "outputs": [],
   "source": [
    "a = 1  # assign value 1 to variable with name a\n",
    "concentration = 0.1  # mM\n",
    "subject_name = \"Mabel\"  # better variable name as it is descriptive\n",
    "name_of_the_first_subject_on_monday_morning = \"Thelonious\"  # too long"
   ]
  },
  {
   "cell_type": "markdown",
   "metadata": {},
   "source": [
    "Exercise \"Variables\" 4."
   ]
  },
  {
   "cell_type": "markdown",
   "metadata": {},
   "source": [
    "## Spike detection with python\n",
    "\n",
    "![](voltage_trace.png)\n",
    "\n",
    "- [x] Present data in code (individual voltage values, manipulate them and store the results) - variables\n",
    "- [ ] Compare variables (voltage to threshold) - boolean values\n",
    "- [ ] Perform different actions based on the value of a variable (only keep the position if the voltage exceeds the threshold) - if-else statements\n",
    "- [ ] Present and access data in a time series of voltage values - lists\n",
    "- [ ] Perform an action for each element in a sequence of values (inspect voltage values one-by-one) - for loops\n",
    "- [ ] Separate data and logic so we can use the same code for new recordings - functions\n",
    "- [ ] Apply this to multi data files\n",
    "- [ ] Plot and save the results\n"
   ]
  }
 ],
 "metadata": {
  "kernelspec": {
   "display_name": "Python 3 (ipykernel)",
   "language": "python",
   "name": "python3"
  },
  "language_info": {
   "codemirror_mode": {
    "name": "ipython",
    "version": 3
   },
   "file_extension": ".py",
   "mimetype": "text/x-python",
   "name": "python",
   "nbconvert_exporter": "python",
   "pygments_lexer": "ipython3",
   "version": "3.13.8"
  }
 },
 "nbformat": 4,
 "nbformat_minor": 4
}
