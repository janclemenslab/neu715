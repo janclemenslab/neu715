{
 "cells": [
  {
   "cell_type": "markdown",
   "metadata": {},
   "source": [
    "# Conditionals\n",
    "## What do we need to know to detect spikes using python?\n",
    "\n",
    "![](voltage_trace.png)\n",
    "\n",
    "- [x] Present data in code (individual voltage values, manipulate them and store the results) - variables\n",
    "- [ ] __Compare variables (voltage to threshold) - boolean operations__\n",
    "- [ ] __Perform different actions based on the value of a variable (only keep the position if the voltage exceeds the threshold) - if-else statements__\n",
    "- [ ] Present and access data in a time series of voltage values - lists\n",
    "- [ ] Perform an action for each element in a sequence of values (inspect voltage values one-by-one) - for loops\n",
    "- [ ] Separate data and logic so we can use the same code for new recordings - functions\n",
    "- [ ] Apply this to multi data files\n",
    "- [ ] Plot and save the results\n"
   ]
  },
  {
   "cell_type": "markdown",
   "metadata": {},
   "source": [
    "## Compare variables\n",
    "Until now, we know how to add, subtract, multiply, and divide variables. \n",
    "\n",
    "However, to solve our spike detection problem, we need to compare values: We need to dermine whether the voltage exceeds the threshold!\n",
    "\n",
    "This is done using comparison operators:\n",
    "- `>` greater than\n",
    "- `<` less than\n",
    "- `==` equal (not to be confused with `=` which assigns values to variables)\n",
    "- `>=` greater or equal\n",
    "- `<=` less or equal"
   ]
  },
  {
   "cell_type": "code",
   "execution_count": 1,
   "metadata": {},
   "outputs": [
    {
     "name": "stdout",
     "output_type": "stream",
     "text": [
      "True False False\n"
     ]
    }
   ],
   "source": [
    "voltage = -40\n",
    "threshold = 10\n",
    "\n",
    "print(voltage < threshold, voltage > threshold, voltage == threshold)"
   ]
  },
  {
   "cell_type": "markdown",
   "metadata": {},
   "source": [
    "The result of a comparison is not a number, but `True` or `False`.\n",
    "\n",
    "We call the resulting variables _boolean_ variables after George Boole."
   ]
  },
  {
   "cell_type": "markdown",
   "metadata": {},
   "source": [
    "```{admonition} Clicker question \"comparisons\"([Click me!](https://go.uos.de/0ypAi))\n",
    "Let's define two variables: `a = 10; b = 20`. Which of these statements evaluate to True?\n",
    "```python\n",
    "a == 10\n",
    "a > b\n",
    "b <= 20\n",
    "b < 20\n",
    "b = 3\n",
    "```\n",
    "```"
   ]
  },
  {
   "cell_type": "markdown",
   "metadata": {},
   "source": [
    "## Perform different actions based on the value of a variable\n",
    "Yay - we can now figure out whether our voltage exceeds the threshold!\n",
    "\n",
    "But that alone is pretty useless - we want to perform specific computations based on the outcome of this comparison, for instance, if the voltage value exceeds the threshold, then we want to print it's time point.\n",
    "\n",
    "This can be done using so-called \"if-else\" statements. The basic logic of these statements is this: `if` EXPRESSION is True, then we do one thing, `else` we do something else:"
   ]
  },
  {
   "cell_type": "code",
   "execution_count": 6,
   "metadata": {},
   "outputs": [
    {
     "name": "stdout",
     "output_type": "stream",
     "text": [
      "The first name is \"Anton\".\n"
     ]
    }
   ],
   "source": [
    "first_name = 'Anton'\n",
    "\n",
    "if first_name == 'Anton':\n",
    "    print('The first name is \"Anton\".')\n",
    "else:\n",
    "    print('The first name is NOT \"Anton\".')"
   ]
  },
  {
   "cell_type": "markdown",
   "metadata": {},
   "source": [
    "A couple of new things:\n",
    "- `if` and `else` keywords. `if` is followed by the expression whos `True`/`False` value determines what is done.\n",
    "- `:` - marks the end of a special statement like `if` or `else`.\n",
    "- Indentation marks code blocks that are executed after each statement, based on the `True`/`False` value of the expression after `if`.\n",
    "\n",
    "#### What's going on? \n",
    "\n",
    "1. We create a variable with name `first_name` and value `Anton`.\n",
    "2. Python checks whether the value of the variable `first_name` equals (`==`) `Anton` (not to be confused with the `=` used for assigning values to variables). \n",
    "3. It does evalute to `True`."
   ]
  },
  {
   "cell_type": "code",
   "execution_count": 7,
   "metadata": {},
   "outputs": [
    {
     "name": "stdout",
     "output_type": "stream",
     "text": [
      "Anton\n",
      "True\n"
     ]
    }
   ],
   "source": [
    "print(first_name)\n",
    "print(first_name == 'Anton')"
   ]
  },
  {
   "cell_type": "markdown",
   "metadata": {},
   "source": [
    "4. Since the condition for the `if` statement is `True`, the indented code block after `if` is executed. If the condition had evaluated to `False` the indented code block after `else` would have been executed.\n",
    "\n",
    "How about this?"
   ]
  },
  {
   "cell_type": "code",
   "execution_count": 2,
   "metadata": {},
   "outputs": [
    {
     "name": "stdout",
     "output_type": "stream",
     "text": [
      "No!\n"
     ]
    }
   ],
   "source": [
    "first_name = 'Benton'\n",
    "if first_name == 'Anton':\n",
    "    print('First name starts with \"A\".')\n",
    "else:\n",
    "    print('No!')"
   ]
  },
  {
   "cell_type": "markdown",
   "metadata": {},
   "source": [
    "1. We create a variable with name `first_name` and value `Benton`.\n",
    "2. Python checks whether the value of the variable `first_name` equals (`==`) `Anton`\n",
    "3. It does not - it evaluates to `False`:"
   ]
  },
  {
   "cell_type": "code",
   "execution_count": 9,
   "metadata": {},
   "outputs": [
    {
     "name": "stdout",
     "output_type": "stream",
     "text": [
      "Benton\n",
      "False\n"
     ]
    }
   ],
   "source": [
    "print(first_name)\n",
    "print(first_name == 'Anton')"
   ]
  },
  {
   "cell_type": "markdown",
   "metadata": {},
   "source": [
    "4. Since the condition for the `if` statement is `False`, the code block after `if` is _skipped_.\n",
    "5. Python moves to the `else` block and executes the indented code block."
   ]
  },
  {
   "cell_type": "markdown",
   "metadata": {},
   "source": [
    "Multiple conditions can be checked by using `elif` statements (short for \"else if\"). Note, that the order of comparisons matters - python will only execute the first matching statement and skip the rest."
   ]
  },
  {
   "cell_type": "code",
   "execution_count": 5,
   "metadata": {},
   "outputs": [
    {
     "name": "stdout",
     "output_type": "stream",
     "text": [
      "Name starts with \"B\".\n"
     ]
    }
   ],
   "source": [
    "name = 'Benton'\n",
    "if name == 'Anton':\n",
    "    print('Name starts with \"A\".')\n",
    "elif name == 'Benton':\n",
    "    print('Name starts with \"B\".')\n",
    "elif name == 'Canton':\n",
    "    print('Name starts with \"C\".')\n",
    "else:\n",
    "    print('No!')"
   ]
  },
  {
   "cell_type": "markdown",
   "metadata": {
    "scrolled": true
   },
   "source": [
    "Lastly, the `else` statement is optional. You can use `if` without the `else`:"
   ]
  },
  {
   "cell_type": "code",
   "execution_count": 6,
   "metadata": {},
   "outputs": [
    {
     "name": "stdout",
     "output_type": "stream",
     "text": [
      "I hate Mondays!\n"
     ]
    }
   ],
   "source": [
    "today = \"Monday\"\n",
    "if today == \"Monday\":\n",
    "    print(\"I hate Mondays!\")"
   ]
  },
  {
   "cell_type": "markdown",
   "metadata": {},
   "source": [
    "```{admonition} Clicker question \"if statements\"([Click me!](https://go.uos.de/0ypAi))\n",
    "What will be printed?\n",
    "```python\n",
    "size = 10\n",
    "\n",
    "if size > 20:\n",
    "\tprint('too big!')\n",
    "elif size < 20:\n",
    "\tprint('not too big!)\n",
    "elif size == 10:\n",
    "\tprint('perfect')\n",
    "else:\n",
    "\tprint('no result')\n",
    "```\n",
    "```"
   ]
  },
  {
   "cell_type": "markdown",
   "metadata": {},
   "source": [
    "### What do we need to know to detect spikes using python?\n",
    "\n",
    "![](voltage_trace.png)\n",
    "\n",
    "- [x] _Present data in code (individual voltage values, manipulate them and store the results) - variables_\n",
    "- [x] __Compare variables (voltage to threshold) - boolean values__\n",
    "- [x] __Perform different actions based on the value of a variable (only keep the position if the voltage exceeds the threshold) - if-else statements__\n",
    "- [ ] Present and access data in a time series of voltage values - lists\n",
    "- [ ] Perform an action for each element in a sequence of values (inspect voltage values one-by-one) - for loops\n",
    "- [ ] Separate data and logic so we can use the same code for new recordings - functions\n",
    "- [ ] Apply this to multi data files\n",
    "- [ ] Plot and save the results\n",
    "\n",
    "\n",
    "The core computation of the spike detection problem is solved!! (You will put the individual steps together during the exercise.)\n",
    "\n",
    "Now we need to learn how to process the whole time series of voltage values! \n",
    "We could manually read the numbers from the text file and enter different values of the `voltage` variable but this would be tedious.\n",
    "\n",
    "So far all variables held single values - numbers or strings.\n",
    "How do we present sequences of numbers, like our time series of voltage values? And how do we work through a sequence and apply the spike detection to each individual value in the sequence?"
   ]
  }
 ],
 "metadata": {
  "celltoolbar": "Slideshow",
  "kernelspec": {
   "display_name": "Python 3 (ipykernel)",
   "language": "python",
   "name": "python3"
  },
  "language_info": {
   "codemirror_mode": {
    "name": "ipython",
    "version": 3
   },
   "file_extension": ".py",
   "mimetype": "text/x-python",
   "name": "python",
   "nbconvert_exporter": "python",
   "pygments_lexer": "ipython3",
   "version": "3.12.6"
  },
  "vscode": {
   "interpreter": {
    "hash": "7ea0ec616133ead53c1908c8f6539f5c0cb9b2f78368e2bb6ab3f847e89ca400"
   }
  }
 },
 "nbformat": 4,
 "nbformat_minor": 4
}
