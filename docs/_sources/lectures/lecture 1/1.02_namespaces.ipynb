{
 "cells": [
  {
   "cell_type": "markdown",
   "metadata": {
    "slideshow": {
     "slide_type": "slide"
    }
   },
   "source": [
    "# The working memory (a.k.a namespace)"
   ]
  },
  {
   "cell_type": "markdown",
   "metadata": {},
   "source": [
    "## Manipulating variables\n",
    "\n",
    "```{admonition} Clicker question \"cdcc\" ([Click me!](https://go.uos.de/kjcBV))\n",
    "The code below will print four numbers. Can you predict what will be printed? \n",
    "```python\n",
    "c = 1\n",
    "print(c)\n",
    "\n",
    "d = c + 5\n",
    "print(d)\n",
    "\n",
    "print(c)\n",
    "c = c + 8\n",
    "print(c)\n",
    "```\n",
    "```"
   ]
  },
  {
   "cell_type": "markdown",
   "metadata": {},
   "source": [
    "## Keeping track of variables and their values\n",
    "How do you keep track of variables and their values? The _kernel_ is the thing that executes your code. It also stores your _namespace_ - all variables and code that you have executed so far and that are stored in your computer memory.\n",
    "\n",
    "If you re-run your code cells out of order, it may be hard to know what's in your namespace. In that case, you can clear and re-launch the kernel, to start from scratch, with a clean namespace. This will erase any variables stored in memory and reset python to its original state.\n",
    "\n",
    "You can list the contents of your namespace with `%whos`:"
   ]
  },
  {
   "cell_type": "code",
   "execution_count": 1,
   "metadata": {},
   "outputs": [
    {
     "name": "stdout",
     "output_type": "stream",
     "text": [
      "Interactive namespace is empty.\n"
     ]
    }
   ],
   "source": [
    "%whos"
   ]
  },
  {
   "cell_type": "markdown",
   "metadata": {},
   "source": [
    "## Messing up and restoring the namespace\n",
    "The namespace contains not only all variables you've created and manipulated, but also all functions.\n",
    "It is therefore surprisingly easy to mess up you namespace. For instance, you can \"overwrite\" function names with variables in python. \n",
    "\n",
    "Remember the print function? Let's create a variable named `print` and assign a value to it:"
   ]
  },
  {
   "cell_type": "code",
   "execution_count": 12,
   "metadata": {},
   "outputs": [],
   "source": [
    "print = 'no, never do this!'"
   ]
  },
  {
   "cell_type": "markdown",
   "metadata": {},
   "source": [
    "Now let's print the value of the `print` variable:"
   ]
  },
  {
   "cell_type": "code",
   "execution_count": 13,
   "metadata": {},
   "outputs": [
    {
     "ename": "TypeError",
     "evalue": "'str' object is not callable",
     "output_type": "error",
     "traceback": [
      "\u001b[0;31m---------------------------------------------------------------------------\u001b[0m",
      "\u001b[0;31mTypeError\u001b[0m                                 Traceback (most recent call last)",
      "Cell \u001b[0;32mIn[13], line 1\u001b[0m\n\u001b[0;32m----> 1\u001b[0m \u001b[38;5;28;43mprint\u001b[39;49m\u001b[43m(\u001b[49m\u001b[38;5;28;43mprint\u001b[39;49m\u001b[43m)\u001b[49m\n",
      "\u001b[0;31mTypeError\u001b[0m: 'str' object is not callable"
     ]
    }
   ],
   "source": [
    "print(print)"
   ]
  },
  {
   "cell_type": "markdown",
   "metadata": {},
   "source": [
    "That fails, as does"
   ]
  },
  {
   "cell_type": "code",
   "execution_count": 14,
   "metadata": {},
   "outputs": [
    {
     "ename": "TypeError",
     "evalue": "'str' object is not callable",
     "output_type": "error",
     "traceback": [
      "\u001b[0;31m---------------------------------------------------------------------------\u001b[0m",
      "\u001b[0;31mTypeError\u001b[0m                                 Traceback (most recent call last)",
      "Cell \u001b[0;32mIn[14], line 1\u001b[0m\n\u001b[0;32m----> 1\u001b[0m \u001b[38;5;28;43mprint\u001b[39;49m\u001b[43m(\u001b[49m\u001b[38;5;241;43m10\u001b[39;49m\u001b[43m)\u001b[49m\n",
      "\u001b[0;31mTypeError\u001b[0m: 'str' object is not callable"
     ]
    }
   ],
   "source": [
    "print(10)"
   ]
  },
  {
   "cell_type": "markdown",
   "metadata": {},
   "source": [
    "That's because in the namespace of the current notebook, we have overwritten the function `print` with a string variable of the same name.\n",
    "\n",
    "Why is this happening? Let's first inspect the namespace. This confirms that print is of type string now, and not a function."
   ]
  },
  {
   "cell_type": "code",
   "execution_count": 3,
   "metadata": {},
   "outputs": [
    {
     "data": {
      "text/plain": [
       "builtin_function_or_method"
      ]
     },
     "execution_count": 3,
     "metadata": {},
     "output_type": "execute_result"
    }
   ],
   "source": [
    "type(print)"
   ]
  },
  {
   "cell_type": "code",
   "execution_count": 4,
   "metadata": {},
   "outputs": [
    {
     "name": "stdout",
     "output_type": "stream",
     "text": [
      "Interactive namespace is empty.\n"
     ]
    }
   ],
   "source": [
    "%whos"
   ]
  },
  {
   "cell_type": "markdown",
   "metadata": {},
   "source": [
    "```{admonition} Clicker question \"namespace\"([Click me!](https://go.uos.de/kjcBV))\n",
    "\n",
    "What do you do now? \n",
    "```"
   ]
  },
  {
   "cell_type": "markdown",
   "metadata": {},
   "source": [
    "After restarting the kernel, we will see that the type of print is now \"builtin_function_or_method\":"
   ]
  },
  {
   "cell_type": "code",
   "execution_count": 5,
   "metadata": {},
   "outputs": [
    {
     "data": {
      "text/plain": [
       "builtin_function_or_method"
      ]
     },
     "execution_count": 5,
     "metadata": {},
     "output_type": "execute_result"
    }
   ],
   "source": [
    "type(print)  # this will return \"builtin_function_or_method\""
   ]
  },
  {
   "cell_type": "markdown",
   "metadata": {},
   "source": [
    "## Re-using and updating variables across cells\n",
    "\n",
    "Not that the order of **execution** matters, not order in which cells appear in the notebook!\n",
    "\n",
    "Alice and Bob count mosquitoes. Alice, to store her count, creates a variable with name `n_alice_mosquitoes` and value `1` (she has counted only one mosquito so far)."
   ]
  },
  {
   "cell_type": "code",
   "execution_count": 8,
   "metadata": {
    "slideshow": {
     "slide_type": "fragment"
    }
   },
   "outputs": [
    {
     "name": "stdout",
     "output_type": "stream",
     "text": [
      "Variable             Type    Data/Info\n",
      "--------------------------------------\n",
      "n_alice_mosquitoes   int     1\n"
     ]
    }
   ],
   "source": [
    "n_alice_mosquitoes = 1  # create a new variable `n_alice_mosquitoes` and assign the value 1 to `n_alice_mosquitoes`\n",
    "%whos"
   ]
  },
  {
   "cell_type": "markdown",
   "metadata": {},
   "source": [
    "Now she can perform a computation using `n_alice_mosquitoes`.\n",
    "For instance, Bob has counted 10 more mosquitoes - so we add `10` to her own count and store the result in a new variable, `n_mosquitoes`, for the total count:"
   ]
  },
  {
   "cell_type": "markdown",
   "metadata": {},
   "source": [
    "```{admonition} Clicker question \"mosquitoes 1\" ([Click me!](https://go.uos.de/kjcBV))\n",
    "\n",
    "What will be the value of n_mosquitoes after executing this code after having run the cell above?\n",
    "\n",
    "```python\n",
    "n_mosquitoes = n_alice_mosquitoes + 10\n",
    "print(n_mosquitoes)\n",
    "```\n",
    "```"
   ]
  },
  {
   "cell_type": "markdown",
   "metadata": {},
   "source": [
    "```{toggle}\n",
    "What is going on here?\n",
    "\n",
    "In the above expression, `n_alice_mosquitoes + 10`, python sees the variable name, `n_alice_mosquitoes`, and looks up it's value, `1` This works since we have created and assigned a value to `n_alice_mosquitoes` in the previous cell.\n",
    "\n",
    "Python then replaces the name `n_alice_mosquitoes` with the value `1` and performs the computation (it evaluates the expression).\n",
    "\n",
    "`n_alice_mosquitoes + 10` is evaluated as `1 + 10`. \n",
    "\n",
    "`n_mosquitoes = n_alice_mosquitoes + 10` means that the result of the operation, the value `11`, is saved in a new variable, with name `n_mosquitoes`.\n",
    "\n",
    "Note that above we exploited that what you do in one cell transfers to the next:\n",
    "- we defined `n_alice_mosquitoes` in one cell\n",
    "- and used it in a computation in the next cell\n",
    "```"
   ]
  },
  {
   "cell_type": "markdown",
   "metadata": {},
   "source": [
    "```{admonition} Clicker question \"mosquitoes 2\" ([Click me!](https://go.uos.de/kjcBV))\n",
    "What will be the value of n_mosquitoes after executing this code after having run the first and second cells above?\n",
    "\n",
    "```python\n",
    "n_mosquitoes = n_tim_mosquitoes + 20\n",
    "print(n_mosquitoes)\n",
    "```\n",
    "```"
   ]
  },
  {
   "cell_type": "markdown",
   "metadata": {},
   "source": [
    "```{toggle}\n",
    "This will throw an error, as we cannot use a variable we have not defined before: Python does not know what `n_tim_mosquitoes` refers to!\n",
    "```"
   ]
  },
  {
   "cell_type": "markdown",
   "metadata": {},
   "source": [
    "The fact that we can re-use variables across cells allows us to successively build up our analysis code, cell by cell."
   ]
  },
  {
   "cell_type": "markdown",
   "metadata": {},
   "source": [
    "## Spike detection with python\n",
    "\n",
    "![](voltage_trace.png)\n",
    "\n",
    "- [x] Present data in code (individual voltage values, manipulate them and store the results) - variables\n",
    "- [ ] Compare variables (voltage to threshold) - boolean values\n",
    "- [ ] Perform different actions based on the value of a variable (only keep the position if the voltage exceeds the threshold) - if-else statements\n",
    "- [ ] Present and access data in a time series of voltage values - lists\n",
    "- [ ] Perform an action for each element in a sequence of values (inspect voltage values one-by-one) - for loops\n",
    "- [ ] Separate data and logic so we can use the same code for new recordings - functions\n",
    "- [ ] Apply this to multi data files\n",
    "- [ ] Plot and save the results\n"
   ]
  }
 ],
 "metadata": {
  "kernelspec": {
   "display_name": "neu715",
   "language": "python",
   "name": "python3"
  },
  "language_info": {
   "codemirror_mode": {
    "name": "ipython",
    "version": 3
   },
   "file_extension": ".py",
   "mimetype": "text/x-python",
   "name": "python",
   "nbconvert_exporter": "python",
   "pygments_lexer": "ipython3",
   "version": "3.12.5"
  }
 },
 "nbformat": 4,
 "nbformat_minor": 4
}
