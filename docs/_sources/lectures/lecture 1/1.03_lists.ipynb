{
 "cells": [
  {
   "cell_type": "markdown",
   "metadata": {},
   "source": [
    "# Lists\n",
    "## Spike detection with python\n",
    "\n",
    "![](voltage_trace.png)\n",
    "\n",
    "- [x] _Present data in code (individual voltage values, manipulate them and store the results) - variables_\n",
    "- [x] _Compare variables (voltage to threshold) - boolean values_\n",
    "- [x] _Perform different actions based on the value of a variable (only keep the position if the voltage exceeds the threshold) - if-else statements_\n",
    "- [ ] __Present and access data in a time series of voltage values - lists__\n",
    "- [ ] Perform an action for each element in a sequence of values (inspect voltage values one-by-one) - for loops\n",
    "- [ ] Separate data and logic so we can use the same code for new recordings - functions\n",
    "- [ ] Apply this to multi data files\n",
    "- [ ] Plot and save the results\n",
    "\n",
    "The core computation of the spike detection problem is solved!!\n",
    "\n",
    "Now we need to learn how to process a whole time series of voltage values! \n",
    "We could print the numbers from the text file to paper, read them, and then manually enter different values of the `voltage` variable. But this would be tedious.\n",
    "\n",
    "So far all variables hold single values - numbers or strings.\n",
    "How do we present sequences of numbers? And how do we work through a sequence and apply the spike detection to each individual value in the sequence? This is were _lists_ and _loops_ come into play..."
   ]
  },
  {
   "cell_type": "markdown",
   "metadata": {},
   "source": [
    "## Present and access data in a time series - lists\n",
    "### Making lists\n",
    "Lists hold an ordered sequence of values. The individual elements of a list are called _items_.\n",
    "\n",
    "Lists are constructed by enclosing a comma-separated sequence of items - values or variable names - with square brackets:\n",
    "```python\n",
    "my_list = [item1, item2, item3]\n",
    "```"
   ]
  },
  {
   "cell_type": "code",
   "execution_count": 1,
   "metadata": {},
   "outputs": [
    {
     "name": "stdout",
     "output_type": "stream",
     "text": [
      "[-10, -12, -23, -45, 10, -12, -23]\n"
     ]
    }
   ],
   "source": [
    "a = [-10, -12, -23, -45, 10, -12, -23]\n",
    "print(a)"
   ]
  },
  {
   "cell_type": "markdown",
   "metadata": {},
   "source": [
    "You can store, or \"collect\", multiple variables in a list.\n",
    "Do you understand what is happening here?"
   ]
  },
  {
   "cell_type": "code",
   "execution_count": 2,
   "metadata": {},
   "outputs": [
    {
     "name": "stdout",
     "output_type": "stream",
     "text": [
      "[10, -1000, 20]\n"
     ]
    }
   ],
   "source": [
    "x = 10\n",
    "y = 20\n",
    "outlier = -1_000\n",
    "\n",
    "b = [x, outlier, y]\n",
    "print(b)"
   ]
  },
  {
   "cell_type": "markdown",
   "metadata": {},
   "source": [
    "You can mix variables of different types, like numbers and text, in the same list:"
   ]
  },
  {
   "cell_type": "code",
   "execution_count": 3,
   "metadata": {},
   "outputs": [
    {
     "name": "stdout",
     "output_type": "stream",
     "text": [
      "[1, 2, 3.14, 'pi']\n"
     ]
    }
   ],
   "source": [
    "b = [1, 2, 3.14, 'pi']\n",
    "print(b)"
   ]
  },
  {
   "cell_type": "markdown",
   "metadata": {},
   "source": [
    "Lists can even contain other lists as items - this will results in a list of lists, or a so-called _nested list_:"
   ]
  },
  {
   "cell_type": "code",
   "execution_count": 4,
   "metadata": {},
   "outputs": [
    {
     "name": "stdout",
     "output_type": "stream",
     "text": [
      "elements: ['zinc', 'gold', 'radium']\n",
      "atomic numbers: [30, 79, 88]\n",
      "nested_list: [['zinc', 'gold', 'radium'], [30, 79, 88]]\n"
     ]
    }
   ],
   "source": [
    "elements = ['zinc', 'gold', 'radium']\n",
    "atomic_numbers = [30,79,88]\n",
    "nested_list = [elements, atomic_numbers]\n",
    "print('elements:', nested_list[0])\n",
    "print('atomic numbers:', nested_list[1])\n",
    "print('nested_list:', nested_list)"
   ]
  },
  {
   "cell_type": "markdown",
   "metadata": {},
   "source": [
    "You can create empty lists (for adding items to it later) in two ways:"
   ]
  },
  {
   "cell_type": "code",
   "execution_count": 5,
   "metadata": {},
   "outputs": [],
   "source": [
    "c = []\n",
    "d = list()"
   ]
  },
  {
   "cell_type": "markdown",
   "metadata": {},
   "source": [
    "### Accessing individual elements of a list\n",
    "You can access the values of different elements of the list by enclosing an integer \"index\", which is the position of a list element, in square brackets following the name of the list variable.\n",
    "\n",
    "The index (position) of the first element is `0`, not `1`!"
   ]
  },
  {
   "cell_type": "code",
   "execution_count": 6,
   "metadata": {},
   "outputs": [
    {
     "name": "stdout",
     "output_type": "stream",
     "text": [
      "the full list: [-10, -12, -23, -45, 10, -12, -23]\n",
      "the first element (index 0): -10\n",
      "the second element (index 1): -12\n",
      "the fifth element (index 5): 10\n",
      "the last element (index -1): -23\n"
     ]
    }
   ],
   "source": [
    "a = [-10, -12, -23, -45, 10, -12, -23]\n",
    "print('the full list:', a)\n",
    "print('the first element (index 0):', a[0])\n",
    "print('the second element (index 1):', a[1])\n",
    "print('the fifth element (index 5):', a[4])\n",
    "print('the last element (index -1):', a[-1])"
   ]
  },
  {
   "cell_type": "markdown",
   "metadata": {},
   "source": [
    "Note: The index must be a positive or negative integer value! Indexing with a float throws an error:"
   ]
  },
  {
   "cell_type": "code",
   "execution_count": 7,
   "metadata": {},
   "outputs": [
    {
     "ename": "TypeError",
     "evalue": "list indices must be integers or slices, not float",
     "output_type": "error",
     "traceback": [
      "\u001b[0;31m---------------------------------------------------------------------------\u001b[0m",
      "\u001b[0;31mTypeError\u001b[0m                                 Traceback (most recent call last)",
      "Cell \u001b[0;32mIn[7], line 2\u001b[0m\n\u001b[1;32m      1\u001b[0m a \u001b[38;5;241m=\u001b[39m [\u001b[38;5;241m1235\u001b[39m, \u001b[38;5;241m31354\u001b[39m, \u001b[38;5;241m235\u001b[39m]\n\u001b[0;32m----> 2\u001b[0m \u001b[43ma\u001b[49m\u001b[43m[\u001b[49m\u001b[38;5;241;43m1.0\u001b[39;49m\u001b[43m]\u001b[49m\n",
      "\u001b[0;31mTypeError\u001b[0m: list indices must be integers or slices, not float"
     ]
    }
   ],
   "source": [
    "a = [1235, 31354, 235]\n",
    "a[1.0]"
   ]
  },
  {
   "cell_type": "markdown",
   "metadata": {},
   "source": [
    "### Index arithmetic\n",
    "We can use variables for indexing!! This allows us to perform computations on indices.\n",
    "\n",
    "For instance, given an index, we can get the list preceeding or the following item:"
   ]
  },
  {
   "cell_type": "code",
   "execution_count": 12,
   "metadata": {},
   "outputs": [
    {
     "name": "stdout",
     "output_type": "stream",
     "text": [
      "Value at index 4 1234\n",
      "Value following index 4 14456\n",
      "Value preceeding index 4 424\n"
     ]
    }
   ],
   "source": [
    "a = [1, 12, 235, 424, 1234, 14456]\n",
    "idx = 4\n",
    "print('Value at index', idx, a[idx])\n",
    "print('Value following index', idx, a[idx+1])\n",
    "print('Value preceeding index', idx, a[idx-1])"
   ]
  },
  {
   "cell_type": "markdown",
   "metadata": {},
   "source": [
    "### Accessing parts of a list - slice indexing\n",
    "General form `list[start_index:stop_index:step]`.\n",
    "\n",
    "You can omit `start_index`, `stop_index`, or `step` and python will fill in default values:\n",
    "- default for `start_index` is 0 (first index)\n",
    "- default for `stop_index` is the last element.\n",
    "- default for `step` is 1 (get every element)\n",
    "\n",
    "Important: When specifying `stop_index` the element at the `stop_index` itself is not included."
   ]
  },
  {
   "cell_type": "code",
   "execution_count": 10,
   "metadata": {},
   "outputs": [
    {
     "name": "stdout",
     "output_type": "stream",
     "text": [
      "[1, 12, 235, 424]\n",
      "[1234, 14456]\n",
      "[1, 235, 1234]\n",
      "[12, 424, 14456]\n",
      "[12, 424]\n",
      "[14456, 424, 12]\n"
     ]
    },
    {
     "data": {
      "text/plain": [
       "[1, 12, 235, 424, 1234, 14456]"
      ]
     },
     "execution_count": 10,
     "metadata": {},
     "output_type": "execute_result"
    }
   ],
   "source": [
    "a = [1, 12, 235, 424, 1234, 14456]\n",
    "print(a[:4])\n",
    "print(a[4:])\n",
    "print(a[::2])\n",
    "print(a[1::2])\n",
    "print(a[1:4:2])\n",
    "print(a[::-2])\n"
   ]
  },
  {
   "cell_type": "markdown",
   "metadata": {},
   "source": [
    "```{admonition} Clicker question \"lists indexing\"([Click me!](https://go.uos.de/0ypAi))\n",
    "Given the list `a = [10, 20, 30, 40, 50]`, \n",
    "Which of the following outputs is correct?\n",
    "```python\n",
    "a[0] -> 10\n",
    "a[-1] -> 40\n",
    "a[::2] -> [10, 20]\n",
    "a[3:] -> [30, 40, 50]\n",
    "b = 5; a[b-2] -> 40\n",
    "```\n",
    "```"
   ]
  },
  {
   "cell_type": "markdown",
   "metadata": {},
   "source": [
    "### Getting the number of elements in a list\n",
    "The `len` function gives us the number of elements in the list, its \"length\". You use the `len` function like the `print` function - you \"call\" it by it's name \"len\" followed by its \"argument\" in parentheses: `len(name_of_list_variable)`."
   ]
  },
  {
   "cell_type": "code",
   "execution_count": null,
   "metadata": {},
   "outputs": [
    {
     "name": "stdout",
     "output_type": "stream",
     "text": [
      "[-10, -12, -23, -45, 10, -12, -23]\n",
      "A has 7 elements.\n"
     ]
    }
   ],
   "source": [
    "a = [-10, -12, -23, -45, 10, -12, -23]\n",
    "print(a)\n",
    "print(\"A has\", len(a), \"elements.\")"
   ]
  },
  {
   "cell_type": "markdown",
   "metadata": {},
   "source": [
    "However, while the `print` function did not \"return\" a result - it simply printed the input - `len` does return a result - the number of elements in the list - and we can store this number in a new variable for further computations."
   ]
  },
  {
   "cell_type": "code",
   "execution_count": null,
   "metadata": {},
   "outputs": [
    {
     "name": "stdout",
     "output_type": "stream",
     "text": [
      "7\n"
     ]
    }
   ],
   "source": [
    "length_of_a = len(a)\n",
    "print(length_of_a)"
   ]
  },
  {
   "cell_type": "markdown",
   "metadata": {},
   "source": [
    "Knowing the most important stuff about lists, we can now present the time series of voltage values as a list, and access individual elements:"
   ]
  },
  {
   "cell_type": "code",
   "execution_count": null,
   "metadata": {},
   "outputs": [
    {
     "name": "stdout",
     "output_type": "stream",
     "text": [
      "1000\n",
      "-51.26\n"
     ]
    }
   ],
   "source": [
    "voltage_trace = [\n",
    "    -42.11, -55.63, -59.04, -78.63, -62.77, -63.55, -60.83, -66.27, -60.44, -64.77, -73.14, -51.15, -51.19, -42.90, -59.50, -64.05, -65.45, -75.46, -50.18, -71.01, -71.85, -62.06, -45.14, -57.63, -70.24, -67.13, -53.75, -61.61, -67.69, -62.30, -52.55, -40.24, -72.44, -66.26, -68.04, 15.81, -69.24, -70.24, -48.76, -61.32, -76.23, -53.53, -63.56, 22.57, -65.97, -65.89, -68.74, -59.70, -82.48, -62.68, -49.87, -51.47, -48.92, -48.81, -45.12, -71.18, -51.54, -78.61, -66.03, -79.14, -49.52, -46.66, -61.97, -42.25, -66.75, 41.51, -58.47, -70.64, -55.62, -40.61, -70.25, -51.01, -61.55, -42.30, -55.16, -53.24, -53.57, -57.51, -73.96, -46.08, -73.71, -57.61, -53.86, -68.38, -58.55, -48.32, -60.24, -68.89, -89.16, -69.72, -65.91, -65.16, -69.60, 43.77, -65.75, -61.09, 46.79, -68.55, -63.00, -38.42, -51.26, -72.94, -60.80, -54.36, -47.67, -58.51, -65.31, -67.31, -53.55, -56.87, -65.17, -61.89, -64.16, -52.75, -66.90, -55.14, -51.48, -55.14, -68.34, -46.55, -66.78, -55.74, -67.53, -77.44, -57.74, -57.13, -60.77, 42.76, -66.48, -67.37, -61.68, -40.91, -51.85, -65.20, -54.41, -64.78, -64.57, -51.41, -65.25, -76.76, 30.94, -59.12, -58.72, -47.58, -67.16, -52.69, -55.74, -61.49, -51.64, 44.92, -68.62, -49.28, -72.21, -59.40, -59.98, -55.75, -67.25, -60.35, -61.41, -50.03, -67.96, -59.27, -62.61, -72.98, -33.24, -60.71, -74.87, -45.91, -70.71, -56.29, -51.37, -66.48, -64.31, -65.40, -61.29, -76.22, -72.36, -61.41, -49.61, -53.68, 57.29, -53.06, -65.11, -61.23, -80.30, -69.61, -70.20, -57.29, -53.52, -65.60, -65.89, -75.47, -61.28, -57.52, 44.46, -67.83, -40.12, -48.05, -60.95, -65.27, -63.22, -58.49, -60.19, -55.16, 47.69, -46.34, -48.53, -61.10, -56.12, -63.87, -65.87, -40.89, -64.60, -40.09, -63.49, -57.47, -49.11, -59.76, -56.07, -62.41, -64.76, -61.66, -66.50, -43.69, -61.68, -42.77, -86.85, -59.82, -54.38, -62.94, -49.05, -53.60, -62.75, -55.65, -31.88, -57.48, -57.00, -64.40, -58.67, -72.89, -61.98, -35.42, -49.33, -53.59, -48.96, -41.18, -54.06, -39.29, -49.30, -58.33, -42.81, -83.59, -65.71, 42.66, -69.12, -61.56, -66.39, -66.54, -32.88, -53.73, -60.54, 53.15, -62.37, -51.15, 43.51, -43.73, -74.20, -52.34, -58.78, -71.57, -49.35, -68.72, -43.81, -54.87, -53.05, 40.80, -50.95, -78.66, -59.25, -66.28, -57.17, -60.47, -53.83, -68.38, -41.61, -36.84, -62.08, -60.15, -57.12, -47.36, -41.03, -72.06, -66.15, -70.62, -71.13, -76.39, -56.37, -71.59, -44.97, -50.92, -70.30, -70.30, -66.12, -46.00, -68.50, -74.94, -60.49, -56.27, -66.57, -43.81, -57.60, -55.47, -68.56, -60.40, -61.57, -82.72, -57.12, 22.05, -60.29, -74.74, -39.80, -56.74, -51.39, -50.81, -73.24, -82.82, 36.70, -51.03, -59.09, -52.15, -50.63, -74.92, -57.12, -40.34, -65.71, -80.29, -62.32, -64.65, -55.82, -68.92, -59.09, -82.17, -51.46, -44.13, -47.02, -75.15, -56.81, -89.84, -57.17, -60.64, -69.96, -56.56, -58.62, -50.60, -58.73, -57.65, -79.45, -71.60, -64.76, -57.03, -60.06, -44.99, 31.30, -62.40, -57.45, -62.31, -55.04, -65.71, 54.20, -63.20, -48.84, -60.30, -45.08, -73.98, -54.83, -64.33, -57.69, -48.07, -71.39, -73.22, -69.98, -57.46, -78.87, 40.97, -72.86, -71.44, 36.31, -56.19, 33.74, -64.92, -60.42, -62.73, -86.77, -64.30, 40.85, -49.02, -39.54, 46.67, -59.21, -69.65, -59.11, -52.21, -47.35, -68.81, -57.64, -51.84, 58.61, -57.44, -65.42, -66.90, -63.57, -66.52, -51.73, -49.31, -52.75, -48.08, 35.46, -56.20, -63.85, 40.44, -47.75, -60.30, -78.65, -62.53, -67.13, -75.09, -67.90, 49.61, -43.19, -64.89, -49.97, 51.78, -71.60, -60.39, -60.44, -58.28, -75.94, -63.49, -49.42, -47.38, 58.31, -63.38, -41.30, -53.34, -73.59, -52.38, -63.52, -54.81, -61.03, 52.08, -57.43, -62.83, -50.35, -57.44, -64.13, -47.23, -64.08, -66.37, 34.60, -74.65, -65.53, -41.39, -69.08, -59.92, -71.08, 33.89, -44.81, -51.04, -66.10, -59.94, -68.26, -67.84, -69.15, -68.97, -56.74, 45.97, -55.12, 38.31, -73.58, -60.67, -69.24, -51.19, -54.44, 47.47, -63.48, -78.11, -50.42, -47.74, -74.83, -58.62, -48.07, -70.76, -42.32, -63.49, -70.75, -46.28, 42.95, -66.53, -51.20, -79.56, -41.85, -68.16, -57.14, -63.99, -55.64, 48.88, -68.24, -52.14, -62.94, -66.88, -62.24, -70.05, -67.96, -50.51, -61.51, 51.42, -55.68, -70.26, -78.98, 33.13, -57.36, -59.91, -68.30, -49.87, -77.46, -72.59, -58.73, -38.06, -55.86, -70.05, -54.07, -53.17, -50.62, -64.10, -68.00, -58.82, -55.85, -44.02, -39.10, -67.33, -65.23, -60.64, -62.50, -55.14, -55.14, -57.42, 53.44, -61.59, -70.51, -75.61, 29.72, -70.44, -78.83, 46.63, -58.15, 35.77, -68.90, 24.19, -69.20, -41.52, -82.11, -58.58, -52.56, -58.64, -63.17, -52.32, -71.03, -54.44, 54.31, -70.41, -68.20, -58.64, -50.10, -46.61, -53.19, -66.70, -71.14, -57.57, -56.02, -71.01, -59.40, -56.68, -49.55, -69.91, -54.43, -71.69, 35.73, -60.78, 55.18, -26.86, -57.46, -55.05, -49.92, -73.62, -52.34, 27.58, -43.71, -45.57, -54.98, 31.93, -43.32, -57.40, -58.90, -54.20, -77.12, -55.72, -50.04, -56.61, 41.45, -69.54, -53.56, -58.00, -59.91, -65.63, -51.44, -47.53, -56.12, -51.03, -46.74, -44.12, 42.26, -62.13, -64.15, 40.14, -54.48, -50.62, -64.27, 41.50, -69.97, -47.36, -63.91, -56.42, -67.19, -62.98, -66.86, -42.95, -56.41, -61.66, -69.48, -66.10, -54.31, 56.66, -74.31, -69.17, -61.76, 33.72, -76.59, 40.19, -52.49, -75.77, -57.89, -50.35, -50.20, 35.80, -36.95, -54.45, -68.11, -50.16, -71.23, -51.05, -72.62, -52.09, -65.84, -48.68, -52.59, -55.53, -59.41, -49.13, -78.03, -55.67, -55.87, -54.38, -51.74, -22.98, -58.83, -51.96, -58.48, -44.27, -80.21, -43.02, 33.16, -82.62, -70.78, -61.75, -58.06, -60.46, -51.83, -60.35, -60.63, -81.44, -55.13, -49.90, -64.21, -78.77, -73.37, -43.26, -66.06, -66.65, -68.19, -53.19, -65.88, -68.69, -75.06, -61.08, -49.99, -61.48, -51.18, -58.25, -58.52, -58.21, -59.66, -49.74, -55.12, -65.78, -58.71, -60.76, -55.15, -58.20, -55.85, -74.77, -56.20, -46.86, -73.50, -43.99, -57.03, -62.08, -78.04, -49.12, -69.70, -65.11, -54.54, -70.26, -69.87, -71.51, -61.11, -54.11, -55.97, -55.93, -63.44, -58.60, -66.90, -40.02, -58.05, -79.55, -70.69, -43.99, -73.66, -64.38, -55.96, -70.97, -49.33, -43.21, -68.25, -48.71, -68.91, -69.98, -57.54, -57.62, -65.96, -51.58, -74.69, -68.56, -70.78, -52.42, -51.96, -53.33, -72.96, -58.67, -55.42, -76.17, 31.78, -53.54, -52.96, -57.45, -54.58, -56.76, -58.50, -61.09, -68.71, -62.46, -64.03, -36.82, -57.40, -60.11, -62.32, -61.15, -62.72, -54.55, -60.29, -51.89, -66.95, -56.50, -51.23, -71.54, -58.32, -57.53, -63.35, -64.87, -78.55, -48.51, -69.33, -72.40, -53.42, -78.32, -50.37, -55.66, -54.02, -61.64, -72.17, -78.89, -45.43, -64.72, -65.17, -44.18, -66.31, -62.38, -62.37, -61.37, -70.39, -65.60, -47.15, -52.39, -89.77, -79.59, -56.66, -61.13, -63.75, -49.57, -77.84, -48.00, -58.68, -54.52, -57.47, -51.54, -62.50, -65.42, -52.18, -58.25, -72.54, -46.50, -47.89, -45.59, -59.20, -56.49, -63.82, -69.73, -59.35, -58.23, -66.63, -41.70, -76.16, -68.15, -66.71, -47.09, -62.57, -63.25, -68.85, -67.64, -73.05, -49.84, -53.91, -50.10, -66.62, -34.88, -69.81, -80.54, -62.92, -58.63, 47.56, -70.17, -54.09, -42.92, -68.52, -67.40, -77.03, -57.59, -51.43, -52.33, -51.66, -45.84, -58.73, -50.47, -69.52, -67.91, -57.59, -68.18, -54.28, -46.25, -55.96, -67.37, -67.48, -46.35, -67.98, -59.11, -62.59, -59.47, -49.04, -65.39, -74.10, -45.48, -57.77, -52.74, -60.19, -52.22, -47.35, -46.34, -62.73, -63.52, -56.05, -57.93, -54.34, -67.11, -83.25, -55.50, -52.19, -53.57, -43.41, -51.48, -63.88, -50.15, -60.85, -47.45, -57.62, -55.46, -57.72, -59.45, -74.97, -59.42, -82.73, -55.02, -50.08, -39.49, -56.26, -67.16, -75.90, -40.52, -74.26, -51.04, -83.06, -60.51, -53.17, -56.75, -60.42, -68.25, -69.07, -49.91, -55.64, -61.61, -57.93, -69.27, -49.78, -47.39, -67.80, -58.98, -49.52, -66.42, -39.65, -44.89, -62.79, -50.21, -43.38, -72.44, -53.81, -61.44, -62.17, -52.90, -64.77, -74.00, -74.22, -60.20, -53.71, -60.24, -61.53, -60.31, -47.11, -54.70, -67.46, -62.89, -47.95, -65.80, -63.95, -60.25, -70.65, -50.98, -81.89, -45.49, -64.35, -72.57, -57.18, -77.11, -54.63, -52.26, -65.76, -63.89, -50.51, -66.71, -59.77, -56.52, -44.40, -65.03,\n",
    "]\n",
    "print(len(voltage_trace))\n",
    "print(voltage_trace[100])"
   ]
  },
  {
   "cell_type": "markdown",
   "metadata": {},
   "source": [
    "### List manipulations\n",
    "\n",
    "#### Adding elements to a list\n",
    "To build up a list of spike times, we need to be able to add elements to a list as they are computed.\n",
    "\n",
    "This is done using the `append` method. This will add the argument to the _end of the list_. \n",
    "\n",
    "The `append` method is like a function. But while functions (`print`, `len`) are independent bocks of code, methods are attached to a variable. \n",
    "\n",
    "The `append` method is attached to each list variable with a `.` - it is a method of all lists - and is used like so: `name_of_list_variable.append(new_element)`.\n",
    "\n",
    "Below, we will see that there are other list methods, like `extend` or `remove`."
   ]
  },
  {
   "cell_type": "code",
   "execution_count": null,
   "metadata": {},
   "outputs": [
    {
     "name": "stdout",
     "output_type": "stream",
     "text": [
      "[]\n",
      "[10.3]\n",
      "[10.3, 50.3]\n"
     ]
    }
   ],
   "source": [
    "spike_times = []  # intialize an empty list\n",
    "print(spike_times)\n",
    "time_of_first_spike = 10.3\n",
    "spike_times.append(time_of_first_spike)\n",
    "print(spike_times)\n",
    "time_of_second_spike = 50.3\n",
    "spike_times.append(time_of_second_spike)\n",
    "print(spike_times)"
   ]
  },
  {
   "cell_type": "markdown",
   "metadata": {},
   "source": [
    "__Side note:__ Adding multiple elements to a list"
   ]
  },
  {
   "cell_type": "code",
   "execution_count": null,
   "metadata": {},
   "outputs": [
    {
     "name": "stdout",
     "output_type": "stream",
     "text": [
      "['a', 'b']\n",
      "['a', 'b', [1, 2, 3]]\n",
      "['a', 'b', [1, 2, 3], 5, 6, 7]\n"
     ]
    }
   ],
   "source": [
    "# `append` will append the list [1,2,3] as a a single element to the original list and create a nested list\n",
    "my_list = ['a','b']\n",
    "print(my_list)\n",
    "my_list.append([1, 2, 3])\n",
    "print(my_list)\n",
    "\n",
    "# `extend` will add the elements in the argument as individual elements of the list:\n",
    "my_list.extend([5, 6, 7])\n",
    "print(my_list)"
   ]
  },
  {
   "cell_type": "markdown",
   "metadata": {},
   "source": [
    "#### Deleting list elements\n",
    "We can remove elements using the `del` function followed by the list element we want to delete:"
   ]
  },
  {
   "cell_type": "code",
   "execution_count": null,
   "metadata": {},
   "outputs": [
    {
     "name": "stdout",
     "output_type": "stream",
     "text": [
      "[10, 20, 30, 40]\n",
      "[10, 30, 40]\n"
     ]
    }
   ],
   "source": [
    "my_list = [10, 20, 30, 40]\n",
    "print(my_list)\n",
    "del(my_list[1])\n",
    "print(my_list)"
   ]
  },
  {
   "cell_type": "markdown",
   "metadata": {},
   "source": [
    "We can also delete list elements by specifying their value:"
   ]
  },
  {
   "cell_type": "code",
   "execution_count": null,
   "metadata": {},
   "outputs": [
    {
     "name": "stdout",
     "output_type": "stream",
     "text": [
      "before: [10, 20, 30, 20, 40]\n",
      "after: [10, 30, 20, 40]\n"
     ]
    }
   ],
   "source": [
    "my_list = [10, 20, 30, 20, 40]\n",
    "print('before:', my_list)\n",
    "my_list.remove(20)\n",
    "print('after:', my_list)"
   ]
  },
  {
   "cell_type": "markdown",
   "metadata": {},
   "source": [
    "```{admonition} Clicker question \"lists manipulations 1\"([Click me!](https://go.uos.de/0ypAi))\n",
    "What is the length of the list names at the end of this code?\n",
    "```python\n",
    "names = ['Toby', 'Goby', 'Moby']\n",
    "names.append('Roby')\n",
    "del(names[1])\n",
    "```\n",
    "```"
   ]
  },
  {
   "cell_type": "markdown",
   "metadata": {},
   "source": [
    "```{admonition} Clicker question \"lists manipulations 2\"([Click me!](https://go.uos.de/0ypAi))\n",
    "What will be printed at the end of this code?\n",
    "```python\n",
    "names = ['Toby', 'Goby', 'Moby']\n",
    "names.append('Roby')\n",
    "del(names[1])\n",
    "\n",
    "print(names[1])\n",
    "```\n",
    "```"
   ]
  },
  {
   "cell_type": "markdown",
   "metadata": {},
   "source": [
    "#### Bonus: More useful functions for lists\n",
    "https://docs.python.org/3/tutorial/datastructures.html\n",
    "\n",
    "```python\n",
    "pop(index)  # return and remove indexed or if arg is omitted, the last element\n",
    "append(value)  # add single value to list\n",
    "extend([val1, val2])  # add elements of a list as individual elements to a list\n",
    "insert(index, value)  # insert value at index\n",
    "remove(value)  # remove item by value\n",
    "del(list[index])  # remove item by index\n",
    "index(value)  # get first index of value\n",
    "sort(list, reverse=False)  # sort the list in-place - returns None\n",
    "sorted(list)  # return sorted copy of the list without changing the original one\n",
    "value in list  # value if item is in list\n",
    "```"
   ]
  },
  {
   "cell_type": "markdown",
   "metadata": {},
   "source": [
    "## Spike detection with python\n",
    "\n",
    "![](voltage_trace.png)\n",
    "\n",
    "- [x] _Present data in code (individual voltage values, manipulate them and store the results) - variables_\n",
    "- [x] _Compare variables (voltage to threshold) - boolean values_\n",
    "- [x] _Perform different actions based on the value of a variable (only keep the position if the voltage exceeds the threshold) - if-else statements_\n",
    "- [x] _Present and access data in a time series of voltage values - lists_\n",
    "- [ ] Perform an action for each element in a sequence of values (inspect voltage values one-by-one) - for loops\n",
    "- [ ] Separate data and logic so we can use the same code for new recordings - functions\n",
    "- [ ] Apply this to multi data files\n",
    "- [ ] Plot and save the results\n"
   ]
  },
  {
   "cell_type": "markdown",
   "metadata": {},
   "source": []
  }
 ],
 "metadata": {
  "kernelspec": {
   "display_name": "neu715",
   "language": "python",
   "name": "python3"
  },
  "language_info": {
   "codemirror_mode": {
    "name": "ipython",
    "version": 3
   },
   "file_extension": ".py",
   "mimetype": "text/x-python",
   "name": "python",
   "nbconvert_exporter": "python",
   "pygments_lexer": "ipython3",
   "version": "3.12.7"
  }
 },
 "nbformat": 4,
 "nbformat_minor": 4
}
