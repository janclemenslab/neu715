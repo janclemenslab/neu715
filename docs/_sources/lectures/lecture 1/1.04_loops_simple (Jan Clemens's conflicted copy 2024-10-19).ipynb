{
 "cells": [
  {
   "cell_type": "markdown",
   "metadata": {},
   "source": [
    "# Loops\n",
    "## Spike detection with python\n",
    "\n",
    "![](voltage_trace.png)\n",
    "\n",
    "- [x] _Present data in code (individual voltage values, manipulate them and store the results) - variables_\n",
    "- [x] _Compare variables (voltage to threshold) - boolean values_\n",
    "- [x] _Perform different actions based on the value of a variable (only keep the position if the voltage exceeds the threshold) - if-else statements_\n",
    "- [x] _Present and access data in a time series of voltage values - lists_\n",
    "- [ ] __Perform an action for each element in a sequence of values (inspect voltage values one-by-one) - for loops__\n",
    "- [ ] Separate data and logic so we can use the same code for new recordings - functions\n",
    "- [ ] Apply this to multi data files\n",
    "- [ ] Plot and save the results\n"
   ]
  },
  {
   "cell_type": "markdown",
   "metadata": {},
   "source": [
    "## Warm-up\n",
    "To warm up, let's do a little exercise.\n",
    "\n",
    "Here is a list: `my_list = [10, 20, 30, 40]`\n",
    "\n",
    "Write code that divides each value in this list by 2 and prints the computed value."
   ]
  },
  {
   "cell_type": "code",
   "execution_count": 1,
   "metadata": {},
   "outputs": [],
   "source": [
    "my_list = [10, 20, 30, 40]\n",
    "# your solution here"
   ]
  },
  {
   "cell_type": "markdown",
   "metadata": {},
   "source": [
    "## \"For\" loops\n",
    "Okay, lists are great - they can hold many values, we can access these values via indices, and we can check whether these values correspond to spikes. \n",
    "\n",
    "How do we apply our logic to all values in the list automatically?\n",
    "\n",
    "Using a \"for\" loop:\n",
    "```\n",
    "for item in list:\n",
    "    indented block\n",
    "```\n",
    "The for loop automatically goes over elements of a list and allows us to apply the same computation to every element, like printing it:"
   ]
  },
  {
   "cell_type": "code",
   "execution_count": 2,
   "metadata": {},
   "outputs": [
    {
     "name": "stdout",
     "output_type": "stream",
     "text": [
      "inside the loop: 10 5.0\n",
      "inside the loop: 20 10.0\n",
      "inside the loop: 30 15.0\n",
      "inside the loop: 40 20.0\n",
      "outside of the loop 40 20.0\n"
     ]
    }
   ],
   "source": [
    "my_list = [10, 20, 30, 40]\n",
    "\n",
    "for number in my_list:\n",
    "    half = number / 2\n",
    "    print(\"inside the loop:\", number,half)\n",
    "\n",
    "print(\"outside of the loop\", number,half)"
   ]
  },
  {
   "cell_type": "markdown",
   "metadata": {},
   "source": [
    "\"Going over a list\" or \"looping over list\" is also often called \"iterating\".\n",
    "\n",
    "What's going on here?\n",
    "\n",
    "- we define a variable called `my_list` as a list of 4 numbers: 10, 20, 30, and 40\n",
    "- `for number in my_list` does the following:\n",
    "    - it creates a variable called `number` (the loop variable). the loop variable can have any name.\n",
    "    - the for loop goes through the list, element by element and in each step (\"for each element\") it does the following:\n",
    "        - set the value of the `number` variable to the current element\n",
    "        - execute the indented block (in this case print the value of `number`)\n",
    "    - repeat this until the end of the list is reached\n",
    "\n",
    "We can \"unroll\" the for loop above - it corresponds to these individual steps of computation:\n",
    "```python\n",
    "my_list = [10, 20, 30, 40]\n",
    "\n",
    "number = my_list[0]\n",
    "print(number)\n",
    "number = my_list[1]\n",
    "print(number)\n",
    "number = my_list[2]\n",
    "print(number)\n",
    "number = my_list[3]\n",
    "print(number)\n",
    "```"
   ]
  },
  {
   "cell_type": "markdown",
   "metadata": {},
   "source": [
    "```{admonition} Clicker question \"for loops 1\"([Click me!](https://go.uos.de/kjcBV))\n",
    "What is the output of this code?\n",
    "```python\n",
    "my_list = [1,4,12]\n",
    "for number in my_list:\n",
    "    print(number - 1)\n",
    "```\n",
    "```"
   ]
  },
  {
   "cell_type": "markdown",
   "metadata": {},
   "source": [
    "### Bonus: Nested loops\n",
    "For loops can be nested - indentation matters:"
   ]
  },
  {
   "cell_type": "code",
   "execution_count": 3,
   "metadata": {},
   "outputs": [
    {
     "name": "stdout",
     "output_type": "stream",
     "text": [
      "outer 10\n",
      "   inner 10 A\n",
      "   inner 10 B\n",
      "   inner 10 C\n",
      "outer 20\n",
      "   inner 20 A\n",
      "   inner 20 B\n",
      "   inner 20 C\n",
      "outer 30\n",
      "   inner 30 A\n",
      "   inner 30 B\n",
      "   inner 30 C\n"
     ]
    }
   ],
   "source": [
    "for outer in [10, 20, 30]:\n",
    "    print('outer', outer)\n",
    "    for inner in ['A', 'B', 'C']:\n",
    "        print('   inner', outer, inner)"
   ]
  },
  {
   "cell_type": "markdown",
   "metadata": {},
   "source": [
    "Sidenote: Because `for` and `in` are reserved words to run for loops, they are not valid variable names. Trying to create variables with those names, like `for = 10` or `in = \"yes\"`, will produce an error!!"
   ]
  },
  {
   "cell_type": "markdown",
   "metadata": {},
   "source": [
    "## Common code patterns\n",
    "### Building lists\n",
    "So far we were able to manipulate list elements and print the result, but we did not have a way of saving the manipulated elements. You can do that by appending the results to a new list in the for loop:"
   ]
  },
  {
   "cell_type": "code",
   "execution_count": 4,
   "metadata": {},
   "outputs": [
    {
     "name": "stdout",
     "output_type": "stream",
     "text": [
      "data: [10, 20, 30]\n",
      "results: [1.0, 2.0, 3.0]\n"
     ]
    }
   ],
   "source": [
    "# Goal: divide by ten each element in the list \"data\", collect the results in a new list \"new_data\"\n",
    "data = [10, 20, 30]\n",
    "print('data:', data)\n",
    "\n",
    "# create an empty list that we will append the results to\n",
    "new_data = []\n",
    "\n",
    "# loop over all elements in data\n",
    "for item in data:\n",
    "    result = item / 10  # divide each list element by 10\n",
    "    new_data.append(result)  # append the result to the `new_data` list\n",
    "\n",
    "print('results:', new_data)"
   ]
  },
  {
   "cell_type": "markdown",
   "metadata": {},
   "source": [
    "__Important:__ `append` modifies the list in-place, it does not return a new list. This _DOES NOT WORK_: ` a = b.append(c)`"
   ]
  },
  {
   "cell_type": "markdown",
   "metadata": {},
   "source": [
    "### Filtering lists\n",
    "Append the results to a new list using a for loop _if they match a criterion_:"
   ]
  },
  {
   "cell_type": "code",
   "execution_count": 6,
   "metadata": {},
   "outputs": [
    {
     "name": "stdout",
     "output_type": "stream",
     "text": [
      "numbers: [1, 15, 3, 2, 11, 7, 20]\n",
      "[1, 3, 2, 7]\n"
     ]
    }
   ],
   "source": [
    "numbers = [1, 15, 3, 2, 11, 7, 20]\n",
    "print('numbers:', numbers)\n",
    "\n",
    "# create an empty list that we will append the results to\n",
    "results = []\n",
    "\n",
    "# loop over all elements in numbers\n",
    "for number in numbers:\n",
    "    if number < 10:  # if the current number is <10\n",
    "        results.append(number)  # add the number to our results list\n",
    "print(results)"
   ]
  },
  {
   "cell_type": "markdown",
   "metadata": {},
   "source": [
    "```{admonition} Clicker question \"for append\"([Click me!](https://go.uos.de/kjcBV))\n",
    "What is the content of big_numbers at the end of this code?\n",
    "```python\n",
    "all_numbers = [1,12,4,19,28]\n",
    "big_numbers = []\n",
    "\n",
    "for number in my_list:\n",
    "    if number > 10:\n",
    "        big_numbers.append(number)\n",
    "print(big_numbers)\n",
    "```\n",
    "```"
   ]
  },
  {
   "cell_type": "markdown",
   "metadata": {},
   "source": [
    "## Different ways of looping over lists\n",
    "### Directly over the elements (preferred)\n",
    "So far, we have looped directly over list elements:"
   ]
  },
  {
   "cell_type": "code",
   "execution_count": 3,
   "metadata": {},
   "outputs": [
    {
     "name": "stdout",
     "output_type": "stream",
     "text": [
      "Tom\n",
      "Yolanda\n",
      "Estelle\n"
     ]
    }
   ],
   "source": [
    "names = ['Tom', 'Yolanda', 'Estelle']\n",
    "for name in names:  # loop directly over the names\n",
    "    print(name)"
   ]
  },
  {
   "cell_type": "markdown",
   "metadata": {},
   "source": [
    "### Using indices (but you really should loop directly)\n",
    "We can also generate a list of indices and use the indices to get the individual list elements:"
   ]
  },
  {
   "cell_type": "code",
   "execution_count": 4,
   "metadata": {},
   "outputs": [
    {
     "name": "stdout",
     "output_type": "stream",
     "text": [
      "0 Tom\n",
      "1 Yolanda\n",
      "2 Estelle\n"
     ]
    }
   ],
   "source": [
    "names = ['Tom', 'Yolanda', 'Estelle']\n",
    "indices = [0, 1, 2]\n",
    "for index in indices:  # loop over the indices\n",
    "    name = names[index]  # get the current name using the index\n",
    "    print(index, name)"
   ]
  },
  {
   "cell_type": "markdown",
   "metadata": {},
   "source": [
    "Python has a special `range` function, that makes it easy to generate lists of indices.\n",
    "\n",
    "The range function generates a sequence of integer numbers with specified start, stop (non-inclusive), and step (interval) value:\n",
    "```\n",
    "range(start, stop, step)\n",
    "```\n",
    "\n",
    "There are short cuts with implicit start=0 and step=1 values (similar to how slices work):\n",
    "```\n",
    "range(start, stop)  # integers from start to stop, in steps of 1\n",
    "range(stop)  # integers from 0 to stop, in steps of 1\n",
    "``````\n",
    "\n",
    "Note, that range does not return a list of indices but a special `range` object that generates the index as requested. That way we can have ranges that do not fit in memory, e.g. `range(1000000000000000)`. Ranges are used in for loops. We can turn a range into list to learn how the work:"
   ]
  },
  {
   "cell_type": "code",
   "execution_count": 5,
   "metadata": {},
   "outputs": [
    {
     "name": "stdout",
     "output_type": "stream",
     "text": [
      "range(0, 10) <class 'range'>\n",
      "[0, 1, 2, 3, 4, 5, 6, 7, 8, 9]\n",
      "[0, 1, 2, 3, 4, 5, 6, 7, 8, 9]\n",
      "[5, 6, 7, 8, 9]\n",
      "[5, 7, 9]\n"
     ]
    }
   ],
   "source": [
    "a = [1, 2, 3]\n",
    "a[:2]\n",
    "\n",
    "r = range(10)\n",
    "print(r, type(r))\n",
    "print(list(r))  # to inspect the range, we can cast it to a list. Note that the stop value (10) is not included (just like in slices)\n",
    "print(list(range(0, 10, 1)))  # equivalent to range(10), the rest (start=0, step=1) is implicit\n",
    "\n",
    "print(list(range(5, 10)))  # specify only start and stop, step=1 is implicit\n",
    "print(list(range(5, 10, 2)))"
   ]
  },
  {
   "cell_type": "markdown",
   "metadata": {},
   "source": [
    "```{admonition} Clicker question \"range 1\"([Click me!](https://go.uos.de/kjcBV))\n",
    "What list does `list(range(3))` generate?\n",
    "```"
   ]
  },
  {
   "cell_type": "markdown",
   "metadata": {},
   "source": [
    "```{admonition} Clicker question \"range 2\"([Click me!](https://go.uos.de/kjcBV))\n",
    "Which range statement can be used to create the list `[1, 3, 5]`?\n",
    "```"
   ]
  },
  {
   "cell_type": "markdown",
   "metadata": {},
   "source": [
    "To generate a `range` for looping over a list, we combine `range` with `len`. This will generate a `range` with the same length as the list, so that we have one index for each list element:"
   ]
  },
  {
   "cell_type": "code",
   "execution_count": 8,
   "metadata": {},
   "outputs": [
    {
     "name": "stdout",
     "output_type": "stream",
     "text": [
      "0 Tom\n",
      "1 Yolanda\n",
      "2 Estelle\n"
     ]
    }
   ],
   "source": [
    "names = ['Tom', 'Yolanda', 'Estelle']\n",
    "for index in range(len(names)):\n",
    "    name = names[index]\n",
    "    print(index, name)"
   ]
  },
  {
   "cell_type": "markdown",
   "metadata": {},
   "source": [
    "This is useful if we want to do something with the index, for instance, remember the position of elements matching a condition:"
   ]
  },
  {
   "cell_type": "code",
   "execution_count": 9,
   "metadata": {},
   "outputs": [
    {
     "name": "stdout",
     "output_type": "stream",
     "text": [
      "The voltage exceeds 4 at these indices: [2, 5]\n"
     ]
    }
   ],
   "source": [
    "voltages = [1, 1, 10, 1, 1, 10, 1]\n",
    "\n",
    "indices_of_the_voltage_peaks = []\n",
    "\n",
    "for index in range(len(voltages)):\n",
    "    voltage = voltages[index]\n",
    "    if voltage > 4:\n",
    "        indices_of_the_voltage_peaks.append(index)\n",
    "\n",
    "print('The voltage exceeds 4 at these indices:', indices_of_the_voltage_peaks)"
   ]
  },
  {
   "cell_type": "markdown",
   "metadata": {},
   "source": [
    "## While loops\n",
    "For loops are great if you have a pre-specified list of items and you want to do something with each item. Or if you have a computation and want to run it a fixed amount of times. However, sometimes you do not know beforehand how often you need to run a computation or you have an unspecified amount of items you need to work through. \n",
    "\n",
    "So-called _while loops_ allow you to apply a computation as long as a specified condition is met. While loops have the following form:\n",
    "```python\n",
    "while CONDITION:\n",
    "    do something\n",
    "```\n",
    "\n",
    "For instance, we can use a while loop to count down to zero:"
   ]
  },
  {
   "cell_type": "code",
   "execution_count": 10,
   "metadata": {},
   "outputs": [
    {
     "name": "stdout",
     "output_type": "stream",
     "text": [
      "10\n",
      "9\n",
      "8\n",
      "7\n",
      "6\n",
      "5\n",
      "4\n",
      "3\n",
      "2\n",
      "1\n",
      "0\n"
     ]
    }
   ],
   "source": [
    "count = 10  # need to define the variable beforehand\n",
    "\n",
    "while count > 0:  # apply the operation in the indented block as long as the value of `count` is greater than 0\n",
    "    print(count)\n",
    "    count = count - 1\n",
    "\n",
    "print(count)"
   ]
  },
  {
   "cell_type": "markdown",
   "metadata": {},
   "source": [
    "## Bonus content\n",
    "### List comprehensions\n",
    "We very often encounter code that applies a function to list elements and appends the results ina new list using a for loop:"
   ]
  },
  {
   "cell_type": "code",
   "execution_count": 1,
   "metadata": {},
   "outputs": [],
   "source": [
    "numbers = [123, 423, 540]\n",
    "\n",
    "results = []\n",
    "for number in numbers:\n",
    "    results.append(number / 2)"
   ]
  },
  {
   "cell_type": "markdown",
   "metadata": {},
   "source": [
    "List comprehensions are a way to write code like this more concisely:"
   ]
  },
  {
   "cell_type": "code",
   "execution_count": 2,
   "metadata": {},
   "outputs": [],
   "source": [
    "results = [number / 2 for number in numbers]"
   ]
  },
  {
   "cell_type": "markdown",
   "metadata": {},
   "source": [
    "### Iterating over multiple lists in parallel using `zip`\n",
    "If we want to iterate over two lists in parallel, we can use indices produced by `range` to index into the different lists:"
   ]
  },
  {
   "cell_type": "code",
   "execution_count": 5,
   "metadata": {},
   "outputs": [
    {
     "name": "stdout",
     "output_type": "stream",
     "text": [
      "Tom 14\n",
      "Ada 16\n",
      "Jon 12\n"
     ]
    }
   ],
   "source": [
    "names = ['Tom', 'Ada', 'Jon']\n",
    "ages = [14, 16, 12]\n",
    "\n",
    "for index in range(len(names)):\n",
    "    print(names[index], ages[index])"
   ]
  },
  {
   "cell_type": "markdown",
   "metadata": {},
   "source": [
    "`zip` allows you to do that directly without having to use indices. Zip returns in each iteration a tuple of the individual list elemens:"
   ]
  },
  {
   "cell_type": "code",
   "execution_count": 10,
   "metadata": {},
   "outputs": [
    {
     "name": "stdout",
     "output_type": "stream",
     "text": [
      "Tom 14\n",
      "Ada 16\n",
      "Jon 12\n"
     ]
    }
   ],
   "source": [
    "names = ['Tom', 'Ada', 'Jon']\n",
    "ages = [14, 16, 12]\n",
    "\n",
    "for name, age in zip(names, ages):\n",
    "    print(name, age)"
   ]
  },
  {
   "cell_type": "markdown",
   "metadata": {},
   "source": [
    "### Getting list indices and list elements in a for loop using enumerate\n",
    "If you need both the list indices and the elements, you can again use range:"
   ]
  },
  {
   "cell_type": "code",
   "execution_count": 11,
   "metadata": {},
   "outputs": [
    {
     "name": "stdout",
     "output_type": "stream",
     "text": [
      "0 Tom\n",
      "1 Ada\n",
      "2 Jon\n"
     ]
    }
   ],
   "source": [
    "names = ['Tom', 'Ada', 'Jon']\n",
    "\n",
    "for index in range(len(names)):\n",
    "    print(index, names[index])"
   ]
  },
  {
   "cell_type": "markdown",
   "metadata": {},
   "source": [
    "`enumerate` returns  can be more concise, since it returns a tuple of the index and the element in each iteration:"
   ]
  },
  {
   "cell_type": "code",
   "execution_count": 12,
   "metadata": {},
   "outputs": [
    {
     "name": "stdout",
     "output_type": "stream",
     "text": [
      "0 Tom\n",
      "1 Ada\n",
      "2 Jon\n"
     ]
    }
   ],
   "source": [
    "names = ['Tom', 'Ada', 'Jon']\n",
    "\n",
    "for index, name in enumerate(names):\n",
    "    print(index, name)"
   ]
  },
  {
   "cell_type": "markdown",
   "metadata": {},
   "source": [
    "## Spike detection using python\n",
    "\n",
    "![](voltage_trace.png)\n",
    "\n",
    "- [x] Present data in code (individual voltage values, manipulate them and store the results) - variables\n",
    "- [x] Compare variables (voltage to threshold) - boolean values\n",
    "- [x] Perform different actions based on the value of a variable (only keep the position if the voltage exceeds the threshold) - if-else statements\n",
    "- [x] Present and access data in a time series of voltage values - lists\n",
    "- [x] Perform an action for each element in a sequence of values (inspect voltage values one-by-one) - for loops\n",
    "\n",
    "Now you can write your spike detector!!\n",
    "\n",
    "Next steps:\n",
    "- [ ] Separate data and logic so we can use the same code for new recordings - functions\n",
    "- [ ] Apply this to multi data files\n",
    "- [ ] Plot and save the results\n",
    "- [ ] Make everything more efficient and robust using numeric computation libraries (numpy, scipy)\n"
   ]
  },
  {
   "cell_type": "markdown",
   "metadata": {},
   "source": []
  }
 ],
 "metadata": {
  "kernelspec": {
   "display_name": "neu715",
   "language": "python",
   "name": "python3"
  },
  "language_info": {
   "codemirror_mode": {
    "name": "ipython",
    "version": 3
   },
   "file_extension": ".py",
   "mimetype": "text/x-python",
   "name": "python",
   "nbconvert_exporter": "python",
   "pygments_lexer": "ipython3",
   "version": "3.12.6"
  }
 },
 "nbformat": 4,
 "nbformat_minor": 4
}
