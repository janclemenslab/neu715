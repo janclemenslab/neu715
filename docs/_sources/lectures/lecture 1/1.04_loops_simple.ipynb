{
 "cells": [
  {
   "cell_type": "markdown",
   "metadata": {},
   "source": [
    "# Lecture 1.4 - Loops\n",
    "## What do we need to know to detect spikes using python?\n",
    "\n",
    "![](voltage_trace.png)\n",
    "\n",
    "- [x] Present data in code (individual voltage values, manipulate them and store the results) - variables\n",
    "- [x] Compare variables (voltage to threshold) - boolean values\n",
    "- [x] Perform different actions based on the value of a variable (only keep the position if the voltage exceeds the threshold) - if-else statements\n",
    "- [x] Present and access data in a time series of voltage values - lists\n",
    "- [ ] __Perform an action for each element in a sequence of values (inspect voltage values one-by-one) - for loops__\n",
    "- [ ] Separate data and logic so we can use the same code for new recordings - functions\n",
    "- [ ] Apply this to multi data files\n",
    "- [ ] Plot and save the results\n"
   ]
  },
  {
   "cell_type": "markdown",
   "metadata": {},
   "source": [
    "## For loops\n",
    "Okay, lists are great - they can hold many values, we can access these values via indices, and we can check whether these values correspond to spikes. \n",
    "\n",
    "How do we apply our logic to all values in the list automatically?\n",
    "\n",
    "Using a for loop:\n",
    "```\n",
    "for item in list:\n",
    "    indented block\n",
    "```\n",
    "The for loop automatically goes over elements of a list and allows us to apply the same computation to every element, like printing it:"
   ]
  },
  {
   "cell_type": "code",
   "execution_count": 2,
   "metadata": {},
   "outputs": [
    {
     "name": "stdout",
     "output_type": "stream",
     "text": [
      "1\n",
      "2\n",
      "3\n",
      "100\n"
     ]
    }
   ],
   "source": [
    "my_list = [1, 2, 3, 100]\n",
    "\n",
    "for number in my_list:\n",
    "    print(number)"
   ]
  },
  {
   "cell_type": "markdown",
   "metadata": {},
   "source": [
    "What's going on here?\n",
    "\n",
    "- we define a variable called `my_list` as a list of 4 numbers: 1, 2, 3, and 100\n",
    "- `for number in my_list` does the following:\n",
    "    - it creates a variable called `number` (the loop variable)\n",
    "    - it goes through the list, element by element\n",
    "    - and sets the value of the `number` variable to that of each element\n",
    "    - it then prints the value of the `number` variable\n",
    "\n",
    "We can \"unroll\" the for loop above - it corresponds to these individual steps of computation:\n",
    "```python\n",
    "my_list = [1,2,3,100]\n",
    "\n",
    "number = my_list[0]\n",
    "print(number)\n",
    "number = my_list[1]\n",
    "print(number)\n",
    "number = my_list[2]\n",
    "print(number)\n",
    "number = my_list[3]\n",
    "print(number)\n",
    "```\n",
    "\n",
    "We can also do sth with each element:"
   ]
  },
  {
   "cell_type": "code",
   "execution_count": 3,
   "metadata": {},
   "outputs": [
    {
     "name": "stdout",
     "output_type": "stream",
     "text": [
      "0.5\n",
      "1.0\n",
      "1.5\n",
      "50.0\n"
     ]
    }
   ],
   "source": [
    "my_list = [1,2,3,100]\n",
    "for number in my_list:\n",
    "    print(number / 2)"
   ]
  },
  {
   "cell_type": "markdown",
   "metadata": {},
   "source": [
    "We can combine for loops with if statements:"
   ]
  },
  {
   "cell_type": "code",
   "execution_count": 4,
   "metadata": {},
   "outputs": [
    {
     "name": "stdout",
     "output_type": "stream",
     "text": [
      "Name starts with \"A\".\n",
      "Name is Benton\n",
      "Name is Canton\n"
     ]
    }
   ],
   "source": [
    "names = ['Anton', 'Benton', 'Canton']\n",
    "for name in names:\n",
    "    if name == 'Anton':\n",
    "        print('Name starts with \"A\".')\n",
    "    else:\n",
    "        print('Name is', name)"
   ]
  },
  {
   "cell_type": "markdown",
   "metadata": {},
   "source": [
    "For loops can be nested:"
   ]
  },
  {
   "cell_type": "code",
   "execution_count": 5,
   "metadata": {},
   "outputs": [
    {
     "name": "stdout",
     "output_type": "stream",
     "text": [
      "1:\n",
      "1 A\n",
      "1 B\n",
      "1 C\n",
      "2:\n",
      "2 A\n",
      "2 B\n",
      "2 C\n",
      "3:\n",
      "3 A\n",
      "3 B\n",
      "3 C\n"
     ]
    }
   ],
   "source": [
    "for outer in [1,2,3]:\n",
    "    print(f\"{outer}:\")\n",
    "    for inner in ['A', 'B', 'C']:\n",
    "        print(outer, inner)"
   ]
  },
  {
   "cell_type": "markdown",
   "metadata": {},
   "source": [
    "## Common code patterns (part 1)\n",
    "#### Building lists\n",
    "Append the results to a new list using a for loop:"
   ]
  },
  {
   "cell_type": "code",
   "execution_count": 9,
   "metadata": {},
   "outputs": [
    {
     "name": "stdout",
     "output_type": "stream",
     "text": [
      "data: [1, 2, 3]\n",
      "results: [0.1, 0.2, 0.3]\n"
     ]
    }
   ],
   "source": [
    "# Goal: divide by ten each element in lst\n",
    "data = [1, 2, 3]\n",
    "print('data:', data)\n",
    "\n",
    "results = []  # initialize an emty list to hold the results\n",
    "for item in data:\n",
    "    result = item / 10  # divide each list element by 10\n",
    "    results.append(result)  # append the result to the `results` list\n",
    "\n",
    "print('results:', results)\n"
   ]
  },
  {
   "cell_type": "markdown",
   "metadata": {},
   "source": [
    "__Bonus__: The same can be done more concisely using a list comprehension:\n",
    "\n",
    "`new_list = [ OPERATION for item in list if CONDITION]`"
   ]
  },
  {
   "cell_type": "code",
   "execution_count": 15,
   "metadata": {},
   "outputs": [
    {
     "name": "stdout",
     "output_type": "stream",
     "text": [
      "[0.1, 0.2, 0.3]\n"
     ]
    }
   ],
   "source": [
    "results = [item / 10 for item in data]\n",
    "print(results)"
   ]
  },
  {
   "cell_type": "markdown",
   "metadata": {},
   "source": [
    "#### Filtering lists\n",
    "Append the results to a new list using a for loop:"
   ]
  },
  {
   "cell_type": "code",
   "execution_count": 16,
   "metadata": {},
   "outputs": [
    {
     "name": "stdout",
     "output_type": "stream",
     "text": [
      "[1.5, 3.5, 5.5]\n"
     ]
    }
   ],
   "source": [
    "numbers = [1,2,3,4,5]\n",
    "\n",
    "# add 0.5 to each odd element in lst\n",
    "results = []\n",
    "for item in numbers:\n",
    "    if item % 2:\n",
    "        results.append(item + 0.5)\n",
    "print(results)"
   ]
  },
  {
   "cell_type": "markdown",
   "metadata": {},
   "source": [
    "__Bonus:__ Or more concisely using a list comprehension:"
   ]
  },
  {
   "cell_type": "code",
   "execution_count": 17,
   "metadata": {},
   "outputs": [
    {
     "name": "stdout",
     "output_type": "stream",
     "text": [
      "[1.5, 3.5, 5.5]\n"
     ]
    }
   ],
   "source": [
    "results = [item + 0.5 for item in numbers if item % 2]\n",
    "print(results)"
   ]
  },
  {
   "cell_type": "markdown",
   "metadata": {},
   "source": [
    "### While loops\n",
    "\n",
    "Sometimes, we do not know how often we need to run a loop - for instance, if we want to minimize a value (artificial example below):"
   ]
  },
  {
   "cell_type": "code",
   "execution_count": 19,
   "metadata": {},
   "outputs": [
    {
     "name": "stdout",
     "output_type": "stream",
     "text": [
      "10\n",
      "9\n",
      "8\n",
      "7\n",
      "6\n",
      "5\n",
      "4\n",
      "3\n",
      "2\n",
      "1\n",
      "0\n"
     ]
    }
   ],
   "source": [
    "count = 10  # need to define the variable beforehand\n",
    "\n",
    "while count > 0:  # apply the operation in the indented block as long as the value of `count` is greater than 0\n",
    "    print(count)\n",
    "    count = count - 1\n",
    "\n",
    "print(count)"
   ]
  },
  {
   "cell_type": "markdown",
   "metadata": {},
   "source": [
    "### Different ways of looping over lists\n",
    "#### Directly over the items (preferred)"
   ]
  },
  {
   "cell_type": "code",
   "execution_count": 20,
   "metadata": {},
   "outputs": [
    {
     "name": "stdout",
     "output_type": "stream",
     "text": [
      "[1, 2, 3]\n",
      "[1, 2, 3]\n",
      "[1, 2, 3]\n"
     ]
    }
   ],
   "source": [
    "lst = [1,2,3]\n",
    "for item in lst:\n",
    "    print(lst)"
   ]
  },
  {
   "cell_type": "markdown",
   "metadata": {},
   "source": [
    "#### Using indices\n",
    "\n",
    "The range function generates a range of integer numbers with specified start, stop (non-inclusive), and step (interval) value:\n",
    "```\n",
    "range(start, stop, step)\n",
    "```\n",
    "\n",
    "There are short cuts with implicit start=0 and step=1 values:\n",
    "```\n",
    "range(start, stop)\n",
    "range(stop)\n",
    "``````\n",
    " Range does not return a list but a special `range` object - that way we can have ranges that do not fit in memory, e.g. `range(1000000000000000)`:"
   ]
  },
  {
   "cell_type": "code",
   "execution_count": 22,
   "metadata": {},
   "outputs": [
    {
     "name": "stdout",
     "output_type": "stream",
     "text": [
      "range(0, 10) <class 'range'>\n",
      "[0, 1, 2, 3, 4, 5, 6, 7, 8, 9]\n",
      "[0, 1, 2, 3, 4, 5, 6, 7, 8, 9]\n",
      "[5, 6, 7, 8, 9]\n",
      "[5, 7, 9]\n"
     ]
    }
   ],
   "source": [
    "r = range(10)\n",
    "print(r, type(r))\n",
    "print(list(r))  # to inspect the range, we can cast it to a list. Note that the stop value (10) is not included\n",
    "print(list(range(0, 10, 1)))  # equivalent to range(10), the rest is implicit\n",
    "\n",
    "print(list(range(5, 10)))\n",
    "print(list(range(5, 10, 2)))"
   ]
  },
  {
   "cell_type": "markdown",
   "metadata": {},
   "source": [
    "`range` can also be used to create a long list of numbers:"
   ]
  },
  {
   "cell_type": "code",
   "execution_count": 23,
   "metadata": {},
   "outputs": [
    {
     "name": "stdout",
     "output_type": "stream",
     "text": [
      "100\n",
      "101\n",
      "102\n",
      "103\n",
      "104\n",
      "105\n",
      "106\n",
      "107\n",
      "108\n",
      "109\n"
     ]
    }
   ],
   "source": [
    "for number in range(100, 110):\n",
    "    print(number)"
   ]
  },
  {
   "cell_type": "markdown",
   "metadata": {},
   "source": [
    "`range` is typically used in combination with `len`, like so:"
   ]
  },
  {
   "cell_type": "code",
   "execution_count": 25,
   "metadata": {},
   "outputs": [
    {
     "name": "stdout",
     "output_type": "stream",
     "text": [
      "0 Tom\n",
      "1 Yolanda\n",
      "2 Estelle\n"
     ]
    }
   ],
   "source": [
    "names = ['Tom', 'Yolanda', 'Estelle']\n",
    "for index in range(len(names)):\n",
    "    print(index, names[index])"
   ]
  },
  {
   "cell_type": "markdown",
   "metadata": {},
   "source": [
    "### What do we need to know to detect spikes using python?\n",
    "\n",
    "![](fig/voltage_trace.png)\n",
    "\n",
    "- [x] Present data in code (individual voltage values, manipulate them and store the results) - variables\n",
    "- [x] Compare variables (voltage to threshold) - boolean values\n",
    "- [x] Perform different actions based on the value of a variable (only keep the position if the voltage exceeds the threshold) - if-else statements\n",
    "- [x] Present and access data in a time series of voltage values - lists\n",
    "- [x] Perform an action for each element in a sequence of values (inspect voltage values one-by-one) - for loops\n",
    "\n",
    "Now you can write your spike detector!!\n",
    "\n",
    "Next steps:\n",
    "- [ ] Separate data and logic so we can use the same code for new recordings - functions\n",
    "- [ ] Apply this to multi data files\n",
    "- [ ] Plot and save the results\n",
    "- [ ] Make everything more efficient and robust using numeric computation libraries (numpy, scipy)\n"
   ]
  },
  {
   "cell_type": "markdown",
   "metadata": {},
   "source": []
  }
 ],
 "metadata": {
  "kernelspec": {
   "display_name": "Python 3 (ipykernel)",
   "language": "python",
   "name": "python3"
  },
  "language_info": {
   "codemirror_mode": {
    "name": "ipython",
    "version": 3
   },
   "file_extension": ".py",
   "mimetype": "text/x-python",
   "name": "python",
   "nbconvert_exporter": "python",
   "pygments_lexer": "ipython3",
   "version": "3.11.5"
  },
  "vscode": {
   "interpreter": {
    "hash": "97ead24bb190f3c846c8ccaf2b3dc07d0b052bfb8e69b5aeffb27504f0f68adb"
   }
  }
 },
 "nbformat": 4,
 "nbformat_minor": 4
}
