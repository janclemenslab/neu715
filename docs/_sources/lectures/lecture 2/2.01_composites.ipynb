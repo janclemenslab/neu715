{
 "cells": [
  {
   "cell_type": "markdown",
   "metadata": {},
   "source": [
    "# Lecture 2.1 - Other collection data types\n",
    "Lists are also called _collections_, because they are a collection of different things.\n",
    "\n",
    "Python has more types of collections:\n",
    "- `tuple` - read-only (immutable) variant of a list. Functions that return multiple results return tuples. Rarely used.\n",
    "- `set` - read-only variant of a list, contains only unique values. Rarely used.\n",
    "- `dict` - dictionary, for non-ordered collections. Consists of key-value pairs. Keys act as indices, but in contrast to lists, can be of arbitrary types, for instance, strings. Dictionaries are also called \"mappings\" since they maps keys to values.\n",
    "\n",
    "## Tuples\n",
    "Tuples can be created by enclosing tuple items in parentheses (not square brackets as for lists):\n",
    "```python\n",
    "a_tuple = (1, 2, 3, 4)\n",
    "```\n",
    "\n",
    "Lists can be cast to tuples using `tuple(list_var)`.\n",
    "\n",
    "__Caution__: However, the parentheses are pure decoration - it's the comma that makes a tuple. For instance, a trailing comma after a value is sufficient to generate a tuple - this is a frequent cause for bugs. So always use parentheses!"
   ]
  },
  {
   "cell_type": "code",
   "execution_count": 5,
   "metadata": {},
   "outputs": [
    {
     "name": "stdout",
     "output_type": "stream",
     "text": [
      "<class 'tuple'> (1,)\n",
      "<class 'tuple'> (1, 2)\n"
     ]
    }
   ],
   "source": [
    "also_a_tuple = 1,  # note the trailing comma after 1\n",
    "print(type(also_a_tuple), also_a_tuple)\n",
    "\n",
    "yet_another_tuple = 1, 2\n",
    "print(type(yet_another_tuple), yet_another_tuple)"
   ]
  },
  {
   "cell_type": "markdown",
   "metadata": {},
   "source": [
    "Tuples are immutable - you cannot assign to its values:"
   ]
  },
  {
   "cell_type": "code",
   "execution_count": 14,
   "metadata": {},
   "outputs": [
    {
     "ename": "TypeError",
     "evalue": "'tuple' object does not support item assignment",
     "output_type": "error",
     "traceback": [
      "\u001b[0;31m---------------------------------------------------------------------------\u001b[0m",
      "\u001b[0;31mTypeError\u001b[0m                                 Traceback (most recent call last)",
      "Cell \u001b[0;32mIn[14], line 2\u001b[0m\n\u001b[1;32m      1\u001b[0m a_tuple \u001b[39m=\u001b[39m (\u001b[39m1\u001b[39m, \u001b[39m2\u001b[39m, \u001b[39m3\u001b[39m, \u001b[39m2\u001b[39m, \u001b[39m4\u001b[39m)\n\u001b[0;32m----> 2\u001b[0m a_tuple[\u001b[39m3\u001b[39;49m] \u001b[39m=\u001b[39m \u001b[39m100\u001b[39m  \u001b[39m# this will fail, since tuples cannot be changed after creation\u001b[39;00m\n",
      "\u001b[0;31mTypeError\u001b[0m: 'tuple' object does not support item assignment"
     ]
    }
   ],
   "source": [
    "a_tuple = (1, 2, 3, 2, 4)\n",
    "a_tuple[3] = 100  # this will fail, since tuples cannot be changed after creation"
   ]
  },
  {
   "cell_type": "markdown",
   "metadata": {},
   "source": [
    "## Sets\n",
    "Sets are created with curly brackets:\n",
    "```python\n",
    "{1, 2, 3}\n",
    "```\n",
    "\n",
    "Since sets only contain unique values, they can be used to quickly identify all unique values in a list, by casting a list with duplicates to a set using `set(list_var)`:"
   ]
  },
  {
   "cell_type": "code",
   "execution_count": 15,
   "metadata": {},
   "outputs": [
    {
     "name": "stdout",
     "output_type": "stream",
     "text": [
      "[1, 2, 3, 2, 4]\n",
      "<class 'set'> {1, 2, 3, 4}\n"
     ]
    }
   ],
   "source": [
    "list_with_duplicates = [1, 2, 3, 2, 4]  # list with duplicate values\n",
    "print(list_with_duplicates)\n",
    "\n",
    "list_as_set = set(list_with_duplicates)\n",
    "print(type(list_as_set), list_as_set)  # contains only the unique values"
   ]
  },
  {
   "cell_type": "markdown",
   "metadata": {},
   "source": [
    "## Dictionaries\n",
    "Dictionaries are central to the python intrinsics. And also quite useful.\n",
    "\n",
    "They can hold any value, like a list.\n",
    "But can have arbitrary indices, like strings or floats, not just integers.\n",
    "\n",
    "They consist of `key:value` pairs, where both the key and the value can be arbitrary python objects (numbers, strings, lists, ...). \n",
    "\n",
    "Create with `{key1: value1, key2: value2, ...}` (not to be confused with set creation `{value1, value2}`).\n"
   ]
  },
  {
   "cell_type": "code",
   "execution_count": 6,
   "metadata": {},
   "outputs": [
    {
     "name": "stdout",
     "output_type": "stream",
     "text": [
      "{'Tom': 125324123, 'Alice': 432246234}\n",
      "125324123\n",
      "{'Tom': 125324123, 'Alice': 432246234, 'Yolanda': 190998010}\n",
      "{'Alice': 432246234, 'Yolanda': 190998010}\n"
     ]
    }
   ],
   "source": [
    "# Create a phone book as a dictionary, with names as keys, and phone numbers as values\n",
    "phone_number = {'Tom': 125324123, 'Alice': 432246234}\n",
    "print(phone_number)\n",
    "print(phone_number['Tom'])  # access values\n",
    "\n",
    "# We made a new friend, let's add them to the phone book\n",
    "phone_number['Yolanda'] = 190998010  # add/update valyes\n",
    "print(phone_number)\n",
    "\n",
    "# Tom was mean to us - we are no longer friends. Let's delete his entry:\n",
    "del phone_number['Tom']\n",
    "print(phone_number)"
   ]
  },
  {
   "cell_type": "markdown",
   "metadata": {},
   "source": [
    "There are two ways for creating an empty dictionary:"
   ]
  },
  {
   "cell_type": "code",
   "execution_count": 7,
   "metadata": {},
   "outputs": [],
   "source": [
    "d1 = dict()\n",
    "d2 = {}"
   ]
  },
  {
   "cell_type": "markdown",
   "metadata": {},
   "source": [
    "### Looping over key/value pairs in a dictionary:\n",
    "`Dict.items()` returns (key, val) tuples. The parentheses are optional."
   ]
  },
  {
   "cell_type": "code",
   "execution_count": 1,
   "metadata": {},
   "outputs": [
    {
     "name": "stdout",
     "output_type": "stream",
     "text": [
      "Tom 123\n",
      "Alice 246234\n",
      "Yolanda 110\n"
     ]
    }
   ],
   "source": [
    "phone_book = {'Tom': 123, 'Alice': 246234, 'Yolanda': 110}\n",
    "for (key, val) in phone_book.items():\n",
    "    print(key, val)"
   ]
  },
  {
   "cell_type": "markdown",
   "metadata": {},
   "source": [
    "### Bonus: Dictionary comprehensions\n",
    "Let's say we want to create a dictionary where the key is a number, and the value is twice the key:"
   ]
  },
  {
   "cell_type": "code",
   "execution_count": 27,
   "metadata": {},
   "outputs": [
    {
     "name": "stdout",
     "output_type": "stream",
     "text": [
      "{0: 0, 1: 2, 2: 4, 3: 6, 4: 8, 5: 10}\n"
     ]
    }
   ],
   "source": [
    "results_dict = {}\n",
    "for number in range(6):\n",
    "    results_dict[number] = 2 * number\n",
    "print(results_dict)"
   ]
  },
  {
   "cell_type": "markdown",
   "metadata": {},
   "source": [
    "We can use a dictionary comprehension to write this more consisely (if a little more obscurely):\n",
    "`{key: val for item in items if condition}`"
   ]
  },
  {
   "cell_type": "code",
   "execution_count": 29,
   "metadata": {},
   "outputs": [
    {
     "name": "stdout",
     "output_type": "stream",
     "text": [
      "{0: 0, 1: 2, 2: 4, 3: 6, 4: 8, 5: 10}\n"
     ]
    }
   ],
   "source": [
    "results_dict = {number: number * 2 for number in range(6)}\n",
    "print(results_dict)"
   ]
  },
  {
   "cell_type": "markdown",
   "metadata": {},
   "source": [
    "### Useful dict functions\n",
    "```python\n",
    "dct[key] = new_value  # adds new and overwrites existing key:value pair\n",
    "dct.update(other_dct)  # \"merge\" two dictionaries, adds new and overwrites existing key:value pairs\n",
    "key in dct  # check if a key is in the dictionary\n",
    "dct.keys()  # \"view\" of all keys in the dictionary, can cast to list\n",
    "dct.values()  # \"view\" of all values in the dictionary, can cast to list\n",
    "del dct[key] # remove key:value pair, indexed by \"key\"\n",
    "```"
   ]
  },
  {
   "cell_type": "code",
   "execution_count": 30,
   "metadata": {},
   "outputs": [
    {
     "name": "stdout",
     "output_type": "stream",
     "text": [
      "dict_keys(['Alice', 'Yolanda', 'Tom', 'Francoise', 'Alan']) dict_values([432246234, 190998010, 984703, 123156, 9630])\n",
      "False\n",
      "{'Alice': 432246234, 'Yolanda': 190998010, 'Tom': 984703, 'Francoise': 123156, 'Alan': 9630}\n"
     ]
    }
   ],
   "source": [
    "phone_book = {'Tom': 123, 'Alice': 246234, 'Yolanda': 110}\n",
    "print(phone_number.keys(), phone_number.values())\n",
    "print('Olaf' in phone_number)\n",
    "\n",
    "# new key/value pairs will be added, values for existing keys will be overwritten\n",
    "phone_number.update({'Tom': 984703, 'Francoise': 123156, 'Alan': 9630})\n",
    "print(phone_number)"
   ]
  },
  {
   "cell_type": "markdown",
   "metadata": {},
   "source": [
    "### Side note: Producing nicer prints with string formatting\n",
    "f-strings (short for \"formatted string literals\")- will substitute variable names with their value when printing:\n",
    "- prepend string with `f`: `f\"test\"` or `f'test'`\n",
    "- put variable names to print in curly brackets `{}`\n",
    "\n",
    "See the [python docs](https://docs.python.org/3/tutorial/inputoutput.html) for more details.\n",
    "\n",
    "When the f-string is printed, the variable name in curly brackets is substituted by its value:"
   ]
  },
  {
   "cell_type": "code",
   "execution_count": 31,
   "metadata": {},
   "outputs": [
    {
     "name": "stdout",
     "output_type": "stream",
     "text": [
      "Tom's age is 10\n"
     ]
    }
   ],
   "source": [
    "name = 'Tom'\n",
    "age = 10\n",
    "print(f\"{name}'s age is {age}\")"
   ]
  },
  {
   "cell_type": "markdown",
   "metadata": {},
   "source": [
    "For completeness (so you can read old code): Another way of doing this is with `.format`. But please, use f-strings - they are more readable!"
   ]
  },
  {
   "cell_type": "code",
   "execution_count": 32,
   "metadata": {},
   "outputs": [
    {
     "name": "stdout",
     "output_type": "stream",
     "text": [
      "Tom's age is 10\n"
     ]
    }
   ],
   "source": [
    "name = 'Tom'\n",
    "age = 10\n",
    "print(\"{0}'s age is {1}\".format(name, age))"
   ]
  }
 ],
 "metadata": {
  "kernelspec": {
   "display_name": "Python 3 (ipykernel)",
   "language": "python",
   "name": "python3"
  },
  "language_info": {
   "codemirror_mode": {
    "name": "ipython",
    "version": 3
   },
   "file_extension": ".py",
   "mimetype": "text/x-python",
   "name": "python",
   "nbconvert_exporter": "python",
   "pygments_lexer": "ipython3",
   "version": "3.12.0"
  },
  "vscode": {
   "interpreter": {
    "hash": "97ead24bb190f3c846c8ccaf2b3dc07d0b052bfb8e69b5aeffb27504f0f68adb"
   }
  }
 },
 "nbformat": 4,
 "nbformat_minor": 4
}
