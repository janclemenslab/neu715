{
 "cells": [
  {
   "cell_type": "markdown",
   "metadata": {},
   "source": [
    "# Lecture 2.3 - Functions\n",
    "## Reminder: Indentation\n",
    "\n",
    "You already know that python uses indentation to define code blocks, for instance, to separate the inside from the outside of a loop:"
   ]
  },
  {
   "cell_type": "code",
   "execution_count": 2,
   "metadata": {
    "tags": []
   },
   "outputs": [
    {
     "name": "stdout",
     "output_type": "stream",
     "text": [
      "before the loop\n",
      "in the loop\n",
      "after the loop\n",
      "in the loop\n",
      "after the loop\n",
      "in the loop\n",
      "after the loop\n",
      "in the loop\n",
      "after the loop\n"
     ]
    }
   ],
   "source": [
    "print('before the loop')\n",
    "for i in range (4):\n",
    "    print('in the loop')  # indented so inside the loop\n",
    "print('after the loop')"
   ]
  },
  {
   "cell_type": "markdown",
   "metadata": {},
   "source": [
    "You can nest `for` loops, and the indention amount determines wich code belongs to which level of the for loop."
   ]
  },
  {
   "cell_type": "code",
   "execution_count": 2,
   "metadata": {
    "tags": []
   },
   "outputs": [
    {
     "name": "stdout",
     "output_type": "stream",
     "text": [
      "This is the OUTER loop number III=0\n",
      "   This is the inner loop number j==0\n",
      "   This is the inner loop number j==1\n",
      "   This is the inner loop number j==2\n",
      "This is the OUTER loop after the inner loop, III==0\n",
      "This is the OUTER loop number III=1\n",
      "   This is the inner loop number j==0\n",
      "   This is the inner loop number j==1\n",
      "   This is the inner loop number j==2\n",
      "This is the OUTER loop after the inner loop, III==1\n",
      "This is the OUTER loop number III=2\n",
      "   This is the inner loop number j==0\n",
      "   This is the inner loop number j==1\n",
      "   This is the inner loop number j==2\n",
      "This is the OUTER loop after the inner loop, III==2\n",
      "the final value of a is 9\n"
     ]
    }
   ],
   "source": [
    "a=0  #define the variable a and give it a starting value of 0\n",
    "\n",
    "for III in range(3): # a loop that repeats everything that is inside it 3 times\n",
    "    print(f'This is the OUTER loop number III={III}')  # indented (tab) one time, so it belongs to the III loop\n",
    "    for j in range(3):  # this line is indented 1 time (tab) and it belongs to the III loop, so it will be executed 3 times\n",
    "        print(f'   This is the inner loop number j=={j}')  # everything inside the j loop will be executed 3 times and the j loop self will be called 3 times\n",
    "        a = a + 1  # what will be the value of a at the end of everything?\n",
    "    print(f'This is the OUTER loop after the inner loop, III=={III}')  # This is to show that the III index will change just when the next iteration of the loop starts\n",
    "\n",
    "print (f'the final value of a is {a}')  # printing the value of a outside all indentations will yield the final value"
   ]
  },
  {
   "cell_type": "markdown",
   "metadata": {},
   "source": [
    "Indentation matters - why is the output 3?:"
   ]
  },
  {
   "cell_type": "code",
   "execution_count": 4,
   "metadata": {
    "tags": []
   },
   "outputs": [
    {
     "name": "stdout",
     "output_type": "stream",
     "text": [
      "This is the OUTER loop number III=0\n",
      "This is the OUTER loop number III=1\n",
      "This is the OUTER loop number III=2\n",
      "   This is the inner loop number j==0\n",
      "   This is the inner loop number j==1\n",
      "   This is the inner loop number j==2\n",
      "This is the OUTER loop after the inner loop, III==2\n",
      "the final value of a is 3\n"
     ]
    }
   ],
   "source": [
    "a=0  #define the variable a and give it a starting value of 0\n",
    "\n",
    "for III in range(3): # a loop that repeats everything that is inside it 3 times\n",
    "    print(f'This is the OUTER loop number III={III}')  # indented (tab) one time, so it belongs to the III loop\n",
    "for j in range(3):  # this line is indented 1 time (tab) and it belongs to the III loop, so it will be executed 3 times\n",
    "    print(f'   This is the inner loop number j=={j}')  # everything inside the j loop will be executed 3 times and the j loop self will be called 3 times\n",
    "    a = a + 1  # what will be the value of a at the end of everything?\n",
    "print(f'This is the OUTER loop after the inner loop, III=={III}')  # This is to show that the III index will change just when the next iteration of the loop starts\n",
    "\n",
    "print (f'the final value of a is {a}')  # printing the value of a outside all indentations will yield the final value"
   ]
  },
  {
   "cell_type": "markdown",
   "metadata": {},
   "source": [
    "## Functions\n",
    "Functions allow you to re-use your code and shorten your code. For instance, if you need to calculate the mean of values in a list in several places in your program, then writing a `mean` function is useful.\n"
   ]
  },
  {
   "cell_type": "code",
   "execution_count": 4,
   "metadata": {
    "tags": []
   },
   "outputs": [
    {
     "name": "stdout",
     "output_type": "stream",
     "text": [
      "3545.25\n",
      "390402.28571428574\n"
     ]
    }
   ],
   "source": [
    "data1 = [1235, 4235, 2365, 6346]\n",
    "data1_mean = 0\n",
    "for d in data1:\n",
    "    data1_mean += d\n",
    "data1_mean = data1_mean / len(data1)\n",
    "print(data1_mean)\n",
    "\n",
    "\n",
    "data2 = [3523, 346346, 35,23,2345243, 5234,32412]\n",
    "data2_mean = 0\n",
    "for d in data2:\n",
    "    data2_mean += d\n",
    "data2_mean = data2_mean / len(data2)\n",
    "print(data2_mean)"
   ]
  },
  {
   "cell_type": "markdown",
   "metadata": {},
   "source": [
    "A function has several advantages:\n",
    "1. It makes your code shorter\n",
    "2. It avoids duplication of code and errors\n",
    "3. It helps to further separate program logic (calculation of the mean) from your data\n",
    "4. It can be re-used elsewhere\n"
   ]
  },
  {
   "cell_type": "markdown",
   "metadata": {},
   "source": [
    "\n",
    "## The anatomy of a function\n",
    "- the keyword `def`, followed by the name of the function\n",
    "- arguments following the name in parentheses, multiple arguments separated by commas\n",
    "- Optional but highly recommend: A doc string explaining what the function does, the arguments (and it's expected type) and the output\n",
    "- The code that does what the function is supposed to do.\n",
    "- `return` followed by the variables whose values you want the function to produce as an output. Omit the `return` statement if you do not want to return anything. __Caution:__ Lines of code in your function after `return` will not be executed - python will \"exit\" your function after return."
   ]
  },
  {
   "cell_type": "code",
   "execution_count": 5,
   "metadata": {
    "tags": []
   },
   "outputs": [],
   "source": [
    "def function_name(argument1, argument2):\n",
    "    \"\"\"_summary_\n",
    "\n",
    "    Args:\n",
    "        argument1 (_type_): _description_\n",
    "        argument2 (_type_): _description_\n",
    "\n",
    "    Returns:\n",
    "        _type_: _description_\n",
    "    \"\"\"\n",
    "    # things to do/calculate\n",
    "    # you write your code here\n",
    "    calculated_values = 1000\n",
    "\n",
    "    # if you need to get a value calculated in the function\n",
    "    # you need to use a return statement\n",
    "    return calculated_values\n"
   ]
  },
  {
   "cell_type": "markdown",
   "metadata": {},
   "source": [
    "Here is a function that calculates the mean of values in a list:"
   ]
  },
  {
   "cell_type": "code",
   "execution_count": 1,
   "metadata": {
    "tags": []
   },
   "outputs": [
    {
     "name": "stdout",
     "output_type": "stream",
     "text": [
      "3545.25\n",
      "390402.28571428574\n"
     ]
    }
   ],
   "source": [
    "def mean(data):  # name and input\n",
    "    \"\"\"Calculate the mean\n",
    "\n",
    "    Args:\n",
    "        data (list): Should be a list of numbers.\n",
    "\n",
    "    Returns:\n",
    "        number: The mean over all items in `data`.\n",
    "    \"\"\"\n",
    "    #calculation\n",
    "    data_mean = 0\n",
    "    for d in data:\n",
    "        data_mean += d\n",
    "    data_mean = data_mean / len(data)\n",
    "\n",
    "    return data_mean  # output\n",
    "\n",
    "data1 = [1235, 4235, 2365, 6346]\n",
    "print(mean(data1))\n",
    "\n",
    "data2 = [3523, 346346, 35,23,2345243, 5234,32412]\n",
    "print(mean(data2))\n"
   ]
  },
  {
   "cell_type": "markdown",
   "metadata": {},
   "source": [
    "You can print the doc string using the `help` function"
   ]
  },
  {
   "cell_type": "code",
   "execution_count": 2,
   "metadata": {
    "tags": []
   },
   "outputs": [
    {
     "name": "stdout",
     "output_type": "stream",
     "text": [
      "Help on function mean in module __main__:\n",
      "\n",
      "mean(data)\n",
      "    Calculate the mean\n",
      "\n",
      "    Args:\n",
      "        data (list): Should be a list of numbers.\n",
      "\n",
      "    Returns:\n",
      "        number: The mean over all items in `data`.\n",
      "\n"
     ]
    }
   ],
   "source": [
    "help(mean)"
   ]
  },
  {
   "cell_type": "markdown",
   "metadata": {},
   "source": [
    "## Let's write a simple function\n",
    "\n",
    "Jonny likes to be greeted - let's say Hi to him:"
   ]
  },
  {
   "cell_type": "code",
   "execution_count": 9,
   "metadata": {
    "tags": []
   },
   "outputs": [
    {
     "name": "stdout",
     "output_type": "stream",
     "text": [
      "Hi Jean!\n"
     ]
    }
   ],
   "source": [
    "def greet(nom):\n",
    "    print(f'Hi {nom}!')\n",
    "\n",
    "greet('Jean')"
   ]
  },
  {
   "cell_type": "markdown",
   "metadata": {},
   "source": [
    "## A function can have zero, one, or more arguments\n",
    "The arguments - values in parentheses - are assigned to variables in the function by position - the first is `a`, the second is `b`. These are therefore called \"positional\" arguments.\n",
    "\n",
    "Let's use the f-beta score - a generalization of the f1 score as an example:\n",
    "\n",
    "$F_\\beta = (1 + \\beta^2) \\cdot \\frac{\\mathrm{precision} \\cdot \\mathrm{recall}}{(\\beta^2 \\cdot \\mathrm{precision}) + \\mathrm{recall}}.$"
   ]
  },
  {
   "cell_type": "code",
   "execution_count": 13,
   "metadata": {
    "tags": []
   },
   "outputs": [
    {
     "name": "stdout",
     "output_type": "stream",
     "text": [
      "0.5249999999999999\n"
     ]
    }
   ],
   "source": [
    "def f_beta_score(precision, recall, beta):   # the arguments are defined in parentheses after the name of the function\n",
    "    score = (1 + beta ** 2) * precision * recall / ((beta ** 2) + recall)\n",
    "    return score\n",
    "\n",
    "P = 0.7\n",
    "R = 0.6\n",
    "B = 1\n",
    "\n",
    "print(f_beta_score(P, R, B))   # 3 positional arguments - their \"meaning\" is given by their position in the list of arguments\n",
    "print(f_beta_score(P, R))  # we have to give the exact number of arguments defined in the function\n"
   ]
  },
  {
   "cell_type": "markdown",
   "metadata": {},
   "source": [
    "We can make arguments optional, by providing default values. Arguments without default values always need to be provided!"
   ]
  },
  {
   "cell_type": "code",
   "execution_count": 14,
   "metadata": {
    "tags": []
   },
   "outputs": [
    {
     "name": "stdout",
     "output_type": "stream",
     "text": [
      "Arguments: precision=0.7, recall=0.6, beta=2\n",
      "0.4565217391304348\n",
      "Arguments: precision=0.7, recall=0.6, beta=2\n",
      "0.4565217391304348\n"
     ]
    }
   ],
   "source": [
    "# if an argument is followed by a value in the function, that argument is now optional - if you omit it, it will have the default value given in the def statement.\n",
    "def f_beta_score(precision, recall, beta=2):\n",
    "    print(f\"Arguments: {precision=}, {recall=}, {beta=}\")\n",
    "    score = (1 + beta ** 2) * precision * recall / ((beta ** 2) + recall)\n",
    "    return score\n",
    "\n",
    "P = 0.7\n",
    "R = 0.6\n",
    "f1_score = f_beta_score(P, R)  # calculate the f-beta score with the default value beta=1 - the f1 score\n",
    "print(f1_score)\n",
    "\n",
    "f2_score = f_beta_score(P, R, 2)  # calculate the f-beta score with beta=2 - the \"f2 score\"\n",
    "print(f2_score)"
   ]
  },
  {
   "cell_type": "markdown",
   "metadata": {},
   "source": [
    "You can make your code more readable by using \"keyword\" arguments:"
   ]
  },
  {
   "cell_type": "code",
   "execution_count": 9,
   "metadata": {
    "tags": []
   },
   "outputs": [
    {
     "name": "stdout",
     "output_type": "stream",
     "text": [
      "Arguments: precision=0.7, recall=0.6, beta=2\n",
      "0.4565217391304348\n",
      "Arguments: precision=0.7, recall=0.6, beta=2\n",
      "0.4565217391304348\n"
     ]
    }
   ],
   "source": [
    "P = 0.7\n",
    "R = 0.6\n",
    "\n",
    "print(f_beta_score(P, R, 2))\n",
    "print(f_beta_score(precision=P, recall=R, beta=2))"
   ]
  },
  {
   "cell_type": "markdown",
   "metadata": {},
   "source": [
    "Why do the two following statements fail?"
   ]
  },
  {
   "cell_type": "code",
   "execution_count": 15,
   "metadata": {
    "tags": []
   },
   "outputs": [
    {
     "name": "stdout",
     "output_type": "stream",
     "text": [
      "Arguments: precision=0.7, recall=0.6, beta=2\n",
      "0.4565217391304348\n"
     ]
    }
   ],
   "source": [
    "P = 0.7\n",
    "R = 0.6\n",
    "\n",
    "print(f_beta_score(P, R, beta=2))"
   ]
  },
  {
   "cell_type": "code",
   "execution_count": 11,
   "metadata": {
    "tags": []
   },
   "outputs": [
    {
     "ename": "TypeError",
     "evalue": "f_beta_score() missing 1 required positional argument: 'recall'",
     "output_type": "error",
     "traceback": [
      "\u001b[0;31m---------------------------------------------------------------------------\u001b[0m",
      "\u001b[0;31mTypeError\u001b[0m                                 Traceback (most recent call last)",
      "\u001b[1;32m/Users/janc/Library/CloudStorage/Dropbox/_teaching/neu715/neu715/lectures/lecture 2/2.03_functions.ipynb Cell 26\u001b[0m line \u001b[0;36m4\n\u001b[1;32m      <a href='vscode-notebook-cell:/Users/janc/Library/CloudStorage/Dropbox/_teaching/neu715/neu715/lectures/lecture%202/2.03_functions.ipynb#X34sZmlsZQ%3D%3D?line=0'>1</a>\u001b[0m P \u001b[39m=\u001b[39m \u001b[39m0.7\u001b[39m\n\u001b[1;32m      <a href='vscode-notebook-cell:/Users/janc/Library/CloudStorage/Dropbox/_teaching/neu715/neu715/lectures/lecture%202/2.03_functions.ipynb#X34sZmlsZQ%3D%3D?line=1'>2</a>\u001b[0m R \u001b[39m=\u001b[39m \u001b[39m0.6\u001b[39m\n\u001b[0;32m----> <a href='vscode-notebook-cell:/Users/janc/Library/CloudStorage/Dropbox/_teaching/neu715/neu715/lectures/lecture%202/2.03_functions.ipynb#X34sZmlsZQ%3D%3D?line=3'>4</a>\u001b[0m \u001b[39mprint\u001b[39m(f_beta_score(precision\u001b[39m=\u001b[39;49mP, beta\u001b[39m=\u001b[39;49m\u001b[39m2\u001b[39;49m))\n",
      "\u001b[0;31mTypeError\u001b[0m: f_beta_score() missing 1 required positional argument: 'recall'"
     ]
    }
   ],
   "source": [
    "P = 0.7\n",
    "R = 0.6\n",
    "\n",
    "print(f_beta_score(precision=P, beta=2))"
   ]
  },
  {
   "cell_type": "markdown",
   "metadata": {},
   "source": [
    "## Anything goes!\n",
    "Anything can be an argument: floats, strings, int, lists, tuples, any other objects. The return statement is optional, too."
   ]
  },
  {
   "cell_type": "code",
   "execution_count": 12,
   "metadata": {
    "tags": []
   },
   "outputs": [
    {
     "name": "stdout",
     "output_type": "stream",
     "text": [
      "Tom was born 20 years ago.\n"
     ]
    }
   ],
   "source": [
    "def print_name_and_age(name, age):\n",
    "    print(f\"{name} was born {age} years ago.\")\n",
    "\n",
    "print_name_and_age(\"Tom\", 20)"
   ]
  },
  {
   "cell_type": "markdown",
   "metadata": {},
   "source": [
    "Does a function without a `return` statement return anything? If so, what is the type of return value?"
   ]
  },
  {
   "cell_type": "code",
   "execution_count": 13,
   "metadata": {
    "tags": []
   },
   "outputs": [],
   "source": [
    "def print_name_and_age(name, age):\n",
    "    print(f\"{name} was born {age} years ago.\")"
   ]
  },
  {
   "cell_type": "markdown",
   "metadata": {},
   "source": [
    "## You can return multiple variables with a single return statement\n",
    "If a function returns multiple arguments the are a tuple: (return_var1, return_var2). Why?"
   ]
  },
  {
   "cell_type": "code",
   "execution_count": 23,
   "metadata": {
    "tags": []
   },
   "outputs": [
    {
     "name": "stdout",
     "output_type": "stream",
     "text": [
      "(30, -10)\n"
     ]
    }
   ],
   "source": [
    "def sum_and_diff(a, b):\n",
    "    the_sum = a + b\n",
    "    the_diff = a - b\n",
    "    return the_sum, the_diff\n",
    "    \n",
    "output = sum_and_diff(10, 20)\n",
    "print(output)"
   ]
  },
  {
   "cell_type": "markdown",
   "metadata": {},
   "source": [
    "We can unpack the outputs:"
   ]
  },
  {
   "cell_type": "code",
   "execution_count": 24,
   "metadata": {
    "tags": []
   },
   "outputs": [
    {
     "name": "stdout",
     "output_type": "stream",
     "text": [
      "30\n",
      "-10\n"
     ]
    }
   ],
   "source": [
    "sm, df = sum_and_diff(10, 20)\n",
    "print(sm)\n",
    "print(df)"
   ]
  },
  {
   "cell_type": "markdown",
   "metadata": {},
   "source": [
    "A function can also return nothing - `None`. `None` is used to indicate \"no value\" in python."
   ]
  },
  {
   "cell_type": "code",
   "execution_count": 25,
   "metadata": {
    "tags": []
   },
   "outputs": [
    {
     "name": "stdout",
     "output_type": "stream",
     "text": [
      "Olaf's age is 64 years.\n",
      "Olaf's age is 64 years.\n",
      "None <class 'NoneType'>\n"
     ]
    }
   ],
   "source": [
    "def print_name_and_age(name, age):\n",
    "    print(f\"{name}'s age is {age} years.\")\n",
    "\n",
    "print_name_and_age(\"Olaf\", 64)\n",
    "\n",
    "output = print_name_and_age(\"Olaf\", 64)\n",
    "print(output, type(output))"
   ]
  },
  {
   "cell_type": "markdown",
   "metadata": {},
   "source": [
    "We've encountered functions that do not return anything in our introduction to lists. `append` does not return anything. So `new_list = list.append(value)` will set `new_list`` to `None`:"
   ]
  },
  {
   "cell_type": "code",
   "execution_count": 26,
   "metadata": {},
   "outputs": [
    {
     "name": "stdout",
     "output_type": "stream",
     "text": [
      "None\n"
     ]
    }
   ],
   "source": [
    "my_list = ['a','b']\n",
    "new_list = my_list.append('c')\n",
    "print(new_list)"
   ]
  },
  {
   "cell_type": "markdown",
   "metadata": {},
   "source": [
    "## The \"scope\" of a variable - local variables\n",
    "\n",
    "What you define inside a function is not accessible outside: all variables created inside functions are _local_ variables."
   ]
  },
  {
   "cell_type": "code",
   "execution_count": 31,
   "metadata": {
    "tags": []
   },
   "outputs": [
    {
     "name": "stdout",
     "output_type": "stream",
     "text": [
      "The value of pi inside the function is 3.14\n",
      "706.5\n",
      "4.3\n"
     ]
    },
    {
     "ename": "NameError",
     "evalue": "name 'square' is not defined",
     "output_type": "error",
     "traceback": [
      "\u001b[0;31m---------------------------------------------------------------------------\u001b[0m",
      "\u001b[0;31mNameError\u001b[0m                                 Traceback (most recent call last)",
      "Cell \u001b[0;32mIn[31], line 11\u001b[0m\n\u001b[1;32m      9\u001b[0m \u001b[38;5;28mprint\u001b[39m(area(\u001b[38;5;241m15\u001b[39m)) \u001b[38;5;66;03m# we print the value returned by our function\u001b[39;00m\n\u001b[1;32m     10\u001b[0m \u001b[38;5;28mprint\u001b[39m(pi) \u001b[38;5;66;03m# pi only exists inside the function\u001b[39;00m\n\u001b[0;32m---> 11\u001b[0m \u001b[43msquare\u001b[49m(\u001b[38;5;241m10\u001b[39m)\n",
      "\u001b[0;31mNameError\u001b[0m: name 'square' is not defined"
     ]
    }
   ],
   "source": [
    "def area(radius):\n",
    "    pi = 3.14 # inside the function we change the value of pi, but this is another pi\n",
    "    the_area = pi* square(radius) # We calculate the area using the pi inside the function\n",
    "    print(f'The value of pi inside the function is {pi}') # we print the pi inside the function\n",
    "    return the_area\n",
    "\n",
    "print(area(15)) # we print the value returned by our function\n",
    "print(pi) # pi only exists inside the function"
   ]
  },
  {
   "cell_type": "markdown",
   "metadata": {},
   "source": [
    "Functions have their own memory/variable space. We can re-define variables inside a function without it affecting the outside:"
   ]
  },
  {
   "cell_type": "code",
   "execution_count": 29,
   "metadata": {
    "tags": []
   },
   "outputs": [
    {
     "ename": "UnboundLocalError",
     "evalue": "cannot access local variable 'pi' where it is not associated with a value",
     "output_type": "error",
     "traceback": [
      "\u001b[0;31m---------------------------------------------------------------------------\u001b[0m",
      "\u001b[0;31mUnboundLocalError\u001b[0m                         Traceback (most recent call last)",
      "Cell \u001b[0;32mIn[29], line 7\u001b[0m\n\u001b[1;32m      5\u001b[0m     \u001b[38;5;28mprint\u001b[39m(\u001b[38;5;124mf\u001b[39m\u001b[38;5;124m'\u001b[39m\u001b[38;5;124mThe value of pi inside the function is \u001b[39m\u001b[38;5;132;01m{\u001b[39;00mpi\u001b[38;5;132;01m}\u001b[39;00m\u001b[38;5;124m'\u001b[39m) \u001b[38;5;66;03m# we print the pi inside the function\u001b[39;00m\n\u001b[1;32m      6\u001b[0m     \u001b[38;5;28;01mreturn\u001b[39;00m the_area\n\u001b[0;32m----> 7\u001b[0m \u001b[38;5;28mprint\u001b[39m(\u001b[43marea\u001b[49m\u001b[43m(\u001b[49m\u001b[38;5;241;43m15\u001b[39;49m\u001b[43m)\u001b[49m) \u001b[38;5;66;03m# we print the value returned by our function\u001b[39;00m\n\u001b[1;32m      8\u001b[0m \u001b[38;5;28mprint\u001b[39m(pi) \u001b[38;5;66;03m# we are ouside the function, so we are looking at the pi we defined before\u001b[39;00m\n",
      "Cell \u001b[0;32mIn[29], line 3\u001b[0m, in \u001b[0;36marea\u001b[0;34m(radius)\u001b[0m\n\u001b[1;32m      2\u001b[0m \u001b[38;5;28;01mdef\u001b[39;00m \u001b[38;5;21marea\u001b[39m(radius):\n\u001b[0;32m----> 3\u001b[0m     the_area \u001b[38;5;241m=\u001b[39m pi\u001b[38;5;241m*\u001b[39mradius\u001b[38;5;241m*\u001b[39m\u001b[38;5;241m*\u001b[39m\u001b[38;5;241m2\u001b[39m \u001b[38;5;66;03m# We calculate the area using the pi inside the function\u001b[39;00m\n\u001b[1;32m      4\u001b[0m     pi \u001b[38;5;241m=\u001b[39m \u001b[38;5;241m3.14\u001b[39m \u001b[38;5;66;03m# inside the function we change the value of pi, but this is another pi\u001b[39;00m\n\u001b[1;32m      5\u001b[0m     \u001b[38;5;28mprint\u001b[39m(\u001b[38;5;124mf\u001b[39m\u001b[38;5;124m'\u001b[39m\u001b[38;5;124mThe value of pi inside the function is \u001b[39m\u001b[38;5;132;01m{\u001b[39;00mpi\u001b[38;5;132;01m}\u001b[39;00m\u001b[38;5;124m'\u001b[39m) \u001b[38;5;66;03m# we print the pi inside the function\u001b[39;00m\n",
      "\u001b[0;31mUnboundLocalError\u001b[0m: cannot access local variable 'pi' where it is not associated with a value"
     ]
    }
   ],
   "source": [
    "pi=4.3  # we define pi outside the function giving it a value\n",
    "def area(radius):\n",
    "    pi = 3.14 # inside the function we change the value of pi, but this is another pi\n",
    "    the_area = pi*radius**2 # We calculate the area using the pi inside the function\n",
    "    print(f'The value of pi inside the function is {pi}') # we print the pi inside the function\n",
    "    return the_area\n",
    "print(area(15)) # we print the value returned by our function\n",
    "print(pi) # we are ouside the function, so we are looking at the pi we defined before"
   ]
  },
  {
   "cell_type": "markdown",
   "metadata": {},
   "source": [
    "But, every variable created outside is accessible inside the function"
   ]
  },
  {
   "cell_type": "code",
   "execution_count": 23,
   "metadata": {
    "tags": []
   },
   "outputs": [
    {
     "data": {
      "text/plain": [
       "3.14"
      ]
     },
     "execution_count": 23,
     "metadata": {},
     "output_type": "execute_result"
    }
   ],
   "source": [
    "pi = 3.14\n",
    "def area(radius):\n",
    "    area = pi*radius**2 # because we are not defining any new pi inside the function, python searches the one outside the function\n",
    "    return area\n",
    "\n",
    "area(1)"
   ]
  },
  {
   "cell_type": "markdown",
   "metadata": {},
   "source": [
    "### Documenting functions\n",
    "Functions can be documented using doc strings. \n",
    "They can be read by inspecting the source code directly, or using the `help` function.\n",
    "\n",
    "Doc strings follow standard formats - here is one of the formats:"
   ]
  },
  {
   "cell_type": "code",
   "execution_count": 24,
   "metadata": {
    "tags": []
   },
   "outputs": [
    {
     "name": "stdout",
     "output_type": "stream",
     "text": [
      "Help on function function_name in module __main__:\n",
      "\n",
      "function_name(arg1, arg2=10)\n",
      "    _summary_\n",
      "\n",
      "    Args:\n",
      "        arg1 (_type_): _description_\n",
      "        arg2 (int, optional): _description_. Defaults to 10.\n",
      "\n",
      "    Returns:\n",
      "        _type_: _description_\n",
      "\n"
     ]
    }
   ],
   "source": [
    "def function_name(arg1, arg2=10):\n",
    "    \"\"\"_summary_\n",
    "\n",
    "    Args:\n",
    "        arg1 (_type_): _description_\n",
    "        arg2 (int, optional): _description_. Defaults to 10.\n",
    "\n",
    "    Returns:\n",
    "        _type_: _description_\n",
    "    \"\"\"\n",
    "    return arg1\n",
    "\n",
    "help(function_name)"
   ]
  },
  {
   "cell_type": "code",
   "execution_count": 25,
   "metadata": {
    "tags": []
   },
   "outputs": [
    {
     "name": "stdout",
     "output_type": "stream",
     "text": [
      "Help on function concat in module __main__:\n",
      "\n",
      "concat(l1, l2)\n",
      "    Concatenates two lists.\n",
      "\n",
      "    Args:\n",
      "        l1 (list): First list to concatenate.\n",
      "        l2 (list): Second list to concatenate\n",
      "\n",
      "    Returns:\n",
      "        list: Concatenated list [*l1, *l2]\n",
      "\n"
     ]
    }
   ],
   "source": [
    "def concat(l1, l2):\n",
    "    \"\"\"Concatenates two lists.\n",
    "\n",
    "    Args:\n",
    "        l1 (list): First list to concatenate.\n",
    "        l2 (list): Second list to concatenate\n",
    "\n",
    "    Returns:\n",
    "        list: Concatenated list [*l1, *l2]\n",
    "    \"\"\"\n",
    "    return l1 + l2\n",
    "\n",
    "help(concat)"
   ]
  }
 ],
 "metadata": {
  "kernelspec": {
   "display_name": "Python 3 (ipykernel)",
   "language": "python",
   "name": "python3"
  },
  "language_info": {
   "codemirror_mode": {
    "name": "ipython",
    "version": 3
   },
   "file_extension": ".py",
   "mimetype": "text/x-python",
   "name": "python",
   "nbconvert_exporter": "python",
   "pygments_lexer": "ipython3",
   "version": "3.12.0"
  },
  "vscode": {
   "interpreter": {
    "hash": "7ea0ec616133ead53c1908c8f6539f5c0cb9b2f78368e2bb6ab3f847e89ca400"
   }
  }
 },
 "nbformat": 4,
 "nbformat_minor": 4
}
