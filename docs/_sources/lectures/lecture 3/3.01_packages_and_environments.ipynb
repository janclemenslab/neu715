{
 "cells": [
  {
   "cell_type": "markdown",
   "metadata": {},
   "source": [
    "# Lecture 3.1 - Package managment and environments\n",
    "So far, we have already worked with a couple of python packages, like matplotlib. A full anaconda install comes with these packages pre-installed, but how do you install new packages, or specific versions of an existing package? And how do you prevent working with different versions devolving into a mess?\n",
    "\n",
    "## Finding and installing packages\n",
    "There are two main package managers for python, pypi and conda:\n",
    "- The [python package index (pypi.org)](https://pypi.org) is the python standard, but has some disadvantages when it comes to packages with more complex dependencies (other packages or non-python code). It is used through the `pip` command.\n",
    "- Conda comes with the anaconda-type distributions, contains most packages that exist in pypi, plus additional non-python packages that python packages might rely on for speed.\n",
    "- Some packages are only available fom [github](https://github.com), a website and framework for collaboratively developing and publishing code.\n",
    "\n",
    "How do you find packages and installation instructions? \n",
    "- First, check for the package documentation or github website. This will typically have instructions for installation\n",
    "- Second, if out of look, search directly on [anaconda.org]() or [pypi.org]().\n",
    "\n",
    "Let's say we want to install the SLEAP package, for pose tracking animals in our behavioral videos.\n",
    "\n",
    "Google `sleap installation` and `sleap github` to find the installation instructions and github repository (=page), respectively.\n",
    "\n",
    "### How to use pypi and conda\n",
    "#### Pypi\n",
    "Pypi is used through the `pip` terminal command. To install a package from pypi, run:\n",
    "```shell\n",
    "pip install PACKAGE_NAME\n",
    "```\n",
    "Again specifics, like the exact spelling of the package name can be found on the package's website.\n",
    "\n",
    "#### Anaconda\n",
    "Anaconda is accessed through the `conda` (or alternatively, `mamba`) command:\n",
    "```shell\n",
    "conda install PACKAGE_NAME\n",
    "```\n",
    "\n",
    "Sometimes you will see instructions that include one or more occurrences of the argument `-c`, short for \"channel\":\n",
    "```shell\n",
    "conda install PACKAGE_NAME -c CHANNEL_NAME\n",
    "```\n",
    "Channels are specific locations inside the anaconda package library, where packages are stored."
   ]
  },
  {
   "cell_type": "markdown",
   "metadata": {},
   "source": [
    "## Package management, dependency hell, and environments\n",
    "Why is package management hard? There are many different python packages, sometimes for very specific purposes, developed by many independent developers. However, this freedom and diversity can complicate things, if you need two packages, but they both rely on different versions of another package:\n",
    "<img src=\"fig/dep_hell.png\" alt=\"from https://medium.com/knerd/the-nine-circles-of-python-dependency-hell-481d53e3e025\" width=\"400\"/>\n",
    "\n",
    "This can lead to unresolvable dependencies and is known as the \"python version hell\" or \"python dependency hell\".\n",
    "\n",
    "Even worse, if you are not careful, you can completely break your python installation: You install a new package, that requires and installs a different version of matplotlib. However, this will break existing packages, which only work with the original version of matplotlib, not the newly installed one.\n",
    "\n",
    "## Environments\n",
    "Conda environments are a way out of this dilemma, since they allow you to have many independent python installations on your computer. When you install (ana)conda, an environment called `base` is created, which has all the basics, like python itself and everything for installing and managing packages (see below).\n",
    "\n",
    "You should never directly install anything into `base`!\n",
    "\n",
    "Rather, you create an environment, activate and install things into it. That way, if you mess up, you can delete the specific environment, but still have a working python installation.\n",
    "\n",
    "1. Create the environment: `conda create --name test`. This will create an empty environment. You can also specify packages to install during creation, for instance a python version or numpy: `conda create --n pynp python=3.9 numpy`\n",
    "\n",
    "2. Activate the environment: `conda activate what`. You command line should indicate that the active environment is now `what`. Any call to `pip` or `conda` will only affect the active environment.\n",
    "3. Install your packages: `conda install matplotlib`. Conda will find the matplotlib packages, plus all packages matplotlib depends on (basically, imports). With the right versions!\n",
    "\n",
    "It is good practice to have one environment per project. If you want to switch between environments, always deactivate the current one, with `conda deactivate`. Otherwise, you get weird interaction effects.\n",
    "\n",
    "If you messed up, you can easily remove the environment and start from scratch:\n",
    "```shell\n",
    "conda deactivate\n",
    "conda env remove --name what\n",
    "```\n",
    "\n",
    "## Tips and tricks\n",
    "\n",
    "### Make conda faster\n",
    "Conda can be slow to resolve all dependencies between the packages and their dependencies. \n",
    "\n",
    "Exercise: Install and enable the faster mamba solver - google: \"conda mamba solver\" and follow the instructions.\n",
    "\n",
    "### Install jupyter notebooks in an environment\n",
    "\n",
    "- `conda install ipykernel` (if you use VSCode)\n",
    "- `conda install jupyterlab` (otherwise)\n",
    " "
   ]
  }
 ],
 "metadata": {
  "kernelspec": {
   "display_name": "Python 3 (ipykernel)",
   "language": "python",
   "name": "python3"
  },
  "language_info": {
   "codemirror_mode": {
    "name": "ipython",
    "version": 3
   },
   "file_extension": ".py",
   "mimetype": "text/x-python",
   "name": "python",
   "nbconvert_exporter": "python",
   "pygments_lexer": "ipython3",
   "version": "3.11.5"
  },
  "vscode": {
   "interpreter": {
    "hash": "97ead24bb190f3c846c8ccaf2b3dc07d0b052bfb8e69b5aeffb27504f0f68adb"
   }
  }
 },
 "nbformat": 4,
 "nbformat_minor": 4
}
