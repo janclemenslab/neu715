{
 "cells": [
  {
   "cell_type": "markdown",
   "metadata": {},
   "source": [
    "# Statistics with python\n",
    "- Descriptive stats: Summary stats with python (mean, std, sem, CI, median, percentiles, IQR), statistical plots (hist, boxplot, violin)\n",
    "- Inferential stats: Hypothesis testing (parametric/nonparametric, paired/unpaired, two-sided/one-sided, Anova)\n",
    "\n",
    "`scipy.stats` and numpy cover the basics. For more complex stats use the python package [statsmodels](https://www.statsmodels.org/stable/index.html) or the R-language.\n"
   ]
  },
  {
   "cell_type": "code",
   "execution_count": 2,
   "metadata": {},
   "outputs": [],
   "source": [
    "import numpy as np\n",
    "import scipy\n",
    "import matplotlib.pyplot as plt\n",
    "\n",
    "plt.style.use('ncb.mplstyle')"
   ]
  },
  {
   "cell_type": "markdown",
   "metadata": {},
   "source": [
    "# Probability distributions\n",
    "Experimental measurements help to draw general conclusions and to derive rules from the investigated interactions of parameters and measured features:\n",
    "One parameter is varied (e.g. an electrical current stimulus on a neuron), while the resulting effect on a feature is measured (e.g. the firing rate of a neuron).\n",
    "\n",
    "This would be rather simple if the measured feature would always be the same for a given parameter change. However, in reality this is not the case: Measurements are variable, because even under controlled experimental conditions, one can never control _ALL_ factors that might influence the result. For example, in a behavioral animal experiment, the animal might show different reactions due to being sick, tired or hungry, independently of a well-controlled task. Even if there is a clear dependence between the varied parameters and the measured feature, the feature values willl aways be scattered around the expected value.\n",
    "\n",
    "## Visualizing the frequency distribution of your data using histograms\n",
    "The frequency distribution describes how often a measured value occurs and serves to estimate the probability of that measured value.\n",
    "We estimate the frequency distribition using a histograms, which can be used to derive the underlying probability density function.\n",
    "\n",
    "Histograms show how many of the measured feature values occurred in defined, contiguous ranges (contiguous means that there is no gap between ranges). Each of those ranges (also called \"bins\") is represented graphically by a rectangle (or bar). The bar’s height represents the measured frequency (number of samples falling into each bin). The choice of the number and borders of the bins depends on the data, the sample size, and the scientific question. More samples allow more bins and more details. If too many bins are used for a given sample size, some of the bins will by chance be empty, making it difficult to judge the shape of the frequency distribution. \n",
    "\n",
    "![](fig/5.01_probabilities1.png)"
   ]
  },
  {
   "cell_type": "markdown",
   "metadata": {},
   "source": [
    "## Probability density function\n",
    "In contrast to the frequency distribution, which contains the number of values in each bin, the _probability density function_ indicates probabilities for the occurrence of specific feature values. For continuous numerical data, you could imagine scaling a histogram to relative rather than absolute numbers of occurrences, so that the area under the histogram is 1.0. The height of the bars then corresponds to the fraction of the data points falling into each bin and is independent of the sample size.\n",
    "\n",
    "![](fig/5.01_probabilities_density.png)"
   ]
  },
  {
   "cell_type": "markdown",
   "metadata": {},
   "source": [
    "\n",
    "## Histograms in python\n",
    "In python, we can plot a histogram using `plt.hist`:\n",
    "\n",
    "`n, bins, patches = plt.hist(x, bins, density)` ([docs](https://matplotlib.org/stable/api/_as_gen/matplotlib.pyplot.hist.html))\n",
    "\n",
    "Arguments:\n",
    "\n",
    "- `x`: your data as a list or numpy array\n",
    "- `bins`: Optional. Number of bins or position of bin edges (defaults to 10 bins with the bin edges chosen based on the data). `bins=32` will make a histogram with 32 automatically placed bins, `bins=np.arange(0, 5)=[0, 1, 2, 3, 4]` will make a histogram with 4 bins with the left edge of the first bin at 0 and the right edge of the last bin at 4.\n",
    "- `density`: Optional. If False (default), the height of histogram bars corresponds to the number of samples falling into each bin (frequency). If True, the bar height corresponds to the probability density.\n",
    "\n",
    "Returns:\n",
    "- `n`: histogram value for each\n",
    "- `bins`: bin edges for the histogram\n",
    "- `patches`: handles to the graphical elements representing the histogram bars for manipulating the plot\n",
    "\n",
    "Let's draw some random numbers and illustrate the different ways of generating a histogram:"
   ]
  },
  {
   "cell_type": "code",
   "execution_count": 3,
   "metadata": {},
   "outputs": [
    {
     "data": {
      "text/plain": [
       "(array([0.04775241, 0.01591747, 0.07958735, 0.12733977, 0.20692712,\n",
       "        0.25467953, 0.270597  , 0.3820193 , 0.270597  , 0.41385424,\n",
       "        0.30243194, 0.28651447, 0.22284459, 0.12733977, 0.12733977,\n",
       "        0.04775241]),\n",
       " array([-2.74886895, -2.43474869, -2.12062843, -1.80650817, -1.49238791,\n",
       "        -1.17826765, -0.86414739, -0.55002713, -0.23590688,  0.07821338,\n",
       "         0.39233364,  0.7064539 ,  1.02057416,  1.33469442,  1.64881468,\n",
       "         1.96293494,  2.27705519]),\n",
       " <BarContainer object of 16 artists>)"
      ]
     },
     "execution_count": 3,
     "metadata": {},
     "output_type": "execute_result"
    },
    {
     "data": {
      "image/png": "[encoded data removed]",
      "text/plain": [
       "<Figure size 640x480 with 1 Axes>"
      ]
     },
     "metadata": {
      "needs_background": "light"
     },
     "output_type": "display_data"
    }
   ],
   "source": [
    "import numpy as np\n",
    "import matplotlib.pyplot as plt\n",
    "x = np.random.randn((200))  # generate 200 random numbers with standard normal distribion (mean 0, std 1)\n",
    "y = np.random.randn((200))  # generate 200 random numbers with standard normal distribion (mean 0, std 1)\n",
    "x\n",
    "\n",
    "plt.hist(x, bins=16, density=True, color='r')\n",
    "plt.hist(y, bins=16, density=True, color='g')\n"
   ]
  },
  {
   "cell_type": "markdown",
   "metadata": {},
   "source": [
    "### Mini-Exercise\n",
    "You are given 10k samples from a probablility distribution\n",
    "\n",
    "Visualize the data using a histogram with:\n",
    "- no specification of the bin number and position\n",
    "- 3 bins\n",
    "- 32 bins\n",
    "- 64 bins between 0 and 2"
   ]
  },
  {
   "cell_type": "code",
   "execution_count": 4,
   "metadata": {},
   "outputs": [],
   "source": [
    "x = np.random.weibull(2, (10_000))  # generate 10k random numbers from a probability distribution\n",
    "\n",
    "# your solution here"
   ]
  },
  {
   "cell_type": "markdown",
   "metadata": {},
   "source": [
    "## Normal distribution\n",
    "The _normal_ or _Gaussian_ distribution has a symmetrical, bell-like shape, with most data close to the mean and fewer values far away form the mean. They are fully described by their mean and standard deviation (std). Thus, if you know that something is normally distributed, all you need to (and can) know about your data are just these two numbers - mean and std. That's pretty neat!\n",
    "\n",
    "This is the formula of the probability density function (PDF) of a Normal distribution:\n",
    "$f(x | \\mu, \\sigma^2) = \\frac{1}{\\sigma \\sqrt{2\\pi}} e^{-\\frac{(x - \\mu)^2}{2\\sigma^2}}$\n",
    "\n",
    "- $f(x | \\mu, \\sigma^2)$: The probability density function of the normal distribution with mean $\\mu$ and variance $\\sigma^2$, evaluated at a specific value x.\n",
    "- $\\mu$ (mu): The mean (average) of the normal distribution, which represents its central location.\n",
    "- $\\sigma$ (sigma): The standard deviation of the normal distribution, which represents its spread or dispersion.\n",
    "\n",
    "This formula describes the shape of the normal distribution's probability density function, which is a symmetric, bell-shaped curve centered at the mean $\\mu$, with the spread determined by the standard deviation $\\sigma$. \n",
    "\n",
    "![](fig/5.01_probabilities3.png)"
   ]
  },
  {
   "cell_type": "markdown",
   "metadata": {},
   "source": [
    "## Generating random numbers in python\n",
    "Using python, we can easily generate random numbers with a specified distribution:\n",
    "- uniform: `np.random.random_sample(size=(100,))` draws samples from uniform distribution with bounds [0, 1) (0 is inclusive, 1 is not: $0\\geq x<1$).\n",
    "- random integers: `np.random.randint(low=4, high=10, size=(1,))` draws integers from a uniform distribution [low, high) (0 is inclusive, 1 is not: $0\\geq x<1$).\n",
    "- normal: `np.random.standard_normal(size)` draws samples from standard normal distribution with mean 0 and std 1.\n",
    "- random order: `np.random.permutation(list)`\n",
    "\n",
    "We will make use of this to illustrate a couple of concepts in statistics.\n",
    "\n",
    "To get reproducible random numbers (everytime the same numbers), you can call `np.random.seed(seed)`. `seed` is an arbitrary integer and fixes the state of python's random number generator.\n",
    "\n",
    "### Mini exercise\n",
    "1. Generate 1000 numbers drawn from a standard normal distribution (mean 0, std 1). Visualize the probability density using a histogram.\n",
    "2. Manipulate the same samples to change the mean to 1 and visualize the resulting density.\n",
    "3. Manipulate the same samples to change the standard deviation to 2 and visualize the resulting density."
   ]
  },
  {
   "cell_type": "code",
   "execution_count": 9,
   "metadata": {},
   "outputs": [],
   "source": [
    "# your solution here"
   ]
  },
  {
   "cell_type": "markdown",
   "metadata": {},
   "source": [
    "## Empirical mean and standard deviation\n",
    "When we define a probability distribution, for instance a Normal distribution, we can specify it's mean and standard deviation - these values are also called the _theoretical_ mean and standard deviation.\n",
    "\n",
    "But for a dataset with samples $x_1, x_2, \\ldots, x_n$ we do not know the mean and standard deviation of the underlying probability density function.\n",
    "\n",
    "However, we can calculate the _empirical_ mean and standard deviation of any distribution (not just a Normal one) using the following formulas:\n",
    "\n",
    "The __empirical mean__ (often denoted as $\\bar{x}$) is calculated as: $\\bar{x} = \\frac{1}{n} \\sum_{i=1}^{n} x_i$\n",
    "\n",
    "- $\\bar{x}$ represents the empirical mean or average.\n",
    "- $n$ is the number of data points in the dataset.\n",
    "- $x_i$ represents individual data points in the dataset, indexed from 1 to $n$.\n",
    "- $\\sum_{i=1}^{n}$ denotes summation, indicating that you should sum all the data points.\n",
    "\n",
    "The __empirical standard deviation__ (often denoted as $s$) is calculated as: $s = \\sqrt{\\frac{1}{n-1} \\sum_{i=1}^{n} (x_i - \\bar{x})^2}$\n",
    "\n",
    "- $s$ represents the empirical standard deviation.\n",
    "- $n$ is the number of data points in the dataset.\n",
    "- $\\bar{x}$ is the empirical mean or average (calculated as shown above).\n",
    "- $x_i$ represents individual data points in the dataset, indexed from 1 to $n$.\n",
    "- $\\sum_{i=1}^{n}$ denotes summation, indicating that you should sum all the squared differences between each data point and the mean.\n"
   ]
  },
  {
   "cell_type": "markdown",
   "metadata": {},
   "source": [
    "## Effect of sample size\n",
    "How close the empirical mean and standard deviation are to their true values depends on the sample size: The larger the sample size, the closer (more accurate) your estimates will be to the true values. With few samples, random outliers will strongly influence and distort the estimates. \n",
    "\n",
    "This is captured by the _law of large numbers_: It states that with increasing sample size $N$, the empirical mean (the average of the samples) tends towards the theoretical mean (the true mean of the underlying distribution). In other words: The more samples, the more the frequency of an observed event approaches the actual probability of occurrence (the probability that is theoretically expected based on the underlying probability distribution).\n",
    "\n",
    "![](fig/5.01_probabilities5.png)"
   ]
  },
  {
   "cell_type": "markdown",
   "metadata": {},
   "source": [
    "## Standard error of the mean\n",
    "The standard error of the mean measures how well the available sample size allows to estimate the true mean of the underlying distribution. The idea of this measure is the following: Imagine you draw N samples from the entire population and you calculate the empirical mean from the samples. That empirical mean will be different for different sets of N samples, depending on which individuals you measured (e.g. in one sample are a couple of very large individuals, and in another sample some particularly small individuals). The standard error of the mean measures how much the empirical means from different sets of samples of the same size will scatter.\n",
    "\n",
    "The standard error of the mean (SEM) is defined as: $\\sigma_{\\bar{x}} = \\sigma / \\sqrt{N}$\n",
    "\n",
    "- $\\sigma$: The theoretical standard deviation (the std of the underlying probability distribution)  - the more variable the underlying distribution, the less certain the mean will be.\n",
    "- $N$: size of samples. Since $N$ is in the denominator, the SEM shrinks with sample size. But, because of the square root, not linearly but with \"diminishing returns\" - doubling the sample size does not half the SEM.\n",
    "\n",
    "Note that $N$ is not always the number of samples. Sample size corresponds roughly to the number of _independent_ samples - if you measure the blood pressure in 10 mice, 10 times in a row, then you will have 100 samples but they are not all independent.\n",
    "\n",
    "![](fig/5.01_probabilities6.png)\n"
   ]
  },
  {
   "cell_type": "markdown",
   "metadata": {},
   "source": [
    "## Plots with error bars\n",
    "Plots with error bars can be generated using `plt.errorbar(x, y, yerr)` ([docs](https://matplotlib.org/stable/api/_as_gen/matplotlib.pyplot.errorbar.html)).\n",
    "\n",
    "`yerr` can be anything but is typically either the standard error of the mean (SEM) or the standard deviation. These two measures mean fundamentally different things:\n",
    "\n",
    "- _SEM_: How confident you should be about the plotted mean. This can be useful for comparing means. It decreases with sample size.\n",
    "- _STD_: How widely distributed your data is. This tells you something about the data distribution and is independent of sample size.\n",
    "\n",
    "If you see a plot with error bars, always check what they mean. And think carefully about what measure you want to choose when plotting error bars yourself."
   ]
  },
  {
   "cell_type": "code",
   "execution_count": 11,
   "metadata": {},
   "outputs": [
    {
     "data": {
      "image/png": "[encoded data removed]",
      "text/plain": [
       "<Figure size 300x300 with 1 Axes>"
      ]
     },
     "metadata": {
      "needs_background": "light"
     },
     "output_type": "display_data"
    }
   ],
   "source": [
    "# generate toy data\n",
    "x = np.arange(0, 10)\n",
    "y = 2 * x + 3\n",
    "yerr = y / 4\n",
    "\n",
    "# make a plot with error bars\n",
    "plt.figure(figsize=(3, 3))\n",
    "plt.errorbar(x, y, yerr, c='k', fmt='o-')\n",
    "plt.xlabel('x')\n",
    "plt.ylabel('y')\n",
    "plt.show()"
   ]
  }
 ],
 "metadata": {
  "kernelspec": {
   "display_name": "neu715",
   "language": "python",
   "name": "python3"
  },
  "language_info": {
   "codemirror_mode": {
    "name": "ipython",
    "version": 3
   },
   "file_extension": ".py",
   "mimetype": "text/x-python",
   "name": "python",
   "nbconvert_exporter": "python",
   "pygments_lexer": "ipython3",
   "version": "3.12.7"
  }
 },
 "nbformat": 4,
 "nbformat_minor": 4
}
