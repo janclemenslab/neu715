{
 "cells": [
  {
   "cell_type": "markdown",
   "metadata": {},
   "source": [
    "# Inferential statistics\n",
    "Often, we are not only interested in describing our data with descriptive statistics like the mean and standard deviation, but want to know whether two or more sets of measurements are likely to come from the same underlying distribution. We want to draw inferences from the data. This is what inferential statistics is about.\n",
    "\n",
    "To learn how to do this in python, let's use some example data:\n",
    "\n",
    "To test whether a new wonder drug increases the eye sight, Linda and Anabel ran the following experiment with student subjects:\n",
    "\n",
    "Experimental subjects were injected a saline solution containing 1nM of the wonder drug. Control subjects were injected saline without the drug. \n",
    "To assess the effect of the drug, eye sight was scored by testing the subjects' ability to read small text within one hour of drug injection.\n",
    "\n",
    "However, Linda and Anabel used two different experimental designs:\n",
    "1. Linda tested 100 students. 50 were injected saline only (control) and 50 were given the drug (treatment).\n",
    "2. Anabel only tested 50 students. She measured the eye sight in each subject twice: before and after the injection.\n",
    "\n",
    "Our task is now to determine whether the wonder drug really improves eye sight as tested in these two sets of experiments."
   ]
  },
  {
   "cell_type": "code",
   "execution_count": null,
   "metadata": {},
   "outputs": [],
   "source": [
    "# let's import everything we need at the top of the notebook\n",
    "import numpy as np\n",
    "import matplotlib.pyplot as plt\n",
    "import scipy\n",
    "\n",
    "plt.style.use('ncb.mplstyle')"
   ]
  },
  {
   "cell_type": "markdown",
   "metadata": {},
   "source": [
    "## What do we need to know about the data to choose the correct statistical tests?\n",
    "We want to determine whether the treatment improves of eye sight. \n",
    "What is our _Null Hypothesis_, what is our _Alternative Hypothesis_?\n",
    "\n",
    "- Null hypothesis:\n",
    "- Alternative hypothesis:\n",
    "\n",
    "What does inferential statistics do?\n",
    "With some probability:\n",
    "- prove the Null?\n",
    "- reject the Null?\n",
    "- prove the Alternative?\n",
    "- reject the Alternative?\n",
    "\n",
    "The p-value is a probability - probability of what?\n",
    "\n",
    "What decisions do we need to make to select the correct test?\n",
    "- normally dist?\n",
    "- equal variance?\n",
    "- signed/unsigned?\n",
    "- paired/unpaired? independence?\n",
    "\n",
    "## Plot your data!\n",
    "Okay, but what is the first thing you do when you get a bunch of data? Plot it!! Why? Can't we just look at summary statistics? No, they are not sufficient to fully describe the distribution and can be misleading!!\n",
    "\n",
    "Anscombe's quartet is a famous example that illustrates that fact. It shows 4 sets of data:\n",
    "\n",
    "![](fig/850px-Anscombe's_quartet_3.svg.png)\n",
    "\n",
    "These four data sets are very different, but they have similar statistics:\n",
    "- Mean of x: 9\n",
    "- Variance of x: 11\n",
    "- Mean of y: 7.50\n",
    "- Variance of y: 4.125\n",
    "- Correlation between x and y: 0.816\n",
    "- Linear regression line: y = 3.00 + 0.500x\n",
    "- Coefficient of determination of the linear regression $R^{2}$: 0.67"
   ]
  },
  {
   "cell_type": "markdown",
   "metadata": {},
   "source": [
    "<!-- An even more extreme example - the data dinosaur: -->\n",
    "<!-- ![](fig/DinoSequential-1.gif) -->"
   ]
  },
  {
   "cell_type": "markdown",
   "metadata": {},
   "source": [
    "Download the two datasets from studip (files `5.03_inferential_stats_design1b.csv` and `5.03_inferential_stats_design2b.csv`)\n",
    "\n",
    "Each file consists of three columns: animal number, treatment (0, 1), test score\n",
    "\n",
    "Load each dataset and make two plots:\n",
    "\n",
    "1. animal id vs. test score\n",
    "2. treatment vs. test score\n",
    "\n",
    "In each of the plots, color code the treatment (no treatment - black, treatment - red).\n",
    "\n",
    "### Plot dataset 1"
   ]
  },
  {
   "cell_type": "code",
   "execution_count": 2,
   "metadata": {},
   "outputs": [],
   "source": [
    "# your solution here"
   ]
  },
  {
   "cell_type": "markdown",
   "metadata": {},
   "source": [
    "### Plot dataset 2"
   ]
  },
  {
   "cell_type": "code",
   "execution_count": 3,
   "metadata": {},
   "outputs": [],
   "source": [
    "# your solution here"
   ]
  },
  {
   "cell_type": "markdown",
   "metadata": {},
   "source": [
    "### Are all samples independent? Are they paired or unpaired?"
   ]
  },
  {
   "cell_type": "markdown",
   "metadata": {},
   "source": [
    "### One-sided or two-sided?"
   ]
  },
  {
   "cell_type": "markdown",
   "metadata": {},
   "source": [
    "### Is the data normally distributed?\n",
    "The t-test assumes that the data are normally distributed. This means that the values within each group should follow a normal (Gaussian) distribution.\n",
    "\n",
    "To check for normality, we visualize the distributions, then run a statistical test. In `scipy.stats`, there are several tests for normality. Use the `scipy.stats.normaltest` ([docs](https://docs.scipy.org/doc/scipy/reference/generated/scipy.stats.normaltest.html)).\n"
   ]
  },
  {
   "cell_type": "code",
   "execution_count": 4,
   "metadata": {},
   "outputs": [],
   "source": [
    "# histogram the data"
   ]
  },
  {
   "cell_type": "markdown",
   "metadata": {},
   "source": [
    "### Mini exercise: Test for normality\n",
    "Do we run the test on the full dataset? Or on the individual groups (treatment and control) separately?\n",
    "\n",
    "How do we interpret the p-values? What's the null hypothesis when we test for normality?\n",
    "\n",
    "Check the documentation!"
   ]
  },
  {
   "cell_type": "code",
   "execution_count": 5,
   "metadata": {},
   "outputs": [],
   "source": [
    "# your solution here"
   ]
  },
  {
   "cell_type": "markdown",
   "metadata": {},
   "source": [
    "### Equal variance?\n",
    "The standard t-test assumes that the variances within the groups being compared are equal (homoscedasticity). In other words, it assumes that the spread or dispersion of the data is consistent across groups. \n",
    "\n",
    "Homoscedasticity is typically tested visually - by inspecting the data distributions - and rarely tested in practice. \n",
    "There do exist tests that compare the variance across multiple groups, like the Levene test (`scipy.stats.levene`).\n",
    "\n",
    "However, homoscedasticity is not a hard criterion, since there exists a variant of the t-test - Welch's t-test - that accounts for unequal variance (heteroscedasticity). If possible, use a test that is robust to heteroscedasticity, like Welch's the t-test."
   ]
  },
  {
   "cell_type": "markdown",
   "metadata": {},
   "source": [
    "### Mini Exercise: Run the tests\n",
    "We now know all we need to know about our samples to select the correct test:\n",
    "- paired or unpaired: no\n",
    "- normal: yes\n",
    "- homoscedasticity: ?\n",
    "- one/two-sided: one\n",
    "\n",
    "Check the docs to figure out how to use the correct test and how to interpret what is returned:\n",
    "- unpaired (independent):\n",
    "    - parametric: `scipy.stats.ttest_ind` ([docs](https://docs.scipy.org/doc/scipy/reference/generated/scipy.stats.ttest_ind.html))\n",
    "    - non-parametric (for non-normal data): `scipy.stats.mannwhitneyu` ([docs](https://docs.scipy.org/doc/scipy/reference/generated/scipy.stats.mannwhitneyu.html))\n",
    "- paired (or related):\n",
    "    - parametric: `scipy.stats.ttest_rel` ([doc](https://docs.scipy.org/doc/scipy/reference/generated/scipy.stats.ttest_rel.html))\n",
    "    - non-parametric (for non-normal data): `scipy.stats.wilcoxon` ([doc](https://docs.scipy.org/doc/scipy/reference/generated/scipy.stats.wilcoxon.html))"
   ]
  },
  {
   "cell_type": "code",
   "execution_count": 6,
   "metadata": {},
   "outputs": [],
   "source": [
    "# your solution here"
   ]
  },
  {
   "cell_type": "markdown",
   "metadata": {},
   "source": [
    "#### If you want to compare more than two groups\n",
    "\n",
    "First, detect group-level effects using \n",
    "- Anova: `scipy.stats.f_oneway`\n",
    "- non-parameteric alternative: Kruskal-Wallis test `scipy.stats.kruskal`\n",
    "\n",
    "If p<0.05, there exist a difference between the groups.\n",
    "\n",
    "To then detect which groups are different, you run a post hoc test:\n",
    "\n",
    "`scipy.stats.tukey_hsd` or `scipy.stats.dunnett`\n",
    "\n",
    "You will do this in one of the bonus exercises."
   ]
  }
 ],
 "metadata": {
  "kernelspec": {
   "display_name": "neu715",
   "language": "python",
   "name": "python3"
  },
  "language_info": {
   "codemirror_mode": {
    "name": "ipython",
    "version": 3
   },
   "file_extension": ".py",
   "mimetype": "text/x-python",
   "name": "python",
   "nbconvert_exporter": "python",
   "pygments_lexer": "ipython3",
   "version": "3.12.7"
  }
 },
 "nbformat": 4,
 "nbformat_minor": 4
}
