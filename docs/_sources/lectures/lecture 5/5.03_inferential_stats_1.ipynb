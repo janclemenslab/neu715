{
 "cells": [
  {
   "cell_type": "markdown",
   "metadata": {},
   "source": [
    "# Inferential statistics\n",
    "Often, we are not only interested in describing our data with descriptive statistics like the mean and standard deviation, but want to know whether two or more sets of measurements are likely to come from the same underlying distribution. We want to draw inferences from the data. This is what inferential statistics is about.\n",
    "\n",
    "To learn how to do this in python, let's use some example data:\n",
    "\n",
    "To test whether a new wonder drug increases the eye sight, Linda and Anabel ran the following experiment with student subjects:\n",
    "\n",
    "Experimental subjects were injected a saline solution containing 1nM of the wonder drug. Control subjects were injected saline without the drug. \n",
    "The drug is only effective for an hour or so. To assess the effect of the drug, eye sight was scored by testing the subjects' ability to read small text within one hour of drug injection.\n",
    "\n",
    "However, Linda and Anabel used two different experimental designs:\n",
    "1. Linda tested each student on ten consecutive days and measured the performance only after the experiment. She used 50 control (saline only) and 50 experimental subjects (saline+drug) - so 100 subjects in total.\n",
    "2. Anabel only performed a single test per subject, but she measured the eye sight 30 minutes before and 30 minutes after the treatment. She tested 60 different subjects.\n",
    "\n",
    "Our task is now to decide whether the wonder drug really improves eye sight as tested in these two sets of experiments.\n",
    "\n",
    "Let's start with the first dataset:"
   ]
  },
  {
   "cell_type": "code",
   "execution_count": 3,
   "metadata": {},
   "outputs": [],
   "source": [
    "import numpy as np\n",
    "import matplotlib.pyplot as plt\n",
    "import pandas as pd\n",
    "import scipy\n",
    "\n",
    "plt.style.use('ncb.mplstyle')"
   ]
  },
  {
   "cell_type": "code",
   "execution_count": 4,
   "metadata": {},
   "outputs": [
    {
     "data": {
      "text/html": [
       "<div>\n",
       "<style scoped>\n",
       "    .dataframe tbody tr th:only-of-type {\n",
       "        vertical-align: middle;\n",
       "    }\n",
       "\n",
       "    .dataframe tbody tr th {\n",
       "        vertical-align: top;\n",
       "    }\n",
       "\n",
       "    .dataframe thead th {\n",
       "        text-align: right;\n",
       "    }\n",
       "</style>\n",
       "<table border=\"1\" class=\"dataframe\">\n",
       "  <thead>\n",
       "    <tr style=\"text-align: right;\">\n",
       "      <th></th>\n",
       "      <th>animal</th>\n",
       "      <th>treatment</th>\n",
       "      <th>score_after</th>\n",
       "    </tr>\n",
       "  </thead>\n",
       "  <tbody>\n",
       "    <tr>\n",
       "      <th>0</th>\n",
       "      <td>0</td>\n",
       "      <td>0</td>\n",
       "      <td>10.053951</td>\n",
       "    </tr>\n",
       "    <tr>\n",
       "      <th>1</th>\n",
       "      <td>0</td>\n",
       "      <td>0</td>\n",
       "      <td>5.894092</td>\n",
       "    </tr>\n",
       "    <tr>\n",
       "      <th>2</th>\n",
       "      <td>0</td>\n",
       "      <td>0</td>\n",
       "      <td>13.447026</td>\n",
       "    </tr>\n",
       "    <tr>\n",
       "      <th>3</th>\n",
       "      <td>0</td>\n",
       "      <td>0</td>\n",
       "      <td>6.579613</td>\n",
       "    </tr>\n",
       "    <tr>\n",
       "      <th>4</th>\n",
       "      <td>0</td>\n",
       "      <td>0</td>\n",
       "      <td>8.482990</td>\n",
       "    </tr>\n",
       "    <tr>\n",
       "      <th>...</th>\n",
       "      <td>...</td>\n",
       "      <td>...</td>\n",
       "      <td>...</td>\n",
       "    </tr>\n",
       "    <tr>\n",
       "      <th>995</th>\n",
       "      <td>99</td>\n",
       "      <td>1</td>\n",
       "      <td>12.000260</td>\n",
       "    </tr>\n",
       "    <tr>\n",
       "      <th>996</th>\n",
       "      <td>99</td>\n",
       "      <td>1</td>\n",
       "      <td>12.277938</td>\n",
       "    </tr>\n",
       "    <tr>\n",
       "      <th>997</th>\n",
       "      <td>99</td>\n",
       "      <td>1</td>\n",
       "      <td>13.718489</td>\n",
       "    </tr>\n",
       "    <tr>\n",
       "      <th>998</th>\n",
       "      <td>99</td>\n",
       "      <td>1</td>\n",
       "      <td>14.272301</td>\n",
       "    </tr>\n",
       "    <tr>\n",
       "      <th>999</th>\n",
       "      <td>99</td>\n",
       "      <td>1</td>\n",
       "      <td>13.211777</td>\n",
       "    </tr>\n",
       "  </tbody>\n",
       "</table>\n",
       "<p>1000 rows × 3 columns</p>\n",
       "</div>"
      ],
      "text/plain": [
       "     animal  treatment  score_after\n",
       "0         0          0    10.053951\n",
       "1         0          0     5.894092\n",
       "2         0          0    13.447026\n",
       "3         0          0     6.579613\n",
       "4         0          0     8.482990\n",
       "..      ...        ...          ...\n",
       "995      99          1    12.000260\n",
       "996      99          1    12.277938\n",
       "997      99          1    13.718489\n",
       "998      99          1    14.272301\n",
       "999      99          1    13.211777\n",
       "\n",
       "[1000 rows x 3 columns]"
      ]
     },
     "metadata": {},
     "output_type": "display_data"
    }
   ],
   "source": [
    "# load and explore the data\n",
    "df1 = pd.read_csv('dat/5.03_inferential_stats_design1.csv')  # Linda's data\n",
    "display(df1)"
   ]
  },
  {
   "cell_type": "markdown",
   "metadata": {},
   "source": [
    "## What do we need to know about the data to choose the correct statistical tests?\n",
    "We want to determine whether the treatment improves of eye sight. \n",
    "What is our _Null Hypothesis_, what is our _Alternative Hypothesis_?\n",
    "\n",
    "- Null hypothesis:\n",
    "- Alternative hypothesis:\n",
    "\n",
    "What does inferential statistics do?\n",
    "With some probability:\n",
    "- prove the Null?\n",
    "- disprove the Null?\n",
    "- prove the Alternative?\n",
    "- disprove the Alternative?\n",
    "\n",
    "\n",
    "What decisions do we need to make to select the correct test?\n",
    "- ?\n",
    "- ?\n",
    "- ?\n",
    "- ?\n",
    "\n",
    "Okay, but what is the first thing you do when you get a bunch of data? Plot it!! Why? Can't we just look at summary statistics? No, they are not sufficient to fully describe the distribution and can be misleading!!\n",
    "\n",
    "Anscombe's quartet is a famous example that illustrates that fact. It shows 4 sets of data:\n",
    "\n",
    "![](fig/850px-Anscombe's_quartet_3.svg.png)\n",
    "\n",
    "These four data sets are very different, but they have similar statistics:\n",
    "- Mean of x: 9\n",
    "- Sample variance of x: 11\n",
    "- Mean of y: 7.50\n",
    "- Sample variance of y:\t4.125\n",
    "- Correlation between x and y:\t0.816\n",
    "- Linear regression line: y = 3.00 + 0.500x\n",
    "- Coefficient of determination of the linear regression $R^{2}$: 0.67"
   ]
  },
  {
   "cell_type": "markdown",
   "metadata": {},
   "source": [
    "An even more extreme example - the data dinosaur:\n",
    "<!-- ![](fig/DinoSequential-1.gif) -->"
   ]
  },
  {
   "cell_type": "markdown",
   "metadata": {},
   "source": [
    "Let's start with analyzing the first dataset:"
   ]
  },
  {
   "cell_type": "code",
   "execution_count": 5,
   "metadata": {},
   "outputs": [
    {
     "data": {
      "text/html": [
       "<div>\n",
       "<style scoped>\n",
       "    .dataframe tbody tr th:only-of-type {\n",
       "        vertical-align: middle;\n",
       "    }\n",
       "\n",
       "    .dataframe tbody tr th {\n",
       "        vertical-align: top;\n",
       "    }\n",
       "\n",
       "    .dataframe thead th {\n",
       "        text-align: right;\n",
       "    }\n",
       "</style>\n",
       "<table border=\"1\" class=\"dataframe\">\n",
       "  <thead>\n",
       "    <tr style=\"text-align: right;\">\n",
       "      <th></th>\n",
       "      <th>animal</th>\n",
       "      <th>treatment</th>\n",
       "      <th>score_after</th>\n",
       "    </tr>\n",
       "  </thead>\n",
       "  <tbody>\n",
       "    <tr>\n",
       "      <th>0</th>\n",
       "      <td>0</td>\n",
       "      <td>0</td>\n",
       "      <td>10.053951</td>\n",
       "    </tr>\n",
       "    <tr>\n",
       "      <th>1</th>\n",
       "      <td>0</td>\n",
       "      <td>0</td>\n",
       "      <td>5.894092</td>\n",
       "    </tr>\n",
       "    <tr>\n",
       "      <th>2</th>\n",
       "      <td>0</td>\n",
       "      <td>0</td>\n",
       "      <td>13.447026</td>\n",
       "    </tr>\n",
       "    <tr>\n",
       "      <th>3</th>\n",
       "      <td>0</td>\n",
       "      <td>0</td>\n",
       "      <td>6.579613</td>\n",
       "    </tr>\n",
       "    <tr>\n",
       "      <th>4</th>\n",
       "      <td>0</td>\n",
       "      <td>0</td>\n",
       "      <td>8.482990</td>\n",
       "    </tr>\n",
       "    <tr>\n",
       "      <th>...</th>\n",
       "      <td>...</td>\n",
       "      <td>...</td>\n",
       "      <td>...</td>\n",
       "    </tr>\n",
       "    <tr>\n",
       "      <th>995</th>\n",
       "      <td>99</td>\n",
       "      <td>1</td>\n",
       "      <td>12.000260</td>\n",
       "    </tr>\n",
       "    <tr>\n",
       "      <th>996</th>\n",
       "      <td>99</td>\n",
       "      <td>1</td>\n",
       "      <td>12.277938</td>\n",
       "    </tr>\n",
       "    <tr>\n",
       "      <th>997</th>\n",
       "      <td>99</td>\n",
       "      <td>1</td>\n",
       "      <td>13.718489</td>\n",
       "    </tr>\n",
       "    <tr>\n",
       "      <th>998</th>\n",
       "      <td>99</td>\n",
       "      <td>1</td>\n",
       "      <td>14.272301</td>\n",
       "    </tr>\n",
       "    <tr>\n",
       "      <th>999</th>\n",
       "      <td>99</td>\n",
       "      <td>1</td>\n",
       "      <td>13.211777</td>\n",
       "    </tr>\n",
       "  </tbody>\n",
       "</table>\n",
       "<p>1000 rows × 3 columns</p>\n",
       "</div>"
      ],
      "text/plain": [
       "     animal  treatment  score_after\n",
       "0         0          0    10.053951\n",
       "1         0          0     5.894092\n",
       "2         0          0    13.447026\n",
       "3         0          0     6.579613\n",
       "4         0          0     8.482990\n",
       "..      ...        ...          ...\n",
       "995      99          1    12.000260\n",
       "996      99          1    12.277938\n",
       "997      99          1    13.718489\n",
       "998      99          1    14.272301\n",
       "999      99          1    13.211777\n",
       "\n",
       "[1000 rows x 3 columns]"
      ]
     },
     "execution_count": 5,
     "metadata": {},
     "output_type": "execute_result"
    }
   ],
   "source": [
    "df1"
   ]
  },
  {
   "cell_type": "markdown",
   "metadata": {},
   "source": [
    "Let's plot the data:"
   ]
  },
  {
   "cell_type": "code",
   "execution_count": 10,
   "metadata": {},
   "outputs": [
    {
     "data": {
      "image/png": "[encoded data removed]",
      "text/plain": [
       "<Figure size 1200x400 with 1 Axes>"
      ]
     },
     "metadata": {
      "needs_background": "light"
     },
     "output_type": "display_data"
    }
   ],
   "source": [
    "# Split DataFrame into treatment and control parts\n",
    "experiment = df1[df1['treatment']==1]\n",
    "control = df1[df1['treatment']==0]\n",
    "\n",
    "# plot animal id (x-axis) vs. scores (y-axis)\n",
    "plt.figure(figsize=(12, 4))\n",
    "plt.plot(experiment['animal'], experiment['score_after'], 'or', alpha=0.2, label='Experiment')\n",
    "plt.plot(control['animal'], control['score_after'], 'ok', alpha=0.2, label='Control')\n",
    "plt.xlabel('Animal #')\n",
    "plt.ylabel('Score after [%]')\n",
    "plt.axvline(49.5, c='k')\n",
    "plt.legend()\n",
    "plt.show()"
   ]
  },
  {
   "cell_type": "markdown",
   "metadata": {},
   "source": [
    "### Are all samples independent? Are they paired or unpaired?"
   ]
  },
  {
   "cell_type": "code",
   "execution_count": null,
   "metadata": {},
   "outputs": [],
   "source": []
  },
  {
   "cell_type": "markdown",
   "metadata": {},
   "source": [
    "### One-sided or two-sided?\n",
    "\n",
    "![](5.03_inferential_stats_1.png)"
   ]
  },
  {
   "cell_type": "markdown",
   "metadata": {},
   "source": [
    "### Is the data normally distributed?\n",
    "The t-test assumes that the data in the sample are normally distributed in the population. This means that the values within each group or sample should follow a normal (Gaussian) distribution. This assumption is related to the parameters of the normal distribution, such as the mean and standard deviation.\n",
    "\n",
    "To check for normality, we visualize the distributions, then run a statistical test. In `scipy.stats`, there are multiple tests for normality. We will use `scipy.stats.normaltest`, which uses the skew and kurtosis as statistics."
   ]
  },
  {
   "cell_type": "code",
   "execution_count": 13,
   "metadata": {},
   "outputs": [],
   "source": [
    "# histogram the data\n"
   ]
  },
  {
   "cell_type": "markdown",
   "metadata": {},
   "source": [
    "### Mini exercise: Test for normality\n",
    "Do we run the test on the full dataset? Or on the individual groups (treatment and control) separately?\n",
    "\n",
    "How do we interpret the p-values? What's the null hypothesis when we test for normality?"
   ]
  },
  {
   "cell_type": "code",
   "execution_count": null,
   "metadata": {},
   "outputs": [],
   "source": [
    "# your solution here"
   ]
  },
  {
   "cell_type": "markdown",
   "metadata": {},
   "source": [
    "If the p-value is less than the significance level, you may reject the null hypothesis and conclude that there is a statistically significant difference. This means:\n",
    "- With 95% probability, the sample does not originate from a normal distribution with the mean value μ0.\n",
    "- In 5% of cases, however, the significant difference may have been a result of chance, within the distribution of the null hypothesis."
   ]
  },
  {
   "cell_type": "markdown",
   "metadata": {},
   "source": [
    "### Equal variance?\n",
    "The independent samples t-test (and its variants) assumes that the variances within the groups being compared are equal (homoscedasticity). In other words, it assumes that the spread or dispersion of the data is consistent across groups. This assumption is also related to population parameters. \n",
    "\n",
    "However, homoscedasticity is not a hard criterion, since there exitss a variant of the t-test - Welch's t-test - that accounts for unequal variance (heteroscedasticity).\n",
    "\n",
    "Homoscedasticity is typically tested visually - by inspecting the data distributions - and rarely tested in practice. There do exist tests that compare the variance across multiple groups, like Levene test (`scipy.stats.levene`).\n",
    "\n",
    "But, it's best to use statistical tests that do not require equal variance, like Welch's variant of the t-test)."
   ]
  },
  {
   "cell_type": "markdown",
   "metadata": {},
   "source": [
    "### Mini Exercise: Run the tests\n",
    "We now know all we need to know about our samples to select the correct test:\n",
    "- paired or unpaired: ?\n",
    "- normal: ?\n",
    "- homoscedasticity: ?\n",
    "- one/two-sided: ?\n",
    "\n",
    "Check the docs to figure out how to use the correct test:\n",
    "- unpaired (independent):\n",
    "    - parametric: `scipy.stats.ttest_ind` ([docs](https://docs.scipy.org/doc/scipy/reference/generated/scipy.stats.ttest_ind.html))\n",
    "    - non-parametric (for non-normal data): `scipy.stats.mannwhitneyu` ([docs](https://docs.scipy.org/doc/scipy/reference/generated/scipy.stats.mannwhitneyu.html))\n",
    "- paired (or related):\n",
    "    - parametric: `scipy.stats.ttest_rel` ([doc](https://docs.scipy.org/doc/scipy/reference/generated/scipy.stats.ttest_rel.html))\n",
    "    - non-parametric (for non-normal data): `scipy.stats.wilcoxon` ([doc](https://docs.scipy.org/doc/scipy/reference/generated/scipy.stats.wilcoxon.html))"
   ]
  },
  {
   "cell_type": "code",
   "execution_count": 12,
   "metadata": {},
   "outputs": [],
   "source": [
    "# your solution here"
   ]
  },
  {
   "cell_type": "markdown",
   "metadata": {},
   "source": [
    "#### If you want to compare more than two groups\n",
    "\n",
    "First, detect group-level effects using \n",
    "- Anova: `scipy.stats.f_oneway`\n",
    "- non-parameteric alternative: Kruskal-Wallis test `scipy.stats.kruskal`\n",
    "\n",
    "If p<0.05, there exist a difference between the groups.\n",
    "\n",
    "To then detect which groups are different, you run a post hoc test:\n",
    "\n",
    "`scipy.stats.tukey_hsd` or `scipy.stats.dunnett`\n",
    "\n",
    "You will do this in one of the bonus exercises."
   ]
  }
 ],
 "metadata": {
  "interpreter": {
   "hash": "7ea0ec616133ead53c1908c8f6539f5c0cb9b2f78368e2bb6ab3f847e89ca400"
  },
  "kernelspec": {
   "display_name": "Python 3.7.6 64-bit ('base': conda)",
   "name": "python3"
  },
  "language_info": {
   "codemirror_mode": {
    "name": "ipython",
    "version": 3
   },
   "file_extension": ".py",
   "mimetype": "text/x-python",
   "name": "python",
   "nbconvert_exporter": "python",
   "pygments_lexer": "ipython3",
   "version": "3.12.0"
  }
 },
 "nbformat": 4,
 "nbformat_minor": 2
}
