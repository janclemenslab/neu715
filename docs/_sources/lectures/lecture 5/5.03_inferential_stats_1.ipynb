{
 "cells": [
  {
   "cell_type": "markdown",
   "metadata": {},
   "source": [
    "# Inferential statistics\n",
    "Often, we are not only interested in describing our data with descriptive statistics like the mean and standard deviation, but want to know whether two or more sets of measurements are likely to come from the same underlying distribution. We want to draw inferences from the data. This is what inferential statistics is about.\n",
    "\n",
    "To learn how to do this in python, let's use some example data:\n",
    "\n",
    "To test whether a new wonder drug increases the eye sight, Linda and Anabel ran the following experiment with student subjects:\n",
    "\n",
    "Experimental subjects were injected a saline solution containing 1nM of the wonder drug. Control subjects were injected saline without the drug. \n",
    "The drug is only effective for an hour or so. To assess the effect of the drug, eye sight was scored by testing the subjects' ability to read small text within one hour of drug injection.\n",
    "\n",
    "However, Linda and Anabel used two different experimental designs:\n",
    "1. Linda tested each student on ten consecutive days and measured the performance after each experiment. She used 50 control (saline only) and 50 experimental subjects (saline+drug) - so 100 subjects in total, 10 measurements (score after injection) per subject.\n",
    "2. Anabel only performed a single test per subject, but she measured the eye sight 30 minutes before and 30 minutes after the treatment. She tested 60 different subjects with two measurements each (score before and score after injection).\n",
    "\n",
    "Our task is now to determine whether the wonder drug really improves eye sight as tested in these two sets of experiments.\n",
    "\n",
    "Let's start with the first dataset:"
   ]
  },
  {
   "cell_type": "code",
   "execution_count": 2,
   "metadata": {},
   "outputs": [],
   "source": [
    "import numpy as np\n",
    "import matplotlib.pyplot as plt\n",
    "import pandas as pd\n",
    "import scipy\n",
    "\n",
    "plt.style.use('ncb.mplstyle')"
   ]
  },
  {
   "cell_type": "code",
   "execution_count": 3,
   "metadata": {},
   "outputs": [
    {
     "data": {
      "text/html": [
       "<div>\n",
       "<style scoped>\n",
       "    .dataframe tbody tr th:only-of-type {\n",
       "        vertical-align: middle;\n",
       "    }\n",
       "\n",
       "    .dataframe tbody tr th {\n",
       "        vertical-align: top;\n",
       "    }\n",
       "\n",
       "    .dataframe thead th {\n",
       "        text-align: right;\n",
       "    }\n",
       "</style>\n",
       "<table border=\"1\" class=\"dataframe\">\n",
       "  <thead>\n",
       "    <tr style=\"text-align: right;\">\n",
       "      <th></th>\n",
       "      <th>animal</th>\n",
       "      <th>treatment</th>\n",
       "      <th>score_after</th>\n",
       "    </tr>\n",
       "  </thead>\n",
       "  <tbody>\n",
       "    <tr>\n",
       "      <th>0</th>\n",
       "      <td>0</td>\n",
       "      <td>0</td>\n",
       "      <td>10.053951</td>\n",
       "    </tr>\n",
       "    <tr>\n",
       "      <th>1</th>\n",
       "      <td>0</td>\n",
       "      <td>0</td>\n",
       "      <td>5.894092</td>\n",
       "    </tr>\n",
       "    <tr>\n",
       "      <th>2</th>\n",
       "      <td>0</td>\n",
       "      <td>0</td>\n",
       "      <td>13.447026</td>\n",
       "    </tr>\n",
       "    <tr>\n",
       "      <th>3</th>\n",
       "      <td>0</td>\n",
       "      <td>0</td>\n",
       "      <td>6.579613</td>\n",
       "    </tr>\n",
       "    <tr>\n",
       "      <th>4</th>\n",
       "      <td>0</td>\n",
       "      <td>0</td>\n",
       "      <td>8.482990</td>\n",
       "    </tr>\n",
       "    <tr>\n",
       "      <th>...</th>\n",
       "      <td>...</td>\n",
       "      <td>...</td>\n",
       "      <td>...</td>\n",
       "    </tr>\n",
       "    <tr>\n",
       "      <th>995</th>\n",
       "      <td>99</td>\n",
       "      <td>1</td>\n",
       "      <td>12.000260</td>\n",
       "    </tr>\n",
       "    <tr>\n",
       "      <th>996</th>\n",
       "      <td>99</td>\n",
       "      <td>1</td>\n",
       "      <td>12.277938</td>\n",
       "    </tr>\n",
       "    <tr>\n",
       "      <th>997</th>\n",
       "      <td>99</td>\n",
       "      <td>1</td>\n",
       "      <td>13.718489</td>\n",
       "    </tr>\n",
       "    <tr>\n",
       "      <th>998</th>\n",
       "      <td>99</td>\n",
       "      <td>1</td>\n",
       "      <td>14.272301</td>\n",
       "    </tr>\n",
       "    <tr>\n",
       "      <th>999</th>\n",
       "      <td>99</td>\n",
       "      <td>1</td>\n",
       "      <td>13.211777</td>\n",
       "    </tr>\n",
       "  </tbody>\n",
       "</table>\n",
       "<p>1000 rows × 3 columns</p>\n",
       "</div>"
      ],
      "text/plain": [
       "     animal  treatment  score_after\n",
       "0         0          0    10.053951\n",
       "1         0          0     5.894092\n",
       "2         0          0    13.447026\n",
       "3         0          0     6.579613\n",
       "4         0          0     8.482990\n",
       "..      ...        ...          ...\n",
       "995      99          1    12.000260\n",
       "996      99          1    12.277938\n",
       "997      99          1    13.718489\n",
       "998      99          1    14.272301\n",
       "999      99          1    13.211777\n",
       "\n",
       "[1000 rows x 3 columns]"
      ]
     },
     "metadata": {},
     "output_type": "display_data"
    }
   ],
   "source": [
    "# load and explore the data\n",
    "df1 = pd.read_csv('dat/5.03_inferential_stats_design1.csv')  # Linda's data\n",
    "display(df1)"
   ]
  },
  {
   "cell_type": "markdown",
   "metadata": {},
   "source": [
    "## What do we need to know about the data to choose the correct statistical tests?\n",
    "We want to determine whether the treatment improves of eye sight. \n",
    "What is our _Null Hypothesis_, what is our _Alternative Hypothesis_?\n",
    "\n",
    "- Null hypothesis:\n",
    "- Alternative hypothesis:\n",
    "\n",
    "What does inferential statistics do?\n",
    "With some probability:\n",
    "- prove the Null?\n",
    "- disprove the Null?\n",
    "- prove the Alternative?\n",
    "- disprove the Alternative?\n",
    "\n",
    "The p-value is a probability - probability of what?\n",
    "\n",
    "What decisions do we need to make to select the correct test?\n",
    "- normally dist?\n",
    "- equal variance?\n",
    "- signed/unsigned?\n",
    "- paired/unpaired? independence?\n",
    "\n",
    "Okay, but what is the first thing you do when you get a bunch of data? Plot it!! Why? Can't we just look at summary statistics? No, they are not sufficient to fully describe the distribution and can be misleading!!\n",
    "\n",
    "Anscombe's quartet is a famous example that illustrates that fact. It shows 4 sets of data:\n",
    "\n",
    "![](fig/850px-Anscombe's_quartet_3.svg.png)\n",
    "\n",
    "These four data sets are very different, but they have similar statistics:\n",
    "- Mean of x: 9\n",
    "- Sample variance of x: 11\n",
    "- Mean of y: 7.50\n",
    "- Sample variance of y:\t4.125\n",
    "- Correlation between x and y:\t0.816\n",
    "- Linear regression line: y = 3.00 + 0.500x\n",
    "- Coefficient of determination of the linear regression $R^{2}$: 0.67"
   ]
  },
  {
   "cell_type": "markdown",
   "metadata": {},
   "source": [
    "An even more extreme example - the data dinosaur:\n",
    "![](fig/DinoSequential-1.gif)"
   ]
  },
  {
   "cell_type": "markdown",
   "metadata": {},
   "source": [
    "Let's start with analyzing the first dataset:"
   ]
  },
  {
   "cell_type": "code",
   "execution_count": 5,
   "metadata": {},
   "outputs": [
    {
     "data": {
      "text/html": [
       "<div>\n",
       "<style scoped>\n",
       "    .dataframe tbody tr th:only-of-type {\n",
       "        vertical-align: middle;\n",
       "    }\n",
       "\n",
       "    .dataframe tbody tr th {\n",
       "        vertical-align: top;\n",
       "    }\n",
       "\n",
       "    .dataframe thead th {\n",
       "        text-align: right;\n",
       "    }\n",
       "</style>\n",
       "<table border=\"1\" class=\"dataframe\">\n",
       "  <thead>\n",
       "    <tr style=\"text-align: right;\">\n",
       "      <th></th>\n",
       "      <th>animal</th>\n",
       "      <th>treatment</th>\n",
       "      <th>score_after</th>\n",
       "    </tr>\n",
       "  </thead>\n",
       "  <tbody>\n",
       "    <tr>\n",
       "      <th>0</th>\n",
       "      <td>0</td>\n",
       "      <td>0</td>\n",
       "      <td>10.053951</td>\n",
       "    </tr>\n",
       "    <tr>\n",
       "      <th>1</th>\n",
       "      <td>0</td>\n",
       "      <td>0</td>\n",
       "      <td>5.894092</td>\n",
       "    </tr>\n",
       "    <tr>\n",
       "      <th>2</th>\n",
       "      <td>0</td>\n",
       "      <td>0</td>\n",
       "      <td>13.447026</td>\n",
       "    </tr>\n",
       "    <tr>\n",
       "      <th>3</th>\n",
       "      <td>0</td>\n",
       "      <td>0</td>\n",
       "      <td>6.579613</td>\n",
       "    </tr>\n",
       "    <tr>\n",
       "      <th>4</th>\n",
       "      <td>0</td>\n",
       "      <td>0</td>\n",
       "      <td>8.482990</td>\n",
       "    </tr>\n",
       "    <tr>\n",
       "      <th>...</th>\n",
       "      <td>...</td>\n",
       "      <td>...</td>\n",
       "      <td>...</td>\n",
       "    </tr>\n",
       "    <tr>\n",
       "      <th>995</th>\n",
       "      <td>99</td>\n",
       "      <td>1</td>\n",
       "      <td>12.000260</td>\n",
       "    </tr>\n",
       "    <tr>\n",
       "      <th>996</th>\n",
       "      <td>99</td>\n",
       "      <td>1</td>\n",
       "      <td>12.277938</td>\n",
       "    </tr>\n",
       "    <tr>\n",
       "      <th>997</th>\n",
       "      <td>99</td>\n",
       "      <td>1</td>\n",
       "      <td>13.718489</td>\n",
       "    </tr>\n",
       "    <tr>\n",
       "      <th>998</th>\n",
       "      <td>99</td>\n",
       "      <td>1</td>\n",
       "      <td>14.272301</td>\n",
       "    </tr>\n",
       "    <tr>\n",
       "      <th>999</th>\n",
       "      <td>99</td>\n",
       "      <td>1</td>\n",
       "      <td>13.211777</td>\n",
       "    </tr>\n",
       "  </tbody>\n",
       "</table>\n",
       "<p>1000 rows × 3 columns</p>\n",
       "</div>"
      ],
      "text/plain": [
       "     animal  treatment  score_after\n",
       "0         0          0    10.053951\n",
       "1         0          0     5.894092\n",
       "2         0          0    13.447026\n",
       "3         0          0     6.579613\n",
       "4         0          0     8.482990\n",
       "..      ...        ...          ...\n",
       "995      99          1    12.000260\n",
       "996      99          1    12.277938\n",
       "997      99          1    13.718489\n",
       "998      99          1    14.272301\n",
       "999      99          1    13.211777\n",
       "\n",
       "[1000 rows x 3 columns]"
      ]
     },
     "execution_count": 5,
     "metadata": {},
     "output_type": "execute_result"
    }
   ],
   "source": [
    "df1"
   ]
  },
  {
   "cell_type": "markdown",
   "metadata": {},
   "source": [
    "Let's plot the data:"
   ]
  },
  {
   "cell_type": "code",
   "execution_count": 10,
   "metadata": {},
   "outputs": [
    {
     "data": {
      "image/png": "[encoded data removed]",
      "text/plain": [
       "<Figure size 1200x400 with 1 Axes>"
      ]
     },
     "metadata": {
      "needs_background": "light"
     },
     "output_type": "display_data"
    }
   ],
   "source": [
    "# Split DataFrame into treatment and control parts\n",
    "experiment = df1[df1['treatment']==1]\n",
    "control = df1[df1['treatment']==0]\n",
    "\n",
    "# plot animal id (x-axis) vs. scores (y-axis)\n",
    "plt.figure(figsize=(12, 4))\n",
    "plt.plot(experiment['animal'], experiment['score_after'], 'or', alpha=0.2, label='Experiment')\n",
    "plt.plot(control['animal'], control['score_after'], 'ok', alpha=0.2, label='Control')\n",
    "plt.xlabel('Animal #') \n",
    "plt.ylabel('Score after [%]')\n",
    "plt.axvline(49.5, c='k')\n",
    "plt.legend()\n",
    "plt.show()"
   ]
  },
  {
   "cell_type": "markdown",
   "metadata": {},
   "source": [
    "### Are all samples independent? Are they paired or unpaired?"
   ]
  },
  {
   "cell_type": "code",
   "execution_count": 8,
   "metadata": {},
   "outputs": [
    {
     "data": {
      "text/html": [
       "<div>\n",
       "<style scoped>\n",
       "    .dataframe tbody tr th:only-of-type {\n",
       "        vertical-align: middle;\n",
       "    }\n",
       "\n",
       "    .dataframe tbody tr th {\n",
       "        vertical-align: top;\n",
       "    }\n",
       "\n",
       "    .dataframe thead th {\n",
       "        text-align: right;\n",
       "    }\n",
       "</style>\n",
       "<table border=\"1\" class=\"dataframe\">\n",
       "  <thead>\n",
       "    <tr style=\"text-align: right;\">\n",
       "      <th></th>\n",
       "      <th>animal</th>\n",
       "      <th>treatment</th>\n",
       "      <th>score_after</th>\n",
       "    </tr>\n",
       "  </thead>\n",
       "  <tbody>\n",
       "    <tr>\n",
       "      <th>0</th>\n",
       "      <td>0</td>\n",
       "      <td>0</td>\n",
       "      <td>9.097427</td>\n",
       "    </tr>\n",
       "    <tr>\n",
       "      <th>1</th>\n",
       "      <td>1</td>\n",
       "      <td>0</td>\n",
       "      <td>15.234215</td>\n",
       "    </tr>\n",
       "    <tr>\n",
       "      <th>2</th>\n",
       "      <td>2</td>\n",
       "      <td>0</td>\n",
       "      <td>10.425896</td>\n",
       "    </tr>\n",
       "    <tr>\n",
       "      <th>3</th>\n",
       "      <td>3</td>\n",
       "      <td>0</td>\n",
       "      <td>11.675589</td>\n",
       "    </tr>\n",
       "    <tr>\n",
       "      <th>4</th>\n",
       "      <td>4</td>\n",
       "      <td>0</td>\n",
       "      <td>13.972324</td>\n",
       "    </tr>\n",
       "    <tr>\n",
       "      <th>...</th>\n",
       "      <td>...</td>\n",
       "      <td>...</td>\n",
       "      <td>...</td>\n",
       "    </tr>\n",
       "    <tr>\n",
       "      <th>95</th>\n",
       "      <td>95</td>\n",
       "      <td>1</td>\n",
       "      <td>13.760092</td>\n",
       "    </tr>\n",
       "    <tr>\n",
       "      <th>96</th>\n",
       "      <td>96</td>\n",
       "      <td>1</td>\n",
       "      <td>13.203628</td>\n",
       "    </tr>\n",
       "    <tr>\n",
       "      <th>97</th>\n",
       "      <td>97</td>\n",
       "      <td>1</td>\n",
       "      <td>16.347525</td>\n",
       "    </tr>\n",
       "    <tr>\n",
       "      <th>98</th>\n",
       "      <td>98</td>\n",
       "      <td>1</td>\n",
       "      <td>16.062462</td>\n",
       "    </tr>\n",
       "    <tr>\n",
       "      <th>99</th>\n",
       "      <td>99</td>\n",
       "      <td>1</td>\n",
       "      <td>13.570623</td>\n",
       "    </tr>\n",
       "  </tbody>\n",
       "</table>\n",
       "<p>100 rows × 3 columns</p>\n",
       "</div>"
      ],
      "text/plain": [
       "    animal  treatment  score_after\n",
       "0        0          0     9.097427\n",
       "1        1          0    15.234215\n",
       "2        2          0    10.425896\n",
       "3        3          0    11.675589\n",
       "4        4          0    13.972324\n",
       "..     ...        ...          ...\n",
       "95      95          1    13.760092\n",
       "96      96          1    13.203628\n",
       "97      97          1    16.347525\n",
       "98      98          1    16.062462\n",
       "99      99          1    13.570623\n",
       "\n",
       "[100 rows x 3 columns]"
      ]
     },
     "metadata": {},
     "output_type": "display_data"
    },
    {
     "name": "stdout",
     "output_type": "stream",
     "text": [
      "N before averaging 1000 , N after averaging 100\n"
     ]
    },
    {
     "data": {
      "image/png": "[encoded data removed]",
      "text/plain": [
       "<Figure size 600x400 with 1 Axes>"
      ]
     },
     "metadata": {
      "needs_background": "light"
     },
     "output_type": "display_data"
    }
   ],
   "source": [
    "# Data from design 1 - average the repeated tests for each animal\n",
    "\n",
    "dict_grouped = {'animal': [], 'treatment': [], 'score_after': []}  # initialize a dictionary with empty lists for holding the values\n",
    "for animal in df1['animal'].unique():  # iterate over all animals\n",
    "    this_animal = df1[df1['animal']==animal]  # get the part of the table for the current animal\n",
    "    dict_grouped['animal'].append(animal)  # store the animal number\n",
    "    dict_grouped['treatment'].append(this_animal['treatment'].iloc[0])  # store the treament (0/1)\n",
    "    dict_grouped['score_after'].append(np.mean(this_animal['score_after']))  # compute and store the trial-averaged score for the current animal\n",
    "\n",
    "# make DataFrame from dict\n",
    "df1_avg = pd.DataFrame(dict_grouped)\n",
    "df1_avg.to_csv('dat/5.03_inferential_stats_design1_clean.csv')\n",
    "\n",
    "display(df1_avg)\n",
    "print('N before averaging', df1.shape[0],', N after averaging', df1_avg.shape[0])\n",
    "\n",
    "# Plot the aggregated data as a control\n",
    "experiment = df1_avg[df1_avg['treatment']==1]\n",
    "control = df1_avg[df1_avg['treatment']==0]\n",
    "\n",
    "plt.figure(figsize=(6, 4))\n",
    "plt.plot(experiment['animal'], experiment['score_after'], 'or', alpha=0.2, label='Experiment')\n",
    "plt.plot(control['animal'], control['score_after'], 'ok', alpha=0.2, label='Control')\n",
    "plt.xlabel('Animal #')\n",
    "plt.ylabel('Score after [%]')\n",
    "plt.axvline(49.5, c='k')\n",
    "plt.legend()\n",
    "plt.show()"
   ]
  },
  {
   "cell_type": "markdown",
   "metadata": {},
   "source": [
    "### One-sided or two-sided?\n",
    "\n",
    "![](5.03_inferential_stats_1.png)"
   ]
  },
  {
   "cell_type": "markdown",
   "metadata": {},
   "source": [
    "### Is the data normally distributed?\n",
    "The t-test assumes that the data in the sample are normally distributed in the population. This means that the values within each group should follow a normal (Gaussian) distribution. This assumption is related to the parameters of the normal distribution, such as the mean and standard deviation.\n",
    "\n",
    "To check for normality, we visualize the distributions, then run a statistical test. In `scipy.stats`, there are several tests for normality. We will use `scipy.stats.normaltest`, which derives a p-values based on the skew and kurtosis of the data."
   ]
  },
  {
   "cell_type": "code",
   "execution_count": 6,
   "metadata": {},
   "outputs": [
    {
     "data": {
      "image/png": "[encoded data removed]",
      "text/plain": [
       "<Figure size 640x480 with 1 Axes>"
      ]
     },
     "metadata": {
      "needs_background": "light"
     },
     "output_type": "display_data"
    }
   ],
   "source": [
    "# histogram the data\n",
    "# Data from design 1\n",
    "experiment = df1_avg[df1_avg['treatment']==1]\n",
    "control = df1_avg[df1_avg['treatment']==0]\n",
    "\n",
    "plt.hist(control['score_after'], color='k', alpha=0.33, label='Control')\n",
    "plt.hist(experiment['score_after'], color='r', alpha=0.33, label='Experiment')\n",
    "plt.legend()\n",
    "plt.show()"
   ]
  },
  {
   "cell_type": "markdown",
   "metadata": {},
   "source": [
    "### Mini exercise: Test for normality\n",
    "Do we run the test on the full dataset? Or on the individual groups (treatment and control) separately?\n",
    "\n",
    "How do we interpret the p-values? What's the null hypothesis when we test for normality?"
   ]
  },
  {
   "cell_type": "code",
   "execution_count": 18,
   "metadata": {},
   "outputs": [
    {
     "name": "stdout",
     "output_type": "stream",
     "text": [
      "NormaltestResult(statistic=0.977665116203375, pvalue=0.61334201754807)\n",
      "NormaltestResult(statistic=1.3550283711604612, pvalue=0.5078779147507373)\n"
     ]
    }
   ],
   "source": [
    "# your solution here\n",
    "print(scipy.stats.normaltest(df1_avg[df1_avg['treatment']==0]['score_after']))\n",
    "print(scipy.stats.normaltest(df1_avg[df1_avg['treatment']==1]['score_after']))"
   ]
  },
  {
   "cell_type": "markdown",
   "metadata": {},
   "source": [
    "If the p-value is less than the significance level, you may reject the null hypothesis and conclude that there is a statistically significant difference. This means:\n",
    "- With 95% probability, the sample does not originate from a normal distribution with the mean value μ0.\n",
    "- In 5% of cases, however, the significant difference may have been a result of chance, within the distribution of the null hypothesis."
   ]
  },
  {
   "cell_type": "markdown",
   "metadata": {},
   "source": [
    "### Equal variance?\n",
    "The independent samples t-test (and its variants) assumes that the variances within the groups being compared are equal (homoscedasticity). In other words, it assumes that the spread or dispersion of the data is consistent across groups. This assumption is also related to population parameters. \n",
    "\n",
    "However, homoscedasticity is not a hard criterion, since there exitss a variant of the t-test - Welch's t-test - that accounts for unequal variance (heteroscedasticity).\n",
    "\n",
    "Homoscedasticity is typically tested visually - by inspecting the data distributions - and rarely tested in practice. There do exist tests that compare the variance across multiple groups, like Levene test (`scipy.stats.levene`).\n",
    "\n",
    "But, it's best to use statistical tests that do not require equal variance, like Welch's variant of the t-test."
   ]
  },
  {
   "cell_type": "markdown",
   "metadata": {},
   "source": [
    "### Mini Exercise: Run the tests\n",
    "We now know all we need to know about our samples to select the correct test:\n",
    "- paired or unpaired: no\n",
    "- normal: yes\n",
    "- homoscedasticity: ?\n",
    "- one/two-sided: one\n",
    "\n",
    "Check the docs to figure out how to use the correct test:\n",
    "- unpaired (independent):\n",
    "    - parametric: `scipy.stats.ttest_ind` ([docs](https://docs.scipy.org/doc/scipy/reference/generated/scipy.stats.ttest_ind.html))\n",
    "    - non-parametric (for non-normal data): `scipy.stats.mannwhitneyu` ([docs](https://docs.scipy.org/doc/scipy/reference/generated/scipy.stats.mannwhitneyu.html))\n",
    "- paired (or related):\n",
    "    - parametric: `scipy.stats.ttest_rel` ([doc](https://docs.scipy.org/doc/scipy/reference/generated/scipy.stats.ttest_rel.html))\n",
    "    - non-parametric (for non-normal data): `scipy.stats.wilcoxon` ([doc](https://docs.scipy.org/doc/scipy/reference/generated/scipy.stats.wilcoxon.html))"
   ]
  },
  {
   "cell_type": "code",
   "execution_count": 30,
   "metadata": {},
   "outputs": [
    {
     "data": {
      "text/plain": [
       "TtestResult(statistic=-12.363139612077164, pvalue=5.109456570496495e-22, df=97.9954921844401)"
      ]
     },
     "execution_count": 30,
     "metadata": {},
     "output_type": "execute_result"
    }
   ],
   "source": [
    "# your solution here\n",
    "control = df1_avg[df1_avg['treatment']==0]\n",
    "treatment = df1_avg[df1_avg['treatment']==1]\n",
    "\n",
    "scipy.stats.ttest_ind(control['score_after'], treatment['score_after'], equal_var=False, alternative='less')"
   ]
  },
  {
   "cell_type": "markdown",
   "metadata": {},
   "source": [
    "#### If you want to compare more than two groups\n",
    "\n",
    "First, detect group-level effects using \n",
    "- Anova: `scipy.stats.f_oneway`\n",
    "- non-parameteric alternative: Kruskal-Wallis test `scipy.stats.kruskal`\n",
    "\n",
    "If p<0.05, there exist a difference between the groups.\n",
    "\n",
    "To then detect which groups are different, you run a post hoc test:\n",
    "\n",
    "`scipy.stats.tukey_hsd` or `scipy.stats.dunnett`\n",
    "\n",
    "You will do this in one of the bonus exercises."
   ]
  },
  {
   "cell_type": "code",
   "execution_count": null,
   "metadata": {},
   "outputs": [],
   "source": []
  }
 ],
 "metadata": {
  "interpreter": {
   "hash": "7ea0ec616133ead53c1908c8f6539f5c0cb9b2f78368e2bb6ab3f847e89ca400"
  },
  "kernelspec": {
   "display_name": "Python 3 (ipykernel)",
   "language": "python",
   "name": "python3"
  },
  "language_info": {
   "codemirror_mode": {
    "name": "ipython",
    "version": 3
   },
   "file_extension": ".py",
   "mimetype": "text/x-python",
   "name": "python",
   "nbconvert_exporter": "python",
   "pygments_lexer": "ipython3",
   "version": "3.12.0"
  }
 },
 "nbformat": 4,
 "nbformat_minor": 4
}
