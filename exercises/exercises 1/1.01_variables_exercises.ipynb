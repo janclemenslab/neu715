{
 "cells": [
  {
   "cell_type": "markdown",
   "metadata": {},
   "source": [
    "# Exercises 1.1 - Variables\n",
    "\n",
    "## Exercises 1 - Variables and arithmetic\n",
    "### Compute the density of a whale using variables\n",
    "Mabel and Jolanda, our friends from the department of marine biology, ask us to help them with automating a computation for them.\n",
    "They have measured the weight and volume of Keiko, a whale they are tracking:\n",
    "- mass 41928 kg\n",
    "- volume 77.05 m^3\n",
    "\n",
    "They want to know Keiko's density. Knowing only basic python, they compute the whale's density as the ratio of these mass and volume:"
   ]
  },
  {
   "cell_type": "code",
   "execution_count": 1,
   "metadata": {},
   "outputs": [
    {
     "data": {
      "text/plain": [
       "544.1661258922777"
      ]
     },
     "execution_count": 1,
     "metadata": {},
     "output_type": "execute_result"
    }
   ],
   "source": [
    "41928 / 77.05"
   ]
  },
  {
   "cell_type": "markdown",
   "metadata": {},
   "source": [
    "This code has several disadvantages:\n",
    "- it is inflexible: data values and computation are mixed\n",
    "- it is not readable: unclear from reading the code alone what the two values are and what the code does!\n",
    "\n",
    "### Improve the code using variables\n",
    "- make it flexible: separate data and computation by creating two variables for mass and volume and by computing the density as the ratio of the two\n",
    "- make it readable: give your variables meaningful names that indicate their content - do not use `a` and `b`. Add comments to indicate the variables' units."
   ]
  },
  {
   "cell_type": "code",
   "execution_count": 3,
   "metadata": {},
   "outputs": [],
   "source": [
    "# your code here"
   ]
  },
  {
   "cell_type": "markdown",
   "metadata": {},
   "source": [
    "### Compute the whales' combined mass and volume, their individual densities, and the average of their densities.\n",
    "Mabel and Jolanda, our friends from the department of marine biology, need to ship Keiko and her mate, Moby, to the pacific (don't ask why). To know whether the capacity of our container is sufficient, they need to know their combined mass, their combined volume, and their average density. They need our help again!!\n",
    "\n",
    "Execute below cell once to create the variables for the whales' individual volumes and masses.\n",
    "Then perform the computations on these variables in the cell \"COMPUTATION!\" below that."
   ]
  },
  {
   "cell_type": "code",
   "execution_count": 4,
   "metadata": {},
   "outputs": [],
   "source": [
    "mass_keiko = 41928  # kg\n",
    "vol_keiko = 77.05  # m^3\n",
    "\n",
    "mass_moby = 38653  # kg\n",
    "vol_moby = 67.23  # m^3"
   ]
  },
  {
   "cell_type": "code",
   "execution_count": 5,
   "metadata": {},
   "outputs": [],
   "source": [
    "# COMPUTATION!\n",
    "# your solution here\n",
    "combined_mass = ...\n",
    "combined_volume = ...\n",
    "\n",
    "density_keiko = ...\n",
    "density_moby = ...\n",
    "\n",
    "average_density = ..."
   ]
  },
  {
   "cell_type": "markdown",
   "metadata": {},
   "source": [
    "## Exercise 2 - Calculate the area and the volume of a cube.\n",
    "Here are the formulae for area and volume:\n",
    "- area = width * depth (area of the base of the cube)\n",
    "- volume = width * depth * height = area * height\n",
    "\n",
    "Make your code efficient by re-using already calculated results."
   ]
  },
  {
   "cell_type": "code",
   "execution_count": 5,
   "metadata": {},
   "outputs": [],
   "source": [
    "# use these variables\n",
    "width = 10\n",
    "depth = 2\n",
    "height = 100\n",
    "\n",
    "# your solution here\n",
    "area = ...\n",
    "volume = ..."
   ]
  },
  {
   "cell_type": "markdown",
   "metadata": {},
   "source": [
    "## Exercise 3 - Calculate the circumference and area of a circle and the volume of a sphere\n",
    "- circumference of a circle: $2*\\pi*r$,\n",
    "- area of a circle: $\\pi * r^2$, \n",
    "- volume of a sphere: $4/3 * \\pi * r^3$,\n",
    "\n",
    "$\\pi$ is approximately 3.14.\n",
    "Make your code efficient by re-using already calculated results.\n",
    "\n",
    "Bonus: Use google to find out how to get the actual value of pi in python.\n"
   ]
  },
  {
   "cell_type": "code",
   "execution_count": 6,
   "metadata": {},
   "outputs": [],
   "source": [
    "pi = 3.14\n",
    "radius = 85\n",
    "\n",
    "# your solution here\n"
   ]
  },
  {
   "cell_type": "markdown",
   "metadata": {},
   "source": [
    "## Exercise 4 - variable types and type casting\n",
    "## Adding two numbers, two strings, and a string and a number\n",
    "We know what happens when we add two variables that are numbers:\n",
    "```python\n",
    "x=1\n",
    "y=58\n",
    "x + y  # 59\n",
    "```\n",
    "\n",
    "Try and see what happens if you add two variables that are strings?\n",
    "```python\n",
    "x = \"George\"\n",
    "y = \"Michael\"\n",
    "x + y  #?\n",
    "```\n",
    "Can you explain what is happening here? Why does the \"+\" sign do different things?\n",
    "\n",
    "Try and see what happens if you add a variable that is a string to one that is a number?\n",
    "```python\n",
    "x = 10\n",
    "y = '20'\n",
    "x + y  # ?\n",
    "```\n",
    "Why does this fail?"
   ]
  },
  {
   "cell_type": "code",
   "execution_count": 7,
   "metadata": {},
   "outputs": [],
   "source": [
    "# your try-and-see-what-happens code here"
   ]
  },
  {
   "cell_type": "markdown",
   "metadata": {},
   "source": [
    "## Fix the error above by using type casting\n",
    "In the previous exercise, you observed that adding variables of different types - for instance a string and a number does not work.\n",
    "\n",
    "You can fix this by converting the types of variables so that they match - a procedure called _type casting_.\n",
    "\n",
    "A variable can be converted:\n",
    "- to text via the `str` (string) function,\n",
    "- to an integer number via the `int` function,\n",
    "- to a floating point number via the `float` function."
   ]
  },
  {
   "cell_type": "code",
   "execution_count": 8,
   "metadata": {},
   "outputs": [
    {
     "name": "stdout",
     "output_type": "stream",
     "text": [
      "\"str\" turns a number into a string 10.0\n",
      "\"int\" turns a string into an integer number 10\n",
      "\"float\" turns a string into an floating point number 10.0\n"
     ]
    }
   ],
   "source": [
    "print('\"str\" turns a number into a string', str(10.0))\n",
    "print('\"int\" turns a string into an integer number', int('10'))\n",
    "print('\"float\" turns a string into an floating point number', float('10.0'))"
   ]
  },
  {
   "cell_type": "markdown",
   "metadata": {},
   "source": [
    "Remember, functions are used via their name, followed by the input in parentheses: `output = function(input)`:"
   ]
  },
  {
   "cell_type": "code",
   "execution_count": 9,
   "metadata": {},
   "outputs": [
    {
     "name": "stdout",
     "output_type": "stream",
     "text": [
      "10\n"
     ]
    }
   ],
   "source": [
    "ten_as_text = str(10)\n",
    "print(ten_as_text)"
   ]
  },
  {
   "cell_type": "markdown",
   "metadata": {},
   "source": [
    "Fix below code by casting the variables 1) to text using `str()` and 2) to numbers using `float()` or `int()`."
   ]
  },
  {
   "cell_type": "code",
   "execution_count": 10,
   "metadata": {},
   "outputs": [
    {
     "ename": "TypeError",
     "evalue": "unsupported operand type(s) for +: 'int' and 'str'",
     "output_type": "error",
     "traceback": [
      "\u001b[0;31m---------------------------------------------------------------------------\u001b[0m",
      "\u001b[0;31mTypeError\u001b[0m                                 Traceback (most recent call last)",
      "\u001b[1;32m/Users/clemens10/Library/CloudStorage/Dropbox/code.lab/teaching/2023ws python course/1 variables, control flow/1.01_variables_exercises.ipynb Cell 19\u001b[0m line \u001b[0;36m4\n\u001b[1;32m      <a href='vscode-notebook-cell:/Users/clemens10/Library/CloudStorage/Dropbox/code.lab/teaching/2023ws%20python%20course/1%20variables%2C%20control%20flow/1.01_variables_exercises.ipynb#X24sZmlsZQ%3D%3D?line=1'>2</a>\u001b[0m x \u001b[39m=\u001b[39m \u001b[39m10\u001b[39m\n\u001b[1;32m      <a href='vscode-notebook-cell:/Users/clemens10/Library/CloudStorage/Dropbox/code.lab/teaching/2023ws%20python%20course/1%20variables%2C%20control%20flow/1.01_variables_exercises.ipynb#X24sZmlsZQ%3D%3D?line=2'>3</a>\u001b[0m y \u001b[39m=\u001b[39m \u001b[39m'\u001b[39m\u001b[39m20\u001b[39m\u001b[39m'\u001b[39m\n\u001b[0;32m----> <a href='vscode-notebook-cell:/Users/clemens10/Library/CloudStorage/Dropbox/code.lab/teaching/2023ws%20python%20course/1%20variables%2C%20control%20flow/1.01_variables_exercises.ipynb#X24sZmlsZQ%3D%3D?line=3'>4</a>\u001b[0m x \u001b[39m+\u001b[39;49m y\n",
      "\u001b[0;31mTypeError\u001b[0m: unsupported operand type(s) for +: 'int' and 'str'"
     ]
    }
   ],
   "source": [
    "# FIXME!\n",
    "x = 10\n",
    "y = '20'\n",
    "x + y"
   ]
  },
  {
   "cell_type": "markdown",
   "metadata": {},
   "source": [
    "## Exercise 4 - Keeping track of and re-using variables\n",
    "You can re-use variables that you have created in another cell previously. \n",
    "This allows you to split your computation into multiple cells.\n",
    "\n",
    "__Caution__: This re-use can have unexpected consequences if you run the same cell multiple times while coding or if you run your cells out of order.\n",
    "\n",
    "Let's do some exercises on that:"
   ]
  },
  {
   "cell_type": "markdown",
   "metadata": {},
   "source": [
    "## What's the value of `x` at end of the program below?\n",
    "Go through the program line-by-line without running it and explain why.\n",
    "\n",
    "```python\n",
    "w = 100\n",
    "x = 2\n",
    "x = w\n",
    "```\n",
    "\n",
    "And what is the value of now?\n",
    "```python\n",
    "x = x + 10\n",
    "```"
   ]
  },
  {
   "cell_type": "markdown",
   "metadata": {},
   "source": [
    "## What's the value of `c` if we run the code below? What is the value of `c` if we run below code a second time? \n",
    "Try to predict what will happen before you run the code. Was your prediction you correct?"
   ]
  },
  {
   "cell_type": "code",
   "execution_count": null,
   "metadata": {},
   "outputs": [
    {
     "data": {
      "text/plain": [
       "9"
      ]
     },
     "execution_count": 15,
     "metadata": {},
     "output_type": "execute_result"
    }
   ],
   "source": [
    "c = 1  # create a new variable `c` and give it a particular value (aka assign a value to `c`)\n",
    "d = c + 5   #  create a new variable `d` and assign to it the outcome of `c + 5`\n",
    "c = c + 8  # you can also re-assign values to existing variables - this allows you to update a variable during computation\n",
    "c"
   ]
  },
  {
   "cell_type": "markdown",
   "metadata": {},
   "source": [
    "## What's the value of `c` if we run the code below once? What is the value of `c` if we run the code a second time? \n",
    "Predict what will happen without running the code (you need to have run the cell above before). Explain why."
   ]
  },
  {
   "cell_type": "code",
   "execution_count": null,
   "metadata": {},
   "outputs": [
    {
     "data": {
      "text/plain": [
       "25"
      ]
     },
     "execution_count": 17,
     "metadata": {},
     "output_type": "execute_result"
    }
   ],
   "source": [
    "d = c + 5   #  create a new variable `d` and assign to it the outcome of `c + 5`\n",
    "c = c + 8  # you can also re-assign values to existing variables - this allows you to update a variable during computation\n",
    "c"
   ]
  },
  {
   "cell_type": "markdown",
   "metadata": {},
   "source": [
    "## What's the value of `c` in the below code? \n",
    "Why is it not `105` (`18 + 87`)?"
   ]
  },
  {
   "cell_type": "code",
   "execution_count": 6,
   "metadata": {},
   "outputs": [
    {
     "data": {
      "text/plain": [
       "18"
      ]
     },
     "execution_count": 6,
     "metadata": {},
     "output_type": "execute_result"
    }
   ],
   "source": [
    "c = 18\n",
    "d = c + 512\n",
    "c + 87\n",
    "c"
   ]
  }
 ],
 "metadata": {
  "kernelspec": {
   "display_name": "Python 3 (ipykernel)",
   "language": "python",
   "name": "python3"
  },
  "language_info": {
   "codemirror_mode": {
    "name": "ipython",
    "version": 3
   },
   "file_extension": ".py",
   "mimetype": "text/x-python",
   "name": "python",
   "nbconvert_exporter": "python",
   "pygments_lexer": "ipython3",
   "version": "3.11.6"
  },
  "vscode": {
   "interpreter": {
    "hash": "7ea0ec616133ead53c1908c8f6539f5c0cb9b2f78368e2bb6ab3f847e89ca400"
   }
  }
 },
 "nbformat": 4,
 "nbformat_minor": 4
}
