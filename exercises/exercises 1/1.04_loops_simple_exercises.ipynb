{
 "cells": [
  {
   "cell_type": "markdown",
   "metadata": {},
   "source": [
    "# Loops"
   ]
  },
  {
   "cell_type": "markdown",
   "metadata": {},
   "source": [
    "## Exercise 1: Fix the error"
   ]
  },
  {
   "cell_type": "code",
   "execution_count": 11,
   "metadata": {},
   "outputs": [
    {
     "name": "stdout",
     "output_type": "stream",
     "text": [
      "1243891290\n",
      "1234129401\n",
      "14910395130\n",
      "1340981394\n"
     ]
    },
    {
     "ename": "IndexError",
     "evalue": "list index out of range",
     "output_type": "error",
     "traceback": [
      "\u001b[31m---------------------------------------------------------------------------\u001b[39m",
      "\u001b[31mIndexError\u001b[39m                                Traceback (most recent call last)",
      "\u001b[36mCell\u001b[39m\u001b[36m \u001b[39m\u001b[32mIn[11]\u001b[39m\u001b[32m, line 5\u001b[39m\n\u001b[32m      3\u001b[39m \u001b[38;5;66;03m# your solution here\u001b[39;00m\n\u001b[32m      4\u001b[39m \u001b[38;5;28;01mfor\u001b[39;00m index \u001b[38;5;129;01min\u001b[39;00m \u001b[38;5;28mrange\u001b[39m(\u001b[32m10\u001b[39m):\n\u001b[32m----> \u001b[39m\u001b[32m5\u001b[39m     item = \u001b[43mweights\u001b[49m\u001b[43m[\u001b[49m\u001b[43mindex\u001b[49m\u001b[43m]\u001b[49m\n\u001b[32m      6\u001b[39m     \u001b[38;5;28mprint\u001b[39m(item)\n",
      "\u001b[31mIndexError\u001b[39m: list index out of range"
     ]
    }
   ],
   "source": [
    "weights = [1243891290, 1234129401, 14910395130, 1340981394]\n",
    "\n",
    "# your solution here\n",
    "for index in range(10):\n",
    "    item = weights[index]\n",
    "    print(item)"
   ]
  },
  {
   "cell_type": "markdown",
   "metadata": {},
   "source": [
    "## Exercise 2: Fix the error\n",
    "Below code only prints one list element. Which is it? Can you fix the code so that each list element is printed?"
   ]
  },
  {
   "cell_type": "code",
   "execution_count": 6,
   "metadata": {},
   "outputs": [
    {
     "name": "stdout",
     "output_type": "stream",
     "text": [
      "1243891290\n",
      "1234129401\n",
      "14910395130\n",
      "1340981394\n",
      "1231032912\n",
      "90000000\n"
     ]
    }
   ],
   "source": [
    "weights = [1243891290, 1234129401, 14910395130, 1340981394, 1231032912, 90000000]\n",
    "\n",
    "# your solution here\n",
    "for idx in range(len(weights)):\n",
    "    item = weights[idx]\n",
    "print(item)"
   ]
  },
  {
   "cell_type": "markdown",
   "metadata": {},
   "source": [
    "## Exercise 3: Printing using a for loop\n",
    "Use a for loop to each list element in a separate line:"
   ]
  },
  {
   "cell_type": "code",
   "execution_count": 12,
   "metadata": {},
   "outputs": [],
   "source": [
    "ages = [12, 43, 89, 64, 52]\n",
    "\n",
    "# your solution here"
   ]
  },
  {
   "cell_type": "markdown",
   "metadata": {},
   "source": [
    "## Exercise 4: Convert units\n",
    "We have a list of weights in grams. Use a for loop to convert the weights to tons and print them one by one."
   ]
  },
  {
   "cell_type": "code",
   "execution_count": 13,
   "metadata": {},
   "outputs": [],
   "source": [
    "grams = [1243891290, 1234129401, 14910395130, 1340981394]\n",
    "\n",
    "# your solution here"
   ]
  },
  {
   "cell_type": "markdown",
   "metadata": {},
   "source": [
    "## Exercise 5: Generating ranges with a specific content\n",
    "Create a range statement with\n",
    "1. 2 elements\n",
    "2. 10 elements\n",
    "3. These elements: [0, 1, 2, 3, 4, 5, 6]\n",
    "4. Elements starting at 3 and ending with (including 6): [3, 4, 5, 6]\n",
    "5. Every 3rd element, up to 10: [0, 3, 6, 9]\n",
    "6. All EVEN numbers (including zero) up to and including 8: [0, 2, 4, 6, 8]\n",
    "7. All ODD numbers up to 8: [1, 3, 5, 7]\n",
    "\n",
    "Test your result by printing the contents of the range-object. You can do so by first casting it to a list, and then printing it."
   ]
  },
  {
   "cell_type": "code",
   "execution_count": 26,
   "metadata": {},
   "outputs": [
    {
     "name": "stdout",
     "output_type": "stream",
     "text": [
      "[1, 3, 5, 7]\n"
     ]
    }
   ],
   "source": [
    "# your solution here\n",
    "r = range(1,8, 2)\n",
    "print(list(r))"
   ]
  },
  {
   "cell_type": "markdown",
   "metadata": {},
   "source": [
    "## Exercise 6: Ranges and loops\n",
    "The following code is supposed to generate a list that only contains the items at even indices (indices [0, 2, 4, ...]) from the list `all_values`.\n",
    "\n",
    "Does it produce the correct result? If not, fix it!"
   ]
  },
  {
   "cell_type": "code",
   "execution_count": 8,
   "metadata": {},
   "outputs": [
    {
     "name": "stdout",
     "output_type": "stream",
     "text": [
      "[5, 83, 3, 780]\n"
     ]
    }
   ],
   "source": [
    "all_values = [34, 5, 11, 83, 432, 3, 50, 780]\n",
    "\n",
    "even_values = []\n",
    "for index in range(0, len(all_values), 2):\n",
    "    item = all_values[index]\n",
    "    even_values.append(item)\n",
    "\n",
    "print(even_values)"
   ]
  },
  {
   "cell_type": "markdown",
   "metadata": {},
   "source": [
    "## Exercise 7: Print every other element of the list, starting with the second\n",
    "Use a for loop and range."
   ]
  },
  {
   "cell_type": "code",
   "execution_count": 28,
   "metadata": {},
   "outputs": [
    {
     "name": "stdout",
     "output_type": "stream",
     "text": [
      "1243891290\n",
      "14910395130\n",
      "1231032912\n"
     ]
    }
   ],
   "source": [
    "weights = [567803, 1243891290, 1234129401, 14910395130, 1340981394, 1231032912, 90000000]\n",
    "\n",
    "# your solution here:\n",
    "# the code should print the following numbers [1243891290, 14910395130, 1231032912]\n",
    "for index in range(1, len(weights), 2):\n",
    "    print(weights[index])"
   ]
  },
  {
   "cell_type": "markdown",
   "metadata": {},
   "source": [
    "Bonus: Now achieve the same result, but use slice indexing instead:"
   ]
  },
  {
   "cell_type": "code",
   "execution_count": 30,
   "metadata": {},
   "outputs": [
    {
     "name": "stdout",
     "output_type": "stream",
     "text": [
      "1243891290\n",
      "14910395130\n",
      "1231032912\n"
     ]
    }
   ],
   "source": [
    "# your solution here:\n",
    "for weight in weights[1::2]:\n",
    "    print(weight)"
   ]
  },
  {
   "cell_type": "markdown",
   "metadata": {},
   "source": [
    "## Exercise 8: Convert units and append the results to a new list\n",
    "We have a list of weights in grams - create a new list, called `tons` that contains the weights in tons."
   ]
  },
  {
   "cell_type": "code",
   "execution_count": 11,
   "metadata": {},
   "outputs": [],
   "source": [
    "grams = [1243891290, 1234129401, 14910395130, 1340981394]\n",
    "\n",
    "# your solution here\n"
   ]
  },
  {
   "cell_type": "markdown",
   "metadata": {},
   "source": [
    "## Exercise 9: Filtering a list (1)\n",
    "Print all list elements greater than 10:"
   ]
  },
  {
   "cell_type": "code",
   "execution_count": 1,
   "metadata": {},
   "outputs": [
    {
     "name": "stdout",
     "output_type": "stream",
     "text": [
      "34\n",
      "432\n",
      "780\n"
     ]
    }
   ],
   "source": [
    "a = [34,5, 432, 3, 780]\n",
    "\n",
    "# your solution here\n",
    "for idx in range(len(a)):\n",
    "    if a[idx] > 10:\n",
    "        print(a[idx])"
   ]
  },
  {
   "cell_type": "markdown",
   "metadata": {},
   "source": [
    "## Exercise 10: Filtering a list (2)\n",
    "Create a new list that contains all elements greater than 10:"
   ]
  },
  {
   "cell_type": "code",
   "execution_count": 4,
   "metadata": {},
   "outputs": [
    {
     "name": "stdout",
     "output_type": "stream",
     "text": [
      "[34, 432, 780]\n"
     ]
    }
   ],
   "source": [
    "a = [34, 5, 432, 3, 780]\n",
    "\n",
    "# your solution here\n",
    "greater = []\n",
    "\n",
    "for num in a:\n",
    "    if num > 10:\n",
    "        greater.append(num)\n",
    "\n",
    "print(greater)"
   ]
  },
  {
   "cell_type": "markdown",
   "metadata": {},
   "source": [
    "## Exercise 11: Filtering a list (3)\n",
    "Create a new list that contains all elements greater than 10 and less than 100:"
   ]
  },
  {
   "cell_type": "code",
   "execution_count": 5,
   "metadata": {},
   "outputs": [
    {
     "name": "stdout",
     "output_type": "stream",
     "text": [
      "[34, 11, 83, 50]\n"
     ]
    }
   ],
   "source": [
    "a = [34, 5, 11, 83, 432, 3, 50, 780]\n",
    "\n",
    "# your solution here\n",
    "greater = []\n",
    "\n",
    "for num in a:\n",
    "    if num > 10 and num < 100:\n",
    "        greater.append(num)\n",
    "\n",
    "print(greater)"
   ]
  },
  {
   "cell_type": "markdown",
   "metadata": {},
   "source": [
    "## Exercise 12: Slice indexing\n",
    "The following code is supposed to generate a list that only contains the items at even indices (indices [0, 2, 4, ...]) from the list `all_values`.\n",
    "\n",
    "Does it produce the correct result? If not, fix it!"
   ]
  },
  {
   "cell_type": "code",
   "execution_count": 6,
   "metadata": {},
   "outputs": [
    {
     "name": "stdout",
     "output_type": "stream",
     "text": [
      "[34, 11, 432, 50]\n"
     ]
    }
   ],
   "source": [
    "all_values = [34, 5, 11, 83, 432, 3, 50, 780]\n",
    "\n",
    "even_values = []\n",
    "for index in range(0, len(all_values), 2):\n",
    "    item = all_values[index]\n",
    "    even_values.append(item)\n",
    "\n",
    "print(even_values)"
   ]
  },
  {
   "cell_type": "markdown",
   "metadata": {},
   "source": [
    "## Exercise 13: Updating a variable\n",
    "The following code is supposed to compute the sum of the values in the list `all_values`.\n",
    "\n",
    "Does it produce the correct result? If not, fix it!"
   ]
  },
  {
   "cell_type": "code",
   "execution_count": 8,
   "metadata": {},
   "outputs": [
    {
     "name": "stdout",
     "output_type": "stream",
     "text": [
      "[0, 1, 2, 3, 4, 5, 6, 7, 8, 9]\n"
     ]
    },
    {
     "data": {
      "text/plain": [
       "45"
      ]
     },
     "execution_count": 8,
     "metadata": {},
     "output_type": "execute_result"
    }
   ],
   "source": [
    "all_values = list(range(10))\n",
    "print(all_values)\n",
    "\n",
    "# fix this code:\n",
    "sum_of_values = 0\n",
    "\n",
    "for value in all_values:\n",
    "    sum_of_values += value\n",
    "\n",
    "sum_of_values"
   ]
  },
  {
   "cell_type": "markdown",
   "metadata": {},
   "source": [
    "## Exercise 14: Write a spike detector\n",
    "Now write a spike detector:\n",
    "\n",
    "1. Iterate over the voltage values in `voltages` using a for loop. You will need a range object.\n",
    "2. Compare each voltage value to the `spike_threshold`,\n",
    "3. Append the indices of voltage values that exceed `spike_threshold` to the list `spike_indices`\n",
    "\n",
    "Before you start coding: What are the expected results? How many spikes does `voltages` contain? At which indices?"
   ]
  },
  {
   "cell_type": "code",
   "execution_count": 13,
   "metadata": {},
   "outputs": [
    {
     "name": "stdout",
     "output_type": "stream",
     "text": [
      "[2, 5]\n"
     ]
    }
   ],
   "source": [
    "voltages = [1, 1, 10, 1, 1, 10, 1]\n",
    "spike_threshold = 5\n",
    "\n",
    "spike_indices = []\n",
    "\n",
    "# your solution here\n",
    "spike_indices = []\n",
    "\n",
    "for idx in range(len(voltages)):\n",
    "    BIG_V = voltages[idx]\n",
    "    if BIG_V > spike_threshold:\n",
    "        spike_indices.append(idx)\n",
    "print(spike_indices)"
   ]
  },
  {
   "cell_type": "code",
   "execution_count": null,
   "metadata": {},
   "outputs": [],
   "source": []
  }
 ],
 "metadata": {
  "kernelspec": {
   "display_name": "Python 3 (ipykernel)",
   "language": "python",
   "name": "python3"
  },
  "language_info": {
   "codemirror_mode": {
    "name": "ipython",
    "version": 3
   },
   "file_extension": ".py",
   "mimetype": "text/x-python",
   "name": "python",
   "nbconvert_exporter": "python",
   "pygments_lexer": "ipython3",
   "version": "3.13.8"
  }
 },
 "nbformat": 4,
 "nbformat_minor": 4
}
