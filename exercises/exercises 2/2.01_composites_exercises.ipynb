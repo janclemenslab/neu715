{
 "cells": [
  {
   "cell_type": "markdown",
   "metadata": {},
   "source": [
    "# Composite data types\n",
    "## Exercise 1\n",
    "We are given data as a tuple. We want to set the third value to 3.\n",
    "Fix below code to make this work:"
   ]
  },
  {
   "cell_type": "code",
   "execution_count": 1,
   "metadata": {},
   "outputs": [
    {
     "ename": "TypeError",
     "evalue": "'tuple' object does not support item assignment",
     "output_type": "error",
     "traceback": [
      "\u001b[0;31m---------------------------------------------------------------------------\u001b[0m",
      "\u001b[0;31mTypeError\u001b[0m                                 Traceback (most recent call last)",
      "Cell \u001b[0;32mIn[1], line 2\u001b[0m\n\u001b[1;32m      1\u001b[0m data \u001b[38;5;241m=\u001b[39m (\u001b[38;5;241m1\u001b[39m, \u001b[38;5;241m2\u001b[39m, \u001b[38;5;241m-\u001b[39m\u001b[38;5;241m12\u001b[39m, \u001b[38;5;241m4\u001b[39m)\n\u001b[0;32m----> 2\u001b[0m \u001b[43mdata\u001b[49m\u001b[43m[\u001b[49m\u001b[38;5;241;43m2\u001b[39;49m\u001b[43m]\u001b[49m \u001b[38;5;241m=\u001b[39m \u001b[38;5;241m3\u001b[39m\n",
      "\u001b[0;31mTypeError\u001b[0m: 'tuple' object does not support item assignment"
     ]
    }
   ],
   "source": [
    "data = (1, 2, -12, 4)\n",
    "data[2] = 3"
   ]
  },
  {
   "cell_type": "code",
   "execution_count": 1,
   "metadata": {},
   "outputs": [],
   "source": [
    "# fix the code here\n"
   ]
  },
  {
   "cell_type": "markdown",
   "metadata": {},
   "source": [
    "## Exercise 2: Make a digital phone book using a dictionary\n",
    "Make a phone book using a dictionary, so we can easily look up phone numbers using the name as the key.\n",
    "We are given two lists of matching names and phone numbers. Generate a phone book dictionary that has each name as a key and the associated phone number as a value."
   ]
  },
  {
   "cell_type": "code",
   "execution_count": 2,
   "metadata": {},
   "outputs": [],
   "source": [
    "names = ['Alice', 'Yolanda', 'Tom', 'Francoise', 'Alan']\n",
    "phone_numbers = [432246234, 190998010, 984703, 123156, 9630]\n",
    "\n",
    "# your solution here\n"
   ]
  },
  {
   "cell_type": "markdown",
   "metadata": {},
   "source": [
    "## Exercise 3: Modifying dictionaries\n",
    "We are given a dictionary with the name of chemical elements and the associated atomic number (number of protons in the nucleus).\n",
    "\n",
    "1. Delete vibranium from the list dictionary.\n",
    "2. Add the element silver and it's atomic number to the dictionary\n",
    "\n",
    "Print the dictionary to check your results"
   ]
  },
  {
   "cell_type": "code",
   "execution_count": 8,
   "metadata": {},
   "outputs": [
    {
     "name": "stdout",
     "output_type": "stream",
     "text": [
      "{'zinc': 30, 'gold': 79, 'vibranium': 1000, 'radium': 88}\n"
     ]
    }
   ],
   "source": [
    "atomic_numbers = {'zinc': 30, 'gold': 79, 'vibranium': 1000, 'radium': 88}\n",
    "print(atomic_numbers)\n",
    "\n",
    "# your solution here\n"
   ]
  },
  {
   "cell_type": "markdown",
   "metadata": {},
   "source": [
    "## Exercise 4: For loops and dictionaries\n",
    "Now use a for loop to loop over the key:value pairs of the _modified_ dictionary and print the element name and it's atomic number in a nicely formatted way (\"The atomic number for ELEMENT_NAME is ATOMIC_NUMBER.\"), each element in a separate line."
   ]
  },
  {
   "cell_type": "code",
   "execution_count": 2,
   "metadata": {},
   "outputs": [
    {
     "name": "stdout",
     "output_type": "stream",
     "text": [
      "{'zinc': 30, 'gold': 79, 'vibranium': 1000, 'radium': 88}\n"
     ]
    }
   ],
   "source": [
    "atomic_numbers = {'zinc': 30, 'gold': 79, 'vibranium': 1000, 'radium': 88}\n",
    "print(atomic_numbers)\n",
    "\n",
    "# your solution here\n"
   ]
  },
  {
   "cell_type": "markdown",
   "metadata": {},
   "source": [
    "## Exercise 5: Rewrite this code using a dictionary"
   ]
  },
  {
   "cell_type": "code",
   "execution_count": 4,
   "metadata": {},
   "outputs": [
    {
     "name": "stdout",
     "output_type": "stream",
     "text": [
      "The weight of Jerry is 32 grams.\n",
      "The weight of Minnie is 29 grams.\n",
      "The weight of Pinky is 25 grams.\n",
      "The weight of Brain is 38 grams.\n",
      "The weight of Mickey is 30 grams.\n"
     ]
    }
   ],
   "source": [
    "mouse_names = ['Jerry', 'Minnie', 'Pinky', 'Brain', 'Mickey']\n",
    "mouse_weights = [32, 29, 25, 38, 30]\n",
    "\n",
    "for index in range(len(mouse_names)):\n",
    "    print('The weight of', mouse_names[index] ,'is', mouse_weights[index], 'grams.')\n"
   ]
  },
  {
   "cell_type": "code",
   "execution_count": null,
   "metadata": {},
   "outputs": [],
   "source": [
    "# your solution here"
   ]
  }
 ],
 "metadata": {
  "kernelspec": {
   "display_name": "neu715",
   "language": "python",
   "name": "python3"
  },
  "language_info": {
   "codemirror_mode": {
    "name": "ipython",
    "version": 3
   },
   "file_extension": ".py",
   "mimetype": "text/x-python",
   "name": "python",
   "nbconvert_exporter": "python",
   "pygments_lexer": "ipython3",
   "version": "3.12.7"
  }
 },
 "nbformat": 4,
 "nbformat_minor": 4
}
