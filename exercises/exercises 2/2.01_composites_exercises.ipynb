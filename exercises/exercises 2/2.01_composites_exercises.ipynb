{
 "cells": [
  {
   "cell_type": "markdown",
   "metadata": {},
   "source": [
    "# Exercises 2.1 - Composite data types\n",
    "## Exercise - Immutable tuples vs lists\n",
    "We are given data as a tuple. We want to set the third value to 3.\n",
    "Fix below code to make this work:"
   ]
  },
  {
   "cell_type": "code",
   "execution_count": 3,
   "metadata": {},
   "outputs": [
    {
     "ename": "TypeError",
     "evalue": "'tuple' object does not support item assignment",
     "output_type": "error",
     "traceback": [
      "\u001b[0;31m---------------------------------------------------------------------------\u001b[0m",
      "\u001b[0;31mTypeError\u001b[0m                                 Traceback (most recent call last)",
      "\u001b[1;32m/Users/janc/Library/CloudStorage/Dropbox/_teaching/neu715/exercises solutions/exercises 2 solutions/2.01_composites_exercises.ipynb Cell 2\u001b[0m line \u001b[0;36m2\n\u001b[1;32m      <a href='vscode-notebook-cell:/Users/janc/Library/CloudStorage/Dropbox/_teaching/neu715/exercises%20solutions/exercises%202%20solutions/2.01_composites_exercises.ipynb#W1sZmlsZQ%3D%3D?line=0'>1</a>\u001b[0m data \u001b[39m=\u001b[39m (\u001b[39m1\u001b[39m, \u001b[39m2\u001b[39m, \u001b[39m-\u001b[39m\u001b[39m12\u001b[39m, \u001b[39m4\u001b[39m)  \u001b[39m# this is a tuple\u001b[39;00m\n\u001b[0;32m----> <a href='vscode-notebook-cell:/Users/janc/Library/CloudStorage/Dropbox/_teaching/neu715/exercises%20solutions/exercises%202%20solutions/2.01_composites_exercises.ipynb#W1sZmlsZQ%3D%3D?line=1'>2</a>\u001b[0m data[\u001b[39m2\u001b[39;49m] \u001b[39m=\u001b[39m \u001b[39m3\u001b[39m\n",
      "\u001b[0;31mTypeError\u001b[0m: 'tuple' object does not support item assignment"
     ]
    }
   ],
   "source": [
    "data = (1, 2, -12, 4)\n",
    "data[2] = 3"
   ]
  },
  {
   "cell_type": "code",
   "execution_count": 5,
   "metadata": {},
   "outputs": [
    {
     "data": {
      "text/plain": [
       "[1, 2, 3, 4]"
      ]
     },
     "execution_count": 5,
     "metadata": {},
     "output_type": "execute_result"
    }
   ],
   "source": [
    "# fix the code here\n"
   ]
  },
  {
   "cell_type": "markdown",
   "metadata": {},
   "source": [
    "## Exercise - find the unique values in a list using `set`\n",
    "Taylor claims he as ten friends - he can even prove it using python programming:"
   ]
  },
  {
   "cell_type": "code",
   "execution_count": 8,
   "metadata": {},
   "outputs": [
    {
     "name": "stdout",
     "output_type": "stream",
     "text": [
      "I have 10 friends.\n"
     ]
    }
   ],
   "source": [
    "my_friends = ['Tom', 'Tim', 'Tamara', 'Anatol', 'Emre', 'Franziska', 'Anatol', 'Samson', 'Tim', 'Milo']\n",
    "print(f\"I have {len(my_friends)} friends.\")"
   ]
  },
  {
   "cell_type": "markdown",
   "metadata": {},
   "source": [
    "Correct the mistake by removing the duplicates from this list:"
   ]
  },
  {
   "cell_type": "code",
   "execution_count": 3,
   "metadata": {},
   "outputs": [
    {
     "name": "stdout",
     "output_type": "stream",
     "text": [
      "range(0, 10)\n"
     ]
    }
   ],
   "source": [
    "# Your solution here\n"
   ]
  },
  {
   "cell_type": "markdown",
   "metadata": {},
   "source": [
    "## Exercise - Dictionaries and f-strings\n",
    "We are given a dictionary with the name of chemical elements and the associated atomic number (number of protons in the nucleus).\n",
    "\n",
    "1. Delete vibranium from the list dictionary.\n",
    "2. Add the element silver and it's atomic number to the dictionary\n",
    "2. Then loop over the key:value pairs of the dictionary and print the element name and it's atomic number in a nicely formatted way using f-strings, each element in a separate line."
   ]
  },
  {
   "cell_type": "code",
   "execution_count": 14,
   "metadata": {},
   "outputs": [
    {
     "name": "stdout",
     "output_type": "stream",
     "text": [
      "{'zinc': 30, 'gold': 79, 'vibranium': 1000, 'radium': 88}\n",
      "{'zinc': 30, 'gold': 79, 'radium': 88}\n",
      "{'zinc': 30, 'gold': 79, 'radium': 88, 'silver': 47}\n",
      "The atomic number for zinc is 30\n",
      "The atomic number for gold is 79\n",
      "The atomic number for radium is 88\n",
      "The atomic number for silver is 47\n"
     ]
    }
   ],
   "source": [
    "atomic_numbers = {'zinc': 30, 'gold': 79, 'vibranium': 1000, 'radium': 88}\n",
    "print(atomic_numbers)\n",
    "\n",
    "# your solution here\n"
   ]
  }
 ],
 "metadata": {
  "kernelspec": {
   "display_name": "Python 3 (ipykernel)",
   "language": "python",
   "name": "python3"
  },
  "language_info": {
   "codemirror_mode": {
    "name": "ipython",
    "version": 3
   },
   "file_extension": ".py",
   "mimetype": "text/x-python",
   "name": "python",
   "nbconvert_exporter": "python",
   "pygments_lexer": "ipython3",
   "version": "3.12.0"
  },
  "vscode": {
   "interpreter": {
    "hash": "97ead24bb190f3c846c8ccaf2b3dc07d0b052bfb8e69b5aeffb27504f0f68adb"
   }
  }
 },
 "nbformat": 4,
 "nbformat_minor": 4
}
