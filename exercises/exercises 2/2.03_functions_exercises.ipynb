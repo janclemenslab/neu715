{
 "cells": [
  {
   "cell_type": "markdown",
   "metadata": {},
   "source": [
    "# Functions"
   ]
  },
  {
   "cell_type": "markdown",
   "metadata": {},
   "source": [
    "## Exercise 1: Turn this code into a function\n",
    "The code below computes the cumulative sum over the values in a list.\n",
    "\n",
    "Given a list [1,2,3], the cumulative sum is a new list with these items: [1, 1+2, 1+2+3] = [1, 3, 6].\n",
    "\n",
    "Turn this code into a function with the following properties:\n",
    "- name: cumsum\n",
    "- argument: a list\n",
    "- returns: the cumulative sum\n",
    "\n",
    "Document this function with an appropriate docstring.\n",
    "\n",
    "Test your function by making up a new list and calculating the cumulative sum over its values."
   ]
  },
  {
   "cell_type": "code",
   "execution_count": 1,
   "metadata": {},
   "outputs": [
    {
     "name": "stdout",
     "output_type": "stream",
     "text": [
      "[1, 3, 6, 10, 13, 15, 19]\n",
      "[1, 3, 6, 10, 13, 15, 19]\n"
     ]
    },
    {
     "data": {
      "text/plain": [
       "[1, 0, -2]"
      ]
     },
     "execution_count": 1,
     "metadata": {},
     "output_type": "execute_result"
    }
   ],
   "source": [
    "values = [1,2,3,4,3,2,4]\n",
    "\n",
    "cumsum = []\n",
    "for idx in range(len(values)):\n",
    "    cumsum.append(sum(values[:idx+1]))\n",
    "\n",
    "print(cumsum)\n",
    "\n",
    "# your solution here\n"
   ]
  },
  {
   "cell_type": "markdown",
   "metadata": {},
   "source": [
    "## Exercise 2: Use a python function to calculate the values of a mathematical function\n",
    "Write a function that computes the value of the following mathematical function: $f(x,b) = x^2 + b$\n",
    "\n",
    "Plot the function $f$ for\n",
    "100 x-values covering the range of [-2.0, 2.0]\n",
    "and three different, but constant, values of b = [-1, 0, 1]. \n",
    "This should produce three curves, each with 100 data points.\n",
    "\n",
    "Annotate the plot with proper labels and a legend that indicates the vale of b.\n",
    "\n",
    "Roughly like so:\n",
    "\n",
    "![](2.03_functions_exercises.png)"
   ]
  },
  {
   "cell_type": "code",
   "execution_count": 13,
   "metadata": {},
   "outputs": [],
   "source": [
    "# your solution here"
   ]
  },
  {
   "cell_type": "markdown",
   "metadata": {},
   "source": [
    "## Exercises 3: Organizing code with functions\n",
    "For the next block of exercises, we will play with temperature anomaly data - deviations of the global mean temperature. We will first solve the problem without using functions (Exercise 3) and then improve the solution by using functions (Exercise 4)."
   ]
  },
  {
   "cell_type": "code",
   "execution_count": null,
   "metadata": {},
   "outputs": [
    {
     "name": "stdout",
     "output_type": "stream",
     "text": [
      "[-0.19, -0.177, -0.308, -0.289, -0.193, -0.057, 0.077, 0.026, 0.029, 0.068, 0.256, 0.342, 0.591, 0.792]\n"
     ]
    },
    {
     "data": {
      "image/png": "[encoded data removed]",
      "text/plain": [
       "<Figure size 640x480 with 1 Axes>"
      ]
     },
     "metadata": {},
     "output_type": "display_data"
    }
   ],
   "source": [
    "# EXECUTE BUT DO NOT CHANGE THIS CELL\n",
    "temperature_anomalies = [-0.19,-0.177,-0.308,-0.289,-0.193,-0.057,0.077,0.026,0.029,0.068,0.256, 0.342, 0.591, 0.792]\n",
    "years = list(range(1880, 2020, 10))\n",
    "print(temperature_anomalies)\n",
    "\n",
    "import matplotlib.pyplot as plt\n",
    "plt.plot(years, temperature_anomalies)\n",
    "plt.xlabel('Year')\n",
    "plt.ylabel('Temperature anomaly')\n",
    "plt.show()"
   ]
  },
  {
   "cell_type": "markdown",
   "metadata": {},
   "source": [
    "For an analysis, we need to z-score the data:\n",
    "\n",
    "Z-scoring is a common operation in statistics. It involves normalizing the data so that it has zero mean and unit standard deviation (std=1). \n",
    "\n",
    "This can be done by applying the following two steps to each value in the list:\n",
    "1) subtract the mean,\n",
    "2) divide by the standard deviation:\n",
    "\n",
    "In math: $z = (x - M) / S$ where $z$ is the z-scored value and $M$ and $S$ are mean and standard deviation of the data.\n",
    "\n",
    "In the followign 4 exercises, we will show you how to approach such a problem using the _divide and conquer_ strategy: We split the big, complicated, seemingly unsolvable problem into simpler sub-problems, that are easy to solve. Each exercise that follows solves on such subproblem.\n",
    "\n",
    "We will:\n",
    "\n",
    "1. Compute the sum over all elements in a list\n",
    "2. Compute the mean, by modifying the code from step 1.\n",
    "3. Generate a list in which the mean was substracted from each list element\n",
    "4. Compute the standard deviation\n",
    "5. Generate a list in which each list element is z-scored (mean subtraced, divided by the standard deviation)"
   ]
  },
  {
   "cell_type": "markdown",
   "metadata": {},
   "source": [
    "### Exercise 3.1 - Compute the sum of all anomaly values\n",
    "The sum of all list values can be written in sum notation as follows:\n",
    "\n",
    "$A = \\sum_i^N x_i$\n",
    "\n",
    "where:\n",
    "- $A$ is the sum\n",
    "- $N$ is the number of elements in the list\n",
    "- $x_i$ is the i-th element in the list, i can range from 0 to N-1 "
   ]
  },
  {
   "cell_type": "code",
   "execution_count": 7,
   "metadata": {},
   "outputs": [],
   "source": [
    "# your solution here\n"
   ]
  },
  {
   "cell_type": "markdown",
   "metadata": {},
   "source": [
    "### Exercise 3.2 - Compute the mean of all anomaly values\n",
    "\n",
    "The mean is defined as the sum of all values, $A$, divided by the number of values in the list, $N$:\n",
    "\n",
    "$M = A/N =  1/N \\sum_i^N x_i$ "
   ]
  },
  {
   "cell_type": "code",
   "execution_count": 8,
   "metadata": {},
   "outputs": [],
   "source": [
    "# your solution here\n"
   ]
  },
  {
   "cell_type": "markdown",
   "metadata": {},
   "source": [
    "### Exercise 3.2b - Compute the mean of all anomaly values (Important)\n",
    "Compute the mean of the anomaly value for the years between 1920 and 1960."
   ]
  },
  {
   "cell_type": "markdown",
   "metadata": {},
   "source": [
    "### Exercise 3.3 - substract the mean value\n",
    "Create a new list, `mean_subtracted` that holds the mean-subtracted anomaly values. Subtract the mean of the anomaly values from each element in `temperature_anomalies` such that $y_i = x_i - M$."
   ]
  },
  {
   "cell_type": "code",
   "execution_count": 9,
   "metadata": {},
   "outputs": [],
   "source": [
    "# your solution here\n"
   ]
  },
  {
   "cell_type": "markdown",
   "metadata": {},
   "source": [
    "### Exercise 3.4 - Compute the standard deviation\n",
    "The standard deviation can be computed by:\n",
    "1. subtracting the mean from each element of the list \n",
    "2. taking the square of each mean-subtracted value\n",
    "3. calculating the mean of the squared, mean-subtracted values (this is the variance)\n",
    "4. taking the square root of the variance\n",
    "\n",
    "Or more cryptically: \n",
    "\n",
    "$S = \\sqrt{1/N \\sum_i^N (x_i - M)^2} = \\sqrt{1/N \\sum_i^N y_i^2}$"
   ]
  },
  {
   "cell_type": "code",
   "execution_count": 10,
   "metadata": {},
   "outputs": [],
   "source": [
    "# your solution here"
   ]
  },
  {
   "cell_type": "markdown",
   "metadata": {},
   "source": [
    "### Exercise 3.5 - z-score\n",
    "Now create a new list of z-scored anomaly values by re-using the values for mean and standard deviation computed above and applying them to each value in the list:\n",
    "\n",
    "$z_i = (x_i - M) / S$"
   ]
  },
  {
   "cell_type": "code",
   "execution_count": 11,
   "metadata": {},
   "outputs": [],
   "source": [
    "# your solution here"
   ]
  },
  {
   "cell_type": "markdown",
   "metadata": {},
   "source": [
    "## Exercise 4: Re-organize the code from exercise 3 using functions\n",
    "Write four functions:\n",
    "1. One that computes the _sum_ of the elements of a list.\n",
    "2. One that computes the _mean_ of the elements of a list. Use your `sum` created in step 1.\n",
    "3. One that subtracts a specific value from all elements in a list.\n",
    "4. One that computes the _standard deviation_ of the elements of a list. Use the `mean` function computed in step 2.\n",
    "5. One that zscores the list elements (returns a new list in which each element is z-scored). Re-use the functions created in the previous steps.\n",
    "\n",
    "In each step, first think about the inputs (arguments) and outputs (return) of each function."
   ]
  },
  {
   "cell_type": "code",
   "execution_count": 12,
   "metadata": {},
   "outputs": [
    {
     "name": "stdout",
     "output_type": "stream",
     "text": [
      "[-0.19, -0.177, -0.308, -0.289, -0.193, -0.057, 0.077, 0.026, 0.029, 0.068, 0.256, 0.342, 0.591, 0.792]\n"
     ]
    }
   ],
   "source": [
    "# EXECUTE BUT DO NOT CHANGE THIS CELL\n",
    "temperature_anomalies = [-0.19,-0.177,-0.308,-0.289,-0.193,-0.057,0.077,0.026,0.029,0.068,0.256, 0.342, 0.591, 0.792]\n",
    "print(temperature_anomalies)"
   ]
  },
  {
   "cell_type": "markdown",
   "metadata": {},
   "source": [
    "### 4.1 Write a function that calculates the sum of all list elements"
   ]
  },
  {
   "cell_type": "code",
   "execution_count": 26,
   "metadata": {},
   "outputs": [],
   "source": [
    "# your solution here"
   ]
  },
  {
   "cell_type": "markdown",
   "metadata": {},
   "source": [
    "### 4.2 Function for calculating the mean"
   ]
  },
  {
   "cell_type": "code",
   "execution_count": 2,
   "metadata": {},
   "outputs": [],
   "source": [
    "# your solution here"
   ]
  },
  {
   "cell_type": "markdown",
   "metadata": {},
   "source": [
    "### 4.3. Function for subtracting the mean"
   ]
  },
  {
   "cell_type": "code",
   "execution_count": 3,
   "metadata": {},
   "outputs": [],
   "source": [
    "# your solution here"
   ]
  },
  {
   "cell_type": "markdown",
   "metadata": {},
   "source": [
    "### 4.4 Function for calculating the standard deviation"
   ]
  },
  {
   "cell_type": "code",
   "execution_count": 28,
   "metadata": {},
   "outputs": [],
   "source": [
    "# your solution here"
   ]
  },
  {
   "cell_type": "markdown",
   "metadata": {},
   "source": [
    "### 4.5 Function for z-score a list"
   ]
  },
  {
   "cell_type": "code",
   "execution_count": null,
   "metadata": {},
   "outputs": [],
   "source": [
    "# your solution here"
   ]
  }
 ],
 "metadata": {
  "kernelspec": {
   "display_name": "connectome",
   "language": "python",
   "name": "python3"
  },
  "language_info": {
   "codemirror_mode": {
    "name": "ipython",
    "version": 3
   },
   "file_extension": ".py",
   "mimetype": "text/x-python",
   "name": "python",
   "nbconvert_exporter": "python",
   "pygments_lexer": "ipython3",
   "version": "3.14.0"
  }
 },
 "nbformat": 4,
 "nbformat_minor": 4
}
