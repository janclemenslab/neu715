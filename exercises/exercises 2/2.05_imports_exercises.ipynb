{
 "cells": [
  {
   "cell_type": "markdown",
   "metadata": {},
   "source": [
    "# Imports"
   ]
  },
  {
   "cell_type": "markdown",
   "metadata": {},
   "source": [
    "## Exercise 1: Import a new module\n",
    "The [time](https://docs.python.org/3/library/time.html) module is part of the python standard library and can be used for many examples, for instance:\n",
    "- get the current time, using the function `time()` in the module, or\n",
    "- make your programm do nothing until a specific amount of time, in seconds, has passed, using the `sleep(seconds)` function in the module.\n",
    "\n",
    "Import the module and use it to 1) get the time and 2) make your computer \"sleep\" for 4 seconds.\n"
   ]
  },
  {
   "cell_type": "code",
   "execution_count": 2,
   "metadata": {},
   "outputs": [],
   "source": [
    "# your solution here\n"
   ]
  },
  {
   "cell_type": "markdown",
   "metadata": {},
   "source": [
    "## Exercise 2: Importing your own code\n",
    "The function below computes the cumulative sum over the values in a list.\n",
    "\n",
    "Given a list [1,2,3], the cumulative sum is a new list with these items: [1, 1+2, 1+2+3] = [1, 3, 6]."
   ]
  },
  {
   "cell_type": "code",
   "execution_count": 3,
   "metadata": {},
   "outputs": [
    {
     "name": "stdout",
     "output_type": "stream",
     "text": [
      "[1, 3, 6, 10, 13, 15, 19]\n"
     ]
    }
   ],
   "source": [
    "values = [1,2,3,4,3,2,4]\n",
    "\n",
    "cumulative_sum = []\n",
    "for idx in range(len(values)):\n",
    "    cumulative_sum.append(sum(values[:idx+1]))\n",
    "\n",
    "print(cumulative_sum)"
   ]
  },
  {
   "cell_type": "markdown",
   "metadata": {},
   "source": [
    "Save the function to compute the cumulative sum to a new file, import the function from the file, and use it for this new list:"
   ]
  },
  {
   "cell_type": "code",
   "execution_count": 4,
   "metadata": {},
   "outputs": [],
   "source": [
    "new_list = [21, 45, 32, 10]\n",
    "# your solution here\n"
   ]
  }
 ],
 "metadata": {
  "kernelspec": {
   "display_name": "Python 3 (ipykernel)",
   "language": "python",
   "name": "python3"
  },
  "language_info": {
   "codemirror_mode": {
    "name": "ipython",
    "version": 3
   },
   "file_extension": ".py",
   "mimetype": "text/x-python",
   "name": "python",
   "nbconvert_exporter": "python",
   "pygments_lexer": "ipython3",
   "version": "3.12.0"
  },
  "vscode": {
   "interpreter": {
    "hash": "7ea0ec616133ead53c1908c8f6539f5c0cb9b2f78368e2bb6ab3f847e89ca400"
   }
  }
 },
 "nbformat": 4,
 "nbformat_minor": 4
}
