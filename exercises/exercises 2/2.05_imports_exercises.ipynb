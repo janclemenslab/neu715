{
 "cells": [
  {
   "cell_type": "markdown",
   "metadata": {},
   "source": [
    "# Excercises 2.5 - Imports"
   ]
  },
  {
   "cell_type": "markdown",
   "metadata": {},
   "source": [
    "## Exercise 1 - Fix the following code\n",
    "This code does not run - why? Fix it!"
   ]
  },
  {
   "cell_type": "code",
   "execution_count": 1,
   "metadata": {},
   "outputs": [
    {
     "ename": "NameError",
     "evalue": "name 'os' is not defined",
     "output_type": "error",
     "traceback": [
      "\u001b[0;31m---------------------------------------------------------------------------\u001b[0m",
      "\u001b[0;31mNameError\u001b[0m                                 Traceback (most recent call last)",
      "\u001b[1;32m/Users/clemens10/Library/CloudStorage/Dropbox/_teaching/2023ws python course/neu715/exercises/exercises 2/2.05_imports_exercises.ipynb Cell 3\u001b[0m line \u001b[0;36m2\n\u001b[1;32m      <a href='vscode-notebook-cell:/Users/clemens10/Library/CloudStorage/Dropbox/_teaching/2023ws%20python%20course/neu715/exercises/exercises%202/2.05_imports_exercises.ipynb#W2sZmlsZQ%3D%3D?line=0'>1</a>\u001b[0m \u001b[39m# your solution here\u001b[39;00m\n\u001b[0;32m----> <a href='vscode-notebook-cell:/Users/clemens10/Library/CloudStorage/Dropbox/_teaching/2023ws%20python%20course/neu715/exercises/exercises%202/2.05_imports_exercises.ipynb#W2sZmlsZQ%3D%3D?line=1'>2</a>\u001b[0m os\u001b[39m.\u001b[39mgetcwd()\n",
      "\u001b[0;31mNameError\u001b[0m: name 'os' is not defined"
     ]
    }
   ],
   "source": [
    "# your solution here\n",
    "os.getcwd()"
   ]
  },
  {
   "cell_type": "markdown",
   "metadata": {},
   "source": [
    "## Exercise 2 - Import a new module\n",
    "The [time](https://docs.python.org/3/library/time.html) module is part of the python standard library and can be used to:\n",
    "- get the time, using the function `time()` in the module, or\n",
    "- make your programm do nothing until a specific amount of time, in seconds, has passed, using the `sleep(seconds)` function in the module.\n",
    "\n",
    "Import the module and use it to 1) get the time and 2) make your computer \"sleep\" for 4 seconds.\n"
   ]
  },
  {
   "cell_type": "code",
   "execution_count": 2,
   "metadata": {},
   "outputs": [],
   "source": [
    "# your solution here"
   ]
  },
  {
   "cell_type": "markdown",
   "metadata": {},
   "source": [
    "## Exercise 3 - Importing your own code\n",
    "The function below computes the cumulative sum over the values in a list.\n",
    "\n",
    "Given a list [1,2,3], the cumulative sum is a new list with these items: [1, 1+2, 1+2+3] = [1, 3, 6]."
   ]
  },
  {
   "cell_type": "code",
   "execution_count": null,
   "metadata": {},
   "outputs": [],
   "source": [
    "values = [1,2,3,4,3,2,4]\n",
    "\n",
    "cumsum = []\n",
    "for idx in range(len(values)):\n",
    "    cumsum.append(sum(values[:idx+1]))\n",
    "\n",
    "print(cumsum)\n",
    "\n",
    "def cumsum(values):\n",
    "    \"\"\"Computes the cumulative sum for the items in a list.\n",
    "\n",
    "    Args:\n",
    "        values: List with numerical data\n",
    "\n",
    "    Returns:\n",
    "        The cumulative sum\n",
    "    \"\"\"\n",
    "    cs = []\n",
    "    for idx in range(len(values)):\n",
    "        cs.append(sum(values[:idx+1]))\n",
    "    return cs\n",
    "\n",
    "print(cumsum(values))\n",
    "new_list = [1,-1,-2]\n",
    "cumsum(new_list)"
   ]
  },
  {
   "cell_type": "markdown",
   "metadata": {},
   "source": [
    "Save this function to a file, import the function from the file, and use it."
   ]
  },
  {
   "cell_type": "code",
   "execution_count": 3,
   "metadata": {},
   "outputs": [],
   "source": [
    "new_list = [21, 45, 32, 10]\n",
    "# your solution here"
   ]
  }
 ],
 "metadata": {
  "kernelspec": {
   "display_name": "Python 3 (ipykernel)",
   "language": "python",
   "name": "python3"
  },
  "language_info": {
   "codemirror_mode": {
    "name": "ipython",
    "version": 3
   },
   "file_extension": ".py",
   "mimetype": "text/x-python",
   "name": "python",
   "nbconvert_exporter": "python",
   "pygments_lexer": "ipython3",
   "version": "3.11.6"
  },
  "vscode": {
   "interpreter": {
    "hash": "7ea0ec616133ead53c1908c8f6539f5c0cb9b2f78368e2bb6ab3f847e89ca400"
   }
  }
 },
 "nbformat": 4,
 "nbformat_minor": 4
}
