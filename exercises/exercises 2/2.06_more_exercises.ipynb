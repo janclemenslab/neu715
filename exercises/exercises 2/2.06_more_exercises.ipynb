{
 "cells": [
  {
   "cell_type": "markdown",
   "metadata": {},
   "source": [
    "# Exercise 2.6 - More exercises"
   ]
  },
  {
   "cell_type": "code",
   "execution_count": 1,
   "metadata": {},
   "outputs": [
    {
     "name": "stdout",
     "output_type": "stream",
     "text": [
      "[1880, 1881, 1882, 1883, 1884, 1885, 1886, 1887, 1888, 1889]\n",
      "[-0.1, -0.17, -0.11, -0.17, -0.28, -0.26, -0.27, -0.22, -0.09, -0.23]\n"
     ]
    }
   ],
   "source": [
    "# EXECUTE BUT DO NOT CHANGE\n",
    "import numpy as np\n",
    "\n",
    "def load_anomalies():\n",
    "    # Load the full anomaly data set\n",
    "    data = np.loadtxt('temperature.csv', skiprows=1, delimiter=',')\n",
    "    years = [int(y) for y in data[:, 0]]  # unpack the table and cast years to int\n",
    "    temperature_anomalies = list(data[:, 1])  # unpack the table\n",
    "    return years, temperature_anomalies\n",
    "\n",
    "years, temperature_anomalies = load_anomalies()\n",
    "print(years[:10])\n",
    "print(temperature_anomalies[:10])"
   ]
  },
  {
   "cell_type": "markdown",
   "metadata": {},
   "source": [
    "## Exercise 1: Temperature anomalies\n",
    "\n",
    "#### 1A) Smooth the anomaly values.\n",
    "Smooth using a moving average window spanning +/-4 of the neighbouring values.\n",
    "\n",
    "To smooth with a span of 4, you replace each data point with the average value of 9 values:\n",
    "- the datapoint itself, \n",
    "- the 4 preceeding, and \n",
    "- the 4 following values.\n",
    "\n",
    "Label and format the plot, and plot the raw values as dots and the smoothed values as a line, as in the figure below.\n",
    "\n",
    "Roughly like so:\n",
    "\n",
    "![](2.06_more_exercises_1a.png)\n",
    "\n",
    "__BONUS__ Make your code more readable by using functions."
   ]
  },
  {
   "cell_type": "code",
   "execution_count": 2,
   "metadata": {},
   "outputs": [],
   "source": [
    "# Your solution here"
   ]
  },
  {
   "cell_type": "markdown",
   "metadata": {},
   "source": [
    "#### __BONUS__ B) Smooth the anomaly values with different spans.\n",
    "Use different spans of the moving average window (1, 2, 4, 8, 16). Overlay smoothed values for the different spans. Make a function for smoothing to simplify your code.\n",
    "\n",
    "The plot should look roughly like so:\n",
    "\n",
    "![](2.06_more_exercises_1b.png)\n"
   ]
  },
  {
   "cell_type": "code",
   "execution_count": 3,
   "metadata": {},
   "outputs": [],
   "source": [
    "# your solution"
   ]
  },
  {
   "cell_type": "markdown",
   "metadata": {},
   "source": [
    "### __BONUS__ Exercise 2: Change in temperature anomalies\n",
    "Plot the year-over-year change in anomaly values.\n",
    "\n",
    "1. Smooth the change using a moving average window spanning +/-2 neighbouring values.\n",
    "2. Compute the difference between the smoothed and the raw values.\n",
    "\n",
    "Plot the raw change as dots and the smoothed change as lines.\n",
    "\n",
    "Roughly like so:\n",
    "\n",
    "![](2.06_more_exercises_1c.png)\n"
   ]
  },
  {
   "cell_type": "code",
   "execution_count": 4,
   "metadata": {},
   "outputs": [],
   "source": [
    "# your solution"
   ]
  },
  {
   "cell_type": "code",
   "execution_count": null,
   "metadata": {},
   "outputs": [],
   "source": []
  }
 ],
 "metadata": {
  "celltoolbar": "Slideshow",
  "kernelspec": {
   "display_name": "Python 3 (ipykernel)",
   "language": "python",
   "name": "python3"
  },
  "language_info": {
   "codemirror_mode": {
    "name": "ipython",
    "version": 3
   },
   "file_extension": ".py",
   "mimetype": "text/x-python",
   "name": "python",
   "nbconvert_exporter": "python",
   "pygments_lexer": "ipython3",
   "version": "3.11.6"
  },
  "vscode": {
   "interpreter": {
    "hash": "7ea0ec616133ead53c1908c8f6539f5c0cb9b2f78368e2bb6ab3f847e89ca400"
   }
  }
 },
 "nbformat": 4,
 "nbformat_minor": 4
}
