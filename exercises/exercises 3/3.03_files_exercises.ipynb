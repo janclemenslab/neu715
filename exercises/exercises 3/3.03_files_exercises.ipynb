{
 "cells": [
  {
   "cell_type": "markdown",
   "metadata": {},
   "source": [
    "# Exercises 3.03 - Working with files"
   ]
  },
  {
   "cell_type": "markdown",
   "metadata": {},
   "source": [
    "## A common data analysis workflow\n",
    "In this exercise, you will implement step-by-step a common workflow for analyzing and aggregating experimental datasets:\n",
    "- Experimental data were collected over multiple days, with the data for each day in a separate subdirectory in `behavioral_data`.\n",
    "- During the day, the animal was trained. The animal was tested in 40 trials before (\"initial\") and after (\"final\") training and the resulting behavioral scores were saved in separate files in each day's folder.\n",
    "\n",
    "We want to:\n",
    "1. compute the average initial and final score for each days\n",
    "2. plot the initial and final average scores across days. \n",
    "\n",
    "To do that we need to:\n",
    "1. Discover the data files\n",
    "2. Load and process the data files for each day and epoch (initial/final)\n",
    "3. Save the processed results in a file\n",
    "4. Load and plot the results\n",
    "\n",
    "### Exercise 1 - processing and generating file paths\n",
    "The behavioral data is organized in the following folder structure:\n",
    "`behavioral_data/DATENAME/DATA_FILE_NAME.SUFFIX`\n",
    "\n",
    "Familiarize yourself with how the directory is organized using the windows file explorer or mac file finder.\n",
    "\n",
    "We want to process the data, and save the results into the following path:\n",
    "`behavioral_results/DATENAME/DATA_FILE_NAME.SUFFIX`. In exercise one, you will generate the paths for the results file from the paths of the data file.\n",
    "\n",
    "To make this concrete: Say the data file is at 'behavioral_data/20230914/final_behavioral_scores.csv'. Generate a path so we can save the results file to 'behavioral_results/20230914/final_behavioral_scores.txt'. What we need to change is the top directory from 'behavioral_data' to 'behavioral_results' and the extension from 'csv' to 'txt'. We keep the names of the experiment directory and of the data file.\n",
    "\n",
    "#### 1) Take the path for the data file apart:\n",
    "You are given the following path: 'behavioral_data/20230914/final_behavioral_scores.csv'\n",
    "\n",
    "As a first step, use path manipulations to extract the following information form the path:\n",
    "- the parent directory ('behavioral_data')\n",
    "- the directory for the experiment ('20230914')\n",
    "- the stem of the data file ('final_behavioral_scores')\n",
    "- the suffix of the data file ('.csv')"
   ]
  },
  {
   "cell_type": "code",
   "execution_count": 18,
   "metadata": {},
   "outputs": [
    {
     "name": "stdout",
     "output_type": "stream",
     "text": [
      "all parts: ['behavioral_data', '20230914', 'final_behavioral_scores.csv']\n",
      "top directory: behavioral_data\n",
      "experiment directory: 20230914\n",
      "file stem: final_behavioral_scores\n",
      "file suffix: .csv\n"
     ]
    }
   ],
   "source": [
    "import os\n",
    "path = 'behavioral_data/20230914/final_behavioral_scores.csv'\n",
    "\n",
    "# your solution\n"
   ]
  },
  {
   "cell_type": "markdown",
   "metadata": {},
   "source": [
    "#### 2) Reassemble the parts to form the path for the results file:\n",
    "For the data file in 'behavioral_data/20230914/final_behavioral_scores.csv', the results should be in\n",
    "'behavioral_results/20230914/final_behavioral_scores.txt'.\n"
   ]
  },
  {
   "cell_type": "code",
   "execution_count": 19,
   "metadata": {},
   "outputs": [
    {
     "name": "stdout",
     "output_type": "stream",
     "text": [
      "behavioral_results/20230914/final_behavioral_scores.txt\n"
     ]
    }
   ],
   "source": [
    "# your solution\n"
   ]
  },
  {
   "cell_type": "markdown",
   "metadata": {},
   "source": [
    "### Exercise 2 - Discovering files\n",
    "To process all data files in the folder `behavioral_data`, we first need to discover them, using `glob`.\n",
    "\n",
    "#### 1) List all files in a folder\n",
    "The subfolder `20230914` in `behavioral_data` contains a bunch of files. Use `glob` to list all files in that folder:"
   ]
  },
  {
   "cell_type": "code",
   "execution_count": 17,
   "metadata": {},
   "outputs": [
    {
     "name": "stdout",
     "output_type": "stream",
     "text": [
      "['behavioral_data/20230914/initial_behavioral_scores.csv', 'behavioral_data/20230914/final_behavioral_scores.csv', 'behavioral_data/20230914/broken.msg']\n"
     ]
    }
   ],
   "source": [
    "# your solution\n"
   ]
  },
  {
   "cell_type": "markdown",
   "metadata": {},
   "source": [
    "#### 2) List only the data files (ending in .csv) in the sub folder\n",
    "The listing above yielded 3 files - two data files ending in '.csv' and one garbage file called 'broken.msg'. We only want to list the data files - not the garbage file.\n",
    "\n",
    "Modify your code that uses `glob` above to list only the '.csv' files, but no other files that might exist in that folder."
   ]
  },
  {
   "cell_type": "code",
   "execution_count": 21,
   "metadata": {},
   "outputs": [
    {
     "name": "stdout",
     "output_type": "stream",
     "text": [
      "['behavioral_data/20230914/initial_behavioral_scores.csv', 'behavioral_data/20230914/final_behavioral_scores.csv']\n"
     ]
    }
   ],
   "source": [
    "# your solution\n"
   ]
  },
  {
   "cell_type": "markdown",
   "metadata": {},
   "source": [
    "#### 3) List all data files (ending in csv) in all sub folders\n",
    "We want to process *all* data files - from all days in `behavioral_results`, not just the ones from the day `20230914`.\n",
    "\n",
    "Modify your code that uses `glob` above to list all the csv files in all subfolders in `behavioral_data`. Use a single command - no for loop!"
   ]
  },
  {
   "cell_type": "code",
   "execution_count": 23,
   "metadata": {},
   "outputs": [
    {
     "name": "stdout",
     "output_type": "stream",
     "text": [
      "['behavioral_data/20230912/final_behavioral_scores.csv', 'behavioral_data/20230912/initial_behavioral_scores.csv', 'behavioral_data/20230913/final_behavioral_scores.csv', 'behavioral_data/20230913/initial_behavioral_scores.csv', 'behavioral_data/20230914/final_behavioral_scores.csv', 'behavioral_data/20230914/initial_behavioral_scores.csv', 'behavioral_data/20230915/final_behavioral_scores.csv', 'behavioral_data/20230915/initial_behavioral_scores.csv', 'behavioral_data/20230916/final_behavioral_scores.csv', 'behavioral_data/20230916/initial_behavioral_scores.csv', 'behavioral_data/20230917/final_behavioral_scores.csv', 'behavioral_data/20230917/initial_behavioral_scores.csv']\n"
     ]
    }
   ],
   "source": [
    "# your solution\n"
   ]
  },
  {
   "cell_type": "markdown",
   "metadata": {},
   "source": [
    "### Exercise 3 - Manipulate file names in a list\n",
    "Now that we have a listing of the data files, we can now take apart the names of the data files and generate the names for results files. We will basically apply what we have done in exercises 1 + 2 above to all paths, using a for loop.\n",
    "\n",
    "#### 1) Take the path for the data file apart:\n",
    "As a first step, take the first file in the list `data_files`.\n",
    "\n",
    "Use path manipulations to extract the following information form the path:\n",
    "- the parent directory ('behavioral_data')\n",
    "- the directory for the experiment ('20230912')\n",
    "- the stem of the data file ('final_behavioral_scores)\n",
    "- the suffix of the data file ('.csv')"
   ]
  },
  {
   "cell_type": "code",
   "execution_count": 28,
   "metadata": {},
   "outputs": [
    {
     "name": "stdout",
     "output_type": "stream",
     "text": [
      "behavioral_data/20230912/final_behavioral_scores.csv\n",
      "['behavioral_data', '20230912', 'final_behavioral_scores.csv'] 20230912 final_behavioral_scores.csv final_behavioral_scores .csv\n"
     ]
    }
   ],
   "source": [
    "data_files = ['behavioral_data/20230912/final_behavioral_scores.csv', 'behavioral_data/20230912/initial_behavioral_scores.csv', 'behavioral_data/20230913/final_behavioral_scores.csv', 'behavioral_data/20230913/initial_behavioral_scores.csv', 'behavioral_data/20230914/final_behavioral_scores.csv', 'behavioral_data/20230914/initial_behavioral_scores.csv', 'behavioral_data/20230915/final_behavioral_scores.csv', 'behavioral_data/20230915/initial_behavioral_scores.csv', 'behavioral_data/20230916/final_behavioral_scores.csv', 'behavioral_data/20230916/initial_behavioral_scores.csv', 'behavioral_data/20230917/final_behavioral_scores.csv', 'behavioral_data/20230917/initial_behavioral_scores.csv']\n",
    "\n",
    "# your solution\n"
   ]
  },
  {
   "cell_type": "markdown",
   "metadata": {},
   "source": [
    "#### 2) Reassemble the parts from the first file name form the path for the results file\n",
    "Now take the file parts and reassemble/modify them to generate the path for a results file.\n",
    "\n",
    "For the data file in 'behavioral_data/20230912/final_behavioral_scores.csv', the results should be in\n",
    "'behavioral_results/20230912/final_behavioral_scores.txt'."
   ]
  },
  {
   "cell_type": "code",
   "execution_count": 29,
   "metadata": {},
   "outputs": [
    {
     "name": "stdout",
     "output_type": "stream",
     "text": [
      "behavioral_results/20230912/final_behavioral_scores.txt\n"
     ]
    }
   ],
   "source": [
    "# your solution\n"
   ]
  },
  {
   "cell_type": "markdown",
   "metadata": {},
   "source": [
    "#### 3) Apply steps 1 + 2 to all files in the list\n",
    "Now take apart the names of the data files and reassemble them to the names of the results files for files in `data_files`.\n",
    "\n",
    "Collect the names of the results files in a new list called `results_file_names`."
   ]
  },
  {
   "cell_type": "code",
   "execution_count": 30,
   "metadata": {},
   "outputs": [
    {
     "name": "stdout",
     "output_type": "stream",
     "text": [
      "behavioral_data/20230912/final_behavioral_scores.csv\n",
      "behavioral_results/20230912/final_behavioral_scores.txt\n",
      "behavioral_data/20230912/initial_behavioral_scores.csv\n",
      "behavioral_results/20230912/initial_behavioral_scores.txt\n",
      "behavioral_data/20230913/final_behavioral_scores.csv\n",
      "behavioral_results/20230913/final_behavioral_scores.txt\n",
      "behavioral_data/20230913/initial_behavioral_scores.csv\n",
      "behavioral_results/20230913/initial_behavioral_scores.txt\n",
      "behavioral_data/20230914/final_behavioral_scores.csv\n",
      "behavioral_results/20230914/final_behavioral_scores.txt\n",
      "behavioral_data/20230914/initial_behavioral_scores.csv\n",
      "behavioral_results/20230914/initial_behavioral_scores.txt\n",
      "behavioral_data/20230915/final_behavioral_scores.csv\n",
      "behavioral_results/20230915/final_behavioral_scores.txt\n",
      "behavioral_data/20230915/initial_behavioral_scores.csv\n",
      "behavioral_results/20230915/initial_behavioral_scores.txt\n",
      "behavioral_data/20230916/final_behavioral_scores.csv\n",
      "behavioral_results/20230916/final_behavioral_scores.txt\n",
      "behavioral_data/20230916/initial_behavioral_scores.csv\n",
      "behavioral_results/20230916/initial_behavioral_scores.txt\n",
      "behavioral_data/20230917/final_behavioral_scores.csv\n",
      "behavioral_results/20230917/final_behavioral_scores.txt\n",
      "behavioral_data/20230917/initial_behavioral_scores.csv\n",
      "behavioral_results/20230917/initial_behavioral_scores.txt\n",
      "['behavioral_results/20230912/final_behavioral_scores.txt', 'behavioral_results/20230912/initial_behavioral_scores.txt', 'behavioral_results/20230913/final_behavioral_scores.txt', 'behavioral_results/20230913/initial_behavioral_scores.txt', 'behavioral_results/20230914/final_behavioral_scores.txt', 'behavioral_results/20230914/initial_behavioral_scores.txt', 'behavioral_results/20230915/final_behavioral_scores.txt', 'behavioral_results/20230915/initial_behavioral_scores.txt', 'behavioral_results/20230916/final_behavioral_scores.txt', 'behavioral_results/20230916/initial_behavioral_scores.txt', 'behavioral_results/20230917/final_behavioral_scores.txt', 'behavioral_results/20230917/initial_behavioral_scores.txt']\n"
     ]
    }
   ],
   "source": [
    "data_files = ['behavioral_data/20230912/final_behavioral_scores.csv', 'behavioral_data/20230912/initial_behavioral_scores.csv', 'behavioral_data/20230913/final_behavioral_scores.csv', 'behavioral_data/20230913/initial_behavioral_scores.csv', 'behavioral_data/20230914/final_behavioral_scores.csv', 'behavioral_data/20230914/initial_behavioral_scores.csv', 'behavioral_data/20230915/final_behavioral_scores.csv', 'behavioral_data/20230915/initial_behavioral_scores.csv', 'behavioral_data/20230916/final_behavioral_scores.csv', 'behavioral_data/20230916/initial_behavioral_scores.csv', 'behavioral_data/20230917/final_behavioral_scores.csv', 'behavioral_data/20230917/initial_behavioral_scores.csv']\n",
    "\n",
    "# your solution\n"
   ]
  },
  {
   "cell_type": "markdown",
   "metadata": {},
   "source": [
    "### Exercise 4 - Processing files\n",
    "We have a list of all data files in the folder `behavioral_data`. Let's process the data.\n",
    "\n",
    "#### 1) Load data from a single file\n",
    "As a first step, take the first file in the list `data_files`.\n",
    "\n",
    "Load the data from the file using `np.loadtxt`."
   ]
  },
  {
   "cell_type": "code",
   "execution_count": 32,
   "metadata": {},
   "outputs": [
    {
     "name": "stdout",
     "output_type": "stream",
     "text": [
      "[0.22274863 0.40350196 0.         0.56353078 0.519613   0.21905378\n",
      " 0.37689013 0.2829951  0.13681079 0.28961837 0.44172765 0.21148458\n",
      " 0.21238843 0.26258821 0.34724939 0.48806321 0.16922012 0.35973271\n",
      " 0.31101933 0.         0.20511392 0.25294518 0.26840496 0.32933391\n",
      " 0.         0.28270925 0.16205407 0.0350935  0.36238274 0.3975466\n",
      " 0.16612496 0.41540938 0.21141392 0.2860815  0.09187684 0.53908118\n",
      " 0.         0.2597579  0.39085327 0.        ]\n"
     ]
    }
   ],
   "source": [
    "data_files = ['behavioral_data/20230912/final_behavioral_scores.csv', 'behavioral_data/20230912/initial_behavioral_scores.csv', 'behavioral_data/20230913/final_behavioral_scores.csv', 'behavioral_data/20230913/initial_behavioral_scores.csv', 'behavioral_data/20230914/final_behavioral_scores.csv', 'behavioral_data/20230914/initial_behavioral_scores.csv', 'behavioral_data/20230915/final_behavioral_scores.csv', 'behavioral_data/20230915/initial_behavioral_scores.csv', 'behavioral_data/20230916/final_behavioral_scores.csv', 'behavioral_data/20230916/initial_behavioral_scores.csv', 'behavioral_data/20230917/final_behavioral_scores.csv', 'behavioral_data/20230917/initial_behavioral_scores.csv']\n",
    "\n",
    "# your solution\n"
   ]
  },
  {
   "cell_type": "markdown",
   "metadata": {},
   "source": [
    "#### 2) Compute the mean\n",
    "Compute the mean of the data loaded from the first file"
   ]
  },
  {
   "cell_type": "code",
   "execution_count": 33,
   "metadata": {},
   "outputs": [],
   "source": [
    "# your solution here\n"
   ]
  },
  {
   "cell_type": "markdown",
   "metadata": {},
   "source": [
    "#### 3) Load data from all files, compute the means and collect the means in a list\n",
    "Now let's apply steps 1+2 to all data files using a for loop:\n",
    "- load the data from each file using `np.loadtxt`\n",
    "- compute the average of the values in each file\n",
    "- collect all results in a list"
   ]
  },
  {
   "cell_type": "code",
   "execution_count": 35,
   "metadata": {},
   "outputs": [
    {
     "data": {
      "text/plain": [
       "[0.2618604801587121,\n",
       " 0.08656876767920035,\n",
       " 0.4894819412043526,\n",
       " 0.2708178821903651,\n",
       " 0.6570028706902653,\n",
       " 0.47072198956329847,\n",
       " 0.8168024268485145,\n",
       " 0.5599663891082376,\n",
       " 0.9868654497357406,\n",
       " 0.8488095892472007,\n",
       " 0.9946592530266862,\n",
       " 0.9104513105983869]"
      ]
     },
     "execution_count": 35,
     "metadata": {},
     "output_type": "execute_result"
    }
   ],
   "source": [
    "data_files = ['behavioral_data/20230912/final_behavioral_scores.csv', 'behavioral_data/20230912/initial_behavioral_scores.csv', 'behavioral_data/20230913/final_behavioral_scores.csv', 'behavioral_data/20230913/initial_behavioral_scores.csv', 'behavioral_data/20230914/final_behavioral_scores.csv', 'behavioral_data/20230914/initial_behavioral_scores.csv', 'behavioral_data/20230915/final_behavioral_scores.csv', 'behavioral_data/20230915/initial_behavioral_scores.csv', 'behavioral_data/20230916/final_behavioral_scores.csv', 'behavioral_data/20230916/initial_behavioral_scores.csv', 'behavioral_data/20230917/final_behavioral_scores.csv', 'behavioral_data/20230917/initial_behavioral_scores.csv']\n",
    "\n",
    "# your solution\n"
   ]
  },
  {
   "cell_type": "markdown",
   "metadata": {},
   "source": [
    "#### 4) Load data from all files, compute the means and collect the means in a 2D numpy array\n",
    "The goal of our analysis is the compare the intial and final score for each data, to see whether our animal made progress. Saving all results in a simple list is not very useful, since we do not now which value in the list corresponds to which day and which epoch (initial or final). \n",
    "\n",
    "Let's arrange the data in a 2D numpy array:\n",
    "- rows are files\n",
    "- first column - initial scores\n",
    "- second column - final scores\n",
    "\n",
    "Modify the code from above to:\n",
    "- load the data from each file using `np.loadtxt`\n",
    "- collect all results in a 2D numpy array structured as explained above"
   ]
  },
  {
   "cell_type": "code",
   "execution_count": 36,
   "metadata": {},
   "outputs": [
    {
     "name": "stdout",
     "output_type": "stream",
     "text": [
      "behavioral_data/20230912/final_behavioral_scores.csv\n",
      "behavioral_data/20230912/initial_behavioral_scores.csv\n",
      "behavioral_data/20230913/final_behavioral_scores.csv\n",
      "behavioral_data/20230913/initial_behavioral_scores.csv\n",
      "behavioral_data/20230914/final_behavioral_scores.csv\n",
      "behavioral_data/20230914/initial_behavioral_scores.csv\n",
      "behavioral_data/20230915/final_behavioral_scores.csv\n",
      "behavioral_data/20230915/initial_behavioral_scores.csv\n",
      "behavioral_data/20230916/final_behavioral_scores.csv\n",
      "behavioral_data/20230916/initial_behavioral_scores.csv\n",
      "behavioral_data/20230917/final_behavioral_scores.csv\n",
      "behavioral_data/20230917/initial_behavioral_scores.csv\n"
     ]
    },
    {
     "data": {
      "text/plain": [
       "array([[0.08656877, 0.26186048],\n",
       "       [0.27081788, 0.48948194],\n",
       "       [0.47072199, 0.65700287],\n",
       "       [0.55996639, 0.81680243],\n",
       "       [0.84880959, 0.98686545],\n",
       "       [0.91045131, 0.99465925]])"
      ]
     },
     "execution_count": 36,
     "metadata": {},
     "output_type": "execute_result"
    }
   ],
   "source": [
    "data_files = ['behavioral_data/20230912/final_behavioral_scores.csv', 'behavioral_data/20230912/initial_behavioral_scores.csv', 'behavioral_data/20230913/final_behavioral_scores.csv', 'behavioral_data/20230913/initial_behavioral_scores.csv', 'behavioral_data/20230914/final_behavioral_scores.csv', 'behavioral_data/20230914/initial_behavioral_scores.csv', 'behavioral_data/20230915/final_behavioral_scores.csv', 'behavioral_data/20230915/initial_behavioral_scores.csv', 'behavioral_data/20230916/final_behavioral_scores.csv', 'behavioral_data/20230916/initial_behavioral_scores.csv', 'behavioral_data/20230917/final_behavioral_scores.csv', 'behavioral_data/20230917/initial_behavioral_scores.csv']\n",
    "\n",
    "# your solution\n"
   ]
  },
  {
   "cell_type": "markdown",
   "metadata": {},
   "source": [
    "#### 5) Save the results to a file\n",
    "You are given a 2D numpy array with results (first column - initial scores, second column - final scores, rows are files).\n",
    "\n",
    "Save the array to a text file in the folder `behavioral_results` as the file `scores.txt`"
   ]
  },
  {
   "cell_type": "code",
   "execution_count": 37,
   "metadata": {},
   "outputs": [
    {
     "name": "stdout",
     "output_type": "stream",
     "text": [
      "[[0.27081788 0.48948194]\n",
      " [0.47072199 0.65700287]\n",
      " [0.55996639 0.81680243]\n",
      " [0.08656877 0.26186048]\n",
      " [0.91045131 0.99465925]\n",
      " [0.84880959 0.98686545]]\n"
     ]
    }
   ],
   "source": [
    "results = [[0.27081788, 0.48948194],\n",
    "           [0.47072199, 0.65700287],\n",
    "           [0.55996639, 0.81680243],\n",
    "           [0.08656877, 0.26186048],\n",
    "           [0.91045131, 0.99465925],\n",
    "           [0.84880959, 0.98686545]]\n",
    "results = np.asarray(results)\n",
    "print(results)\n",
    "# your solution\n"
   ]
  },
  {
   "cell_type": "markdown",
   "metadata": {},
   "source": [
    "### Exercise 5 - load the results from the file you just saved and plot the results\n",
    "Now load the results from the file and plot them.\n",
    "\n",
    "Generate a single plot, with the initial results as a red line, and the final results as a green line.\n",
    "\n",
    "Save the plot to a file `scores.png` in the folder `behavioral_results`.\n",
    "\n",
    "Roughly like so:\n",
    "\n",
    "![](3.03_files_exercises_final_plot.png)"
   ]
  },
  {
   "cell_type": "code",
   "execution_count": 38,
   "metadata": {},
   "outputs": [
    {
     "data": {
      "image/png": "[encoded data removed]",
      "text/plain": [
       "<Figure size 400x400 with 1 Axes>"
      ]
     },
     "metadata": {},
     "output_type": "display_data"
    }
   ],
   "source": [
    "# your solution here\n"
   ]
  }
 ],
 "metadata": {
  "interpreter": {
   "hash": "7ea0ec616133ead53c1908c8f6539f5c0cb9b2f78368e2bb6ab3f847e89ca400"
  },
  "kernelspec": {
   "display_name": "Python 3.7.6 64-bit ('base': conda)",
   "name": "python3"
  },
  "language_info": {
   "codemirror_mode": {
    "name": "ipython",
    "version": 3
   },
   "file_extension": ".py",
   "mimetype": "text/x-python",
   "name": "python",
   "nbconvert_exporter": "python",
   "pygments_lexer": "ipython3",
   "version": "3.12.0"
  }
 },
 "nbformat": 4,
 "nbformat_minor": 2
}
