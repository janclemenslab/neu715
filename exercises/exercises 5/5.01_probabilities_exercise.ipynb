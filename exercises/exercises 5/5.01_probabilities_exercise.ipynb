{
 "cells": [
  {
   "cell_type": "markdown",
   "metadata": {},
   "source": [
    "# Probabilities\n",
    "\n",
    "You tested a new wonder drug that is supposed to increase to score of mice in a learning assay. \n",
    "\n",
    "The test scores from a group of control and of treatment animals are stored in a file.\n",
    "\n",
    "Explore the data using histograms and descriptive statistics."
   ]
  },
  {
   "cell_type": "markdown",
   "metadata": {},
   "source": [
    "## Exercise 1: Load the data and determine sample sizes\n",
    "\n",
    "Download the file `5.01_probabilities_exercise.npz` from studip.\n",
    "Load and inspect the data. \n",
    "\n",
    "What are the sample sizes for the control and treatment data?\n"
   ]
  },
  {
   "cell_type": "code",
   "execution_count": 4,
   "metadata": {},
   "outputs": [],
   "source": [
    "# your solution here\n"
   ]
  },
  {
   "cell_type": "markdown",
   "metadata": {},
   "source": [
    "## Exercise 2: Visualize the probability densities\n",
    "Plot the probability densities for the control and treatment data. Plot them in the same plot so you can directly compare them.\n",
    "\n",
    "__Hint:__ To make the overlapping histograms more easily visible, make them translucent by setting the `alpha` argument to 0.5. Something like `plt.hist(x, bins=1_000, alpha=0.5)`."
   ]
  },
  {
   "cell_type": "code",
   "execution_count": 4,
   "metadata": {},
   "outputs": [],
   "source": [
    "# your solution here"
   ]
  },
  {
   "cell_type": "markdown",
   "metadata": {},
   "source": [
    "## Exercise 3: Calculate mean, standard deviation, and standard error of the mean for both distributions\n",
    "\n",
    "Calculate and compare the standard deviation (std) and the standard error of the mean (sem) for both data sets. \n",
    "\n",
    "Can you explain why the std is higher for the treatment data, but the sem is lower for the control data?\n",
    "\n",
    "__HINT__: If your data is represented as a dictionary, you can use a for loop and `.items()` to compute the statistics for each key-value pair."
   ]
  },
  {
   "cell_type": "code",
   "execution_count": 5,
   "metadata": {},
   "outputs": [],
   "source": [
    "# your solution here"
   ]
  },
  {
   "cell_type": "markdown",
   "metadata": {},
   "source": [
    "## Exercise 4: Plot with different types of errorbars\n",
    "\n",
    "Plot the means of control and treatment data with error bars.\n",
    "\n",
    "Produce two plots with different definitions of the error bars:\n",
    "- standard deviation\n",
    "- standard error of the mean\n",
    "\n",
    "Roughly like so:\n",
    "\n",
    "![](5.01_probabilities_exercise4.png)\n",
    "\n",
    "Compare the magnitude of the error bars in the two plots."
   ]
  },
  {
   "cell_type": "code",
   "execution_count": 6,
   "metadata": {},
   "outputs": [],
   "source": [
    "# your solution here"
   ]
  },
  {
   "cell_type": "markdown",
   "metadata": {},
   "source": [
    "## Exercise 5: Visualizing firing rates using a PSTH\n",
    "\n",
    "You are give a dictionary with the spike times produced by a _phasic_ and a _tonic_ neuron. Both were stimulated with a current injection between 200-400ms. The total duration of the recording is 1000ms.\n",
    "\n",
    "Visualize how the firing rate of each neuron changes during the recording using a Peri-Stimulus-Time-Histogram (PSTH). \n",
    "A PSTH is nothing more than a histogram of the spike times!\n",
    "\n",
    "To compare the PSTHs, use histograms with the same bins for both neurons, starting at 0ms, ending at 1000ms, with a bin size of 20 ms.\n",
    "\n",
    "Plot the PSTHs for both neurons in subplots, roughly like so:\n",
    "\n",
    "![](5.01_probabilities_exercise5.png)\n"
   ]
  },
  {
   "cell_type": "code",
   "execution_count": 7,
   "metadata": {},
   "outputs": [
    {
     "name": "stdout",
     "output_type": "stream",
     "text": [
      "{'phasic': array([200, 202, 204, 206, 208, 210, 212, 214, 216, 218, 220, 222, 224,\n",
      "       226, 228, 230, 232, 234, 236, 238, 240, 242, 244, 246, 248, 250,\n",
      "       256, 262, 268, 274, 280, 286, 292, 298, 304, 310, 316, 322, 328,\n",
      "       334, 340, 346, 352, 358, 364, 370, 376, 382, 388, 394]), 'tonic': array([200, 204, 208, 212, 216, 220, 224, 228, 232, 236, 240, 244, 248,\n",
      "       252, 256, 260, 264, 268, 272, 276, 280, 284, 288, 292, 296, 300,\n",
      "       304, 308, 312, 316, 320, 324, 328, 332, 336, 340, 344, 348, 352,\n",
      "       356, 360, 364, 368, 372, 376, 380, 384, 388, 392, 396,   0,  20,\n",
      "        40,  60,  80, 100, 120, 140, 160, 180, 200, 220, 240, 260, 280,\n",
      "       300, 320, 340, 360, 380, 400, 420, 440, 460, 480, 500, 520, 540,\n",
      "       560, 580, 600, 620, 640, 660, 680, 700, 720, 740, 760, 780, 800,\n",
      "       820, 840, 860, 880, 900, 920, 940, 960, 980])}\n"
     ]
    }
   ],
   "source": [
    "import numpy as np\n",
    "spike_times = {'phasic': np.concatenate((np.arange(200, 250, 2), np.arange(250, 400, 6))),\n",
    "         'tonic': np.concatenate((np.arange(200, 400, 4), np.arange(0, 1000, 20))),\n",
    "}\n",
    "print(spike_times)\n",
    "# your solution here:"
   ]
  },
  {
   "cell_type": "code",
   "execution_count": null,
   "metadata": {},
   "outputs": [],
   "source": []
  }
 ],
 "metadata": {
  "kernelspec": {
   "display_name": "Python 3 (ipykernel)",
   "language": "python",
   "name": "python3"
  },
  "language_info": {
   "codemirror_mode": {
    "name": "ipython",
    "version": 3
   },
   "file_extension": ".py",
   "mimetype": "text/x-python",
   "name": "python",
   "nbconvert_exporter": "python",
   "pygments_lexer": "ipython3",
   "version": "3.12.7"
  }
 },
 "nbformat": 4,
 "nbformat_minor": 4
}
