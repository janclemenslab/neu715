{
 "cells": [
  {
   "cell_type": "markdown",
   "metadata": {},
   "source": [
    "# Exercise 5.01 - Probabilities\n",
    "\n",
    "You tested a new wonder drug that is supposed to increase to score of mice in a learning assay. \n",
    "\n",
    "The test scores from a group of control and of treatment animals are stored in a file.\n",
    "\n",
    "Explore the data using histograms and descriptive statistics."
   ]
  },
  {
   "cell_type": "code",
   "execution_count": 2,
   "metadata": {},
   "outputs": [],
   "source": [
    "# REMOVE\n",
    "import numpy as np\n",
    "\n",
    "np.random.seed(1)\n",
    "x1 = np.random.normal(9, 1.6, (500,))\n",
    "x2 = np.random.normal(10, 2.3, (2000,))\n",
    "\n",
    "np.savez('5.01_probabilities_exercise.npz', control=x1, treatment=x2)"
   ]
  },
  {
   "cell_type": "code",
   "execution_count": 3,
   "metadata": {},
   "outputs": [],
   "source": [
    "# import everything you need here\n",
    "import numpy as np\n",
    "import matplotlib.pyplot as plt"
   ]
  },
  {
   "cell_type": "markdown",
   "metadata": {},
   "source": [
    "## Exercise 1 - load the data and determine sample sizes (IMPORTANT)\n",
    "\n",
    "Load the data from the file `5.01_probabilities_exercise.npz` using numpy.\n",
    "\n",
    "Inspect the data - what are the sample sizes for the control and treatment data?\n"
   ]
  },
  {
   "cell_type": "code",
   "execution_count": 4,
   "metadata": {},
   "outputs": [],
   "source": [
    "# your solution here\n"
   ]
  },
  {
   "cell_type": "markdown",
   "metadata": {},
   "source": [
    "## Exercise 2 - visualize the probability densities (IMPORTANT)\n",
    "Plot the probability densities for the control and treatment data. Plot them in the same plot so you can directly compare them.\n",
    "\n",
    "__Hint:__ To make the overlapping histograms more easily visible, make them translucent by setting the `alpha` argument to 0.5. Something like `plt.hist(x, bins=10, alpha=0.5)`."
   ]
  },
  {
   "cell_type": "code",
   "execution_count": 4,
   "metadata": {},
   "outputs": [],
   "source": [
    "# your solution here"
   ]
  },
  {
   "cell_type": "markdown",
   "metadata": {},
   "source": [
    "## Exercise 3 - calculate mean, standard deviation, and standard error of the mean for both distributions (IMPORTANT)\n",
    "\n",
    "Calculate and compare the standard deviation (std) and the standard error of the mean (sem) for both data sets. \n",
    "\n",
    "Can you explain why the std is higher for the treatment data, but the sem is lower for the control data?\n",
    "\n",
    "__HINT__: If your data is represented as a dictionary, you can use a for loop and `.items()` to compute the statistics for each key-value pair."
   ]
  },
  {
   "cell_type": "code",
   "execution_count": 5,
   "metadata": {},
   "outputs": [],
   "source": [
    "# your solution here"
   ]
  },
  {
   "cell_type": "markdown",
   "metadata": {},
   "source": [
    "## Exercise 4 - plot with different types of errorbars (IMPORTANT)\n",
    "\n",
    "Plot the means of control and treatment data with error bars.\n",
    "\n",
    "Produce two plots with different definitions of the error bars:\n",
    "- standard deviation\n",
    "- standard error of the mean\n",
    "\n",
    "Roughly like so:\n",
    "\n",
    "![](5.01_probabilities_exercise4.png)\n",
    "\n",
    "Compare the magnitude of the error bars in the two plots."
   ]
  },
  {
   "cell_type": "code",
   "execution_count": 6,
   "metadata": {},
   "outputs": [],
   "source": [
    "# your solution here"
   ]
  },
  {
   "cell_type": "markdown",
   "metadata": {},
   "source": [
    "## Exercise 5 - PSTH\n",
    "\n",
    "You are give a dictionary with the spike times produced by a phasic and a tonic neuron. Both were stimulated with a current injection between 200-400ms. The total duration of the recording is 1000ms.\n",
    "\n",
    "Visualize how the firing rate of each neuron changes during the recording through a Peri-Stimulus-Time-Histogram (PSTH). \n",
    "A PSTH is nothing more than a histogram of the spike times!\n",
    "\n",
    "To compare the PSTHs for both neurons, use the same bins, starting at 0ms, ending at 1000ms, with a bin size of 20 ms.\n",
    "\n",
    "Plot the PSTHs for both neurons in subplots, roughly like so:\n",
    "\n",
    "![](5.01_probabilities_exercise5.png)\n"
   ]
  },
  {
   "cell_type": "code",
   "execution_count": 7,
   "metadata": {},
   "outputs": [],
   "source": [
    "times = {'phasic': np.concatenate((np.arange(200, 250, 2), np.arange(250, 400, 6))),\n",
    "         'tonic': np.concatenate((np.arange(200, 400, 4), np.arange(0, 1000, 20))),\n",
    "}\n",
    "\n",
    "# your solution here:"
   ]
  }
 ],
 "metadata": {
  "interpreter": {
   "hash": "7ea0ec616133ead53c1908c8f6539f5c0cb9b2f78368e2bb6ab3f847e89ca400"
  },
  "kernelspec": {
   "display_name": "Python 3 (ipykernel)",
   "language": "python",
   "name": "python3"
  },
  "language_info": {
   "codemirror_mode": {
    "name": "ipython",
    "version": 3
   },
   "file_extension": ".py",
   "mimetype": "text/x-python",
   "name": "python",
   "nbconvert_exporter": "python",
   "pygments_lexer": "ipython3",
   "version": "3.12.0"
  }
 },
 "nbformat": 4,
 "nbformat_minor": 4
}
