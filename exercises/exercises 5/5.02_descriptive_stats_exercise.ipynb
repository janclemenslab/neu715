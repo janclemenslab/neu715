{
 "cells": [
  {
   "cell_type": "markdown",
   "metadata": {},
   "source": [
    "# Descriptive Statistics\n",
    "\n",
    "## Exercise 1: Plotting data and calculating descriptive statistics\n",
    "Write a function `distribution_analysis(x)` that expects a numpy array `x` as input argument and returns a dictionary `stats` with these statistical values as the keys:\n",
    "1) mean\n",
    "2) standard deviation (biased and unbiased)\n",
    "3) median\n",
    "4) interquartile range\n",
    "\n",
    "Moreover, the function should generate a figure with 3 subplots, showing:\n",
    "1) the raw data\n",
    "2) a histogram of the data\n",
    "3) the boxplot of the data\n",
    "\n",
    "Make sure that this function is written in a general way (without fixed numbers or any other assumptions about the data that should be analyzed), because you will use this function repeatedly in this exercise. Test the function using samples drawn from a Normal distribution with mean -200 and std 10, stored in the variable `x` below.\n",
    "\n",
    "Check if you understood the concepts of generating random numbers and analyzing the distribution of values in a sample:\n",
    "\n",
    "__Hint:__ Not all of these statistics can be computed using numpy - you find the missing ones in the scipy.stats module."
   ]
  },
  {
   "cell_type": "code",
   "execution_count": 2,
   "metadata": {},
   "outputs": [],
   "source": [
    "import numpy as np\n",
    "x = np.random.normal(2, 1, 1000)  # generate some data for testing your function\n",
    "\n",
    "# your solution here"
   ]
  },
  {
   "cell_type": "markdown",
   "metadata": {},
   "source": [
    "## Exercise 2: Compare the descriptive statistics of Normal, Uniform, and Poisson distributions\n",
    "Now run the same distribution analysis for 10000 samples from a Uniform and a Poisson distribution.\n",
    "\n",
    "Generate 10000 samples from\n",
    "1. A normal distribution with mean 2.0 and standard deviation 1.0 as a reference. Use the function `np.random.normal`. Check the numpy documentation on how to use it.\n",
    "2. A uniform distribution with mean 2.0 and span (difference between smallest and largest value) 1.0. Use the function `np.random.random_sample`.\n",
    "3. A Poisson distribution with mean 2.0. Use the function `np.random.poisson`. Check the numpy documentation for how to use it. Hint: The first argument, `lam`(bda) corresponds to the mean of the distribution.\n",
    "\n",
    "Use your function to visualize the three data sets and compute the descriptive statistics. Compare the descriptive statistics of your Normal distribution to the statistics from the Uniform and Poisson distributions:\n",
    "- Look at all output values and all subplots: Do they meet your expectation? Do mean and std make sense? Can you explain the values for the median and the IQR?"
   ]
  },
  {
   "cell_type": "code",
   "execution_count": 4,
   "metadata": {},
   "outputs": [],
   "source": [
    "# your solution here"
   ]
  },
  {
   "cell_type": "markdown",
   "metadata": {},
   "source": [
    "## Exercise 3 (bonus): Check the convergence of different statistics for different sample sizes\n",
    "Explore how the estimates of mean and standard deviation scatter for multiple samples of different size.\n",
    "To do that you will repeatedly generate datasets of normally distributed samples, compute their statistics and then plot the distribution of these statistics.\n",
    "\n",
    "Make a function that\n",
    "- takes the sample size N as an input,\n",
    "- generates a normally distributed dataset with mean 10 and standard deviation 2 with the specified sample size,\n",
    "- computes:\n",
    "    - the empirical mean of the generated sample of random numbers\n",
    "    - the empirical unbiased standard deviation (normalized by the sample size N)\n",
    "    - the empirical biased standard deviation (normalized by N-1)\n",
    "\n",
    "To explore how the estimates of these statistics depend on sample size, you will estimate them from samples of 3 different sizes (10, 100, 1000).\n",
    "First, call your function 100 times with a sample size of 10 and save the three output values (mean, unbiased std, biased std).\n",
    "Now do the same, but with sample sizes 100 and 1000.\n",
    "\n",
    "Plot the histograms of the 3 empirical measures for the three sample sizes 10, 100, 1000. How do the distributions change with sample size? What is the difference between the biased and the unbiased standard deviation?\n",
    "\n",
    "__Bonus__ You can make your code more efficient by generating a matrix of 100x1000 samples at once and computing the statistics over the axis 1 of this matrix."
   ]
  },
  {
   "cell_type": "code",
   "execution_count": 5,
   "metadata": {},
   "outputs": [],
   "source": [
    "# your solution here"
   ]
  }
 ],
 "metadata": {
  "kernelspec": {
   "display_name": "Python 3 (ipykernel)",
   "language": "python",
   "name": "python3"
  },
  "language_info": {
   "codemirror_mode": {
    "name": "ipython",
    "version": 3
   },
   "file_extension": ".py",
   "mimetype": "text/x-python",
   "name": "python",
   "nbconvert_exporter": "python",
   "pygments_lexer": "ipython3",
   "version": "3.12.7"
  }
 },
 "nbformat": 4,
 "nbformat_minor": 4
}
