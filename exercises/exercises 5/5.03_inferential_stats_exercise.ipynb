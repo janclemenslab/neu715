{
 "cells": [
  {
   "cell_type": "markdown",
   "metadata": {},
   "source": [
    "# Inferential Statistics\n",
    "\n",
    "## Exercise 1a: P-values\n",
    "The p-value indicates the likelihood of obtaining the observed results if the null hypothesis is correct.\n",
    "Small p-values indicate that the Null hypothesis is unlikely to have generated the data - a strong evidence _against_ the null hypothesis.\n",
    "\n",
    "Let's explore how the p-value behaves if we know that the null hypothesis is true.\n",
    "\n",
    "Generate 1000 datasets with a _Normal_ distribution using `np.random.randn`, each with 10000 samples, with mean 0 and standard deviation 1. We know that the samples are normally distributed!\n",
    "\n",
    "1. For each of the 1000 datasets (each of them with 10000 samples), run a test for normality, `scipyt.stats.normaltest`, and store the obtained p-value in array. You should have a set of 1000 p-values.\n",
    "2. Plot the distribution of p-values. Does it look as you expected?\n",
    "3. What fraction of p-values fall below 0.05? In other words, what is the likelihood of the normaltest producing a wrong result (p<0.05 indicates that the data is _not_ normally distributed)?"
   ]
  },
  {
   "cell_type": "code",
   "execution_count": 4,
   "metadata": {},
   "outputs": [],
   "source": [
    "# your solution here"
   ]
  },
  {
   "cell_type": "markdown",
   "metadata": {},
   "source": [
    "## Exercise 1b: P-values\n",
    "Now do the same as above, but instead of generating from a Gaussian distribution, for which we cannot reject the null hypothesis of normality, let's use samples from a __uniform__ distribution. \n",
    "\n",
    "Do the same as above with these data:\n",
    "\n",
    "Generate 1000 datasets with a _Uniform_ distribution using `np.random.rand`, each with 10000 samples. We know that these samples are _not_ normally distributed!\n",
    "\n",
    "1. For each of the 1000 datasets (each of them with 10000 samples), run a test for normality, `scipyt.stats.normaltest`, and store the obtained p-value in array. You should have a set of 1000 p-values.\n",
    "2. Plot the distribution of p-values. Does it look as you expected?\n",
    "3. What fraction of p-values fall below 0.05? In other words, what is the likelihood of the normaltest producing a wrong result (p<0.05 indicates that the data is _not_ normally distributed)?\n",
    "Run the normaltest repeatedly time for 1000 different datasets, and plot the distribution of the resulting p values.\n",
    "\n",
    "Does the distribution look as expected?"
   ]
  },
  {
   "cell_type": "code",
   "execution_count": 2,
   "metadata": {},
   "outputs": [],
   "source": [
    "# your solution here"
   ]
  },
  {
   "cell_type": "markdown",
   "metadata": {},
   "source": [
    "## Exercise 2: Statistical tests\n",
    "\n",
    "Download the experimental data file `5.03_inferential_stats_exercise.npy` from studip.\n",
    "\n",
    "1. plot the distribution\n",
    "2. test for normality\n",
    "3. test whether the values differ significantly from \n",
    "- a=3.1\n",
    "- b=3.0\n",
    "- b with signficance level 0.001\n",
    "- smaller than b\n",
    "- larger than b\n",
    "\n",
    "Inspect the p-values for the different tests and try to understand their relative values (why do the tests for difference vs. smaller vs. larger produce different p-values?).\n",
    "\n",
    "__Hint__ You can use the `scipy.stats.ttest_1samp` test, to test whether a dataset's mean differes significantly from a specific value."
   ]
  },
  {
   "cell_type": "code",
   "execution_count": 1,
   "metadata": {},
   "outputs": [],
   "source": [
    "# your solution here"
   ]
  },
  {
   "cell_type": "markdown",
   "metadata": {},
   "source": [
    "## Exercise 3 (bonus): Multiple groups\n",
    "\n",
    "Download the data file `5.03_inferential_stats_exercise_multi.npy`. The file contains a 2D array with 50 rows (samples) and 3 columns (several different treatments). We want to know whether the treatments have different effects.\n",
    "\n",
    "- Visualize the distribution of the data\n",
    "- Test the data for normality\n",
    "- Run an ANOVA to check whether there is any treatment effect (`scipy.stats.f_oneway`).\n",
    "- Run a post-hoc test to determine which treatments differ from each other (`scipy.stats.tukey_hsd`)."
   ]
  },
  {
   "cell_type": "code",
   "execution_count": 3,
   "metadata": {},
   "outputs": [],
   "source": [
    "# your solution here"
   ]
  }
 ],
 "metadata": {
  "kernelspec": {
   "display_name": "neu715",
   "language": "python",
   "name": "python3"
  },
  "language_info": {
   "codemirror_mode": {
    "name": "ipython",
    "version": 3
   },
   "file_extension": ".py",
   "mimetype": "text/x-python",
   "name": "python",
   "nbconvert_exporter": "python",
   "pygments_lexer": "ipython3",
   "version": "3.12.7"
  }
 },
 "nbformat": 4,
 "nbformat_minor": 2
}
