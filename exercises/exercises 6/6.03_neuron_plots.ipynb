{
 "cells": [
  {
   "cell_type": "markdown",
   "metadata": {},
   "source": [
    "# Visualizing neuronal data\n",
    "\n",
    "## Tuning curves\n",
    "\n",
    "The file `auditory_RN.npz` contains local-field potential recordings from the auditory nerve of the fruit fly in response to a pure tone presented at 12 different intensities, 32 trials per intensity.\n",
    "\n",
    "1. Plot stimulus intensity vs. the single-trial responses.\n",
    "2. Plot the stimulus vs. the trial-averaged response with error bars."
   ]
  },
  {
   "cell_type": "code",
   "execution_count": 7,
   "metadata": {},
   "outputs": [],
   "source": [
    "# your solution here"
   ]
  },
  {
   "cell_type": "markdown",
   "metadata": {},
   "source": [
    "## Time varying firing rates\n",
    "The file `two_neurons.npz` contains the voltage trace of two different neurons. Each neuron was stimulated with a current pulse (5nA) that started at 150ms into the recording and lasted 1100ms.\n",
    "\n",
    "1. Plot the voltage traces as a function of time. What is the difference between the neurons\n",
    "2. Visualize the firing pattern of the neurons using a PSTH. Choose bin positions that allow you to see when both neurons fire."
   ]
  },
  {
   "cell_type": "code",
   "execution_count": 8,
   "metadata": {},
   "outputs": [],
   "source": [
    "# your solution here"
   ]
  },
  {
   "cell_type": "markdown",
   "metadata": {},
   "source": [
    "## Inter-spike intervals\n",
    "Using the same date from the file `two_neurons.npz`, compute inter-spike intervals (ISI, time between subsequent times) and visualize the ISI distributions with a histogram."
   ]
  },
  {
   "cell_type": "code",
   "execution_count": 9,
   "metadata": {},
   "outputs": [],
   "source": [
    "# your solution here"
   ]
  },
  {
   "cell_type": "markdown",
   "metadata": {},
   "source": [
    "## Overlaying spatial behavioral data and neuronal spike times\n",
    "The file `mouse_tracks.npz` contains data from an mouse experiment. The mouse was allowed to move in a circular arena while neurons in hippocampus were recorded. The file contains the walking trajectories (x,y position in tracks) and the spike times from two neurons. Both neurons are place cells, which fire only when the mouse is in a specific location in the arena.\n",
    "\n",
    "1. Plot the walking trajectories (x,y positions).\n",
    "2. Plot the location at which each neuron fired. Place a dot on the trajectory when each of the neuron fired (use different colors for the different neurons).  "
   ]
  },
  {
   "cell_type": "code",
   "execution_count": 12,
   "metadata": {},
   "outputs": [],
   "source": [
    "# your solution here"
   ]
  }
 ],
 "metadata": {
  "kernelspec": {
   "display_name": "neu715",
   "language": "python",
   "name": "python3"
  },
  "language_info": {
   "codemirror_mode": {
    "name": "ipython",
    "version": 3
   },
   "file_extension": ".py",
   "mimetype": "text/x-python",
   "name": "python",
   "nbconvert_exporter": "python",
   "pygments_lexer": "ipython3",
   "version": "3.12.7"
  }
 },
 "nbformat": 4,
 "nbformat_minor": 4
}
