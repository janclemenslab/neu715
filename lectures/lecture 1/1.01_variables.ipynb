{
 "cells": [
  {
   "cell_type": "markdown",
   "metadata": {
    "slideshow": {
     "slide_type": "slide"
    }
   },
   "source": [
    "# Variables"
   ]
  },
  {
   "cell_type": "markdown",
   "metadata": {},
   "source": [
    "## A simple problem as motivation - spike detection\n",
    "To have a problem to start with, let's assumer we want to detect the spikes in this voltage trace.\n",
    "\n",
    "A spike is a peak in the voltage trace exceeding a threshold value. \n",
    "\n",
    "More specifically, we are interested in when the spikes occur - the spikes times.\n",
    "\n",
    "![](voltage_trace.png)"
   ]
  },
  {
   "cell_type": "markdown",
   "metadata": {},
   "source": [
    "#### How would you solve this?\n",
    "Let's break this down into a sequence of simple steps, like a recipe:\n",
    "\n",
    "1. weigh 100 grams flour\n",
    "2. take 3 eggs\n",
    "3. mix eggs and floor in a bowl\n",
    "3. beat it!\n",
    "4. ...\n",
    "\n",
    "Now try to explain to your grandma or a 5-year old how you would extract the time of each spike:\n",
    "\n",
    "1. \n",
    "2.\n",
    "3."
   ]
  },
  {
   "cell_type": "markdown",
   "metadata": {},
   "source": [
    "### What do we need to know to detect spikes using python?\n",
    "- [ ] Present data in code (individual voltage values, manipulate them and store the results) - variables\n",
    "- [ ] Compare variables (voltage to threshold) - boolean values\n",
    "- [ ] Perform different actions based on the value of a variable (only keep the position if the voltage exceeds the threshold) - if-else statements\n",
    "- [ ] Present and access data in a time series of voltage values - lists\n",
    "- [ ] Perform an action for each element in a sequence of values (inspect voltage values one-by-one) - for loops\n",
    "- [ ] Separate data and logic so we can use the same code for new recordings - functions\n",
    "- [ ] Apply this to multi data files\n",
    "- [ ] Plot and save the results"
   ]
  },
  {
   "cell_type": "markdown",
   "metadata": {
    "slideshow": {
     "slide_type": "subslide"
    }
   },
   "source": [
    "## Presenting data in code\n",
    "\n",
    "### Why have variables?\n",
    "You can work directly with numbers and use python as a calculator:"
   ]
  },
  {
   "cell_type": "code",
   "execution_count": 4,
   "metadata": {},
   "outputs": [
    {
     "data": {
      "text/plain": [
       "5"
      ]
     },
     "execution_count": 4,
     "metadata": {},
     "output_type": "execute_result"
    }
   ],
   "source": [
    "1 + 4"
   ]
  },
  {
   "cell_type": "markdown",
   "metadata": {},
   "source": [
    "Try it yourself by clicking into the cell above and changing the numbers.\n",
    "\n",
    "You can execute the code using Control+Enter."
   ]
  },
  {
   "cell_type": "markdown",
   "metadata": {},
   "source": [
    "### Variables abstract away specific data \"types\"/\"roles\" from the specific data values\n",
    "Working with numeric values directly isn't very general, since you tie your code to specific numeric values.\n",
    "\n",
    "Variables are a way to make your code more general (and thereby more useful), by separating specific data values from the general computation. You can think of the variable as a storage container: it can store information that you can access via its name and manipulate in your program.\n",
    "\n",
    "A variable is created with the syntax `name = value`.\n",
    "\n",
    "- `name` can be any combination of characters, underscores and numbers (as long as it does not start with a number)\n",
    "- `value` can be a number, text (or an arbitrary \"python object\").\n",
    "\n",
    "That way, you can express your program's computation in general terms - as the manipulation of variables.\n",
    "\n",
    "> What is a Variable? In computer programming, a variable has a name and contains a value. A variable is like a box. If you labeled the box as `toys` and put a yo-yo inside it, in programming terms, `toys` is the variable name, and yo-yo is the value.\n",
    "\n",
    "> In math, the `=` is used to test for equality ($a = b$). In python, we use it for assigning values to variables. Double equal signs `==` test for equality in python.\n",
    "\n",
    "### Computing firing rates\n",
    "Back to neuroscience: Say we want to compute the firing rate of a neuron. We have counted the number of spikes (132) our neuron fired during a recording of 16 seconds. The firing rates - the number of spikes per second (1/s=Hz) - is given by the ratio of both:"
   ]
  },
  {
   "cell_type": "code",
   "execution_count": 3,
   "metadata": {},
   "outputs": [
    {
     "data": {
      "text/plain": [
       "8.25"
      ]
     },
     "execution_count": 3,
     "metadata": {},
     "output_type": "execute_result"
    }
   ],
   "source": [
    "132 / 16"
   ]
  },
  {
   "cell_type": "markdown",
   "metadata": {},
   "source": [
    "But this is \n",
    "\n",
    "1. not very general and \n",
    "2. not very readable. \n",
    "\n",
    "First, we directly tie the computation - calculating the ratio - to the data values, if we want to compute the firing rate for another neuron, we have to meddle with the code. This becomes more relevant if the computation becomes more complicated.\n",
    "\n",
    "Second, it's unclear what `132 / 16` means without knowing the context of the code - these numbers could mean anything.\n",
    "\n",
    "Variables with informative names provide context - it's clear from looking at the code what is being computed!\n",
    "\n",
    "A variable is created and assigned a value, using the `=` character, like in math:\n",
    "`x = 10`. Here, `x` is the name of the variable and `10` is it's value.\n",
    "\n",
    "We can assign the number of spikes and the duration of experiments to two variables, `n_spikes` and `duration` and compute the firing rate as their ratio:"
   ]
  },
  {
   "cell_type": "code",
   "execution_count": 6,
   "metadata": {},
   "outputs": [
    {
     "data": {
      "text/plain": [
       "8.25"
      ]
     },
     "execution_count": 6,
     "metadata": {},
     "output_type": "execute_result"
    }
   ],
   "source": [
    "n_spikes = 132\n",
    "duration = 16  # seconds\n",
    "firing_rate = n_spikes / duration  # 1/seconds=Hz\n",
    "firing_rate"
   ]
  },
  {
   "cell_type": "markdown",
   "metadata": {},
   "source": [
    "__Note 1:__ The `#` character allows you to comment your code - everything following `#` will be treated as a comment and not as code that is executed by python.\n",
    "\n",
    "__Note 2:__ The value of the last line in a cell, in this case `firing_rate`, is printed below the cell automatically.\n",
    "\n",
    "By changing the value of the different variables, `n_spikes` and `duration`, you can run the same computation, `n_spikes / duration`, on different data (for instance, different trials from the same experiment). This is useful if the computation is more complicated."
   ]
  },
  {
   "cell_type": "markdown",
   "metadata": {},
   "source": [
    "Whenever you type a variable name in code it will be replaced by the value (in this case, the number) it is referring to.\n",
    "\n",
    "Above, the expression `firing_rate = n_spikes / duration` is treated the following by Python:\n",
    "1. The value of the variable `n_spikes` is looked up as `132`\n",
    "2. `n_spikes` in `n_spikes / duration` is replaced by `132`. The expression is now `132 / duration`\n",
    "3. the value of the variable `duration` is looked up as `16`\n",
    "4. `duration` in `132 / duration` is replaced by `16`. The expression is now `132 / 16`\n",
    "5. The computation is performed and the result, `8.25` assigned the variable `firing_rate`."
   ]
  },
  {
   "cell_type": "markdown",
   "metadata": {},
   "source": [
    "```{admonition} Clicker question \"my_var\" ([Click me!](https://go.uos.de/0ypAi))\n",
    "\n",
    "What will be the value of x after executing this code?\n",
    "\n",
    "```python\n",
    "my_var = 2\n",
    "my_var = my_var + 1\n",
    "```\n",
    "```"
   ]
  },
  {
   "cell_type": "markdown",
   "metadata": {},
   "source": [
    "### Dealing with text\n",
    "How about data that is not numeric, like names?\n",
    "\n",
    "Simply assigning letters to a variable does not work - this will throw an error:"
   ]
  },
  {
   "cell_type": "code",
   "execution_count": null,
   "metadata": {},
   "outputs": [
    {
     "ename": "NameError",
     "evalue": "name 'Keiko' is not defined",
     "output_type": "error",
     "traceback": [
      "\u001b[0;31m---------------------------------------------------------------------------\u001b[0m\n",
      "\u001b[0;31mNameError\u001b[0m                                 Traceback (most recent call last)\n",
      "Cell \u001b[0;32mIn[19], line 1\u001b[0m\n",
      "\u001b[0;32m----> 1\u001b[0m name_of_the_whale \u001b[38;5;241m=\u001b[39m \u001b[43mKeiko\u001b[49m\n",
      "\n",
      "\u001b[0;31mNameError\u001b[0m: name 'Keiko' is not defined"
     ]
    }
   ],
   "source": [
    "name_of_the_whale = Keiko"
   ]
  },
  {
   "cell_type": "markdown",
   "metadata": {},
   "source": [
    "This is because letters and words are interpreted as variable names. \n",
    "In the above example, python assumes that Keiko is a variable and looks up the value of the `Keiko` variable, but a variable with the name `Keiko` does not exist! Hence the `NameError`\n",
    "\n",
    "To tell python that the value of your variable is text, we wrap it in `'...'` or `\"...\"`.\n",
    "Variables with text as values are called _strings_."
   ]
  },
  {
   "cell_type": "code",
   "execution_count": null,
   "metadata": {},
   "outputs": [],
   "source": [
    "name_of_the_whale = 'Keiko'\n",
    "speed = \"Mach 2\"\n",
    "year = \"1968\""
   ]
  },
  {
   "cell_type": "markdown",
   "metadata": {},
   "source": [
    "__Note on errors__ When you write \"invalid\" code, python does not make your computer crash, but generates an error with a (sometimes cryptic) description of the cause of the error. In many programming languages, errors are often called _exceptions_."
   ]
  },
  {
   "cell_type": "markdown",
   "metadata": {},
   "source": [
    "#### Note: Functions\n",
    "\n",
    "To print the value of variables in the notebook, we relied on jupyter's functionality of printing the result of the last line in a cell.\n",
    "To print the value of variables whenever you want, you can use `print`, which is something new: a __function__. \n",
    "More about functions (and how to write them yourself) later - they are a great way of structuring and reusing your code and hiding away complexity. \n",
    "\n",
    "For now, you only need to know this:\n",
    "- To print the value of a variable put the variable name in parentheses after `print`: `print(variable_name)`.\n",
    "- To print the value of multiple variables, separate them by commas: `print(variable_name1, variable_name2)`.\n",
    "- You can also print text directly, for instance, to combine descriptive text with printing a variable: `print(\"This value of the aptly named variable 'variable_name1' is\", variable_name1)`\n",
    "\n",
    "<!-- \n",
    "- The general form of a function is `output = function_name(input)`. Print does not produce an explicit output, all it does is print its input.\n",
    "- In python, the input is called the _argument_, the output is called the _return value_.\n",
    "- Like many functions, `print` accepts multiple arguments. Multiple arguments are separated by commas: `print(arg1, arg2)`.\n",
    "- Using a function is also termed \"to call a function\".\n",
    "\n",
    "So, to print the value of a variable: `print(variable_name)`.\n",
    "\n",
    "To print the value of multiple variables: `print(variable_name1, variable_name2)`. \n",
    "\n",
    "You can get help about how to use a function use a quotation mark: `function_name?`. The result may be very technical. Google is your friend!\n",
    "-->\n"
   ]
  },
  {
   "cell_type": "markdown",
   "metadata": {},
   "source": [
    "### Working with numerical variables - arithmetics on numbers\n",
    "Back to numbers. To perform computations, you need mathematical operations. These are common (and not so common) operations defined in python:\n",
    "| Symbol | Computation performed |\n",
    "|----|---|\n",
    "| +  | addition |\n",
    "| -  | subtraction |\n",
    "| *  | multiplication |\n",
    "| /  | division |\n",
    "| **  | power ($2^3$=`2**3`) |\n",
    "| //  | floor division (yields the integer part of the division) |\n",
    "| %  | modulo (yields the remainder of the division)|"
   ]
  },
  {
   "cell_type": "code",
   "execution_count": 18,
   "metadata": {},
   "outputs": [
    {
     "name": "stdout",
     "output_type": "stream",
     "text": [
      "19 = a + b (addition)\n",
      "13 = a - b (subtraction)\n",
      "48 = a * b (multiplication)\n",
      "5.333333333333333 = a / b (division)\n",
      "4096  = a ** b (power)\n",
      "Plus some weird stuff that we will ignore for now:\n",
      "5 = a // b (Floor Division returns the integer part of the quotient.)\n",
      "1 = a % b (Modulo returns the remainder of division.)\n"
     ]
    }
   ],
   "source": [
    "# Examples\n",
    "a = 16\n",
    "b = 3\n",
    "\n",
    "\n",
    "print(a + b, '= a + b (addition)')\n",
    "print(a - b, '= a - b (subtraction)')\n",
    "print(a * b, '= a * b (multiplication)')\n",
    "print(a / b, '= a / b (division)')\n",
    "print(a ** b, ' = a ** b (power)')\n",
    "\n",
    "print('Plus some weird stuff that we will ignore for now:')\n",
    "\n",
    "print(a // b, '= a // b (Floor Division yields the integer part of the quotient.)')\n",
    "print(a % b, '= a % b (Modulo yields the remainder of division.)')"
   ]
  },
  {
   "cell_type": "markdown",
   "metadata": {},
   "source": [
    "### Manipulating variables\n",
    "With that we can create and manipulate variables, and print intermediate results.\n",
    "\n",
    "```{admonition} Clicker question \"cdcc\" ([Click me!](https://go.uos.de/0ypAi))\n",
    "The code below will print four numbers. Can you predict what will be printed? \n",
    "```python\n",
    "c = 1\n",
    "print(c)\n",
    "\n",
    "d = c + 5\n",
    "print(d)\n",
    "\n",
    "print(c)\n",
    "c = c + 8\n",
    "print(c)\n",
    "```\n",
    "```"
   ]
  },
  {
   "cell_type": "markdown",
   "metadata": {},
   "source": [
    "### Types of variables\n",
    "\n",
    "Variables come in different flavors - so far, we have encountered two kinds of variables: numbers and text.\n",
    "\n",
    "Kinds of variables are called _types_. These are the most important ones:\n",
    "\n",
    "- boolean variables: `bool`- only two values: `True` or `False`\n",
    "- integer numbers: `int` - number without a decimal point (1, 2, 103241)\n",
    "- floating point numbers: `float` - number with a decimal point (3.141)\n",
    "- (complex numbers - not covered here: `complex`)\n",
    "- string: `str`: sequence of characters (\"yes\", 'no')\n",
    "\n",
    "These types of variables exist in almost any programming language!"
   ]
  },
  {
   "cell_type": "markdown",
   "metadata": {},
   "source": [
    "### Determining the type of variables\n",
    "Wrong variable types can be a source of errors in your code. Below, an error is raised because one cannot add a variable of type string to a number in python. It is therefore often useful to determine the type of a variable."
   ]
  },
  {
   "cell_type": "code",
   "execution_count": 8,
   "metadata": {},
   "outputs": [
    {
     "ename": "TypeError",
     "evalue": "unsupported operand type(s) for +: 'float' and 'str'",
     "output_type": "error",
     "traceback": [
      "\u001b[0;31m---------------------------------------------------------------------------\u001b[0m",
      "\u001b[0;31mTypeError\u001b[0m                                 Traceback (most recent call last)",
      "Cell \u001b[0;32mIn[8], line 3\u001b[0m\n\u001b[1;32m      1\u001b[0m a \u001b[38;5;241m=\u001b[39m \u001b[38;5;241m15.6\u001b[39m\n\u001b[1;32m      2\u001b[0m b \u001b[38;5;241m=\u001b[39m \u001b[38;5;124m'\u001b[39m\u001b[38;5;124m12.4\u001b[39m\u001b[38;5;124m'\u001b[39m\n\u001b[0;32m----> 3\u001b[0m \u001b[43ma\u001b[49m\u001b[43m \u001b[49m\u001b[38;5;241;43m+\u001b[39;49m\u001b[43m \u001b[49m\u001b[43mb\u001b[49m\n",
      "\u001b[0;31mTypeError\u001b[0m: unsupported operand type(s) for +: 'float' and 'str'"
     ]
    }
   ],
   "source": [
    "a = 15.6\n",
    "b = '12.4'\n",
    "a + b"
   ]
  },
  {
   "cell_type": "markdown",
   "metadata": {},
   "source": [
    "The `type` function returns the type of a variable:"
   ]
  },
  {
   "cell_type": "code",
   "execution_count": 9,
   "metadata": {},
   "outputs": [
    {
     "data": {
      "text/plain": [
       "(float, str)"
      ]
     },
     "execution_count": 9,
     "metadata": {},
     "output_type": "execute_result"
    }
   ],
   "source": [
    "type(a), type(b)"
   ]
  },
  {
   "cell_type": "markdown",
   "metadata": {},
   "source": [
    "### Changing variable types\n",
    "You can change the type of a variable - _cast_ it to another type - using `bool`, `int`, `float`,  `str` as functions, with the variable you want to cast as the argument:"
   ]
  },
  {
   "cell_type": "code",
   "execution_count": 15,
   "metadata": {},
   "outputs": [
    {
     "data": {
      "text/plain": [
       "(str, float)"
      ]
     },
     "execution_count": 15,
     "metadata": {},
     "output_type": "execute_result"
    }
   ],
   "source": [
    "b_as_str = '12.4'\n",
    "b_cast_to_float = float(b_as_str)  # cast a from a string to a floating point\n",
    "type(b_as_str), type(b_cast_to_float)"
   ]
  },
  {
   "cell_type": "markdown",
   "metadata": {},
   "source": [
    "You can turn a boolean or a number into a text using `str`:"
   ]
  },
  {
   "cell_type": "code",
   "execution_count": 16,
   "metadata": {},
   "outputs": [
    {
     "data": {
      "text/plain": [
       "('True', '10')"
      ]
     },
     "execution_count": 16,
     "metadata": {},
     "output_type": "execute_result"
    }
   ],
   "source": [
    "str(True), str(10)"
   ]
  },
  {
   "cell_type": "markdown",
   "metadata": {},
   "source": [
    "You can turn a string to a number using `int` or `float`. But this works only if the string variable contains only numerical data: "
   ]
  },
  {
   "cell_type": "code",
   "execution_count": 19,
   "metadata": {},
   "outputs": [
    {
     "name": "stdout",
     "output_type": "stream",
     "text": [
      "10 10\n"
     ]
    },
    {
     "data": {
      "text/plain": [
       "(str, int)"
      ]
     },
     "execution_count": 19,
     "metadata": {},
     "output_type": "execute_result"
    }
   ],
   "source": [
    "age_as_str = '10'\n",
    "age_as_number = int(age_as_str)\n",
    "print(age_as_str, age_as_number)\n",
    "type(age_as_str), type(age_as_number)"
   ]
  },
  {
   "cell_type": "markdown",
   "metadata": {},
   "source": [
    "Careful - casting sometimes works in unexpected ways. For instance, any non-zero number and non-empty string is `True` in python."
   ]
  },
  {
   "cell_type": "code",
   "execution_count": 20,
   "metadata": {},
   "outputs": [
    {
     "name": "stdout",
     "output_type": "stream",
     "text": [
      "bool(0) = False\n",
      "bool(1.6) = True\n",
      "bool(10) = True\n",
      "bool(-1) = True\n",
      "bool(\"True\") = True\n",
      "bool(\"False\") = True\n",
      "bool() = False\n"
     ]
    }
   ],
   "source": [
    "print('bool(0) =', bool(0))\n",
    "print('bool(1.6) =', bool(1.6))\n",
    "print('bool(10) =', bool(10))\n",
    "print('bool(-1) =', bool(-1))\n",
    "print('bool(\"True\") =', bool(\"True\"))\n",
    "print('bool(\"False\") =', bool(\"False\"))\n",
    "print('bool('') =', bool(''))"
   ]
  },
  {
   "cell_type": "markdown",
   "metadata": {},
   "source": [
    "Casting does not work for all values of variables. For instance, if the string variable contains non-numeric characters, letters or even just a blank space, python produces a `ValueError` because the value of the argument is not \"right\":"
   ]
  },
  {
   "cell_type": "code",
   "execution_count": 21,
   "metadata": {},
   "outputs": [
    {
     "ename": "ValueError",
     "evalue": "invalid literal for int() with base 10: '10years'",
     "output_type": "error",
     "traceback": [
      "\u001b[0;31m---------------------------------------------------------------------------\u001b[0m",
      "\u001b[0;31mValueError\u001b[0m                                Traceback (most recent call last)",
      "Cell \u001b[0;32mIn[21], line 2\u001b[0m\n\u001b[1;32m      1\u001b[0m age_as_str \u001b[38;5;241m=\u001b[39m \u001b[38;5;124m'\u001b[39m\u001b[38;5;124m10years\u001b[39m\u001b[38;5;124m'\u001b[39m\n\u001b[0;32m----> 2\u001b[0m age_as_number \u001b[38;5;241m=\u001b[39m \u001b[38;5;28;43mint\u001b[39;49m\u001b[43m(\u001b[49m\u001b[43mage_as_str\u001b[49m\u001b[43m)\u001b[49m\n",
      "\u001b[0;31mValueError\u001b[0m: invalid literal for int() with base 10: '10years'"
     ]
    }
   ],
   "source": [
    "age_as_str = '10years'\n",
    "age_as_number = int(age_as_str)"
   ]
  },
  {
   "cell_type": "code",
   "execution_count": 22,
   "metadata": {},
   "outputs": [
    {
     "ename": "ValueError",
     "evalue": "invalid literal for int() with base 10: '10 0'",
     "output_type": "error",
     "traceback": [
      "\u001b[0;31m---------------------------------------------------------------------------\u001b[0m",
      "\u001b[0;31mValueError\u001b[0m                                Traceback (most recent call last)",
      "Cell \u001b[0;32mIn[22], line 2\u001b[0m\n\u001b[1;32m      1\u001b[0m age_as_str \u001b[38;5;241m=\u001b[39m \u001b[38;5;124m'\u001b[39m\u001b[38;5;124m10 0\u001b[39m\u001b[38;5;124m'\u001b[39m\n\u001b[0;32m----> 2\u001b[0m age_as_number \u001b[38;5;241m=\u001b[39m \u001b[38;5;28;43mint\u001b[39;49m\u001b[43m(\u001b[49m\u001b[43mage_as_str\u001b[49m\u001b[43m)\u001b[49m\n",
      "\u001b[0;31mValueError\u001b[0m: invalid literal for int() with base 10: '10 0'"
     ]
    }
   ],
   "source": [
    "age_as_str = '10 0'\n",
    "age_as_number = int(age_as_str)"
   ]
  },
  {
   "cell_type": "markdown",
   "metadata": {
    "slideshow": {
     "slide_type": "subslide"
    }
   },
   "source": [
    "### Naming variables\n",
    "You can name a variable *almost* anything you want.\n",
    "\n",
    "It needs to start with a letter or \"\\_\" and can contain alphanumeric characters (letters or numbers) plus underscores (\"\\_\"):"
   ]
  },
  {
   "cell_type": "code",
   "execution_count": 23,
   "metadata": {},
   "outputs": [],
   "source": [
    "# Valid names\n",
    "cool_variable = 10\n",
    "_cool_variable = 10\n",
    "password_123 = 'bad'"
   ]
  },
  {
   "cell_type": "code",
   "execution_count": 24,
   "metadata": {},
   "outputs": [
    {
     "ename": "SyntaxError",
     "evalue": "invalid decimal literal (3019652057.py, line 2)",
     "output_type": "error",
     "traceback": [
      "\u001b[0;36m  Cell \u001b[0;32mIn[24], line 2\u001b[0;36m\u001b[0m\n\u001b[0;31m    10th_number = 3.34\u001b[0m\n\u001b[0m     ^\u001b[0m\n\u001b[0;31mSyntaxError\u001b[0m\u001b[0;31m:\u001b[0m invalid decimal literal\n"
     ]
    }
   ],
   "source": [
    "# Invalid names\n",
    "10th_number = 3.34"
   ]
  },
  {
   "cell_type": "code",
   "execution_count": 25,
   "metadata": {},
   "outputs": [
    {
     "ename": "SyntaxError",
     "evalue": "cannot assign to expression here. Maybe you meant '==' instead of '='? (2438563722.py, line 1)",
     "output_type": "error",
     "traceback": [
      "\u001b[0;36m  Cell \u001b[0;32mIn[25], line 1\u001b[0;36m\u001b[0m\n\u001b[0;31m    a+b = 27\u001b[0m\n\u001b[0m    ^\u001b[0m\n\u001b[0;31mSyntaxError\u001b[0m\u001b[0;31m:\u001b[0m cannot assign to expression here. Maybe you meant '==' instead of '='?\n"
     ]
    }
   ],
   "source": [
    "a+b = 27"
   ]
  },
  {
   "cell_type": "markdown",
   "metadata": {},
   "source": [
    "Certain key words, however, are reserved for the language (no need to remember them - just keep this in mind so you know how to interpret the resulting error): `and`, `as`, `assert`, `break`, `class`, `continue`, `def`, `del`,\n",
    "`elif`, `else`, `except`, `exec`, `finally`, `for`, `from`, `global`, `if`, `import`, `in`, `is`, `lambda`, `not`, `or`, `pass`,\n",
    "`print`, `raise`, `return`, `try`, `while`, `with`, `yield`"
   ]
  },
  {
   "cell_type": "code",
   "execution_count": 26,
   "metadata": {},
   "outputs": [
    {
     "ename": "SyntaxError",
     "evalue": "invalid syntax (375319607.py, line 2)",
     "output_type": "error",
     "traceback": [
      "\u001b[0;36m  Cell \u001b[0;32mIn[26], line 2\u001b[0;36m\u001b[0m\n\u001b[0;31m    for = 3\u001b[0m\n\u001b[0m        ^\u001b[0m\n\u001b[0;31mSyntaxError\u001b[0m\u001b[0;31m:\u001b[0m invalid syntax\n"
     ]
    }
   ],
   "source": [
    "# Example\n",
    "for = 3"
   ]
  },
  {
   "cell_type": "markdown",
   "metadata": {},
   "source": [
    "#### Names should be short (but not too short) and descriptive\n",
    "- `a` is very short but meaningless - it is unclear what type of information `a` stores.\n",
    "- `concentration` or `subject_name` is a bit longer but its meaning is evident from the name.\n",
    "- `name_of_the_first_subject_on_monday_morning` is too long."
   ]
  },
  {
   "cell_type": "code",
   "execution_count": 27,
   "metadata": {
    "slideshow": {
     "slide_type": "fragment"
    }
   },
   "outputs": [],
   "source": [
    "a = 1  # assign value 1 to variable with name a\n",
    "concentration = 0.1  # mM\n",
    "subject_name = \"Mabel\"  # better variable name as it is descriptive\n",
    "name_of_the_first_subject_on_monday_morning = \"Thelonious\"  # too long"
   ]
  },
  {
   "cell_type": "markdown",
   "metadata": {},
   "source": [
    "## Keeping track of variables and their values\n",
    "How do you keep track of variables and their values? The _kernel_ is the thing that executes your code. It also stores your _namespace_ - all variables and code that you have executed so far and that are stored in your computer memory.\n",
    "\n",
    "If you re-run your code cells out of order, it may be hard to know what's in your namespace. In that case, you can clear and re-launch the kernel, to start from scratch, with a clean namespace. This will erase any variables stored in memory and reset python to its original state.\n",
    "\n",
    "You can list the contents of your namespace with `%whos`:"
   ]
  },
  {
   "cell_type": "code",
   "execution_count": 3,
   "metadata": {},
   "outputs": [
    {
     "name": "stdout",
     "output_type": "stream",
     "text": [
      "Variable             Type    Data/Info\n",
      "--------------------------------------\n",
      "n_alice_mosquitoes   int     1\n"
     ]
    }
   ],
   "source": [
    "%whos"
   ]
  },
  {
   "cell_type": "markdown",
   "metadata": {},
   "source": [
    "### Messing up and restoring the namespace\n",
    "It is surprisingly easy to mess up you namespace. For instance, you can \"overwrite\" function names with variables in python. \n",
    "\n",
    "Remember the print function? Let's create a variable named `print` and assign a value to it:"
   ]
  },
  {
   "cell_type": "code",
   "execution_count": 4,
   "metadata": {},
   "outputs": [],
   "source": [
    "print = 'no, never do this!'"
   ]
  },
  {
   "cell_type": "markdown",
   "metadata": {},
   "source": [
    "Now let's print the value of the `print` variable:"
   ]
  },
  {
   "cell_type": "code",
   "execution_count": 5,
   "metadata": {},
   "outputs": [
    {
     "ename": "TypeError",
     "evalue": "'str' object is not callable",
     "output_type": "error",
     "traceback": [
      "\u001b[0;31m---------------------------------------------------------------------------\u001b[0m",
      "\u001b[0;31mTypeError\u001b[0m                                 Traceback (most recent call last)",
      "Cell \u001b[0;32mIn[5], line 1\u001b[0m\n\u001b[0;32m----> 1\u001b[0m \u001b[38;5;28;43mprint\u001b[39;49m\u001b[43m(\u001b[49m\u001b[38;5;28;43mprint\u001b[39;49m\u001b[43m)\u001b[49m\n",
      "\u001b[0;31mTypeError\u001b[0m: 'str' object is not callable"
     ]
    }
   ],
   "source": [
    "print(print)"
   ]
  },
  {
   "cell_type": "markdown",
   "metadata": {},
   "source": [
    "That fails, as does"
   ]
  },
  {
   "cell_type": "code",
   "execution_count": 6,
   "metadata": {},
   "outputs": [
    {
     "ename": "TypeError",
     "evalue": "'str' object is not callable",
     "output_type": "error",
     "traceback": [
      "\u001b[0;31m---------------------------------------------------------------------------\u001b[0m",
      "\u001b[0;31mTypeError\u001b[0m                                 Traceback (most recent call last)",
      "Cell \u001b[0;32mIn[6], line 1\u001b[0m\n\u001b[0;32m----> 1\u001b[0m \u001b[38;5;28;43mprint\u001b[39;49m\u001b[43m(\u001b[49m\u001b[38;5;241;43m10\u001b[39;49m\u001b[43m)\u001b[49m\n",
      "\u001b[0;31mTypeError\u001b[0m: 'str' object is not callable"
     ]
    }
   ],
   "source": [
    "print(10)"
   ]
  },
  {
   "cell_type": "markdown",
   "metadata": {},
   "source": [
    "```{admonition} Clicker question \"namespace\"([Click me!](https://go.uos.de/0ypAi))\n",
    "\n",
    "What do you do now? \n",
    "```"
   ]
  },
  {
   "cell_type": "markdown",
   "metadata": {},
   "source": [
    "Why is this happening? Let's first inspect the namespace. This reveals that print is of type string now, and not a function."
   ]
  },
  {
   "cell_type": "code",
   "execution_count": 32,
   "metadata": {},
   "outputs": [
    {
     "name": "stdout",
     "output_type": "stream",
     "text": [
      "Variable                                      Type     Data/Info\n",
      "----------------------------------------------------------------\n",
      "a                                             int      1\n",
      "a_as_str                                      str      1\n",
      "a_cast_to_float                               float    1.0\n",
      "age_as_number                                 int      10\n",
      "age_as_str                                    str      10 0\n",
      "b                                             str      12.4\n",
      "b_as_str                                      str      12.4\n",
      "b_cast_to_float                               float    12.4\n",
      "concentration                                 float    0.1\n",
      "cool_variable                                 int      10\n",
      "name_of_the_first_subject_on_monday_morning   str      Thelonious\n",
      "password_123                                  str      bad\n",
      "print                                         str      no, never do this!\n",
      "subject_name                                  str      Mabel\n"
     ]
    }
   ],
   "source": [
    "%whos"
   ]
  },
  {
   "cell_type": "markdown",
   "metadata": {},
   "source": [
    "After restoring everything, we will see that the type of print is \"builtin_function_or_method\":"
   ]
  },
  {
   "cell_type": "code",
   "execution_count": 1,
   "metadata": {},
   "outputs": [
    {
     "name": "stdout",
     "output_type": "stream",
     "text": [
      "<class 'builtin_function_or_method'>\n"
     ]
    }
   ],
   "source": [
    "print(type(print))  # this will return \"builtin_function_or_method\""
   ]
  },
  {
   "cell_type": "markdown",
   "metadata": {},
   "source": [
    "### Re-using and updating variables\n",
    "\n",
    "Alice and Bob count mosquitoes. Alice, to store her count, creates a variable with name `n_alice_mosquitoes` and value `1` (she has counted only one mosquito so far)."
   ]
  },
  {
   "cell_type": "code",
   "execution_count": 2,
   "metadata": {
    "slideshow": {
     "slide_type": "fragment"
    }
   },
   "outputs": [
    {
     "data": {
      "text/plain": [
       "1"
      ]
     },
     "execution_count": 2,
     "metadata": {},
     "output_type": "execute_result"
    }
   ],
   "source": [
    "n_alice_mosquitoes = 1  # create a new variable `n_alice_mosquitoes` and assign the value 1 to `n_alice_mosquitoes`\n",
    "n_alice_mosquitoes"
   ]
  },
  {
   "cell_type": "markdown",
   "metadata": {},
   "source": [
    "Now she can perform a computation using `n_alice_mosquitoes`.\n",
    "For instance, Bob has counted 10 more mosquitoes - so we add `10` to her count own count and store the result in a new variable, `n_mosquitoes`, for the total count:"
   ]
  },
  {
   "cell_type": "markdown",
   "metadata": {},
   "source": [
    "```{admonition} Clicker question \"mosquitoes 1\" ([Click me!](https://go.uos.de/0ypAi))\n",
    "\n",
    "What will be the value of n_mosquitoes after executing this code after having run the cell above?\n",
    "\n",
    "```python\n",
    "n_mosquitoes = n_alice_mosquitoes + 10\n",
    "print(n_mosquitoes)\n",
    "```\n",
    "```"
   ]
  },
  {
   "cell_type": "markdown",
   "metadata": {},
   "source": [
    "```{toggle}\n",
    "What is going on here?\n",
    "\n",
    "In the above expression, `n_alice_mosquitoes + 10`, python sees the variable name, `n_alice_mosquitoes`, and looks up it's value, `1` This works since we have created and assigned a value to `n_alice_mosquitoes` in the previous cell.\n",
    "\n",
    "Python then substitutes the value `1` for the name `n_alice_mosquitoes` and performs the computation (it evaluates the expression).\n",
    "\n",
    "`n_alice_mosquitoes + 10` is evaluated as `1 + 10`. \n",
    "\n",
    "`n_mosquitoes = n_alice_mosquitoes + 10` means that the result of the operation, the value `11`, is saved in a new variable, with name `n_mosquitoes`.\n",
    "\n",
    "Note that above we exploited that what you do in one cell transfers to the next:\n",
    "- we defined `n_alice_mosquitoes` in one cell\n",
    "- and used it in a computation in the next cell\n",
    "```"
   ]
  },
  {
   "cell_type": "markdown",
   "metadata": {},
   "source": [
    "```{admonition} Clicker question \"mosquitoes 2\" ([Click me!](https://go.uos.de/0ypAi))\n",
    "What will be the value of n_mosquitoes after executing this code after having run the first and second cells above?\n",
    "\n",
    "```python\n",
    "n_mosquitoes = n_tim_mosquitoes + 20\n",
    "print(n_mosquitoes)\n",
    "```\n",
    "```"
   ]
  },
  {
   "cell_type": "markdown",
   "metadata": {},
   "source": [
    "```{toggle}\n",
    "This will throw an error, as we cannot use a variable we have not defined before: Python does not know what `n_tim_mosquitoes` refers to!\n",
    "```"
   ]
  },
  {
   "cell_type": "markdown",
   "metadata": {},
   "source": [
    "The fact that we can re-use variables across cells allows us to successively build up our analysis code, cell by cell.\n",
    "\n",
    "Suddenly, Trudy comes and claims that she found 3 more mosquitoes!!\n",
    "We update the total count with this computation and should now have a total count of 14: 1 from alice, 10 from Bob, and 3 from Trudy. \n",
    "\n",
    "But the code produces a count of 4. What's wrong with this code??"
   ]
  },
  {
   "cell_type": "code",
   "execution_count": null,
   "metadata": {},
   "outputs": [],
   "source": [
    "n_mosquitoes = n_alice_mosquitoes + 3   #  create a new variable `n_mosquitoes` and assign to it the outcome of `n_alice_mosquitoes + 3`\n",
    "n_mosquitoes"
   ]
  },
  {
   "cell_type": "markdown",
   "metadata": {},
   "source": [
    "## Spike detection with python\n",
    "\n",
    "![](voltage_trace.png)\n",
    "\n",
    "- [x] Present data in code (individual voltage values, manipulate them and store the results) - variables\n",
    "- [ ] Compare variables (voltage to threshold) - boolean values\n",
    "- [ ] Perform different actions based on the value of a variable (only keep the position if the voltage exceeds the threshold) - if-else statements\n",
    "- [ ] Present and access data in a time series of voltage values - lists\n",
    "- [ ] Perform an action for each element in a sequence of values (inspect voltage values one-by-one) - for loops\n",
    "- [ ] Separate data and logic so we can use the same code for new recordings - functions\n",
    "- [ ] Apply this to multi data files\n",
    "- [ ] Plot and save the results\n"
   ]
  },
  {
   "cell_type": "markdown",
   "metadata": {},
   "source": []
  }
 ],
 "metadata": {
  "kernelspec": {
   "display_name": "ca",
   "language": "python",
   "name": "python3"
  },
  "language_info": {
   "codemirror_mode": {
    "name": "ipython",
    "version": 3
   },
   "file_extension": ".py",
   "mimetype": "text/x-python",
   "name": "python",
   "nbconvert_exporter": "python",
   "pygments_lexer": "ipython3",
   "version": "3.12.7"
  }
 },
 "nbformat": 4,
 "nbformat_minor": 4
}
