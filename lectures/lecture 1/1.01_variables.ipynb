{
 "cells": [
  {
   "cell_type": "markdown",
   "metadata": {
    "slideshow": {
     "slide_type": "slide"
    }
   },
   "source": [
    "# Lecture 1.1 - Variables\n",
    "## Introduction to python\n",
    "\n",
    "### Why Python?\n",
    "- Relatively easy to learn.\n",
    "- Powerful - can do anything (websites, deep learning, ...).\n",
    "- You write code and can immediately run it - no intermediate \"compilation\" steps required. \n",
    "- Big Community -> a lot of problems have been solved before.\n",
    "\n",
    "### Core concepts\n",
    "- accessing/storing data: variables (numbers, text, True/False) and lists (sequences of variables like time series)\n",
    "- manipulating data: arithmetic (+, - etc), comparison (>, <, =)\n",
    "- control logic: _for_ loops, _if_ statements\n",
    "- use external libraries and functions for plotting etc \n",
    "- write your own functions\n",
    "- algorithmic thinking - dividing a problem (and its solution) into small programming steps\n",
    "- how to help yourself (google for errors, googling and reading documentation)"
   ]
  },
  {
   "cell_type": "markdown",
   "metadata": {},
   "source": [
    "## The problem - spike detection\n",
    "We want to detect the spikes in this voltage trace.\n",
    "\n",
    "A spike is a peak in the voltage trace exceeding a threshold value. \n",
    "\n",
    "More specifically, we are interested in when the spikes occur - the spikes times.\n",
    "\n",
    "![](voltage_trace.png)"
   ]
  },
  {
   "cell_type": "markdown",
   "metadata": {},
   "source": [
    "#### How would you solve this?\n",
    "Let's break this down into a sequence of simple steps, like a recipe:\n",
    "\n",
    "1. weigh 100 grams flour\n",
    "2. take 3 eggs\n",
    "3. mix eggs and floor in a bowl\n",
    "3. beat it!\n",
    "4. ...\n",
    "\n",
    "Now try to explain to your grandma or a 5-year old how you would extract the time of each spike:\n",
    "\n",
    "1. \n",
    "2.\n",
    "3."
   ]
  },
  {
   "cell_type": "markdown",
   "metadata": {},
   "source": [
    "### What do we need to know to detect spikes using python?\n",
    "- [ ] __Present data in code (individual voltage values, manipulate them and store the results) - variables__\n",
    "- [ ] Compare variables (voltage to threshold) - boolean values\n",
    "- [ ] Perform different actions based on the value of a variable (only keep the position if the voltage exceeds the threshold) - if-else statements\n",
    "- [ ] Present and access data in a time series of voltage values - lists\n",
    "- [ ] Perform an action for each element in a sequence of values (inspect voltage values one-by-one) - for loops\n",
    "- [ ] Separate data and logic so we can use the same code for new recordings - functions\n",
    "- [ ] Apply this to multiple data files\n",
    "- [ ] Plot and save the results"
   ]
  },
  {
   "cell_type": "markdown",
   "metadata": {
    "slideshow": {
     "slide_type": "subslide"
    }
   },
   "source": [
    "## Presenting data in code\n",
    "\n",
    "### Why have variables?\n",
    "You can work directly with numbers and use python as a calculator:"
   ]
  },
  {
   "cell_type": "code",
   "execution_count": 5,
   "metadata": {},
   "outputs": [
    {
     "data": {
      "text/plain": [
       "8"
      ]
     },
     "execution_count": 5,
     "metadata": {},
     "output_type": "execute_result"
    }
   ],
   "source": [
    "1 + 7"
   ]
  },
  {
   "cell_type": "markdown",
   "metadata": {},
   "source": [
    "Try it yourself by clicking into the cell above and changing the numbers.\n",
    "\n",
    "You can execute the code using Control+Enter."
   ]
  },
  {
   "cell_type": "markdown",
   "metadata": {},
   "source": [
    "### Variables abstract away specific data \"types\"/\"roles\" from the specific data values\n",
    "Working with numeric values directly isn't very general, since you tie your code to specific numeric values.\n",
    "\n",
    "Variables are a way to make your code more general (and thereby more useful), by separating specific data values from the general computation. You can think of the variable as a storage container: it can store information that you can access via its name and manipulate in your program.\n",
    "\n",
    "A variable is created with the syntax `name = value`.\n",
    "\n",
    "- `name` can be any combination of characters, underscores and numbers (as long as it does not start with a number)\n",
    "- `value` can be a number, text (or an arbitrary \"python object\").\n",
    "\n",
    "That way, you can express your program's computation in general terms - as the manipulation of variables.\n",
    "\n",
    "> What is a Variable? In computer programming, a variable has a name and contains a value. A variable is like a box. If you labeled the box as `toys` and put a yo-yo inside it, in programming terms, `toys` is the variable name, and yo-yo is the value.\n",
    "\n",
    "### Baking a cake\n",
    "Take the ingredients in a cake recipe as an analogy: A recipe typically contains eggs as an ingredient and contains an instruction like _\"Add eggs\"_. But what if we want to bake a vegan cake?\n",
    "\n",
    "Eggs play specific role in the recipe - for instance, they enrich the flavor and add moisture. We can make a general recipe by replacing the specific ingredient, \"eggs\", in a recipe with its role, \"flavor\": _\"Add flavor\"_.\n",
    "\n",
    "In this example the variable name is `flavor`. In a receipe for an old-fashioned cake, the variable `flavor` has the value `\"eggs\"`: \n",
    "`flavor = \"eggs\"`. When we execute the instructions, we replace the variable name `flavor` with its value `\"eggs\"` and the instruction becomes: _\"Add eggs\"_.\n",
    "\n",
    "But the recipe is now much more general and we can easily make a vegan cake by replacing a specific ingredient: By changing the value of the `flavor` variable to `banana mash`, `flavor = \"banana mash\"`, the instruction now becomes _\"Add banana mash\"_.\n",
    "\n",
    "### Computing firing rates\n",
    "Back to neuroscience: Say we want to compute the firing rate of a neuron. We have counted the number of spikes (132) our neuron fired during a recording of 16 seconds. The firing rate - the number of spikes per second (1/s=Hz) - is given by the ratio of both:"
   ]
  },
  {
   "cell_type": "code",
   "execution_count": 7,
   "metadata": {},
   "outputs": [
    {
     "data": {
      "text/plain": [
       "9.375"
      ]
     },
     "execution_count": 7,
     "metadata": {},
     "output_type": "execute_result"
    }
   ],
   "source": [
    "132 / 16"
   ]
  },
  {
   "cell_type": "markdown",
   "metadata": {},
   "source": [
    "But this is \n",
    "\n",
    "1. not very general and \n",
    "2. not very readable. \n",
    "\n",
    "First, we directly tie the computation - calculating the ratio - to the data values, if we want to compute the firing rate for another neuron, we have to meddle with the code. This becomes more relevant if the computation becomes more complicated.\n",
    "\n",
    "Second, it's unclear what `132 / 16` means without knowing the context of the code - these numbers could mean anything.\n",
    "\n",
    "Variables with informative names provide context - it's clear from looking at the code what is being computed!\n",
    "\n",
    "A variable is created and assigned a value, using the `=` character, like in math:\n",
    "`x = 10`. Here, `x` is the name of the variable and `10` is it's value.\n",
    "\n",
    "We can assign the number of spikes and the duration of experiments to two variables, `n_spikes` and `duration` and compute the firing rate as their ratio:"
   ]
  },
  {
   "cell_type": "code",
   "execution_count": 3,
   "metadata": {},
   "outputs": [
    {
     "data": {
      "text/plain": [
       "8.25"
      ]
     },
     "execution_count": 3,
     "metadata": {},
     "output_type": "execute_result"
    }
   ],
   "source": [
    "n_spikes = 132\n",
    "duration = 16  # seconds\n",
    "# compute the firing rate\n",
    "firing_rate = n_spikes / duration  # 1/seconds=Hz\n",
    "firing_rate"
   ]
  },
  {
   "cell_type": "markdown",
   "metadata": {},
   "source": [
    "__Note 1:__ The `#` character allows you to comment your code - everything following `#` will be treated as a comment and not as code that is executed by python. Comments allow us to add extra information to the code.\n",
    "\n",
    "__Note 2:__ The value of the last line in a cell, in this case `firing_rate`, is printed below the cell automatically.\n",
    "\n",
    "By changing the value of the variables, `n_spikes` and `duration`, you can run the same computation, `n_spikes / duration`, on different data (for instance, different trials from the same experiment). This is useful if the computation is more complicated."
   ]
  },
  {
   "cell_type": "markdown",
   "metadata": {},
   "source": [
    "Whenever you type a variable name in code it will be replaced by the value (in this case, the number) it is referring to.\n",
    "\n",
    "Above, the expression `firing_rate = n_spikes / duration` is treated the following by Python:\n",
    "1. The value of the variable `n_spikes` is looked up as `132`\n",
    "2. `n_spikes` in `n_spikes / duration` is replaced by `132`. The expression is now `132 / duration`\n",
    "3. the value of the variable `duration` is looked up as `16`\n",
    "4. `duration` in `132 / duration` is replaced by `16`. The expression is now `132 / 16`\n",
    "5. The computation is performed and the result, `8.25` assigned the variable `firing_rate`."
   ]
  },
  {
   "cell_type": "markdown",
   "metadata": {},
   "source": [
    "### Dealing with text\n",
    "How about data that is not numeric, like names?\n",
    "\n",
    "Simply assigning letters to a variable does not work - this will throw an error:"
   ]
  },
  {
   "cell_type": "code",
   "execution_count": 4,
   "metadata": {},
   "outputs": [
    {
     "ename": "NameError",
     "evalue": "name 'Keiko' is not defined",
     "output_type": "error",
     "traceback": [
      "\u001b[0;31m---------------------------------------------------------------------------\u001b[0m",
      "\u001b[0;31mNameError\u001b[0m                                 Traceback (most recent call last)",
      "\u001b[1;32m/Users/clemens10/Library/CloudStorage/Dropbox/code.lab/teaching/2023ws python course/1 variables, control flow/1.01_variables.ipynb Cell 15\u001b[0m line \u001b[0;36m1\n\u001b[0;32m----> <a href='vscode-notebook-cell:/Users/clemens10/Library/CloudStorage/Dropbox/code.lab/teaching/2023ws%20python%20course/1%20variables%2C%20control%20flow/1.01_variables.ipynb#X20sZmlsZQ%3D%3D?line=0'>1</a>\u001b[0m name_of_the_whale \u001b[39m=\u001b[39m Keiko\n",
      "\u001b[0;31mNameError\u001b[0m: name 'Keiko' is not defined"
     ]
    }
   ],
   "source": [
    "name_of_the_whale = Keiko"
   ]
  },
  {
   "cell_type": "markdown",
   "metadata": {},
   "source": [
    "This is because letters and words are interpreted as variable names. \n",
    "In the above example, python assumes that \"Keiko\" is a variable and looks up the value of the `Keiko` variable, but that a variable with the name `Keiko` does not exist! Hence the `NameError`\n",
    "\n",
    "To tell python that the value of your variable is text, we wrap it in `'...'` or `\"...\"`.\n",
    "Variables with text as values are called _strings_."
   ]
  },
  {
   "cell_type": "code",
   "execution_count": 11,
   "metadata": {},
   "outputs": [
    {
     "name": "stdout",
     "output_type": "stream",
     "text": [
      "speed= Mach 2\n"
     ]
    },
    {
     "data": {
      "text/plain": [
       "'1968'"
      ]
     },
     "execution_count": 11,
     "metadata": {},
     "output_type": "execute_result"
    }
   ],
   "source": [
    "name_of_the_whale = 'Keiko'\n",
    "speed = \"Mach 2\"\n",
    "print('speed=', speed)\n",
    "year = \"1968\"\n",
    "year"
   ]
  },
  {
   "cell_type": "markdown",
   "metadata": {},
   "source": [
    "__Note: Errors__ When you write \"invalid\" code, python does not make your computer crash, but generates an error with a (sometimes cryptic) description of the cause of the error. Errors are also called _exceptions_. We will learn later how to deal with - and raise our own - exceptions."
   ]
  },
  {
   "cell_type": "markdown",
   "metadata": {},
   "source": [
    "#### Note: Functions\n",
    "\n",
    "To print the value of variables in the notebook, we relied on jupyter's functionality of printing the result of the last line in a cell.\n",
    "To print the value of variables whenever you want, you can use `print`, which is something new: a _function_. \n",
    "More about functions (and how to write them yourself) later - they are a great way of hiding away complexity. \n",
    "\n",
    "For now, you only need to know this:\n",
    "- The general form of a function is `output = function_name(input)`. Print does not produce an explicit output, all it does is print it's input.\n",
    "- In python, the input is called the _argument_, the output is called the _return value_.\n",
    "- Like many functions, `print` accepts multiple arguments. Multiple arguments are separated by commas: `print(arg1, arg2)`.\n",
    "- Using a function is also termed \"to call a function\". Functions are therefore termed `Callable`s, regular variables are not.\n",
    "\n",
    "So, to print the value of a variable: `print(variable_name)`.\n",
    "\n",
    "To print the value of multiple variables: `print(variable_name1, variable_name2)`."
   ]
  },
  {
   "cell_type": "code",
   "execution_count": 12,
   "metadata": {},
   "outputs": [
    {
     "name": "stdout",
     "output_type": "stream",
     "text": [
      "the value of c is 1\n",
      "1\n",
      "the value of d is 6\n",
      "the value of c before reassignment is 1\n",
      "the value of c after re-assignment is 9\n"
     ]
    }
   ],
   "source": [
    "# create a new variable `c` and give it a particular value (aka assign a value to `c`)\n",
    "c = 1  \n",
    "print('the value of c is', c)  # `c` will be replaces with its value\n",
    "print(c)  # for the lazy...\n",
    "\n",
    "#  create a new variable `d` and assign to it the outcome of `c + 5`\n",
    "d = c + 5\n",
    "print('the value of d is', d)\n",
    "\n",
    "# you can also re-assign values to existing variables - this allows you to update a variable during computation\n",
    "print('the value of c before reassignment is', c)\n",
    "c = c + 8\n",
    "print('the value of c after re-assignment is', c)"
   ]
  },
  {
   "cell_type": "markdown",
   "metadata": {},
   "source": [
    "You can get help about how to use a function using `help(function_name)`. The result may be very technical. Google is your friend!"
   ]
  },
  {
   "cell_type": "code",
   "execution_count": null,
   "metadata": {},
   "outputs": [
    {
     "name": "stdout",
     "output_type": "stream",
     "text": [
      "Help on built-in function print in module builtins:\n",
      "\n",
      "print(...)\n",
      "    print(value, ..., sep=' ', end='\\n', file=sys.stdout, flush=False)\n",
      "    \n",
      "    Prints the values to a stream, or to sys.stdout by default.\n",
      "    Optional keyword arguments:\n",
      "    file:  a file-like object (stream); defaults to the current sys.stdout.\n",
      "    sep:   string inserted between values, default a space.\n",
      "    end:   string appended after the last value, default a newline.\n",
      "    flush: whether to forcibly flush the stream.\n",
      "\n"
     ]
    }
   ],
   "source": [
    "help(print)"
   ]
  },
  {
   "cell_type": "markdown",
   "metadata": {},
   "source": [
    "### Types of variables\n",
    "\n",
    "Variables come in different flavors - so far, we have encountered two kinds of variables: numbers and text.\n",
    "\n",
    "Kinds of variables are called _types_. These are the most important ones:\n",
    "\n",
    "- boolean variable: `bool`- only two values: `True` or `False`\n",
    "- integer numbers: `int` - number without a decimal point (1, 2, 103241)\n",
    "- floating point numbers: `float` - number with a decimal point (3.141)\n",
    "- (complex numbers - not covered here: `complex`)\n",
    "- string: `str`: sequence of characters (\"yes\", 'no')"
   ]
  },
  {
   "cell_type": "markdown",
   "metadata": {},
   "source": [
    "### Working with numerical variables - arithmetics on numbers\n",
    "| Symbol | Task Performed |\n",
    "|----|---|\n",
    "| +  | Addition |\n",
    "| -  | Subtraction |\n",
    "| *  | multiplication |\n",
    "| /  | division |\n",
    "| **  | to the power of |\n",
    "| //  | floor division |\n",
    "| %  | mod |"
   ]
  },
  {
   "cell_type": "code",
   "execution_count": 14,
   "metadata": {},
   "outputs": [
    {
     "data": {
      "text/plain": [
       "5.333333333333333"
      ]
     },
     "execution_count": 14,
     "metadata": {},
     "output_type": "execute_result"
    }
   ],
   "source": [
    "a = 16\n",
    "b = 3\n",
    "\n",
    "a / b\n"
   ]
  },
  {
   "cell_type": "code",
   "execution_count": null,
   "metadata": {},
   "outputs": [
    {
     "name": "stdout",
     "output_type": "stream",
     "text": [
      "Addition: 16 + 3 = 19\n",
      "Subtraction: 16 - 3 = 13\n",
      "Multiplication: 16 * 3 = 48\n",
      "Division: 16 / 3 = 5.333333333333333\n",
      "Power: 16 ^ 3 = 4096\n",
      "Plus some weird stuff that we will ignore for now:\n",
      "Floor Division: 16 // 3 = 5 # Return the integer part of the quotient\n",
      "Modulo: 16 % 3 = 1  # The modulo or mod operation returns the remainder of division 16 % 3 = 16 - (3 * 5)\n",
      "Floor division vs. modulo:\n",
      "Floor division 3 3 2\n",
      "Modulo 1 0 2\n"
     ]
    }
   ],
   "source": [
    "# Examples\n",
    "a = 16\n",
    "b = 3\n",
    "\n",
    "print(f'Addition: {a} + {b} = {a+b}')\n",
    "print(f'Subtraction: {a} - {b} = {a-b}')\n",
    "print(f'Multiplication: {a} * {b} = {a*b}')\n",
    "print(f'Division: {a} / {b} = {a/b}')\n",
    "print(f'Power: {a} ^ {b} = {a**b}')\n",
    "print('Plus some weird stuff that we will ignore for now:')\n",
    "print(f'Floor Division: {a} // {b} = {a//b} # Return the integer part of the quotient')\n",
    "print(f'Modulo: {a} % {b} = {a%b}  # The modulo or mod operation returns the remainder of division {a} % {b} = {a} - ({b} * {int(a/b)})')\n",
    "\n",
    "print('Floor division vs. modulo:')\n",
    "print('Floor division', 10 // 3, 9 // 3, 8 // 3)\n",
    "print('Modulo', 10 % 3, 9 % 3, 8 % 3)"
   ]
  },
  {
   "cell_type": "markdown",
   "metadata": {},
   "source": [
    "### Determining the type of variables\n",
    "Wrong variable types can be a source of errors in your code - it is therefore often useful to determine the type of a variable."
   ]
  },
  {
   "cell_type": "code",
   "execution_count": 17,
   "metadata": {},
   "outputs": [
    {
     "ename": "TypeError",
     "evalue": "unsupported operand type(s) for +: 'float' and 'str'",
     "output_type": "error",
     "traceback": [
      "\u001b[0;31m---------------------------------------------------------------------------\u001b[0m",
      "\u001b[0;31mTypeError\u001b[0m                                 Traceback (most recent call last)",
      "Cell \u001b[0;32mIn[17], line 3\u001b[0m\n\u001b[1;32m      1\u001b[0m a \u001b[38;5;241m=\u001b[39m \u001b[38;5;241m15.6\u001b[39m\n\u001b[1;32m      2\u001b[0m b \u001b[38;5;241m=\u001b[39m \u001b[38;5;124m'\u001b[39m\u001b[38;5;124m12.4\u001b[39m\u001b[38;5;124m'\u001b[39m\n\u001b[0;32m----> 3\u001b[0m \u001b[43ma\u001b[49m\u001b[43m \u001b[49m\u001b[38;5;241;43m+\u001b[39;49m\u001b[43m \u001b[49m\u001b[43mb\u001b[49m\n",
      "\u001b[0;31mTypeError\u001b[0m: unsupported operand type(s) for +: 'float' and 'str'"
     ]
    }
   ],
   "source": [
    "a = 15.6\n",
    "b = '12.4'\n",
    "a + b"
   ]
  },
  {
   "cell_type": "markdown",
   "metadata": {},
   "source": [
    "The `type` function returns the type of a variable.\n",
    "\n",
    "Let's create for variables and print their types:"
   ]
  },
  {
   "cell_type": "code",
   "execution_count": 3,
   "metadata": {},
   "outputs": [
    {
     "data": {
      "text/plain": [
       "(bool, int, float, str)"
      ]
     },
     "execution_count": 3,
     "metadata": {},
     "output_type": "execute_result"
    }
   ],
   "source": [
    "correct = True\n",
    "a = 1\n",
    "b = 1.0\n",
    "c = '1.0'\n",
    "\n",
    "type(correct), type(a), type(b), type(c)"
   ]
  },
  {
   "cell_type": "markdown",
   "metadata": {},
   "source": [
    "You can change the type of a variable - _cast_ its type - by using `bool`, `int`, `float`,  `str` as functions, with the variable you want to cast as the argument:"
   ]
  },
  {
   "cell_type": "code",
   "execution_count": 5,
   "metadata": {},
   "outputs": [
    {
     "data": {
      "text/plain": [
       "(str, float)"
      ]
     },
     "execution_count": 5,
     "metadata": {},
     "output_type": "execute_result"
    }
   ],
   "source": [
    "a_as_str = '1'\n",
    "a_cast_to_float = float(a_as_str)  # cast from an string to a floating point\n",
    "type(a_as_str), type(a_cast_to_float)"
   ]
  },
  {
   "cell_type": "markdown",
   "metadata": {},
   "source": [
    "You can turn a boolean or a number into a text using `str`:"
   ]
  },
  {
   "cell_type": "code",
   "execution_count": 6,
   "metadata": {},
   "outputs": [
    {
     "data": {
      "text/plain": [
       "('True', '10')"
      ]
     },
     "execution_count": 6,
     "metadata": {},
     "output_type": "execute_result"
    }
   ],
   "source": [
    "str(True), str(10)"
   ]
  },
  {
   "cell_type": "markdown",
   "metadata": {},
   "source": [
    "You can turn a string to a number using `int` or `float`. This works only if the string variable contains only numerical data: "
   ]
  },
  {
   "cell_type": "code",
   "execution_count": 7,
   "metadata": {},
   "outputs": [
    {
     "name": "stdout",
     "output_type": "stream",
     "text": [
      "10 10\n",
      "<class 'str'> <class 'int'>\n"
     ]
    }
   ],
   "source": [
    "age_as_str = '10'\n",
    "age_as_number = int(age_as_str)\n",
    "print(age_as_str, age_as_number)\n",
    "print(type(age_as_str), type(age_as_number))"
   ]
  },
  {
   "cell_type": "markdown",
   "metadata": {},
   "source": [
    "Careful - casting sometimes works in unexpected ways.\n",
    "\n",
    "For instance, any non-zero number and non-empty string is `True` in python."
   ]
  },
  {
   "cell_type": "code",
   "execution_count": 8,
   "metadata": {},
   "outputs": [
    {
     "name": "stdout",
     "output_type": "stream",
     "text": [
      "bool(0)=False, bool('')=False, bool(1.6)=True, bool(10)=True, bool(-1)=True, bool('True')=True, bool('False')=True\n"
     ]
    }
   ],
   "source": [
    "# bool(0), bool(1.6), bool(10), bool(-1), bool('True'), bool('False'), bool('')\n",
    "print(f\"{bool(0)=}, {bool('')=}, {bool(1.6)=}, {bool(10)=}, {bool(-1)=}, {bool('True')=}, {bool('False')=}\")"
   ]
  },
  {
   "cell_type": "markdown",
   "metadata": {},
   "source": [
    "__Note:__ To format the above I used a python construct called f-strings. More on f-strings later.\n",
    "\n",
    "Casting does not work for all values of variables. For instance, if the string variable contains non-numeric characters, letters or even just a blank space, python produces a `ValueError` because the value of the argument is not \"right\":"
   ]
  },
  {
   "cell_type": "code",
   "execution_count": 13,
   "metadata": {},
   "outputs": [
    {
     "ename": "ValueError",
     "evalue": "invalid literal for int() with base 10: '2years'",
     "output_type": "error",
     "traceback": [
      "\u001b[0;31m---------------------------------------------------------------------------\u001b[0m",
      "\u001b[0;31mValueError\u001b[0m                                Traceback (most recent call last)",
      "Cell \u001b[0;32mIn[13], line 2\u001b[0m\n\u001b[1;32m      1\u001b[0m age_as_str \u001b[38;5;241m=\u001b[39m \u001b[38;5;124m'\u001b[39m\u001b[38;5;124m2years\u001b[39m\u001b[38;5;124m'\u001b[39m\n\u001b[0;32m----> 2\u001b[0m age_as_number \u001b[38;5;241m=\u001b[39m \u001b[38;5;28;43mint\u001b[39;49m\u001b[43m(\u001b[49m\u001b[43mage_as_str\u001b[49m\u001b[43m)\u001b[49m\n",
      "\u001b[0;31mValueError\u001b[0m: invalid literal for int() with base 10: '2years'"
     ]
    }
   ],
   "source": [
    "age_as_str = '2years'\n",
    "age_as_number = int(age_as_str)"
   ]
  },
  {
   "cell_type": "code",
   "execution_count": 14,
   "metadata": {},
   "outputs": [
    {
     "ename": "ValueError",
     "evalue": "invalid literal for int() with base 10: '2 0'",
     "output_type": "error",
     "traceback": [
      "\u001b[0;31m---------------------------------------------------------------------------\u001b[0m",
      "\u001b[0;31mValueError\u001b[0m                                Traceback (most recent call last)",
      "Cell \u001b[0;32mIn[14], line 2\u001b[0m\n\u001b[1;32m      1\u001b[0m age_as_str \u001b[38;5;241m=\u001b[39m \u001b[38;5;124m'\u001b[39m\u001b[38;5;124m2 0\u001b[39m\u001b[38;5;124m'\u001b[39m\n\u001b[0;32m----> 2\u001b[0m age_as_number \u001b[38;5;241m=\u001b[39m \u001b[38;5;28;43mint\u001b[39;49m\u001b[43m(\u001b[49m\u001b[43mage_as_str\u001b[49m\u001b[43m)\u001b[49m\n",
      "\u001b[0;31mValueError\u001b[0m: invalid literal for int() with base 10: '2 0'"
     ]
    }
   ],
   "source": [
    "age_as_str = '2 0'\n",
    "age_as_number = int(age_as_str)"
   ]
  },
  {
   "cell_type": "markdown",
   "metadata": {
    "slideshow": {
     "slide_type": "subslide"
    }
   },
   "source": [
    "### Naming variables\n",
    "You can name a variable *almost* anything you want.\n",
    "\n",
    "It can only start with a letter or \"\\_\", and it can contain alphanumeric characters (letters or numbers) plus underscores (\"\\_\"):"
   ]
  },
  {
   "cell_type": "code",
   "execution_count": 15,
   "metadata": {},
   "outputs": [],
   "source": [
    "# Valid names\n",
    "cool_variable = 10\n",
    "_cool_variable = 10\n",
    "password_123 = 'bad'"
   ]
  },
  {
   "cell_type": "markdown",
   "metadata": {},
   "source": [
    "Variable names must not start with numbers, contain special characters.   "
   ]
  },
  {
   "cell_type": "code",
   "execution_count": 18,
   "metadata": {},
   "outputs": [
    {
     "ename": "SyntaxError",
     "evalue": "invalid decimal literal (3019652057.py, line 2)",
     "output_type": "error",
     "traceback": [
      "\u001b[0;36m  Cell \u001b[0;32mIn[18], line 2\u001b[0;36m\u001b[0m\n\u001b[0;31m    10th_number = 3.34\u001b[0m\n\u001b[0m     ^\u001b[0m\n\u001b[0;31mSyntaxError\u001b[0m\u001b[0;31m:\u001b[0m invalid decimal literal\n"
     ]
    }
   ],
   "source": [
    "# Invalid names\n",
    "10th_number = 3.34"
   ]
  },
  {
   "cell_type": "code",
   "execution_count": 19,
   "metadata": {},
   "outputs": [
    {
     "ename": "SyntaxError",
     "evalue": "cannot assign to expression here. Maybe you meant '==' instead of '='? (2438563722.py, line 1)",
     "output_type": "error",
     "traceback": [
      "\u001b[0;36m  Cell \u001b[0;32mIn[19], line 1\u001b[0;36m\u001b[0m\n\u001b[0;31m    a+b = 27\u001b[0m\n\u001b[0m    ^\u001b[0m\n\u001b[0;31mSyntaxError\u001b[0m\u001b[0;31m:\u001b[0m cannot assign to expression here. Maybe you meant '==' instead of '='?\n"
     ]
    }
   ],
   "source": [
    "a+b = 27"
   ]
  },
  {
   "cell_type": "markdown",
   "metadata": {},
   "source": [
    "In addition, certain key words must not be used as variable names since they are reserved for the language (no need to remember them - just keep this in mind so you know how to interpret the resulting error): `and`, `as`, `assert`, `break`, `class`, `continue`, `def`, `del`,\n",
    "`elif`, `else`, `except`, `exec`, `finally`, `for`, `from`, `global`, `if`, `import`, `in`, `is`, `lambda`, `not`, `or`, `pass`,\n",
    "`print`, `raise`, `return`, `try`, `while`, `with`, `yield`"
   ]
  },
  {
   "cell_type": "code",
   "execution_count": 22,
   "metadata": {
    "scrolled": true
   },
   "outputs": [
    {
     "ename": "SyntaxError",
     "evalue": "invalid syntax (2687088324.py, line 2)",
     "output_type": "error",
     "traceback": [
      "\u001b[0;36m  Cell \u001b[0;32mIn[22], line 2\u001b[0;36m\u001b[0m\n\u001b[0;31m    and = 3\u001b[0m\n\u001b[0m    ^\u001b[0m\n\u001b[0;31mSyntaxError\u001b[0m\u001b[0;31m:\u001b[0m invalid syntax\n"
     ]
    }
   ],
   "source": [
    "# Example\n",
    "and = 3"
   ]
  },
  {
   "cell_type": "markdown",
   "metadata": {},
   "source": [
    "__Caution__ Python lets you use the names of builtin functions for variables. However the associated function will then not be available anymore."
   ]
  },
  {
   "cell_type": "code",
   "execution_count": 1,
   "metadata": {},
   "outputs": [
    {
     "name": "stdout",
     "output_type": "stream",
     "text": [
      "['a', 'b', 'c']\n",
      "<class 'builtin_function_or_method'>\n"
     ]
    }
   ],
   "source": [
    "# `sorted` is a function for sorting a list of variables\n",
    "# we don't need it today so we can mess it up to illustrate the point\n",
    "print(sorted('acb'))\n",
    "print(type(sorted))  # this will return \"builtin_function_or_method\""
   ]
  },
  {
   "cell_type": "code",
   "execution_count": 3,
   "metadata": {},
   "outputs": [
    {
     "name": "stdout",
     "output_type": "stream",
     "text": [
      "<class 'int'>\n"
     ]
    },
    {
     "ename": "TypeError",
     "evalue": "'int' object is not callable",
     "output_type": "error",
     "traceback": [
      "\u001b[0;31m---------------------------------------------------------------------------\u001b[0m",
      "\u001b[0;31mTypeError\u001b[0m                                 Traceback (most recent call last)",
      "Cell \u001b[0;32mIn[3], line 3\u001b[0m\n\u001b[1;32m      1\u001b[0m \u001b[38;5;28msorted\u001b[39m \u001b[38;5;241m=\u001b[39m \u001b[38;5;241m10\u001b[39m  \u001b[38;5;66;03m# create a variable with the same name as the function `sorted` and assign the value 10\u001b[39;00m\n\u001b[1;32m      2\u001b[0m \u001b[38;5;28mprint\u001b[39m(\u001b[38;5;28mtype\u001b[39m(\u001b[38;5;28msorted\u001b[39m))  \u001b[38;5;66;03m# now sorted is not a function anymore, but an integer\u001b[39;00m\n\u001b[0;32m----> 3\u001b[0m \u001b[38;5;28;43msorted\u001b[39;49m\u001b[43m(\u001b[49m\u001b[38;5;124;43m'\u001b[39;49m\u001b[38;5;124;43mthis will fail\u001b[39;49m\u001b[38;5;124;43m'\u001b[39;49m\u001b[43m)\u001b[49m  \u001b[38;5;66;03m# this fails because you can't \"call\" an integer, only a function\u001b[39;00m\n",
      "\u001b[0;31mTypeError\u001b[0m: 'int' object is not callable"
     ]
    }
   ],
   "source": [
    "sorted = 10  # create a variable with the same name as the function `sorted` and assign the value 10\n",
    "print(type(sorted))  # now sorted is not a function anymore, but an integer\n",
    "sorted('this will fail')  # this fails because you can't \"call\" an integer, only a function"
   ]
  },
  {
   "cell_type": "markdown",
   "metadata": {},
   "source": [
    "#### Names should be short (but not too short) and descriptive\n",
    "- `a` is very short but meaningless - it is unclear what type of information `a` stores.\n",
    "- `concentration` or `subject_name` is a bit longer but its meaning is evident from the name.\n",
    "- `name_of_the_first_subject_on_monday_morning` is too long."
   ]
  },
  {
   "cell_type": "code",
   "execution_count": 4,
   "metadata": {
    "slideshow": {
     "slide_type": "fragment"
    }
   },
   "outputs": [],
   "source": [
    "a = 1  # could be anything\n",
    "concentration = 0.1  # mM\n",
    "subject_name = \"Mabel\"  # good descriptive variable name\n",
    "name_of_the_first_subject_on_monday_morning = \"Thelonious\"  # too long"
   ]
  },
  {
   "cell_type": "markdown",
   "metadata": {},
   "source": [
    "### Re-using and updating variables\n",
    "\n",
    "Alice and Bob count mosquitoes. Alice, to store her count, creates a variable with name `n_alice_mosquitoes` and value `1` (she has counted only one mosquito so far)."
   ]
  },
  {
   "cell_type": "code",
   "execution_count": 18,
   "metadata": {},
   "outputs": [
    {
     "data": {
      "text/plain": [
       "9"
      ]
     },
     "execution_count": 18,
     "metadata": {},
     "output_type": "execute_result"
    }
   ],
   "source": [
    "c"
   ]
  },
  {
   "cell_type": "code",
   "execution_count": 6,
   "metadata": {
    "slideshow": {
     "slide_type": "fragment"
    }
   },
   "outputs": [
    {
     "data": {
      "text/plain": [
       "1"
      ]
     },
     "execution_count": 6,
     "metadata": {},
     "output_type": "execute_result"
    }
   ],
   "source": [
    "# create a new variable `n_alice_mosquitoes` and \n",
    "# give it a particular value (aka assign the value 1 to `n_alice_mosquitoes`)\n",
    "n_alice_mosquitoes = 1\n",
    "n_alice_mosquitoes"
   ]
  },
  {
   "cell_type": "markdown",
   "metadata": {},
   "source": [
    "Now Alice can perform a computation using `n_alice_mosquitoes`.\n",
    "For instance, Bob has counted 10 more mosquitoes - so we add `10` to her own count and store the result in a new variable, `n_mosquitoes`, for the total count:"
   ]
  },
  {
   "cell_type": "code",
   "execution_count": null,
   "metadata": {},
   "outputs": [
    {
     "data": {
      "text/plain": [
       "11"
      ]
     },
     "execution_count": 80,
     "metadata": {},
     "output_type": "execute_result"
    }
   ],
   "source": [
    "n_mosquitoes = n_alice_mosquitoes + 10\n",
    "n_mosquitoes"
   ]
  },
  {
   "cell_type": "markdown",
   "metadata": {},
   "source": [
    "What is going on here?\n",
    "\n",
    "In the above expression, `n_alice_mosquitoes + 10`, python sees the variable name, `n_alice_mosquitoes`, and looks up it's value, `1`. \n",
    "\n",
    "__Note:__ `n_alice_mosquitoes` was created and assigned a value in the previous cell. Python has a single \"work space\" for all cells in a notebook - all variables are available and can be modified in all cells, irrespective of the order of the cells in the notebook!\n",
    "\n",
    "Python then substitutes the value `1` for the name `n_alice_mosquitoes` and performs the computation (it evaluates the expression).\n",
    "\n",
    "`n_alice_mosquitoes + 10` is evaluated as `1 + 10`. \n",
    "\n",
    "`n_mosquitoes = n_alice_mosquitoes + 10` means that the result of the operation, the value `11`, is saved in a new variable, with name `n_mosquitoes`."
   ]
  },
  {
   "cell_type": "markdown",
   "metadata": {},
   "source": [
    "Note that above we exploited that what you do in one cell transfers to the next:\n",
    "- we defined `n_alice_mosquitoes` in one cell\n",
    "- and used it in a computation in the next cell\n",
    "\n",
    "We cannot use a variable we have not defined before:"
   ]
  },
  {
   "cell_type": "code",
   "execution_count": 7,
   "metadata": {},
   "outputs": [
    {
     "ename": "NameError",
     "evalue": "name 'n_tim_mosquitoes' is not defined",
     "output_type": "error",
     "traceback": [
      "\u001b[0;31m---------------------------------------------------------------------------\u001b[0m",
      "\u001b[0;31mNameError\u001b[0m                                 Traceback (most recent call last)",
      "Cell \u001b[0;32mIn[7], line 1\u001b[0m\n\u001b[0;32m----> 1\u001b[0m n_mosquitoes \u001b[38;5;241m=\u001b[39m \u001b[43mn_tim_mosquitoes\u001b[49m \u001b[38;5;241m+\u001b[39m \u001b[38;5;241m10\u001b[39m\n",
      "\u001b[0;31mNameError\u001b[0m: name 'n_tim_mosquitoes' is not defined"
     ]
    }
   ],
   "source": [
    "n_mosquitoes = n_tim_mosquitoes + 10"
   ]
  },
  {
   "cell_type": "markdown",
   "metadata": {},
   "source": [
    "The fact that we can re-use variables across cells allows us to successively build up our analysis code, cell by cell.\n",
    "\n",
    "Suddenly, Trudy comes and claims that she found 3 more mosquitoes!!\n",
    "We update the total count with this value and should now have a total count of 14: 1 from alice, 10 from Bob, and 3 from Trudy. \n",
    "\n",
    "But the code produces a count of 4. What's wrong with this code??"
   ]
  },
  {
   "cell_type": "code",
   "execution_count": 9,
   "metadata": {},
   "outputs": [
    {
     "data": {
      "text/plain": [
       "4"
      ]
     },
     "execution_count": 9,
     "metadata": {},
     "output_type": "execute_result"
    }
   ],
   "source": [
    "n_mosquitoes = n_alice_mosquitoes + 3  # add Trudy's mosquitoes \n",
    "n_mosquitoes"
   ]
  },
  {
   "cell_type": "markdown",
   "metadata": {},
   "source": [
    "### What do we need to know to detect spikes using python?\n",
    "\n",
    "![](voltage_trace.png)\n",
    "\n",
    "- [x] __Present data in code (individual voltage values, manipulate them and store the results) - variables__\n",
    "- [ ] Compare variables (voltage to threshold) - boolean values\n",
    "- [ ] Perform different actions based on the value of a variable (only keep the position if the voltage exceeds the threshold) - if-else statements\n",
    "- [ ] Present and access data in a time series of voltage values - lists\n",
    "- [ ] Perform an action for each element in a sequence of values (inspect voltage values one-by-one) - for loops\n",
    "- [ ] Separate data and logic so we can use the same code for new recordings - functions\n",
    "- [ ] Apply this to multi data files\n",
    "- [ ] Plot and save the results\n"
   ]
  },
  {
   "cell_type": "markdown",
   "metadata": {},
   "source": []
  }
 ],
 "metadata": {
  "kernelspec": {
   "display_name": "Python 3 (ipykernel)",
   "language": "python",
   "name": "python3"
  },
  "language_info": {
   "codemirror_mode": {
    "name": "ipython",
    "version": 3
   },
   "file_extension": ".py",
   "mimetype": "text/x-python",
   "name": "python",
   "nbconvert_exporter": "python",
   "pygments_lexer": "ipython3",
   "version": "3.11.5"
  },
  "vscode": {
   "interpreter": {
    "hash": "7ea0ec616133ead53c1908c8f6539f5c0cb9b2f78368e2bb6ab3f847e89ca400"
   }
  }
 },
 "nbformat": 4,
 "nbformat_minor": 4
}
