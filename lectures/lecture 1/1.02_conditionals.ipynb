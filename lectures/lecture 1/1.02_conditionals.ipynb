{
 "cells": [
  {
   "cell_type": "markdown",
   "metadata": {},
   "source": [
    "# Lecture 1.2 - Conditionals\n",
    "### What do we need to know to detect spikes using python?\n",
    "\n",
    "![](voltage_trace.png)\n",
    "\n",
    "- [x] Present data in code (individual voltage values, manipulate them and store the results) - variables\n",
    "- [ ] __Compare variables (voltage to threshold) - boolean operations__\n",
    "- [ ] __Perform different actions based on the value of a variable (only keep the position if the voltage exceeds the threshold) - if-else statements__\n",
    "- [ ] Present and access data in a time series of voltage values - lists\n",
    "- [ ] Perform an action for each element in a sequence of values (inspect voltage values one-by-one) - for loops\n",
    "- [ ] Separate data and logic so we can use the same code for new recordings - functions\n",
    "- [ ] Apply this to multi data files\n",
    "- [ ] Plot and save the results\n"
   ]
  },
  {
   "cell_type": "markdown",
   "metadata": {},
   "source": [
    "## Compare variables\n",
    "Until now, we know how to add, subtract, multiply, and divide variables. \n",
    "\n",
    "However, to solve our spike detection problem, we need to compare values: We need to dermine whether the voltage exceeds the threshold!\n",
    "\n",
    "This is done using comparison operators:\n",
    "- `<` greater than\n",
    "- `>` smaller than\n",
    "- `==` equal (not to be confused with `=` which assigns values to variables)\n",
    "- `>=` greater or equal (not to be confused with `=` which assigns values to variables)\n",
    "- `<=` smaller or equal (not to be confused with `=` which assigns values to variables)"
   ]
  },
  {
   "cell_type": "code",
   "execution_count": 1,
   "metadata": {},
   "outputs": [
    {
     "data": {
      "text/plain": [
       "(True, False, False)"
      ]
     },
     "execution_count": 1,
     "metadata": {},
     "output_type": "execute_result"
    }
   ],
   "source": [
    "voltage = -40\n",
    "threshold = 10\n",
    "\n",
    "voltage < threshold, voltage > threshold, voltage == threshold"
   ]
  },
  {
   "cell_type": "markdown",
   "metadata": {},
   "source": [
    "The result is not a number, but `True` or `False`.\n",
    "\n",
    "We call the resulting variables _boolean_ variables after George Boole."
   ]
  },
  {
   "cell_type": "markdown",
   "metadata": {},
   "source": [
    "## Perform different actions based on the value of a variable\n",
    "Yay - we can now figure out whether our voltage exceeds the threshold!\n",
    "\n",
    "But that alone is pretty useless - we want to perform specific computations based on the outcome of this comparison, for instance, print the time of that spike for those voltage values that exceed the threshold.\n",
    "\n",
    "The basic logic is this: `If` EXPRESSION is True we do one thing, `else` we do something else.\n",
    "\n",
    "In python, this is done using if-else statements:"
   ]
  },
  {
   "cell_type": "code",
   "execution_count": 2,
   "metadata": {},
   "outputs": [
    {
     "name": "stdout",
     "output_type": "stream",
     "text": [
      "The first name is \"Anton\".\n"
     ]
    }
   ],
   "source": [
    "first_name = 'Anton'\n",
    "\n",
    "if first_name == 'Anton':\n",
    "    print('The first name is \"Anton\".')\n",
    "else:\n",
    "    print('The first name is not \"Anton\".')"
   ]
  },
  {
   "cell_type": "markdown",
   "metadata": {},
   "source": [
    "A couple of new things:\n",
    "- `if` and `else` keywords\n",
    "- `:` \n",
    "- Indentation\n",
    "\n",
    "#### What's going on? \n",
    "\n",
    "1. We create a variable with name `first_name` and value `Anton`.\n",
    "2. Python checks whether the value of the variable `first_name` equals (`==`) `Anton` (not to be confused with the `=` used for assigning values to variables). \n",
    "3. It does evalute to `True`."
   ]
  },
  {
   "cell_type": "code",
   "execution_count": 5,
   "metadata": {},
   "outputs": [
    {
     "name": "stdout",
     "output_type": "stream",
     "text": [
      "Anton\n",
      "True\n"
     ]
    }
   ],
   "source": [
    "print(first_name)\n",
    "print(first_name == 'Anton')"
   ]
  },
  {
   "cell_type": "markdown",
   "metadata": {},
   "source": [
    "4. Since the condition for the `if` statement is `True`, the indented code block after `if` is executed. If the condition evaluated to `False` the indented code block after `else` would be executed.\n",
    "\n",
    "How about this?"
   ]
  },
  {
   "cell_type": "code",
   "execution_count": 7,
   "metadata": {},
   "outputs": [
    {
     "name": "stdout",
     "output_type": "stream",
     "text": [
      "Not sure.\n"
     ]
    }
   ],
   "source": [
    "first_name = 'Benton'\n",
    "if first_name == 'Anton':\n",
    "    print('First name starts with \"A\".')\n",
    "else:\n",
    "    print('Not sure.')"
   ]
  },
  {
   "cell_type": "markdown",
   "metadata": {},
   "source": [
    "1. We create a variable with name `first_name` and value `Benton`.\n",
    "2. Python checks whether the value of the variable `first_name` equals (`==`) `Anton`\n",
    "3. It does not - it evaluates to `False`:"
   ]
  },
  {
   "cell_type": "code",
   "execution_count": 8,
   "metadata": {},
   "outputs": [
    {
     "name": "stdout",
     "output_type": "stream",
     "text": [
      "Benton\n",
      "False\n"
     ]
    }
   ],
   "source": [
    "print(first_name)\n",
    "print(first_name == 'Anton')"
   ]
  },
  {
   "cell_type": "markdown",
   "metadata": {},
   "source": [
    "4. Since the condition for the `if` statement is `False`, the code block after `if` is _skipped_.\n",
    "5. Python moves to the `else` block and executes the indented code block."
   ]
  },
  {
   "cell_type": "markdown",
   "metadata": {},
   "source": [
    "Multiple conditions can be checked for by using `elif` statements (short for \"else if\"). Note, that the order of comparisons matters - python will only execute the first matching statement."
   ]
  },
  {
   "cell_type": "code",
   "execution_count": 9,
   "metadata": {},
   "outputs": [
    {
     "name": "stdout",
     "output_type": "stream",
     "text": [
      "Name starts with \"B\".\n"
     ]
    }
   ],
   "source": [
    "name = 'Benton'\n",
    "if name == 'Anton':\n",
    "    print('Name starts with \"A\".')\n",
    "elif name == 'Benton':\n",
    "    print('Name starts with \"B\".')\n",
    "elif name == 'Canton':\n",
    "    print('Name starts with \"C\".')\n",
    "else:\n",
    "    print('Not sure.')"
   ]
  },
  {
   "cell_type": "markdown",
   "metadata": {},
   "source": [
    "### What do we need to know to detect spikes using python?\n",
    "\n",
    "![](voltage_trace.png)\n",
    "\n",
    "- [x] Present data in code (individual voltage values, manipulate them and store the results) - variables\n",
    "- [x] Compare variables (voltage to threshold) - boolean values\n",
    "- [x] Perform different actions based on the value of a variable (only keep the position if the voltage exceeds the threshold) - if-else statements\n",
    "- [ ] Present and access data in a time series of voltage values - lists\n",
    "- [ ] Perform an action for each element in a sequence of values (inspect voltage values one-by-one) - for loops\n",
    "- [ ] Separate data and logic so we can use the same code for new recordings - functions\n",
    "- [ ] Apply this to multi data files\n",
    "- [ ] Plot and save the results\n",
    "\n",
    "\n",
    "The core computation of the spike detection problem is solved!! (You will put the individual steps together durint the exercise.)\n",
    "\n",
    "Now we need to learn how to process the whole time series of voltage values! \n",
    "We could read the numbers from the text file and manually enter different values of the `voltage` variable but this would be tedious.\n",
    "\n",
    "So far all variables hold single values - numbers or strings.\n",
    "How do we present sequences of numbers? And how do we work through a sequence and apply the spike detection to each individual value in the sequence?"
   ]
  },
  {
   "cell_type": "markdown",
   "metadata": {},
   "source": []
  }
 ],
 "metadata": {
  "celltoolbar": "Slideshow",
  "kernelspec": {
   "display_name": "Python 3 (ipykernel)",
   "language": "python",
   "name": "python3"
  },
  "language_info": {
   "codemirror_mode": {
    "name": "ipython",
    "version": 3
   },
   "file_extension": ".py",
   "mimetype": "text/x-python",
   "name": "python",
   "nbconvert_exporter": "python",
   "pygments_lexer": "ipython3",
   "version": "3.11.5"
  },
  "vscode": {
   "interpreter": {
    "hash": "7ea0ec616133ead53c1908c8f6539f5c0cb9b2f78368e2bb6ab3f847e89ca400"
   }
  }
 },
 "nbformat": 4,
 "nbformat_minor": 4
}
