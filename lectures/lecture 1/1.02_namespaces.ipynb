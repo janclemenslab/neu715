{
 "cells": [
  {
   "cell_type": "markdown",
   "metadata": {
    "slideshow": {
     "slide_type": "slide"
    }
   },
   "source": [
    "# The memory of your notebook (a.k.a namespace)"
   ]
  },
  {
   "cell_type": "markdown",
   "metadata": {},
   "source": [
    "Why does the code below produce an error?"
   ]
  },
  {
   "cell_type": "code",
   "execution_count": 2,
   "metadata": {
    "scrolled": true
   },
   "outputs": [
    {
     "ename": "NameError",
     "evalue": "name 'my_variable' is not defined",
     "output_type": "error",
     "traceback": [
      "\u001b[31m---------------------------------------------------------------------------\u001b[39m",
      "\u001b[31mNameError\u001b[39m                                 Traceback (most recent call last)",
      "\u001b[36mCell\u001b[39m\u001b[36m \u001b[39m\u001b[32mIn[2]\u001b[39m\u001b[32m, line 1\u001b[39m\n\u001b[32m----> \u001b[39m\u001b[32m1\u001b[39m \u001b[43mmy_variable\u001b[49m\n",
      "\u001b[31mNameError\u001b[39m: name 'my_variable' is not defined"
     ]
    }
   ],
   "source": [
    "my_variable"
   ]
  },
  {
   "cell_type": "markdown",
   "metadata": {
    "scrolled": true
   },
   "source": [
    "Why does that code work?"
   ]
  },
  {
   "cell_type": "code",
   "execution_count": 3,
   "metadata": {
    "scrolled": true
   },
   "outputs": [
    {
     "data": {
      "text/plain": [
       "10"
      ]
     },
     "execution_count": 3,
     "metadata": {},
     "output_type": "execute_result"
    }
   ],
   "source": [
    "my_variable = 10\n",
    "my_variable"
   ]
  },
  {
   "cell_type": "markdown",
   "metadata": {
    "scrolled": true
   },
   "source": [
    "Now go back and run the first cell containing only (`my_variable`).\n",
    "\n",
    "Why is the result different from the first time you ran it?"
   ]
  },
  {
   "cell_type": "markdown",
   "metadata": {},
   "source": [
    "### Updating variables\n",
    "Since the notebook remembers all commands you ran since the notebook was started, \n",
    "you can update variables across different cells. The fact that we can re-use variables across cells allows us to successively build up our analysis code, cell by cell."
   ]
  },
  {
   "cell_type": "code",
   "execution_count": 4,
   "metadata": {},
   "outputs": [],
   "source": [
    "a = 10\n",
    "b = a + 2\n",
    "# What's the value of b?"
   ]
  },
  {
   "cell_type": "code",
   "execution_count": 5,
   "metadata": {},
   "outputs": [],
   "source": [
    "b = b + 100\n",
    "# What's the value of b now?\n",
    "# What is the value of b when I run this cell a second time?"
   ]
  },
  {
   "cell_type": "markdown",
   "metadata": {},
   "source": [
    "## Keeping track of variables and their values\n",
    "It can be hard to keep track of the notebooks memory after a while.\n",
    "To help, you can list the contents of your namespace with `%whos`:"
   ]
  },
  {
   "cell_type": "code",
   "execution_count": 6,
   "metadata": {},
   "outputs": [
    {
     "name": "stdout",
     "output_type": "stream",
     "text": [
      "Variable   Type    Data/Info\n",
      "----------------------------\n",
      "a          int     60\n"
     ]
    }
   ],
   "source": [
    "%whos"
   ]
  },
  {
   "cell_type": "markdown",
   "metadata": {},
   "source": [
    "The \"memory\" of the notebook is also called _namespace_. \n",
    "It contains all variables and code that you have executed since starting the notebook.\n",
    "\n",
    "To wipe the memory, you can restart the notebook (technically, the _kernel_ that runs your notebooks in the background). This will erase any variables and code stored in memory and you start from scratch, with a clean namespace."
   ]
  },
  {
   "cell_type": "markdown",
   "metadata": {},
   "source": [
    "## Re-using and updating variables across cells\n",
    "\n",
    "Not that the order of **execution** matters, not the order in which cells appear in the notebook!\n",
    "\n",
    "Alice and Bob count mosquitoes. Alice, to store her count, creates a variable with name `n_alice_mosquitoes` and value `1` (she has counted only one mosquito so far)."
   ]
  },
  {
   "cell_type": "code",
   "execution_count": 7,
   "metadata": {
    "slideshow": {
     "slide_type": "fragment"
    }
   },
   "outputs": [
    {
     "name": "stdout",
     "output_type": "stream",
     "text": [
      "Variable             Type    Data/Info\n",
      "--------------------------------------\n",
      "a                    int     60\n",
      "n_alice_mosquitoes   int     1\n"
     ]
    }
   ],
   "source": [
    "n_alice_mosquitoes = 1\n",
    "%whos"
   ]
  },
  {
   "cell_type": "markdown",
   "metadata": {},
   "source": [
    "```{admonition} Clicker question \"mosquitoes 1\" ([Click me!](https://go.uos.de/kjcBV))\n",
    "What will be the value of n_mosquitoes after running the cell above?\n",
    "\n",
    "```python\n",
    "n_mosquitoes = n_alice_mosquitoes + 10\n",
    "```\n",
    "\n",
    "```"
   ]
  },
  {
   "cell_type": "markdown",
   "metadata": {},
   "source": [
    "```{toggle}\n",
    "What is going on here?\n",
    "\n",
    "In the above expression, `n_alice_mosquitoes + 10`, python sees the variable name, `n_alice_mosquitoes`, and looks up it's value, `1` This works since we have created and assigned a value to `n_alice_mosquitoes` in the previous cell.\n",
    "\n",
    "Python then replaces the name `n_alice_mosquitoes` with the value `1` and performs the computation (it evaluates the expression).\n",
    "\n",
    "`n_alice_mosquitoes + 10` is evaluated as `1 + 10`. \n",
    "\n",
    "`n_mosquitoes = n_alice_mosquitoes + 10` means that the result of the operation, the value `11`, is saved in a new variable, with name `n_mosquitoes`.\n",
    "\n",
    "Note that above we exploited that what you do in one cell transfers to the next:\n",
    "- we defined `n_alice_mosquitoes` in one cell\n",
    "- and used it in a computation in the next cell\n",
    "```"
   ]
  },
  {
   "cell_type": "markdown",
   "metadata": {},
   "source": [
    "```{admonition} Clicker question \"mosquitoes 2\" ([Click me!](https://go.uos.de/kjcBV))\n",
    "What will be the value of n_mosquitoes after executing this code after having run the first and second cells above?\n",
    "\n",
    "```python\n",
    "n_mosquitoes = n_tim_mosquitoes + 20\n",
    "```\n",
    "\n",
    "```"
   ]
  },
  {
   "cell_type": "markdown",
   "metadata": {},
   "source": [
    "```{toggle}\n",
    "This will throw an error, as we cannot use a variable we have not defined before: Python does not know what `n_tim_mosquitoes` refers to!\n",
    "```"
   ]
  },
  {
   "cell_type": "markdown",
   "metadata": {},
   "source": [
    "## Messing up and restoring the namespace\n",
    "The namespace contains not only all variables you've created and manipulated, but also all functions.\n",
    "It is therefore surprisingly easy to mess up you namespace. For instance, you can \"overwrite\" function names with variables in python. \n",
    "\n",
    "The function `print` allows you to print the value of a variable. That way, we can also print intermediate results in a cell, not just the last one:"
   ]
  },
  {
   "cell_type": "code",
   "execution_count": 8,
   "metadata": {},
   "outputs": [
    {
     "name": "stdout",
     "output_type": "stream",
     "text": [
      "30\n",
      "60\n"
     ]
    }
   ],
   "source": [
    "a = 10\n",
    "a = a + 20\n",
    "print(a)\n",
    "a = a + 30\n",
    "print(a)"
   ]
  },
  {
   "cell_type": "markdown",
   "metadata": {},
   "source": [
    "To illustrate how easy it is to mess up your namespace, let's create a variable named `print` and assign a value to it:"
   ]
  },
  {
   "cell_type": "code",
   "execution_count": 9,
   "metadata": {},
   "outputs": [],
   "source": [
    "print = 'no, never do this!'"
   ]
  },
  {
   "cell_type": "code",
   "execution_count": 10,
   "metadata": {},
   "outputs": [
    {
     "ename": "TypeError",
     "evalue": "'str' object is not callable",
     "output_type": "error",
     "traceback": [
      "\u001b[31m---------------------------------------------------------------------------\u001b[39m",
      "\u001b[31mTypeError\u001b[39m                                 Traceback (most recent call last)",
      "\u001b[36mCell\u001b[39m\u001b[36m \u001b[39m\u001b[32mIn[10]\u001b[39m\u001b[32m, line 1\u001b[39m\n\u001b[32m----> \u001b[39m\u001b[32m1\u001b[39m \u001b[38;5;28;43mprint\u001b[39;49m\u001b[43m(\u001b[49m\u001b[38;5;28;43mprint\u001b[39;49m\u001b[43m)\u001b[49m\n",
      "\u001b[31mTypeError\u001b[39m: 'str' object is not callable"
     ]
    }
   ],
   "source": [
    "print(print)"
   ]
  },
  {
   "cell_type": "markdown",
   "metadata": {},
   "source": [
    "That fails, as does"
   ]
  },
  {
   "cell_type": "code",
   "execution_count": 11,
   "metadata": {},
   "outputs": [
    {
     "ename": "TypeError",
     "evalue": "'str' object is not callable",
     "output_type": "error",
     "traceback": [
      "\u001b[31m---------------------------------------------------------------------------\u001b[39m",
      "\u001b[31mTypeError\u001b[39m                                 Traceback (most recent call last)",
      "\u001b[36mCell\u001b[39m\u001b[36m \u001b[39m\u001b[32mIn[11]\u001b[39m\u001b[32m, line 1\u001b[39m\n\u001b[32m----> \u001b[39m\u001b[32m1\u001b[39m \u001b[38;5;28;43mprint\u001b[39;49m\u001b[43m(\u001b[49m\u001b[32;43m10\u001b[39;49m\u001b[43m)\u001b[49m\n",
      "\u001b[31mTypeError\u001b[39m: 'str' object is not callable"
     ]
    }
   ],
   "source": [
    "print(10)"
   ]
  },
  {
   "cell_type": "markdown",
   "metadata": {},
   "source": [
    "That's because in the namespace of the current notebook, we have overwritten the function `print` with a string variable of the same name.\n",
    "\n",
    "Why is this happening? Let's first inspect the namespace. This confirms that print is of type string now, and not a function."
   ]
  },
  {
   "cell_type": "code",
   "execution_count": 12,
   "metadata": {},
   "outputs": [
    {
     "data": {
      "text/plain": [
       "str"
      ]
     },
     "execution_count": 12,
     "metadata": {},
     "output_type": "execute_result"
    }
   ],
   "source": [
    "type(print)"
   ]
  },
  {
   "cell_type": "code",
   "execution_count": 13,
   "metadata": {},
   "outputs": [
    {
     "name": "stdout",
     "output_type": "stream",
     "text": [
      "Variable             Type    Data/Info\n",
      "--------------------------------------\n",
      "a                    int     60\n",
      "n_alice_mosquitoes   int     1\n",
      "print                str     no, never do this!\n"
     ]
    }
   ],
   "source": [
    "%whos"
   ]
  },
  {
   "cell_type": "markdown",
   "metadata": {},
   "source": [
    "```{admonition} Clicker question \"namespace\"([Click me!](https://go.uos.de/kjcBV))\n",
    "\n",
    "What do you do now? \n",
    "```"
   ]
  },
  {
   "cell_type": "markdown",
   "metadata": {},
   "source": [
    "After restarting the kernel, we will see that the type of print is now \"builtin_function_or_method\":"
   ]
  },
  {
   "cell_type": "code",
   "execution_count": 2,
   "metadata": {
    "scrolled": true
   },
   "outputs": [
    {
     "data": {
      "text/plain": [
       "builtin_function_or_method"
      ]
     },
     "execution_count": 2,
     "metadata": {},
     "output_type": "execute_result"
    }
   ],
   "source": [
    "type(print)  # this will return \"builtin_function_or_method\""
   ]
  },
  {
   "cell_type": "markdown",
   "metadata": {},
   "source": [
    "```{admonition} Clicker question \"cdcc\" ([Click me!](https://go.uos.de/kjcBV))\n",
    "The code below will print four numbers. Can you predict what will be printed? \n",
    "```python\n",
    "c = 1\n",
    "print(c)\n",
    "\n",
    "d = c + 5\n",
    "print(d)\n",
    "\n",
    "print(c)\n",
    "c = c + 8\n",
    "print(c)\n",
    "```\n",
    "```"
   ]
  },
  {
   "cell_type": "markdown",
   "metadata": {},
   "source": [
    "## Spike detection with python\n",
    "\n",
    "![](voltage_trace.png)\n",
    "\n",
    "- [x] Present data in code (individual voltage values, manipulate them and store the results) - variables\n",
    "- [ ] Compare variables (voltage to threshold) - boolean values\n",
    "- [ ] Perform different actions based on the value of a variable (only keep the position if the voltage exceeds the threshold) - if-else statements\n",
    "- [ ] Present and access data in a time series of voltage values - lists\n",
    "- [ ] Perform an action for each element in a sequence of values (inspect voltage values one-by-one) - for loops\n",
    "- [ ] Separate data and logic so we can use the same code for new recordings - functions\n",
    "- [ ] Apply this to multi data files\n",
    "- [ ] Plot and save the results\n"
   ]
  },
  {
   "cell_type": "code",
   "execution_count": null,
   "metadata": {},
   "outputs": [],
   "source": []
  }
 ],
 "metadata": {
  "kernelspec": {
   "display_name": "Python 3 (ipykernel)",
   "language": "python",
   "name": "python3"
  },
  "language_info": {
   "codemirror_mode": {
    "name": "ipython",
    "version": 3
   },
   "file_extension": ".py",
   "mimetype": "text/x-python",
   "name": "python",
   "nbconvert_exporter": "python",
   "pygments_lexer": "ipython3",
   "version": "3.13.8"
  }
 },
 "nbformat": 4,
 "nbformat_minor": 4
}
