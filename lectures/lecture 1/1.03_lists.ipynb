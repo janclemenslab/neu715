{
 "cells": [
  {
   "cell_type": "markdown",
   "metadata": {},
   "source": [
    "# Lists\n",
    "## Spike detection with python\n",
    "\n",
    "![](voltage_trace.png)\n",
    "\n",
    "- [x] _Present data in code (individual voltage values, manipulate them and store the results) - variables_\n",
    "- [x] _Compare variables (voltage to threshold) - boolean values_\n",
    "- [x] _Perform different actions based on the value of a variable (only keep the position if the voltage exceeds the threshold) - if-else statements_\n",
    "- [ ] __Present and access data in a time series of voltage values - lists__\n",
    "- [ ] Perform an action for each element in a sequence of values (inspect voltage values one-by-one) - for loops\n",
    "- [ ] Separate data and logic so we can use the same code for new recordings - functions\n",
    "- [ ] Apply this to multi data files\n",
    "- [ ] Plot and save the results\n",
    "\n",
    "The core computation of the spike detection problem is solved!!\n",
    "\n",
    "Now we need to learn how to process a whole time series of voltage values! \n",
    "We could print the numbers from the text file to paper, read them, and then manually enter different values of the `voltage` variable. But this would be tedious.\n",
    "\n",
    "So far all variables hold single values - numbers or strings.\n",
    "How do we present sequences of numbers? And how do we work through a sequence and apply the spike detection to each individual value in the sequence? This is were _lists_ and _loops_ come into play..."
   ]
  },
  {
   "cell_type": "markdown",
   "metadata": {},
   "source": [
    "## Present and access data in a time series - lists\n",
    "### Making lists\n",
    "Lists hold an ordered sequence of values. The individual elements of a list are called _items_.\n",
    "\n",
    "Lists are constructed by enclosing a comma-separated sequence of items - values or variable names - with square brackets:\n",
    "```python\n",
    "my_list = [item1, item2, item3]\n",
    "```"
   ]
  },
  {
   "cell_type": "code",
   "execution_count": 1,
   "metadata": {},
   "outputs": [
    {
     "name": "stdout",
     "output_type": "stream",
     "text": [
      "[-10, -12, -23, -45, 10, -12, -23]\n"
     ]
    }
   ],
   "source": [
    "a = [-10, -12, -23, -45, 10, -12, -23]\n",
    "print(a)"
   ]
  },
  {
   "cell_type": "markdown",
   "metadata": {},
   "source": [
    "You can store, or \"collect\", multiple variables in a list.\n",
    "Do you understand what is happening here?"
   ]
  },
  {
   "cell_type": "code",
   "execution_count": 2,
   "metadata": {},
   "outputs": [
    {
     "name": "stdout",
     "output_type": "stream",
     "text": [
      "[10, -1000, 20]\n"
     ]
    }
   ],
   "source": [
    "x = 10\n",
    "y = 20\n",
    "outlier = -1_000\n",
    "\n",
    "b = [x, outlier, y]\n",
    "print(b)"
   ]
  },
  {
   "cell_type": "markdown",
   "metadata": {},
   "source": [
    "You can mix variables of different types, like numbers and text, in the same list:"
   ]
  },
  {
   "cell_type": "code",
   "execution_count": 3,
   "metadata": {},
   "outputs": [
    {
     "name": "stdout",
     "output_type": "stream",
     "text": [
      "[1, 2, 3.14, 'pi']\n"
     ]
    }
   ],
   "source": [
    "b = [1, 2, 3.14, 'pi']\n",
    "print(b)"
   ]
  },
  {
   "cell_type": "markdown",
   "metadata": {},
   "source": [
    "Lists can even contain other lists as items - this will results in a list of lists, or a so-called _nested list_:"
   ]
  },
  {
   "cell_type": "code",
   "execution_count": 4,
   "metadata": {},
   "outputs": [
    {
     "name": "stdout",
     "output_type": "stream",
     "text": [
      "elements: ['zinc', 'gold', 'radium']\n",
      "atomic numbers: [30, 79, 88]\n",
      "nested_list: [['zinc', 'gold', 'radium'], [30, 79, 88]]\n"
     ]
    }
   ],
   "source": [
    "elements = ['zinc', 'gold', 'radium']\n",
    "atomic_numbers = [30,79,88]\n",
    "nested_list = [elements, atomic_numbers]\n",
    "print('elements:', nested_list[0])\n",
    "print('atomic numbers:', nested_list[1])\n",
    "print('nested_list:', nested_list)"
   ]
  },
  {
   "cell_type": "markdown",
   "metadata": {},
   "source": [
    "You can think of a nested list like of a table, with the nested list containing to columns (in the example above: elements, atomic numbers)."
   ]
  },
  {
   "cell_type": "markdown",
   "metadata": {},
   "source": [
    "You can create empty lists (for adding items to it later) in two ways:"
   ]
  },
  {
   "cell_type": "code",
   "execution_count": 5,
   "metadata": {},
   "outputs": [],
   "source": [
    "c = []\n",
    "d = list()"
   ]
  },
  {
   "cell_type": "markdown",
   "metadata": {},
   "source": [
    "### Indexing - accessing individual elements of a list\n",
    "You can access the values of different elements of the list by enclosing an integer \"index\", which is the position of a list element, in square brackets following the name of the list variable.\n",
    "\n",
    "The index (position) of the first element is `0`, not `1`!"
   ]
  },
  {
   "cell_type": "code",
   "execution_count": 6,
   "metadata": {},
   "outputs": [
    {
     "name": "stdout",
     "output_type": "stream",
     "text": [
      "the full list: [-10, -12, -23, -45, 10, -12, -23]\n",
      "the first element (index 0): -10\n",
      "the second element (index 1): -12\n",
      "the fifth element (index 5): 10\n",
      "the last element (index -1): -23\n"
     ]
    }
   ],
   "source": [
    "a = [-10, -12, -23, -45, 10, -12, -23]\n",
    "print('the full list:', a)\n",
    "print('the first element (index 0):', a[0])\n",
    "print('the second element (index 1):', a[1])\n",
    "print('the fifth element (index 5):', a[4])\n",
    "print('the last element (index -1):', a[-1])"
   ]
  },
  {
   "cell_type": "markdown",
   "metadata": {},
   "source": [
    "Note: The index must be a positive or negative integer value! Indexing with a float throws an error:"
   ]
  },
  {
   "cell_type": "code",
   "execution_count": 7,
   "metadata": {},
   "outputs": [
    {
     "ename": "TypeError",
     "evalue": "list indices must be integers or slices, not float",
     "output_type": "error",
     "traceback": [
      "\u001b[0;31m---------------------------------------------------------------------------\u001b[0m",
      "\u001b[0;31mTypeError\u001b[0m                                 Traceback (most recent call last)",
      "Cell \u001b[0;32mIn[7], line 2\u001b[0m\n\u001b[1;32m      1\u001b[0m a \u001b[38;5;241m=\u001b[39m [\u001b[38;5;241m1235\u001b[39m, \u001b[38;5;241m31354\u001b[39m, \u001b[38;5;241m235\u001b[39m]\n\u001b[0;32m----> 2\u001b[0m \u001b[43ma\u001b[49m\u001b[43m[\u001b[49m\u001b[38;5;241;43m1.0\u001b[39;49m\u001b[43m]\u001b[49m\n",
      "\u001b[0;31mTypeError\u001b[0m: list indices must be integers or slices, not float"
     ]
    }
   ],
   "source": [
    "a = [1235, 31354, 235]\n",
    "a[1.0]"
   ]
  },
  {
   "cell_type": "markdown",
   "metadata": {},
   "source": [
    "Exercises \"Loops\" 1+2."
   ]
  },
  {
   "cell_type": "markdown",
   "metadata": {},
   "source": [
    "### Index arithmetic\n",
    "We can use variables for indexing!! This allows us to perform computations on indices.\n",
    "\n",
    "For instance, given an index, we can get the list preceeding or the following item:"
   ]
  },
  {
   "cell_type": "code",
   "execution_count": 12,
   "metadata": {},
   "outputs": [
    {
     "name": "stdout",
     "output_type": "stream",
     "text": [
      "Value at index 4 1234\n",
      "Value following index 4 14456\n",
      "Value preceeding index 4 424\n"
     ]
    }
   ],
   "source": [
    "a = [1, 12, 235, 424, 1234, 14456]\n",
    "idx = 4\n",
    "print('Value at index', idx, a[idx])\n",
    "print('Value following index', idx, a[idx+1])\n",
    "print('Value preceeding index', idx, a[idx-1])"
   ]
  },
  {
   "cell_type": "markdown",
   "metadata": {},
   "source": [
    "### Accessing parts of a list - slice indexing\n",
    "General form `list[start_index:stop_index:step]`.\n",
    "\n",
    "You can omit `start_index`, `stop_index`, or `step` and python will fill in default values:\n",
    "- default for `start_index` is 0 (first index)\n",
    "- default for `stop_index` is the last element.\n",
    "- default for `step` is 1 (get every element)\n",
    "\n",
    "Important: When specifying `stop_index` the element at the `stop_index` itself is not included."
   ]
  },
  {
   "cell_type": "code",
   "execution_count": 10,
   "metadata": {},
   "outputs": [
    {
     "name": "stdout",
     "output_type": "stream",
     "text": [
      "[1, 12, 235, 424]\n",
      "[1234, 14456]\n",
      "[1, 235, 1234]\n",
      "[12, 424, 14456]\n",
      "[12, 424]\n",
      "[14456, 424, 12]\n"
     ]
    },
    {
     "data": {
      "text/plain": [
       "[1, 12, 235, 424, 1234, 14456]"
      ]
     },
     "execution_count": 10,
     "metadata": {},
     "output_type": "execute_result"
    }
   ],
   "source": [
    "a = [1, 12, 235, 424, 1234, 14456]\n",
    "print(a[:4])\n",
    "print(a[4:])\n",
    "print(a[::2])\n",
    "print(a[1::2])\n",
    "print(a[1:4:2])\n",
    "print(a[::-2])\n"
   ]
  },
  {
   "cell_type": "markdown",
   "metadata": {},
   "source": [
    "```{admonition} Clicker question \"lists indexing\"([Click me!](https://go.uos.de/kjcBV))\n",
    "Given the list `a = [10, 20, 30, 40, 50]`, \n",
    "Which of the following outputs is correct?\n",
    "```python\n",
    "a[1] -> 10\n",
    "a[-1] -> 40\n",
    "a[::2] -> [10, 20]\n",
    "a[3:] -> [30, 40, 50]\n",
    "b = 5; a[b-2] -> 40\n",
    "```\n",
    "```"
   ]
  },
  {
   "cell_type": "markdown",
   "metadata": {},
   "source": [
    "### Getting the number of elements in a list\n",
    "The `len` function gives us the number of elements in the list, its \"length\". You use the `len` function like the `print` function - you \"call\" it by it's name \"len\" followed by its \"argument\" in parentheses: `len(name_of_list_variable)`."
   ]
  },
  {
   "cell_type": "code",
   "execution_count": null,
   "metadata": {},
   "outputs": [
    {
     "name": "stdout",
     "output_type": "stream",
     "text": [
      "[-10, -12, -23, -45, 10, -12, -23]\n",
      "A has 7 elements.\n"
     ]
    }
   ],
   "source": [
    "a = [-10, -12, -23, -45, 10, -12, -23]\n",
    "print(a)\n",
    "print(\"A has\", len(a), \"elements.\")"
   ]
  },
  {
   "cell_type": "markdown",
   "metadata": {},
   "source": [
    "However, while the `print` function did not \"return\" a result - it simply printed the input - `len` does return a result - the number of elements in the list - and we can store this number in a new variable for further computations."
   ]
  },
  {
   "cell_type": "code",
   "execution_count": null,
   "metadata": {},
   "outputs": [
    {
     "name": "stdout",
     "output_type": "stream",
     "text": [
      "7\n"
     ]
    }
   ],
   "source": [
    "length_of_a = len(a)\n",
    "print(length_of_a)"
   ]
  },
  {
   "cell_type": "markdown",
   "metadata": {},
   "source": [
    "### List manipulations\n",
    "\n",
    "#### Adding elements to a list\n",
    "To build up a list of spike times, we need to be able to add elements to a list as they are computed.\n",
    "\n",
    "This is done using the `append` method, which will add its argument to the end of the list. \n",
    "\n",
    "The `append` method is like a function. But while functions (`print`, `len`) are independent bocks of code, methods are attached to a variable. \n",
    "\n",
    "The `append` method is attached to each list variable and is used like so: `name_of_list_variable.append(new_element)`.\n",
    "\n",
    "There are many more list methods which we will not discuss - see the bonus section below."
   ]
  },
  {
   "cell_type": "code",
   "execution_count": null,
   "metadata": {},
   "outputs": [
    {
     "name": "stdout",
     "output_type": "stream",
     "text": [
      "[]\n",
      "[10.3]\n",
      "[10.3, 50.3]\n"
     ]
    }
   ],
   "source": [
    "spike_times = []  # intialize an empty list\n",
    "print(spike_times)\n",
    "time_of_first_spike = 10.3\n",
    "spike_times.append(time_of_first_spike)\n",
    "print(spike_times)\n",
    "time_of_second_spike = 50.3\n",
    "spike_times.append(time_of_second_spike)\n",
    "print(spike_times)"
   ]
  },
  {
   "cell_type": "markdown",
   "metadata": {},
   "source": [
    "#### Bonus: Adding multiple elements to a list"
   ]
  },
  {
   "cell_type": "code",
   "execution_count": 13,
   "metadata": {},
   "outputs": [
    {
     "name": "stdout",
     "output_type": "stream",
     "text": [
      "['a', 'b']\n",
      "['a', 'b', [1, 2, 3]]\n",
      "['a', 'b', [1, 2, 3], 5, 6, 7]\n"
     ]
    }
   ],
   "source": [
    "# `append` will append the list [1,2,3] as a a single element to the original list and create a nested list\n",
    "my_list = ['a','b']\n",
    "print(my_list)\n",
    "my_list.append([1, 2, 3])\n",
    "print(my_list)\n",
    "\n",
    "# `extend` will add the elements in the argument as individual elements of the list:\n",
    "my_list.extend([5, 6, 7])\n",
    "print(my_list)"
   ]
  },
  {
   "cell_type": "markdown",
   "metadata": {},
   "source": [
    "#### Deleting list elements\n",
    "We can remove elements using the `del` function with the list element we want to delete as an argument:"
   ]
  },
  {
   "cell_type": "code",
   "execution_count": 14,
   "metadata": {},
   "outputs": [
    {
     "name": "stdout",
     "output_type": "stream",
     "text": [
      "[10, 20, 30, 40]\n",
      "[10, 30, 40]\n"
     ]
    }
   ],
   "source": [
    "my_list = [10, 20, 30, 40]\n",
    "print(my_list)\n",
    "del(my_list[1])\n",
    "print(my_list)"
   ]
  },
  {
   "cell_type": "markdown",
   "metadata": {},
   "source": [
    "```{admonition} Clicker question \"lists manipulations 1\"([Click me!](https://go.uos.de/kjcBV))\n",
    "What is the length of the list names at the end of this code?\n",
    "```python\n",
    "names = ['Toby', 'Goby', 'Moby']\n",
    "names.append('Roby')\n",
    "del(names[1])\n",
    "```\n",
    "```"
   ]
  },
  {
   "cell_type": "markdown",
   "metadata": {},
   "source": [
    "```{admonition} Clicker question \"lists manipulations 2\"([Click me!](https://go.uos.de/kjcBV))\n",
    "What will be printed at the end of this code?\n",
    "```python\n",
    "names = ['Toby', 'Goby', 'Moby']\n",
    "names.append('Roby')\n",
    "del(names[1])\n",
    "\n",
    "print(names[1])\n",
    "```\n",
    "```"
   ]
  },
  {
   "cell_type": "markdown",
   "metadata": {},
   "source": [
    "#### Bonus: More list functions\n",
    "https://docs.python.org/3/tutorial/datastructures.html\n",
    "\n",
    "```python\n",
    "pop(index)  # return and remove indexed or if arg is omitted, the last element\n",
    "append(value)  # add single value to list\n",
    "extend([val1, val2])  # add elements of a list as individual elements to a list\n",
    "insert(index, value)  # insert value at index\n",
    "remove(value)  # remove item by value\n",
    "del(list[index])  # remove item by index\n",
    "index(value)  # get first index of value\n",
    "sort(list, reverse=False)  # sort the list in-place - returns None\n",
    "sorted(list)  # return sorted copy of the list without changing the original one\n",
    "value in list  # value if item is in list\n",
    "```"
   ]
  },
  {
   "cell_type": "markdown",
   "metadata": {},
   "source": [
    "## Spike detection with python\n",
    "\n",
    "![](voltage_trace.png)\n",
    "\n",
    "- [x] _Present data in code (individual voltage values, manipulate them and store the results) - variables_\n",
    "- [x] _Compare variables (voltage to threshold) - boolean values_\n",
    "- [x] _Perform different actions based on the value of a variable (only keep the position if the voltage exceeds the threshold) - if-else statements_\n",
    "- [x] _Present and access data in a time series of voltage values - lists_\n",
    "- [ ] Perform an action for each element in a sequence of values (inspect voltage values one-by-one) - for loops\n",
    "- [ ] Separate data and logic so we can use the same code for new recordings - functions\n",
    "- [ ] Apply this to multi data files\n",
    "- [ ] Plot and save the results\n"
   ]
  }
 ],
 "metadata": {
  "kernelspec": {
   "display_name": "Python 3 (ipykernel)",
   "language": "python",
   "name": "python3"
  },
  "language_info": {
   "codemirror_mode": {
    "name": "ipython",
    "version": 3
   },
   "file_extension": ".py",
   "mimetype": "text/x-python",
   "name": "python",
   "nbconvert_exporter": "python",
   "pygments_lexer": "ipython3",
   "version": "3.12.7"
  }
 },
 "nbformat": 4,
 "nbformat_minor": 4
}
