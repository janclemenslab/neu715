{
 "cells": [
  {
   "cell_type": "markdown",
   "metadata": {},
   "source": [
    "# Loops\n",
    "## Spike detection with python\n",
    "\n",
    "![](voltage_trace.png)\n",
    "\n",
    "- [x] _Present data in code (individual voltage values, manipulate them and store the results) - variables_\n",
    "- [x] _Compare variables (voltage to threshold) - boolean values_\n",
    "- [x] _Perform different actions based on the value of a variable (only keep the position if the voltage exceeds the threshold) - if-else statements_\n",
    "- [x] _Present and access data in a time series of voltage values - lists_\n",
    "- [ ] __Perform an action for each element in a sequence of values (inspect voltage values one-by-one) - for loops__\n",
    "- [ ] Separate data and logic so we can use the same code for new recordings - functions\n",
    "- [ ] Apply this to multi data files\n",
    "- [ ] Plot and save the results\n"
   ]
  },
  {
   "cell_type": "markdown",
   "metadata": {},
   "source": [
    "## Warm-up\n",
    "To warm up, let's do a little exercise.\n",
    "\n",
    "Here is a list: `my_list = [10, 20, 30, 40, 50]`\n",
    "\n",
    "Write code that divides each value in this list by 2 and prints the computed value."
   ]
  },
  {
   "cell_type": "code",
   "execution_count": 47,
   "metadata": {},
   "outputs": [],
   "source": [
    "my_list = [10, 20, 30, 40, 50]\n",
    "# your solution here"
   ]
  },
  {
   "cell_type": "markdown",
   "metadata": {},
   "source": [
    "## Applying computations to list items using for-loops\n",
    "In the above code, the only thing that changes is the index.\n",
    "\n",
    "We can re-write this much more succinctly using a for-loop:"
   ]
  },
  {
   "cell_type": "code",
   "execution_count": null,
   "metadata": {},
   "outputs": [
    {
     "name": "stdout",
     "output_type": "stream",
     "text": [
      "10\n",
      "20\n",
      "30\n",
      "40\n",
      "50\n"
     ]
    }
   ],
   "source": [
    "my_list = [10, 20, 30, 40, 50]\n",
    "indices = [0, 1, 2, 3, 4]  # create a list with the indices of the items you want to work with\n",
    "\n",
    "for index in indices:  # \"loop\" over the list `indices`, one element at a time; at each step, 'index' holds the current number from 'indices'\n",
    "    # the indented block is what is execute at each step of the loop\n",
    "    item = my_list[index]  # use 'index' to access  the corresponding item from 'my_list'\n",
    "    print(item)  # print the list item"
   ]
  },
  {
   "cell_type": "markdown",
   "metadata": {},
   "source": [
    "What is going on here:\n",
    "- we define a variable called `my_list` as a list of 5 numbers: 10, 20, 30, 40, 50\n",
    "- we define another variable called `indices` as a list of 5 numbers: 0, 1, 2, 3, 4. We want to use this list as indices to access the items in `my_list`.\n",
    "- `for index in indices` does the following:\n",
    "    - it creates a variable called `index` (the loop variable). the loop variable can have any name.\n",
    "    - the for loop goes through the list, element by element and in each step (\"for each element\") it does the following:\n",
    "        - set the value of the `indices` variable to the current element (in the first step, the curent element is the first element in `indices`, in the second step, it is the second element in `indices` etc.)\n",
    "        - execute the indented block (in this case, access the list element at `index`, and print the value of `item`)\n",
    "    - repeat this until the end of the list is reached\n"
   ]
  },
  {
   "cell_type": "markdown",
   "metadata": {},
   "source": [
    "```{admonition} Clicker question \"indentation\"([Click me!](https://go.uos.de/kjcBV))\n",
    "\n",
    "Q: How often times will \"Test\" be printed when running below code? Never? Once? 5 times?\n",
    "\n",
    "```python\n",
    "my_list = [10, 20, 30, 40, 50]\n",
    "indices = [0, 1, 2, 3, 4]\n",
    "\n",
    "for index in indices:\n",
    "    item = my_list[index]\n",
    "    print(item)\n",
    "print('Test')\n",
    "```\n",
    "```"
   ]
  },
  {
   "cell_type": "markdown",
   "metadata": {},
   "source": [
    "Note how we isolate the code that is repeated, and replace what changes with a variable. This makes the code more general. That way, we can apply our computation, like comparing a voltage to a threshold, for every list element.\n",
    "\n",
    "_Mini-Exercise_: To illustrate how the for loop works, we can print not only the item but also the index used to access the item in each step of the loop. Modify the code above to do that.\n",
    "\n",
    "## Generating indices using range objects\n",
    "Above, we generate the list of indices by hand. This is a bit tedious if we have a long lists with thousands of elements, like a voltage recording. The `range` function does that for you. In it's simplest form, it takes an integer as an argument, and produces a range-object that can be used with a for loop to produces a series of integers:"
   ]
  },
  {
   "cell_type": "code",
   "execution_count": 55,
   "metadata": {},
   "outputs": [
    {
     "name": "stdout",
     "output_type": "stream",
     "text": [
      "Item: 10\n",
      "Item: 20\n",
      "Item: 30\n",
      "Item: 40\n",
      "Item: 50\n"
     ]
    }
   ],
   "source": [
    "indices = range(5)  # this is equivalent to `[0, 1, 2, 3, 4]\n",
    "for index in indices:\n",
    "    print(\"Item:\", my_list[index])"
   ]
  },
  {
   "cell_type": "markdown",
   "metadata": {},
   "source": [
    "Tip: It can be hard to learn about a range-object, since printing it does not return the indices it will generate. To do so, cast the range-object to a list and print it:"
   ]
  },
  {
   "cell_type": "code",
   "execution_count": 56,
   "metadata": {},
   "outputs": [
    {
     "name": "stdout",
     "output_type": "stream",
     "text": [
      "[0, 1, 2, 3, 4]\n"
     ]
    }
   ],
   "source": [
    "indices = range(5)  # this is equivalent to `[0, 1, 2, 3, 4]\n",
    "print(list(indices))"
   ]
  },
  {
   "cell_type": "markdown",
   "metadata": {},
   "source": [
    "\n",
    "\n",
    "Note that range works a bit like indexing: It starts at zero, and ends before the argument. `range(5)` produces integers starting at 0 and ending with 4. To generate a range-object with as many indices as in our current list, we can provide `len(my_list)` as the argument to range. This will produces indices ending with the index of the last element of our list:"
   ]
  },
  {
   "cell_type": "code",
   "execution_count": 57,
   "metadata": {},
   "outputs": [
    {
     "name": "stdout",
     "output_type": "stream",
     "text": [
      "Item: 10\n",
      "Item: 20\n",
      "Item: 30\n",
      "Item: 40\n",
      "Item: 50\n"
     ]
    }
   ],
   "source": [
    "length_of_list = len(my_list)\n",
    "indices = range(length_of_list)\n",
    "for index in indices:\n",
    "    print(\"Item:\", my_list[index])"
   ]
  },
  {
   "cell_type": "markdown",
   "metadata": {},
   "source": [
    "Instead of simply printing the list elements, we can do any computation in the indented code block:"
   ]
  },
  {
   "cell_type": "code",
   "execution_count": 58,
   "metadata": {},
   "outputs": [
    {
     "name": "stdout",
     "output_type": "stream",
     "text": [
      "Result: 5.0\n",
      "Result: 10.0\n",
      "Result: 15.0\n",
      "Result: 20.0\n",
      "Result: 25.0\n"
     ]
    }
   ],
   "source": [
    "length_of_list = len(my_list)\n",
    "indices = range(length_of_list)\n",
    "for index in indices:\n",
    "    result = my_list[index] / 2\n",
    "    print(\"Result:\", result)"
   ]
  },
  {
   "cell_type": "markdown",
   "metadata": {},
   "source": [
    "```{admonition} Clicker question \"range 1\"([Click me!](https://go.uos.de/kjcBV))\n",
    "What list does `list(range(3))` generate?\n",
    "```"
   ]
  },
  {
   "cell_type": "markdown",
   "metadata": {},
   "source": [
    "```{admonition} Clicker question \"range 2\"([Click me!](https://go.uos.de/kjcBV))\n",
    "Which range statement can be used to create the list `[1, 3, 5]`?\n",
    "```"
   ]
  },
  {
   "cell_type": "markdown",
   "metadata": {},
   "source": [
    "Exercises \"For loops\" 1-4."
   ]
  },
  {
   "cell_type": "markdown",
   "metadata": {},
   "source": [
    "## Generating more flexible ranges\n",
    "So far, we have learned to use the range function to generate range-objects, by specifying the end: `range(stop)` will generate a range-object with indices starting at 0 and ending with stop-1.\n",
    "\n",
    "However, there are two more ways to range: \n",
    "1. Specifying not only the end but also the start: `range(start, stop)`\n",
    "1. Specifying the start, the end, and a step size: `range(start, stop, step)`"
   ]
  },
  {
   "cell_type": "code",
   "execution_count": 59,
   "metadata": {},
   "outputs": [],
   "source": [
    "range(5)  # stop=5: [0, 1, 2, 3, 4]\n",
    "range(2, 5)  # start=2, stop=5: [2, 3, 4]\n",
    "range(0, 5, 2);  # start=0, stop=5, step=2: [0, 2, 4]"
   ]
  },
  {
   "cell_type": "markdown",
   "metadata": {},
   "source": [
    "Exercise \"Loops\" 5-7."
   ]
  },
  {
   "cell_type": "markdown",
   "metadata": {},
   "source": [
    "## An alternative way of using for loops\n",
    "Above, we have used range objects to generate indices to access list elements in a for loop."
   ]
  },
  {
   "cell_type": "code",
   "execution_count": 63,
   "metadata": {},
   "outputs": [
    {
     "name": "stdout",
     "output_type": "stream",
     "text": [
      "0 10\n",
      "1 20\n",
      "2 30\n",
      "3 40\n"
     ]
    }
   ],
   "source": [
    "my_list = [10, 20, 30, 40]\n",
    "indices = [0, 1, 2, 3]\n",
    "\n",
    "for index in indices:\n",
    "    item = my_list[index]\n",
    "    print(index, item)"
   ]
  },
  {
   "cell_type": "markdown",
   "metadata": {},
   "source": [
    "Note above, that we access the elements of `indices`, one after the other, in the for loop. We then use the indices, to access the elements of `my_list`.\n",
    "You may wonder: Way don't we access the elements of `my_list` directly in the for loop:"
   ]
  },
  {
   "cell_type": "code",
   "execution_count": 66,
   "metadata": {},
   "outputs": [
    {
     "name": "stdout",
     "output_type": "stream",
     "text": [
      "10\n",
      "20\n",
      "30\n",
      "40\n"
     ]
    }
   ],
   "source": [
    "my_list = [10, 20, 30, 40]\n",
    "\n",
    "for item in my_list:\n",
    "    print(item)"
   ]
  },
  {
   "cell_type": "markdown",
   "metadata": {},
   "source": [
    "This is the standard way of accessing list elements using for loops in python. Range objects are typically used only if the index is needed for the computation. We will encounter these cases below. One example: When spike sorting, we want to compare each voltage value in our list of voltages to a threshold. In that case, we don't care about the voltage value itself (=spike amplituge), but about the times (=indices) the threshold was crossed. In that case, you would need to use a range object. You can use either way of accessing list elements, using ranges or directly, whatever you find easier."
   ]
  },
  {
   "cell_type": "markdown",
   "metadata": {},
   "source": [
    "## Different ways of looping over lists\n",
    "### Directly over the elements\n",
    "So far, we have looped directly over list elements:"
   ]
  },
  {
   "cell_type": "code",
   "execution_count": 73,
   "metadata": {},
   "outputs": [
    {
     "name": "stdout",
     "output_type": "stream",
     "text": [
      "Tom\n",
      "Yolanda\n",
      "Estelle\n"
     ]
    }
   ],
   "source": [
    "names = ['Tom', 'Yolanda', 'Estelle']\n",
    "for name in names:\n",
    "    print(name)"
   ]
  },
  {
   "cell_type": "markdown",
   "metadata": {},
   "source": [
    "### Using indices"
   ]
  },
  {
   "cell_type": "code",
   "execution_count": 74,
   "metadata": {},
   "outputs": [
    {
     "name": "stdout",
     "output_type": "stream",
     "text": [
      "0 Tom\n",
      "1 Yolanda\n",
      "2 Estelle\n"
     ]
    }
   ],
   "source": [
    "names = ['Tom', 'Yolanda', 'Estelle']\n",
    "for index in range(len(names)):  # loop over the indices\n",
    "    name = names[index]  # get the current name using the index\n",
    "    print(index, name)"
   ]
  },
  {
   "cell_type": "markdown",
   "metadata": {},
   "source": [
    "```{admonition} Clicker question \"for loops 1\"([Click me!](https://go.uos.de/kjcBV))\n",
    "What is the output of this code?\n",
    "```python\n",
    "my_list = [1,4,12]\n",
    "for number in my_list:\n",
    "    print(number - 1)\n",
    "```\n",
    "```"
   ]
  },
  {
   "cell_type": "markdown",
   "metadata": {},
   "source": [
    "### Bonus: Nested loops\n",
    "For loops can be nested - indentation matters:"
   ]
  },
  {
   "cell_type": "code",
   "execution_count": 72,
   "metadata": {},
   "outputs": [
    {
     "name": "stdout",
     "output_type": "stream",
     "text": [
      "outer 10\n",
      "   inner 10 A\n",
      "   inner 10 B\n",
      "   inner 10 C\n",
      "outer 20\n",
      "   inner 20 A\n",
      "   inner 20 B\n",
      "   inner 20 C\n",
      "outer 30\n",
      "   inner 30 A\n",
      "   inner 30 B\n",
      "   inner 30 C\n"
     ]
    }
   ],
   "source": [
    "for outer in [10, 20, 30]:\n",
    "    print('outer', outer)\n",
    "    for inner in ['A', 'B', 'C']:\n",
    "        print('   inner', outer, inner)"
   ]
  },
  {
   "cell_type": "markdown",
   "metadata": {},
   "source": [
    "Sidenote: Because `for` and `in` are reserved words to run for loops, they are not valid variable names. Trying to create variables with those names, like `for = 10` or `in = \"yes\"`, will produce an error!!"
   ]
  },
  {
   "cell_type": "markdown",
   "metadata": {},
   "source": [
    "## Common code patterns\n",
    "### Building lists\n",
    "So far we were able to manipulate list elements and print the result, but we did not have a way of saving the manipulated elements in a new list. You can do that by appending the results to a new empty list in the for loop:"
   ]
  },
  {
   "cell_type": "code",
   "execution_count": 4,
   "metadata": {},
   "outputs": [
    {
     "name": "stdout",
     "output_type": "stream",
     "text": [
      "data: [10, 20, 30]\n",
      "results: [1.0, 2.0, 3.0]\n"
     ]
    }
   ],
   "source": [
    "# Goal: divide by ten each element in the list \"data\", collect the results in a new list \"new_data\"\n",
    "data = [10, 20, 30]\n",
    "print('data:', data)\n",
    "\n",
    "# create an empty list that we will append the results to\n",
    "new_data = []\n",
    "\n",
    "# loop over all elements in data\n",
    "for item in data:\n",
    "    result = item / 10  # divide each list element by 10\n",
    "    new_data.append(result)  # append the result to the `new_data` list\n",
    "\n",
    "print('results:', new_data)"
   ]
  },
  {
   "cell_type": "markdown",
   "metadata": {},
   "source": [
    "__Important:__ `append` modifies the list in-place, it does not return a new list. This _DOES NOT WORK_: ` a = b.append(c)`"
   ]
  },
  {
   "cell_type": "markdown",
   "metadata": {},
   "source": [
    "### Filtering lists\n",
    "Append the results to a new list using a for loop _if they match a criterion_:"
   ]
  },
  {
   "cell_type": "code",
   "execution_count": 7,
   "metadata": {},
   "outputs": [
    {
     "name": "stdout",
     "output_type": "stream",
     "text": [
      "numbers: [1, 15, 3, 2, 11, 7, 20]\n",
      "[1, 3, 2, 7]\n"
     ]
    }
   ],
   "source": [
    "numbers = [1, 15, 3, 2, 11, 7, 20]\n",
    "print('numbers:', numbers)\n",
    "\n",
    "# create an empty list that we will append the results to\n",
    "results = []\n",
    "\n",
    "# loop over all elements in numbers\n",
    "for number in numbers:\n",
    "    if number < 10:  # if the current number is <10\n",
    "        results.append(number)  # add the number to our results list\n",
    "print(results)"
   ]
  },
  {
   "cell_type": "markdown",
   "metadata": {},
   "source": [
    "```{admonition} Clicker question \"filtering\"([Click me!](https://go.uos.de/kjcBV))\n",
    "What is the content of big_numbers at the end of this code?\n",
    "```python\n",
    "all_numbers = [1,12,4,19,28]\n",
    "big_numbers = []\n",
    "\n",
    "for number in my_list:\n",
    "    if number > 10:\n",
    "        big_numbers.append(number)\n",
    "print(big_numbers)\n",
    "```\n",
    "```"
   ]
  },
  {
   "cell_type": "markdown",
   "metadata": {},
   "source": [
    "## While loops\n",
    "For loops are great if you have a pre-specified list of items and you want to do something with each item. Or if you have a computation and want to run it a fixed amount of times. However, sometimes you do not know beforehand how often you need to run a computation or you have an unspecified amount of items you need to work through. \n",
    "\n",
    "So-called _while loops_ allow you to apply a computation as long as a specified condition is met. While loops have the following form:\n",
    "```python\n",
    "while CONDITION:\n",
    "    do something\n",
    "```\n",
    "\n",
    "For instance, we can use a while loop to count down to zero:"
   ]
  },
  {
   "cell_type": "code",
   "execution_count": 3,
   "metadata": {},
   "outputs": [
    {
     "name": "stdout",
     "output_type": "stream",
     "text": [
      "10\n",
      "9\n",
      "8\n",
      "7\n",
      "6\n",
      "5\n",
      "4\n",
      "3\n",
      "2\n",
      "1\n",
      "0\n"
     ]
    }
   ],
   "source": [
    "count = 10\n",
    "\n",
    "while count > 0:  # apply the indented code as long as the value of `count` is greater than 0\n",
    "    print(count)\n",
    "    count = count - 1\n",
    "\n",
    "print(count)"
   ]
  },
  {
   "cell_type": "markdown",
   "metadata": {},
   "source": [
    "## Bonus content\n",
    "### List comprehensions\n",
    "We very often encounter code that applies a function to list elements and appends the results ina new list using a for loop:"
   ]
  },
  {
   "cell_type": "code",
   "execution_count": 1,
   "metadata": {},
   "outputs": [],
   "source": [
    "numbers = [123, 423, 540]\n",
    "\n",
    "results = []\n",
    "for number in numbers:\n",
    "    results.append(number / 2)"
   ]
  },
  {
   "cell_type": "markdown",
   "metadata": {},
   "source": [
    "List comprehensions are a way to write code like this more concisely:"
   ]
  },
  {
   "cell_type": "code",
   "execution_count": 2,
   "metadata": {},
   "outputs": [],
   "source": [
    "results = [number / 2 for number in numbers]"
   ]
  },
  {
   "cell_type": "markdown",
   "metadata": {},
   "source": [
    "### Iterating over multiple lists in parallel using `zip`\n",
    "If we want to iterate over two lists in parallel, we can use indices produced by `range` to index into the different lists:"
   ]
  },
  {
   "cell_type": "code",
   "execution_count": 5,
   "metadata": {},
   "outputs": [
    {
     "name": "stdout",
     "output_type": "stream",
     "text": [
      "Tom 14\n",
      "Ada 16\n",
      "Jon 12\n"
     ]
    }
   ],
   "source": [
    "names = ['Tom', 'Ada', 'Jon']\n",
    "ages = [14, 16, 12]\n",
    "\n",
    "for index in range(len(names)):\n",
    "    print(names[index], ages[index])"
   ]
  },
  {
   "cell_type": "markdown",
   "metadata": {},
   "source": [
    "`zip` allows you to do that directly without having to use indices. Zip returns in each iteration a tuple of the individual list elemens:"
   ]
  },
  {
   "cell_type": "code",
   "execution_count": 10,
   "metadata": {},
   "outputs": [
    {
     "name": "stdout",
     "output_type": "stream",
     "text": [
      "Tom 14\n",
      "Ada 16\n",
      "Jon 12\n"
     ]
    }
   ],
   "source": [
    "names = ['Tom', 'Ada', 'Jon']\n",
    "ages = [14, 16, 12]\n",
    "\n",
    "for name, age in zip(names, ages):\n",
    "    print(name, age)"
   ]
  },
  {
   "cell_type": "markdown",
   "metadata": {},
   "source": [
    "### Getting list indices and list elements in a for loop using enumerate\n",
    "If you need both the list indices and the elements, you can again use range:"
   ]
  },
  {
   "cell_type": "code",
   "execution_count": 11,
   "metadata": {},
   "outputs": [
    {
     "name": "stdout",
     "output_type": "stream",
     "text": [
      "0 Tom\n",
      "1 Ada\n",
      "2 Jon\n"
     ]
    }
   ],
   "source": [
    "names = ['Tom', 'Ada', 'Jon']\n",
    "\n",
    "for index in range(len(names)):\n",
    "    print(index, names[index])"
   ]
  },
  {
   "cell_type": "markdown",
   "metadata": {},
   "source": [
    "`enumerate` returns  can be more concise, since it returns a tuple of the index and the element in each iteration:"
   ]
  },
  {
   "cell_type": "code",
   "execution_count": 12,
   "metadata": {},
   "outputs": [
    {
     "name": "stdout",
     "output_type": "stream",
     "text": [
      "0 Tom\n",
      "1 Ada\n",
      "2 Jon\n"
     ]
    }
   ],
   "source": [
    "names = ['Tom', 'Ada', 'Jon']\n",
    "\n",
    "for index, name in enumerate(names):\n",
    "    print(index, name)"
   ]
  },
  {
   "cell_type": "markdown",
   "metadata": {},
   "source": [
    "## Spike detection using python\n",
    "\n",
    "![](voltage_trace.png)\n",
    "\n",
    "- [x] Present data in code (individual voltage values, manipulate them and store the results) - variables\n",
    "- [x] Compare variables (voltage to threshold) - boolean values\n",
    "- [x] Perform different actions based on the value of a variable (only keep the position if the voltage exceeds the threshold) - if-else statements\n",
    "- [x] Present and access data in a time series of voltage values - lists\n",
    "- [x] Perform an action for each element in a sequence of values (inspect voltage values one-by-one) - for loops\n",
    "\n",
    "Now you can write your spike detector!!\n",
    "\n",
    "Next steps:\n",
    "- [ ] Separate data and logic so we can use the same code for new recordings - functions\n",
    "- [ ] Apply this to multi data files\n",
    "- [ ] Plot and save the results\n",
    "- [ ] Make everything more efficient and robust using numeric computation libraries (numpy, scipy)\n"
   ]
  }
 ],
 "metadata": {
  "kernelspec": {
   "display_name": "neu715",
   "language": "python",
   "name": "python3"
  },
  "language_info": {
   "codemirror_mode": {
    "name": "ipython",
    "version": 3
   },
   "file_extension": ".py",
   "mimetype": "text/x-python",
   "name": "python",
   "nbconvert_exporter": "python",
   "pygments_lexer": "ipython3",
   "version": "3.12.7"
  }
 },
 "nbformat": 4,
 "nbformat_minor": 4
}
