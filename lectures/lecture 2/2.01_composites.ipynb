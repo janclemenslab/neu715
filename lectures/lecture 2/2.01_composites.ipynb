{
 "cells": [
  {
   "cell_type": "markdown",
   "metadata": {},
   "source": [
    "# Tuples and dictionaries\n",
    "Lists are also called _collections_, because they are a collection of different things.\n",
    "\n",
    "Python has more types of collections:\n",
    "- `tuple` - read-only (immutable) variant of a list. Functions that return multiple results return them as tuples. Rarely used.\n",
    "- `dict` - dictionary, for non-ordered collections, like phone books. Consists of key-value pairs (in a phone book: names are the keys, the phone numbers the values). Keys act as indices, but in contrast to lists, are unordered and can be of arbitrary type, for instance, strings. Dictionaries are also called \"mappings\" since they maps keys to values.\n",
    "\n",
    "## Tuples\n",
    "Tuples can be created by enclosing tuple items in parentheses (not square brackets as for lists):\n",
    "```python\n",
    "a_tuple = (1, 2, 3, 4)\n",
    "```\n",
    "\n",
    "__Caution__: The parentheses are pure decoration - it's the comma that makes a tuple. For instance, a trailing comma after a value is sufficient to generate a tuple - this is a frequent cause for bugs. But always use parentheses to clearly indicate in your code that you are defining a tuple!"
   ]
  },
  {
   "cell_type": "code",
   "execution_count": 9,
   "metadata": {},
   "outputs": [
    {
     "data": {
      "text/plain": [
       "((1,), tuple)"
      ]
     },
     "execution_count": 9,
     "metadata": {},
     "output_type": "execute_result"
    }
   ],
   "source": [
    "# a_tuple = 1,2  # this may look like the float 1.2 to some of you\n",
    "# print(type(a_tuple), a_tuple)\n",
    "\n",
    "# also_a_tuple = 1,  # note the trailing comma after 1\n",
    "# print(type(also_a_tuple), also_a_tuple)\n",
    "\n",
    "# clearly_a_tuple = (10, 20)  # always use parentheses\n",
    "# print(type(clearly_a_tuple), clearly_a_tuple)\n",
    "\n",
    "a_tuple = 1\n"
   ]
  },
  {
   "cell_type": "markdown",
   "metadata": {},
   "source": [
    "Tuples are immutable - you cannot change its values, append to it, or delete from it:"
   ]
  },
  {
   "cell_type": "code",
   "execution_count": 16,
   "metadata": {},
   "outputs": [
    {
     "data": {
      "text/plain": [
       "5"
      ]
     },
     "execution_count": 16,
     "metadata": {},
     "output_type": "execute_result"
    }
   ],
   "source": [
    "a_tuple = (1, 2, 3, 2, 4)\n",
    "\n",
    "len(a_tuple)"
   ]
  },
  {
   "cell_type": "markdown",
   "metadata": {},
   "source": [
    "Tuples behave more or less like immutable lists: Just as with lists, you can obtain the number of elements in a tuple with the `len` function: `len(a_tuple)`. Indexing works for tuples works the same as for lists, using square brackets: `a_tuple[0]` will return the first element of the tuple.\n",
    "\n",
    "If you need to change the content of a tuple, cast it to a list:"
   ]
  },
  {
   "cell_type": "code",
   "execution_count": 19,
   "metadata": {},
   "outputs": [
    {
     "name": "stdout",
     "output_type": "stream",
     "text": [
      "<class 'list'>\n"
     ]
    }
   ],
   "source": [
    "a_tuple = (1, 2, 3, 2, 4)\n",
    "list_from_tuple = list(a_tuple)  # cast tuple to list\n",
    "print(type(list_from_tuple))\n",
    "\n",
    "list_from_tuple[3] = 100  # this works"
   ]
  },
  {
   "cell_type": "markdown",
   "metadata": {},
   "source": [
    "```{admonition} Clicker question \"tuples and sets 1\" ([Click me!](https://go.uos.de/kjcBV))\n",
    "What is the output of this code?\n",
    "```python\n",
    "my_set = (1, 12, 4, 19, 28)\n",
    "my_set[2] = 40\n",
    "print(my_set)\n",
    "```\n",
    "```"
   ]
  },
  {
   "cell_type": "markdown",
   "metadata": {},
   "source": [
    "## Dictionaries\n",
    "Dictionaries are quite useful for representing data that is not an ordered sequence of elements but that links two different sets of elements, like names and phone numbers, of animal ids and test scores.\n",
    "\n",
    "Dictionaries can hold any value, like a list.\n",
    "Unlike lists, they can have arbitrary indices, like strings or floats, not just integers.\n",
    "\n",
    "They consist of `key:value` pairs, where both the key and the value can be almost any python object (numbers, strings, tuples (but not lists)). \n",
    "\n",
    "Create with `{key1: value1, key2: value2, ...}`.\n",
    "\n",
    "Access the values by using the key as an index `my_dict[`key_name`]`\n",
    "\n",
    "Assign new keys or overwrite existing keys in an existing dictionary simply by assignment: `my_dict['new_or_existing_key'] = new_value`\n",
    "\n",
    "Delete key:value pairs with `del(my_dict['key_name'])`\n"
   ]
  },
  {
   "cell_type": "code",
   "execution_count": 23,
   "metadata": {},
   "outputs": [
    {
     "name": "stdout",
     "output_type": "stream",
     "text": [
      "{'Tom': 125324123, 'Alice': 432246234}\n",
      "{'Tom': 99999999, 'Alice': 432246234}\n",
      "{'Tom': 99999999, 'Alice': 432246234, 'Bob': 46347347}\n",
      "{'Tom': 99999999, 'Alice': 432246234}\n"
     ]
    }
   ],
   "source": [
    "# A phone book can be represented as two \"parallel\" lists - one with the names, and one with the phone numbers\n",
    "names = ['Tom', 'Alice']\n",
    "phone_numbers = [125324123, 432246234]\n",
    "\n",
    "# We can represent the same data using a dictionary, with names as keys, and phone numbers as values\n",
    "phone_book = {'Tom': 125324123, 'Alice': 432246234}\n",
    "print(phone_book)\n",
    "# Access values using the key as in inside inside brackets\n",
    "phone_book['Tom']\n",
    "\n",
    "# Change values of existing keys:\n",
    "phone_book['Tom'] = 99999999\n",
    "print(phone_book)\n",
    "\n",
    "# Add new keys to an existing dictionary:\n",
    "phone_book['Bob'] = 46347347\n",
    "print(phone_book)\n",
    "\n",
    "# Delete a key:value pair\n",
    "del(phone_book['Bob'])\n",
    "print(phone_book)\n",
    "\n"
   ]
  },
  {
   "cell_type": "markdown",
   "metadata": {},
   "source": [
    "### Why are dictionaries useful?\n",
    "First, dictionaries allow you to link to related datasets, like names and phone numbers, or animal names and behavioral scores.\n",
    "\n",
    "Second, it makes code more clear and readable, because dictionaires allow you to access data using keys as more meaningful indices. With a list, you can only use integers as indices. The integer corresponds to the position of the item in the list:\n",
    "```python\n",
    "phone_numbers = [125324123, 432246234]\n",
    "phone_numbers[0]  #  unclear who this number belongs to\n",
    "```\n",
    "\n",
    "But for a phone number, the important thing is the owner's name, not where in the list it exists. With dictionaries, you can use the name as an \"index\" - the key. The meaning of the value in the dictionary is obvious from the code because it is made explicit:\n",
    "```python\n",
    "phone_book = {'Tom': 125324123, 'Alice': 432246234}\n",
    "phone_book['Tom']  # this is clearly Tom's phone number\n",
    "```"
   ]
  },
  {
   "cell_type": "markdown",
   "metadata": {},
   "source": [
    "### Looping over key/value pairs in a dictionary:\n",
    "Using the `items()` method attached to a dictionary in a for loop allows you to iterate over key:value pairs:\n",
    "```Python\n",
    "for key, value in my_dict.items():\n",
    "    do_stuff\n",
    "```"
   ]
  },
  {
   "cell_type": "code",
   "execution_count": 37,
   "metadata": {},
   "outputs": [
    {
     "name": "stdout",
     "output_type": "stream",
     "text": [
      "Tom 123\n",
      "Alice 246234\n",
      "Yolanda 110\n"
     ]
    }
   ],
   "source": [
    "phone_book = {'Tom': 123, 'Alice': 246234, 'Yolanda': 110}\n",
    "\n",
    "for key, val in phone_book.items():\n",
    "    print(key, val)\n"
   ]
  },
  {
   "cell_type": "markdown",
   "metadata": {},
   "source": [
    "```{admonition} Clicker question \"composites all\" ([Click me!](https://go.uos.de/kjcBV))\n",
    "Which of these statements will fail?\n",
    "```python\n",
    "a = [1,12,4,19,28, 54]; a[10] = 4\n",
    "a = (1,12,4,19,28, 54); a[10] = 4\n",
    "a = {1,12,4,19,28, 54}; a[10] = 4\n",
    "a = {1: 12, 4: 19, 28: 54]; a[10] = 4\n",
    "```\n",
    "```"
   ]
  },
  {
   "cell_type": "markdown",
   "metadata": {},
   "source": [
    "### Bonus: Useful dict functions\n",
    "```python\n",
    "my_dict = {}  # create an empty dict called my_dict\n",
    "my_dict[key] = new_value  # adds new and overwrites existing key:value pair\n",
    "my_dict.update(other_my_dict)  # \"merge\" two dictionaries, adds new and overwrites existing key:value pairs\n",
    "key in my_dict  # check if a key is in the dictionary\n",
    "my_dict.keys()  # \"view\" of all keys in the dictionary, can cast to list\n",
    "my_dict.values()  # \"view\" of all values in the dictionary, can cast to list\n",
    "del my_dict[key] # remove key:value pair, indexed by \"key\"\n",
    "```"
   ]
  },
  {
   "cell_type": "code",
   "execution_count": 23,
   "metadata": {},
   "outputs": [
    {
     "name": "stdout",
     "output_type": "stream",
     "text": [
      "dict_keys(['Tom', 'Alice', 'Yolanda']) dict_values([123, 246234, 110])\n",
      "False\n",
      "{'Tom': 984703, 'Alice': 246234, 'Yolanda': 110, 'Francoise': 123156, 'Alan': 9630}\n"
     ]
    }
   ],
   "source": [
    "phone_book = {'Tom': 123, 'Alice': 246234, 'Yolanda': 110}\n",
    "print(phone_book.keys(), phone_book.values())\n",
    "print('Olaf' in phone_book)\n",
    "\n",
    "# new key/value pairs will be added, values for existing keys will be overwritten\n",
    "phone_book.update({'Tom': 984703, 'Francoise': 123156, 'Alan': 9630})\n",
    "print(phone_book)"
   ]
  },
  {
   "cell_type": "markdown",
   "metadata": {},
   "source": [
    "```{admonition} Clicker question \"dictionaries\" ([Click me!](https://go.uos.de/kjcBV))\n",
    "```"
   ]
  },
  {
   "cell_type": "markdown",
   "metadata": {},
   "source": [
    "### Side note: Producing nicer prints with string formatting\n",
    "f-strings (short for \"formatted string literals\")- will substitute variable names with their value when printing:\n",
    "- prepend string with `f`: `f\"test\"` or `f'test'`\n",
    "- put variable names to print in curly brackets `{}`\n",
    "\n",
    "See the [python docs](https://docs.python.org/3/tutorial/inputoutput.html) for more details.\n",
    "\n",
    "When the f-string is printed, the variable name in curly brackets is substituted by its value:"
   ]
  },
  {
   "cell_type": "code",
   "execution_count": 25,
   "metadata": {},
   "outputs": [
    {
     "name": "stdout",
     "output_type": "stream",
     "text": [
      "Tom's age is 10\n"
     ]
    }
   ],
   "source": [
    "name = 'Tom'\n",
    "age = 10\n",
    "print(f\"{name}'s age is {age}\")"
   ]
  },
  {
   "cell_type": "markdown",
   "metadata": {},
   "source": [
    "For completeness (so you can read old code): Another way of doing this is with `.format`. But please, use f-strings - they are more readable!"
   ]
  },
  {
   "cell_type": "code",
   "execution_count": 26,
   "metadata": {},
   "outputs": [
    {
     "name": "stdout",
     "output_type": "stream",
     "text": [
      "Tom's age is 10\n"
     ]
    }
   ],
   "source": [
    "name = 'Tom'\n",
    "age = 10\n",
    "print(\"{0}'s age is {1}\".format(name, age))"
   ]
  }
 ],
 "metadata": {
  "kernelspec": {
   "display_name": "Python 3 (ipykernel)",
   "language": "python",
   "name": "python3"
  },
  "language_info": {
   "codemirror_mode": {
    "name": "ipython",
    "version": 3
   },
   "file_extension": ".py",
   "mimetype": "text/x-python",
   "name": "python",
   "nbconvert_exporter": "python",
   "pygments_lexer": "ipython3",
   "version": "3.12.7"
  }
 },
 "nbformat": 4,
 "nbformat_minor": 4
}
