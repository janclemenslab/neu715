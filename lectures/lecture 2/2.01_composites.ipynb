{
 "cells": [
  {
   "cell_type": "markdown",
   "metadata": {},
   "source": [
    "# Lecture 2.1 - Other collection data types\n",
    "Lists are also called _collections_, because they are a collection of different things.\n",
    "\n",
    "Python has more types of collections:\n",
    "- `tuple` - read-only (immutable) variant of a list. Functions that return multiple results return tuples. Rarely used.\n",
    "- `set` - read-only variant of a list, contains only unique values. Rarely used.\n",
    "- `dict` - dictionary, for non-ordered collections. Consists of key-value pairs. Keys act as indices, but in contrast to lists, can be of arbitrary types, for instance, strings. Dictionaries are also called \"mappings\" since they maps keys to values.\n",
    "\n",
    "## Tuples\n",
    "Tuples can be created by enclosing tuple items in parentheses (not square brackets as for lists):\n",
    "```python\n",
    "a_tuple = (1, 2, 3, 4)\n",
    "```\n",
    "\n",
    "Lists can be cast to tuples using `tuple(list_var)`.\n",
    "\n",
    "__Caution__: The parentheses are pure decoration - it's the comma that makes a tuple. For instance, a trailing comma after a value is sufficient to generate a tuple - this is a frequent cause for bugs. So always use parentheses!"
   ]
  },
  {
   "cell_type": "code",
   "execution_count": 5,
   "metadata": {},
   "outputs": [
    {
     "name": "stdout",
     "output_type": "stream",
     "text": [
      "(1, 2, 3, 4) <class 'tuple'>\n"
     ]
    }
   ],
   "source": [
    "a_tuple = (1,2,3, 4)\n",
    "print(a_tuple, type(a_tuple))"
   ]
  },
  {
   "cell_type": "code",
   "execution_count": 6,
   "metadata": {},
   "outputs": [
    {
     "name": "stdout",
     "output_type": "stream",
     "text": [
      "<class 'tuple'> (1,)\n",
      "<class 'tuple'> (1, 2)\n"
     ]
    }
   ],
   "source": [
    "also_a_tuple = 1,  # note the trailing comma after 1\n",
    "print(type(also_a_tuple), also_a_tuple)\n",
    "\n",
    "yet_another_tuple = 1, 2\n",
    "print(type(yet_another_tuple), yet_another_tuple)"
   ]
  },
  {
   "cell_type": "markdown",
   "metadata": {},
   "source": [
    "Tuples are immutable - you cannot assign to its values:"
   ]
  },
  {
   "cell_type": "code",
   "execution_count": 8,
   "metadata": {},
   "outputs": [
    {
     "ename": "TypeError",
     "evalue": "'tuple' object does not support item assignment",
     "output_type": "error",
     "traceback": [
      "\u001b[0;31m---------------------------------------------------------------------------\u001b[0m",
      "\u001b[0;31mTypeError\u001b[0m                                 Traceback (most recent call last)",
      "\u001b[1;32m/Users/janc/Library/CloudStorage/Dropbox/_teaching/neu715/neu715/lectures/lecture 2/2.01_composites.ipynb Cell 5\u001b[0m line \u001b[0;36m2\n\u001b[1;32m      <a href='vscode-notebook-cell:/Users/janc/Library/CloudStorage/Dropbox/_teaching/neu715/neu715/lectures/lecture%202/2.01_composites.ipynb#W4sZmlsZQ%3D%3D?line=0'>1</a>\u001b[0m a_tuple \u001b[39m=\u001b[39m (\u001b[39m1\u001b[39m, \u001b[39m2\u001b[39m, \u001b[39m3\u001b[39m, \u001b[39m2\u001b[39m, \u001b[39m4\u001b[39m)\n\u001b[0;32m----> <a href='vscode-notebook-cell:/Users/janc/Library/CloudStorage/Dropbox/_teaching/neu715/neu715/lectures/lecture%202/2.01_composites.ipynb#W4sZmlsZQ%3D%3D?line=1'>2</a>\u001b[0m a_tuple[\u001b[39m3\u001b[39;49m] \u001b[39m=\u001b[39m \u001b[39m100\u001b[39m  \u001b[39m# this will fail, since tuples cannot be changed after creation\u001b[39;00m\n",
      "\u001b[0;31mTypeError\u001b[0m: 'tuple' object does not support item assignment"
     ]
    }
   ],
   "source": [
    "a_tuple = (1, 2, 3, 2, 4)\n",
    "a_tuple[3] = 100  # this will fail, since tuples cannot be changed after creation"
   ]
  },
  {
   "cell_type": "markdown",
   "metadata": {},
   "source": [
    "If you need to change the content of a tuple, cast it to a list:"
   ]
  },
  {
   "cell_type": "code",
   "execution_count": 12,
   "metadata": {},
   "outputs": [
    {
     "name": "stdout",
     "output_type": "stream",
     "text": [
      "<class 'list'>\n"
     ]
    }
   ],
   "source": [
    "a_tuple = (1, 2, 3, 2, 4)\n",
    "list_from_tuple = list(a_tuple)  # cast tuple to list\n",
    "print(type(list_from_tuple))\n",
    "\n",
    "list_from_tuple[3] = 100  # this works"
   ]
  },
  {
   "cell_type": "markdown",
   "metadata": {},
   "source": [
    "## Sets\n",
    "Sets are created with curly brackets:\n",
    "```python\n",
    "{1, 2, 3}\n",
    "```\n",
    "\n",
    "Since sets only contain unique values, they can be used to quickly identify all unique values in a list, by casting a list with duplicates to a set using `set(list_var)`:"
   ]
  },
  {
   "cell_type": "code",
   "execution_count": 15,
   "metadata": {},
   "outputs": [
    {
     "name": "stdout",
     "output_type": "stream",
     "text": [
      "[1, 2, 3, 2, 4]\n",
      "{1, 2, 3, 4}\n"
     ]
    }
   ],
   "source": [
    "list_with_duplicates = [1, 2, 3, 2, 4]  # list with duplicate values\n",
    "print(list_with_duplicates)\n",
    "\n",
    "print(set(list_with_duplicates))  # only keeps the unique values"
   ]
  },
  {
   "cell_type": "markdown",
   "metadata": {},
   "source": [
    "## Dictionaries\n",
    "Dictionaries are central to the python intrinsics. And also quite useful.\n",
    "\n",
    "They can hold any value, like a list.\n",
    "But can have arbitrary indices, like strings or floats, not just integers.\n",
    "\n",
    "They consist of `key:value` pairs, where both the key and the value can be almost any python object (numbers, strings, tuples (but not lists)). \n",
    "\n",
    "Create with `{key1: value1, key2: value2, ...}` (not to be confused with set creation `{value1, value2}`).\n"
   ]
  },
  {
   "cell_type": "code",
   "execution_count": 17,
   "metadata": {},
   "outputs": [
    {
     "name": "stdout",
     "output_type": "stream",
     "text": [
      "{'Tom': 125324123, 'Alice': 432246234}\n",
      "432246234\n",
      "1245264\n",
      "{'Tom': 125324123, 'Alice': 1245264, 'Bob': 991}\n"
     ]
    }
   ],
   "source": [
    "# A phone book can be represented as two \"parallel\" lists - one with the names, and one with the phone numbers\n",
    "names = ['Tom', 'Alice']\n",
    "phone_numbers = [125324123, 432246234]\n",
    "\n",
    "# We can represent the same data using a dictionary, with names as keys, and phone numbers as values\n",
    "\n",
    "phone_book = {'Tom': 125324123, 'Alice': 432246234}\n",
    "print(phone_book)\n",
    "\n",
    "print(phone_book['Alice'])  # get values using the key inside brackets\n",
    "\n",
    "phone_book['Alice'] = 1245264  # we can change the values\n",
    "\n",
    "print(phone_book['Alice'])\n",
    "\n",
    "phone_book['Bob'] = 991  # we can add new key-value pairs to an existing list\n",
    "print(phone_book)"
   ]
  },
  {
   "cell_type": "markdown",
   "metadata": {},
   "source": [
    "### Why is this useful?\n",
    "First, dictionaries allow you to link to related datasets, like names and phone numbers, or animal names and behavioral scores.\n",
    "\n",
    "Second, it makes code more clear and readable, because dictionaires allow you to access data using keys as more meaningful indices. With a list, you can only use integers as indices. The integer corresponds to the position of the item in the list:\n",
    "```python\n",
    "phone_numbers = [125324123, 432246234]\n",
    "phone_numbers[0]  #  unclear who this number belongs to\n",
    "```\n",
    "\n",
    "But for a phone number, the important thing is the owner's name, not where in the list it exists. With dictionaries, you can use the name as an \"index\" - the key. The meaning of the value in the dictionary is obvious from the code because it is made explicit:\n",
    "```python\n",
    "phone_book = {'Tom': 125324123, 'Alice': 432246234}\n",
    "phone_book['Tom']  # this is clearly Tom's phone number\n",
    "```"
   ]
  },
  {
   "cell_type": "markdown",
   "metadata": {},
   "source": [
    "### Looping over key/value pairs in a dictionary:\n",
    "`my_dict.items()` returns (key, val) tuples. The parentheses are optional."
   ]
  },
  {
   "cell_type": "code",
   "execution_count": 19,
   "metadata": {},
   "outputs": [
    {
     "name": "stdout",
     "output_type": "stream",
     "text": [
      "Tom 123\n",
      "Alice 246234\n",
      "Yolanda 110\n"
     ]
    }
   ],
   "source": [
    "phone_book = {'Tom': 123, 'Alice': 246234, 'Yolanda': 110}\n",
    "\n",
    "for name, phone_number in phone_book.items():\n",
    "    print(name, phone_number)"
   ]
  },
  {
   "cell_type": "markdown",
   "metadata": {},
   "source": [
    "### Bonus: Dictionary comprehensions\n",
    "Let's say we want to create a dictionary where the key is a number, and the value is twice the key:"
   ]
  },
  {
   "cell_type": "code",
   "execution_count": 20,
   "metadata": {},
   "outputs": [
    {
     "name": "stdout",
     "output_type": "stream",
     "text": [
      "{0: 0, 1: 2, 2: 4, 3: 6, 4: 8, 5: 10}\n"
     ]
    }
   ],
   "source": [
    "results_dict = {}\n",
    "for number in range(6):\n",
    "    results_dict[number] = 2 * number\n",
    "print(results_dict)"
   ]
  },
  {
   "cell_type": "markdown",
   "metadata": {},
   "source": [
    "We can use a dictionary comprehension to write this more consisely (if a little more obscurely):\n",
    "`{key: val for item in items if condition}`"
   ]
  },
  {
   "cell_type": "code",
   "execution_count": 21,
   "metadata": {},
   "outputs": [
    {
     "name": "stdout",
     "output_type": "stream",
     "text": [
      "{0: 0, 1: 2, 2: 4, 3: 6, 4: 8, 5: 10}\n"
     ]
    }
   ],
   "source": [
    "results_dict = {number: number * 2 for number in range(6)}\n",
    "print(results_dict)"
   ]
  },
  {
   "cell_type": "markdown",
   "metadata": {},
   "source": [
    "### Useful dict functions\n",
    "```python\n",
    "my_dict = {}  # create an emptu dict called my_dict\n",
    "my_dict[key] = new_value  # adds new and overwrites existing key:value pair\n",
    "my_dict.update(other_my_dict)  # \"merge\" two dictionaries, adds new and overwrites existing key:value pairs\n",
    "key in my_dict  # check if a key is in the dictionary\n",
    "my_dict.keys()  # \"view\" of all keys in the dictionary, can cast to list\n",
    "my_dict.values()  # \"view\" of all values in the dictionary, can cast to list\n",
    "del my_dict[key] # remove key:value pair, indexed by \"key\"\n",
    "```"
   ]
  },
  {
   "cell_type": "code",
   "execution_count": 23,
   "metadata": {},
   "outputs": [
    {
     "name": "stdout",
     "output_type": "stream",
     "text": [
      "dict_keys(['Tom', 'Alice', 'Yolanda']) dict_values([123, 246234, 110])\n",
      "False\n",
      "{'Tom': 984703, 'Alice': 246234, 'Yolanda': 110, 'Francoise': 123156, 'Alan': 9630}\n"
     ]
    }
   ],
   "source": [
    "phone_book = {'Tom': 123, 'Alice': 246234, 'Yolanda': 110}\n",
    "print(phone_book.keys(), phone_book.values())\n",
    "print('Olaf' in phone_book)\n",
    "\n",
    "# new key/value pairs will be added, values for existing keys will be overwritten\n",
    "phone_book.update({'Tom': 984703, 'Francoise': 123156, 'Alan': 9630})\n",
    "print(phone_book)"
   ]
  },
  {
   "cell_type": "markdown",
   "metadata": {},
   "source": [
    "### Side note: Producing nicer prints with string formatting\n",
    "f-strings (short for \"formatted string literals\")- will substitute variable names with their value when printing:\n",
    "- prepend string with `f`: `f\"test\"` or `f'test'`\n",
    "- put variable names to print in curly brackets `{}`\n",
    "\n",
    "See the [python docs](https://docs.python.org/3/tutorial/inputoutput.html) for more details.\n",
    "\n",
    "When the f-string is printed, the variable name in curly brackets is substituted by its value:"
   ]
  },
  {
   "cell_type": "code",
   "execution_count": 25,
   "metadata": {},
   "outputs": [
    {
     "name": "stdout",
     "output_type": "stream",
     "text": [
      "Tom's age is 10\n"
     ]
    }
   ],
   "source": [
    "name = 'Tom'\n",
    "age = 10\n",
    "print(f\"{name}'s age is {age}\")"
   ]
  },
  {
   "cell_type": "markdown",
   "metadata": {},
   "source": [
    "For completeness (so you can read old code): Another way of doing this is with `.format`. But please, use f-strings - they are more readable!"
   ]
  },
  {
   "cell_type": "code",
   "execution_count": 26,
   "metadata": {},
   "outputs": [
    {
     "name": "stdout",
     "output_type": "stream",
     "text": [
      "Tom's age is 10\n"
     ]
    }
   ],
   "source": [
    "name = 'Tom'\n",
    "age = 10\n",
    "print(\"{0}'s age is {1}\".format(name, age))"
   ]
  },
  {
   "cell_type": "code",
   "execution_count": null,
   "metadata": {},
   "outputs": [],
   "source": []
  }
 ],
 "metadata": {
  "kernelspec": {
   "display_name": "Python 3 (ipykernel)",
   "language": "python",
   "name": "python3"
  },
  "language_info": {
   "codemirror_mode": {
    "name": "ipython",
    "version": 3
   },
   "file_extension": ".py",
   "mimetype": "text/x-python",
   "name": "python",
   "nbconvert_exporter": "python",
   "pygments_lexer": "ipython3",
   "version": "3.12.0"
  },
  "vscode": {
   "interpreter": {
    "hash": "97ead24bb190f3c846c8ccaf2b3dc07d0b052bfb8e69b5aeffb27504f0f68adb"
   }
  }
 },
 "nbformat": 4,
 "nbformat_minor": 4
}
