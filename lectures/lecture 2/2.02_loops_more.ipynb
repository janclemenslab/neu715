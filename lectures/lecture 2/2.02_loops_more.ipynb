{
 "cells": [
  {
   "cell_type": "markdown",
   "metadata": {},
   "source": [
    "# Lecture 2.2 - For loops\n",
    "## What do we need to know to detect spikes using python?\n",
    "\n",
    "![](voltage_trace.png)\n",
    "\n",
    "- [x] Present data in code (individual voltage values, manipulate them and store the results) - variables\n",
    "- [x] Compare variables (voltage to threshold) - boolean values\n",
    "- [x] Perform different actions based on the value of a variable (only keep the position if the voltage exceeds the threshold) - if-else statements\n",
    "- [x] Present and access data in a time series of voltage values - lists\n",
    "- [ ] __Perform an action for each element in a sequence of values (inspect voltage values one-by-one) - for loops__\n",
    "- [ ] Separate data and logic so we can use the same code for new recordings - functions\n",
    "- [ ] Apply this to multi data files\n",
    "- [ ] Plot and save the results\n"
   ]
  },
  {
   "cell_type": "markdown",
   "metadata": {},
   "source": [
    "Last week, we learned about lists: how to build them, how to get data out of them, and how to work with them using for (and while) loops:"
   ]
  },
  {
   "cell_type": "code",
   "execution_count": 1,
   "metadata": {},
   "outputs": [
    {
     "name": "stdout",
     "output_type": "stream",
     "text": [
      "0.5\n",
      "1.0\n",
      "1.5\n",
      "50.0\n"
     ]
    }
   ],
   "source": [
    "my_list = [1,2,3,100]\n",
    "for number in my_list:\n",
    "    print(number / 2)"
   ]
  },
  {
   "cell_type": "markdown",
   "metadata": {},
   "source": [
    "Here are a couple more useful ways of using lists:"
   ]
  },
  {
   "cell_type": "markdown",
   "metadata": {},
   "source": [
    "### Getting indices and items\n",
    "We saw last time that `range` can be used to generate indices to retrieve items from a list in a for loop:\n",
    "```python\n",
    "names = ['Tom', 'Yolanda', 'Estelle']\n",
    "for index in range(len(names)):\n",
    "    name = names[index]\n",
    "    print(index, name)\n",
    "```\n",
    "\n",
    "However, it is prefereable and more readable to directly loop over the list items:\n",
    "```python\n",
    "for name in names:\n",
    "    print(name)\n",
    "```\n",
    "\n",
    "If you need the index and the item, use `enumerate(list)`. This creates and updates two variables in each iteration of the for loop - the first one for the list index, the second one for the list item:\n",
    "```python\n",
    "for list_index, list_item in enumerate(my_list):\n",
    "    do something\n",
    "```\n",
    "\n",
    "Here is an example:"
   ]
  },
  {
   "cell_type": "code",
   "execution_count": 2,
   "metadata": {},
   "outputs": [
    {
     "name": "stdout",
     "output_type": "stream",
     "text": [
      "0 Tom\n",
      "1 Yolanda\n",
      "2 Estelle\n"
     ]
    }
   ],
   "source": [
    "names = ['Tom', 'Yolanda', 'Estelle']\n",
    "\n",
    "for index, item in enumerate(names):\n",
    "    print(index, item)"
   ]
  },
  {
   "cell_type": "markdown",
   "metadata": {},
   "source": [
    "__Unimportant side note__ Just so you can interpret error messages: Technically, `enumerate` returns a tuple with two elements, `(index, item)`, and the two elements in the tuple are unpacked into two variables in the `for` statement."
   ]
  },
  {
   "cell_type": "code",
   "execution_count": 3,
   "metadata": {},
   "outputs": [
    {
     "name": "stdout",
     "output_type": "stream",
     "text": [
      "10\n",
      "20\n",
      "(0, 'Tom') <class 'tuple'>\n",
      "0 Tom\n",
      "(1, 'Yolanda') <class 'tuple'>\n",
      "1 Yolanda\n",
      "(2, 'Estelle') <class 'tuple'>\n",
      "2 Estelle\n"
     ]
    }
   ],
   "source": [
    "a_tuple = (10, 20)  # generate a tuple with two elements\n",
    "element1, element2 = a_tuple\n",
    "print(element1)\n",
    "print(element2)\n",
    "\n",
    "# to illustrate this - please do not use enumerate like that\n",
    "names = ['Tom', 'Yolanda', 'Estelle']\n",
    "for what in enumerate(names):\n",
    "    print(what, type(what))  # enumerate returns a tuple\n",
    "    index, item = what  # we can unpack the tuple - this is done implicitly in the statement \"for number, name in enumerate(names)\"\"\n",
    "    print(index, item)"
   ]
  },
  {
   "cell_type": "markdown",
   "metadata": {},
   "source": [
    "### Looping over multiple lists in parallel\n",
    "To loop over two or more \"parallel\" lists at the same time use `zip()`:\n",
    "```python\n",
    "for item_from_list1, item_from_list2 in zip(list1, list2):\n",
    "    do stuff\n",
    "```\n",
    "\n",
    "For example:"
   ]
  },
  {
   "cell_type": "code",
   "execution_count": 4,
   "metadata": {},
   "outputs": [
    {
     "name": "stdout",
     "output_type": "stream",
     "text": [
      "Tom 124325\n",
      "Yolanda 463763\n",
      "Estelle 7902435\n"
     ]
    }
   ],
   "source": [
    "names = ['Tom', 'Yolanda', 'Estelle']\n",
    "phone_numbers = [124325, 463763, 7902435]\n",
    "\n",
    "for name, number in zip(names, phone_numbers):\n",
    "    print(name, number)\n"
   ]
  },
  {
   "cell_type": "markdown",
   "metadata": {},
   "source": [
    "\n",
    "Just like `enumerate`, `zip` returns tuples with as many elements as you the lists you provided to `zip`:"
   ]
  },
  {
   "cell_type": "code",
   "execution_count": 6,
   "metadata": {},
   "outputs": [
    {
     "name": "stdout",
     "output_type": "stream",
     "text": [
      "Tom 124325 23\n",
      "Yolanda 463763 28\n",
      "Estelle 7902435 25\n"
     ]
    }
   ],
   "source": [
    "names = ['Tom', 'Yolanda', 'Estelle']\n",
    "phone_numbers = [124325, 463763, 7902435]\n",
    "ages = [23, 28, 25]\n",
    "\n",
    "for name, number, age in zip(names, phone_numbers, ages):\n",
    "    print(name, number, age)\n"
   ]
  },
  {
   "cell_type": "markdown",
   "metadata": {},
   "source": [
    "### Searching lists\n",
    "We can use all of this to search lists:\n",
    "- get number if matching elements in list\n",
    "- get indices if matching elements\n",
    "- get values if matching elements\n",
    "\n",
    "(There is a more efficient way of doing this, using numpy - we'll learn about numpy next week)"
   ]
  },
  {
   "cell_type": "code",
   "execution_count": 7,
   "metadata": {},
   "outputs": [
    {
     "name": "stdout",
     "output_type": "stream",
     "text": [
      "0 7\n",
      "1 12\n",
      "2 13\n",
      "3 8\n",
      "4 15\n",
      "[7, 8]\n",
      "[0, 3]\n"
     ]
    }
   ],
   "source": [
    "target_score = 10\n",
    "test_scores = [7, 12, 13, 8, 15]\n",
    "\n",
    "failed = []\n",
    "failed_indices = []\n",
    "\n",
    "for index, score in enumerate(test_scores):\n",
    "    print(index, score)\n",
    "\n",
    "    if score < target_score:\n",
    "        failed.append(score)\n",
    "        failed_indices.append(index)\n",
    "\n",
    "print(failed)\n",
    "print(failed_indices)\n",
    "\n"
   ]
  },
  {
   "cell_type": "markdown",
   "metadata": {},
   "source": [
    "### What do we need to know to detect spikes using python?\n",
    "\n",
    "![](voltage_trace.png)\n",
    "\n",
    "- [x] Present data in code (individual voltage values, manipulate them and store the results) - variables\n",
    "- [x] Compare variables (voltage to threshold) - boolean values\n",
    "- [x] Perform different actions based on the value of a variable (only keep the position if the voltage exceeds the threshold) - if-else statements\n",
    "- [x] Present and access data in a time series of voltage values - lists\n",
    "- [x] Perform an action for each element in a sequence of values (inspect voltage values one-by-one) - for loops\n",
    "\n",
    "Now write your spike detector!!\n",
    "\n",
    "Next steps:\n",
    "- [ ] Separate data and logic so we can use the same code for new recordings - functions\n",
    "- [ ] Apply this to multi data files\n",
    "- [ ] Plot and save the results\n",
    "- [ ] Make everything more efficient and robust using numeric computation libraries (numpy, scipy)\n"
   ]
  }
 ],
 "metadata": {
  "kernelspec": {
   "display_name": "Python 3 (ipykernel)",
   "language": "python",
   "name": "python3"
  },
  "language_info": {
   "codemirror_mode": {
    "name": "ipython",
    "version": 3
   },
   "file_extension": ".py",
   "mimetype": "text/x-python",
   "name": "python",
   "nbconvert_exporter": "python",
   "pygments_lexer": "ipython3",
   "version": "3.12.0"
  },
  "vscode": {
   "interpreter": {
    "hash": "97ead24bb190f3c846c8ccaf2b3dc07d0b052bfb8e69b5aeffb27504f0f68adb"
   }
  }
 },
 "nbformat": 4,
 "nbformat_minor": 4
}
