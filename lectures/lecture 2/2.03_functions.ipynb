{
 "cells": [
  {
   "cell_type": "markdown",
   "metadata": {},
   "source": [
    "# Functions\n",
    "## Reminder: Indentation\n",
    "\n",
    "You already know that python uses indentation to define code blocks, for instance, to separate the inside from the outside of a loop:"
   ]
  },
  {
   "cell_type": "code",
   "execution_count": 2,
   "metadata": {
    "tags": []
   },
   "outputs": [
    {
     "name": "stdout",
     "output_type": "stream",
     "text": [
      "before the loop\n",
      "in the loop: index = 0\n",
      "in the loop: index = 1\n",
      "in the loop: index = 2\n",
      "in the loop: index = 3\n",
      "after the loop\n"
     ]
    }
   ],
   "source": [
    "print('before the loop')\n",
    "for index in range(4):\n",
    "    print('in the loop: index =', index)  # indented so inside the loop\n",
    "print('after the loop')"
   ]
  },
  {
   "cell_type": "markdown",
   "metadata": {},
   "source": [
    "Indentation matters:"
   ]
  },
  {
   "cell_type": "code",
   "execution_count": 3,
   "metadata": {
    "tags": []
   },
   "outputs": [
    {
     "name": "stdout",
     "output_type": "stream",
     "text": [
      "before the loop\n",
      "in the loop: index = 0\n",
      "after the loop\n",
      "in the loop: index = 1\n",
      "after the loop\n",
      "in the loop: index = 2\n",
      "after the loop\n",
      "in the loop: index = 3\n",
      "after the loop\n"
     ]
    }
   ],
   "source": [
    "print('before the loop')\n",
    "for index in range(4):\n",
    "    print('in the loop: index =', index)  # indented so inside the loop\n",
    "    print('after the loop')"
   ]
  },
  {
   "cell_type": "markdown",
   "metadata": {},
   "source": [
    "## Why functions?\n",
    "We have encountered builtin functions like `print` or `len` before. Functions typically receive inputs (arguments), contain code to manipulate the inputs, and often return a result: `result = function_name(arguments)`.\n",
    "\n",
    "Functions allow you to re-use and shorten your code. For instance, if you need to calculate the mean of values in a list in several places in your program, then you will duplicate a lot of code. Writing a `mean` function that contains the relevant code and can be applied to different lists throughout the program is useful."
   ]
  },
  {
   "cell_type": "code",
   "execution_count": 12,
   "metadata": {
    "tags": []
   },
   "outputs": [
    {
     "name": "stdout",
     "output_type": "stream",
     "text": [
      "3545.25\n",
      "390402.28571428574\n"
     ]
    }
   ],
   "source": [
    "data1 = [1235, 4235, 2365, 6346]\n",
    "data1_mean = 0\n",
    "for d in data1:\n",
    "    data1_mean += d\n",
    "data1_mean = data1_mean / len(data1)\n",
    "print(data1_mean)\n",
    "\n",
    "\n",
    "data2 = [3523, 346346, 35,23,2345243, 5234,32412]\n",
    "data2_mean = 0\n",
    "for d in data2:\n",
    "    data2_mean += d\n",
    "data2_mean = data2_mean / len(data2)\n",
    "print(data2_mean)"
   ]
  },
  {
   "cell_type": "markdown",
   "metadata": {},
   "source": [
    "Above, we have applied the same computation to two different lists.Let's to make this code more general, and turn it into a function.\n",
    "\n",
    "First, we re-organize the code to separate what changes from what is the same in the two blocks of code above:"
   ]
  },
  {
   "cell_type": "code",
   "execution_count": 1,
   "metadata": {},
   "outputs": [],
   "source": [
    "# we have different lists\n",
    "data1 = [1235, 4235, 2365, 6346]\n",
    "data2 = [3523, 346346, 35, 23, 2345243, 5234, 32412]\n",
    "\n",
    "# What part of the code above is constant? What changes?"
   ]
  },
  {
   "cell_type": "markdown",
   "metadata": {},
   "source": [
    "Now let's put the code inside a function, that we want to call `mean`. The input to the function should be the list `data`. This will be the function argument. The output of the function should be the mean of the data, contained in the variable `data_mean` in the code above.\n",
    "\n",
    "We want a function that we can it like so:\n",
    "```python\n",
    "the_calculated_mean = mean(my_data)\n",
    "```"
   ]
  },
  {
   "cell_type": "code",
   "execution_count": null,
   "metadata": {},
   "outputs": [],
   "source": [
    "# we have different lists\n",
    "data1 = [1235, 4235, 2365, 6346]\n",
    "data2 = [3523, 346346, 35, 23, 2345243, 5234, 32412]\n",
    "\n",
    "# define a function with name \"mean\" and a single argument \"data\"\n",
    "\n",
    "# we want to use the function like so:\n",
    "the_mean_of_the_data1 = mean(data1)  # call the function by its name and provide a data list as the argument\n",
    "print(the_mean_of_the_data1)\n",
    "\n",
    "the_mean_of_the_data2 = mean(data2)  # call the function by its name and provide a data list as the argument\n",
    "print(the_mean_of_the_data2)"
   ]
  },
  {
   "cell_type": "markdown",
   "metadata": {},
   "source": [
    "A function has several advantages:\n",
    "1. It makes your code shorter\n",
    "2. It allows you to re-use your code elsewhere\n",
    "3. It helps to further separate program logic (calculation of the mean) from your data\n"
   ]
  },
  {
   "cell_type": "markdown",
   "metadata": {},
   "source": [
    "## The anatomy of a function\n",
    "- The keyword `def`, followed by the name of the function.\n",
    "- Arguments following the name in parentheses, multiple arguments separated by commas.\n",
    "- On the definition, the arguments correspond to the names of the variables each input is assigned to inside the function.\n",
    "- The indented code that does what the function is supposed to do.\n",
    "- `return` followed by the variables whose values you want the function to produce as an output. Omit the `return` statement if you do not want to return anything. __Caution:__ Lines of code in your function after `return` will not be executed - python will \"exit\" your function after return.\n",
    "\n",
    "Running the code defining the function once will make it available anywhere in the notebook - it is added to the notebook's namespace."
   ]
  },
  {
   "cell_type": "code",
   "execution_count": 23,
   "metadata": {
    "tags": []
   },
   "outputs": [],
   "source": [
    "def function_name(argument1, argument2):\n",
    "    # things to do with the arguments inside the function\n",
    "    calculated_values = argument1 + argument2\n",
    "\n",
    "    # if you want to get a value calculated inside the function\n",
    "    # you must use a return statement\n",
    "    return calculated_values\n"
   ]
  },
  {
   "cell_type": "markdown",
   "metadata": {},
   "source": [
    "## Function arguments\n",
    "### Required and optional arguments\n",
    "\n",
    "A function can have zero, one, or more arguments"
   ]
  },
  {
   "cell_type": "code",
   "execution_count": 24,
   "metadata": {},
   "outputs": [
    {
     "name": "stdout",
     "output_type": "stream",
     "text": [
      "ERRRRROOOOR\n"
     ]
    }
   ],
   "source": [
    "# function with zero arguments\n",
    "def error():\n",
    "    print('ERRRRROOOOR')\n",
    "\n",
    "error()"
   ]
  },
  {
   "cell_type": "markdown",
   "metadata": {},
   "source": [
    "A function with three arguments:"
   ]
  },
  {
   "cell_type": "code",
   "execution_count": 83,
   "metadata": {},
   "outputs": [
    {
     "name": "stdout",
     "output_type": "stream",
     "text": [
      "Arguments price=100, discount=10, tax=19\n",
      "107.1\n",
      "Arguments price=100, discount=19, tax=10\n",
      "89.1\n"
     ]
    }
   ],
   "source": [
    "def calculate_total(price, discount, tax):\n",
    "    \"\"\"Calculate the total cost after applying discount and tax.\"\"\"\n",
    "    print(f\"Arguments {price=}, {discount=}, {tax=}\")  # print the values of the arguments for illustration\n",
    "    price_after_discount = price - (price * discount / 100)\n",
    "    total_price = price_after_discount + (price_after_discount * tax / 100)\n",
    "    return total_price\n",
    "\n",
    "print(calculate_total(100, 10, 19))\n",
    "print(calculate_total(100, 19, 10))"
   ]
  },
  {
   "cell_type": "markdown",
   "metadata": {},
   "source": [
    "Since the arguments do not have a value defined in the function definition, you must always provide them when calling the function. If you omit one or provide too many, you produce an error:"
   ]
  },
  {
   "cell_type": "code",
   "execution_count": 84,
   "metadata": {},
   "outputs": [
    {
     "ename": "TypeError",
     "evalue": "calculate_total() missing 1 required positional argument: 'tax'",
     "output_type": "error",
     "traceback": [
      "\u001b[0;31m---------------------------------------------------------------------------\u001b[0m",
      "\u001b[0;31mTypeError\u001b[0m                                 Traceback (most recent call last)",
      "Cell \u001b[0;32mIn[84], line 1\u001b[0m\n\u001b[0;32m----> 1\u001b[0m \u001b[43mcalculate_total\u001b[49m\u001b[43m(\u001b[49m\u001b[38;5;241;43m100\u001b[39;49m\u001b[43m,\u001b[49m\u001b[43m \u001b[49m\u001b[38;5;241;43m19\u001b[39;49m\u001b[43m)\u001b[49m  \u001b[38;5;66;03m# all arguments without default arguments are required - we have to give the exact number of arguments defined in the function, otherwise we get an error\u001b[39;00m\n",
      "\u001b[0;31mTypeError\u001b[0m: calculate_total() missing 1 required positional argument: 'tax'"
     ]
    }
   ],
   "source": [
    "calculate_total(100, 19)  # all arguments without default arguments are required - we have to give the exact number of arguments defined in the function, otherwise we get an error"
   ]
  },
  {
   "cell_type": "code",
   "execution_count": 85,
   "metadata": {},
   "outputs": [
    {
     "ename": "TypeError",
     "evalue": "calculate_total() takes 3 positional arguments but 4 were given",
     "output_type": "error",
     "traceback": [
      "\u001b[0;31m---------------------------------------------------------------------------\u001b[0m",
      "\u001b[0;31mTypeError\u001b[0m                                 Traceback (most recent call last)",
      "Cell \u001b[0;32mIn[85], line 1\u001b[0m\n\u001b[0;32m----> 1\u001b[0m \u001b[43mcalculate_total\u001b[49m\u001b[43m(\u001b[49m\u001b[38;5;241;43m100\u001b[39;49m\u001b[43m,\u001b[49m\u001b[43m \u001b[49m\u001b[38;5;241;43m19\u001b[39;49m\u001b[43m,\u001b[49m\u001b[43m \u001b[49m\u001b[38;5;241;43m30\u001b[39;49m\u001b[43m,\u001b[49m\u001b[43m \u001b[49m\u001b[38;5;241;43m50\u001b[39;49m\u001b[43m)\u001b[49m  \u001b[38;5;66;03m# too many arguments\u001b[39;00m\n",
      "\u001b[0;31mTypeError\u001b[0m: calculate_total() takes 3 positional arguments but 4 were given"
     ]
    }
   ],
   "source": [
    "calculate_total(100, 19, 30, 50)  # too many arguments"
   ]
  },
  {
   "cell_type": "markdown",
   "metadata": {},
   "source": [
    "By providing default values in the function definition, we can make arguments optional:"
   ]
  },
  {
   "cell_type": "code",
   "execution_count": 86,
   "metadata": {
    "tags": []
   },
   "outputs": [
    {
     "name": "stdout",
     "output_type": "stream",
     "text": [
      "Arguments price=100, discount=0, tax=19\n",
      "119.0\n",
      "Arguments price=100, discount=20, tax=19\n",
      "95.2\n",
      "Arguments price=100, discount=20, tax=9\n",
      "87.2\n"
     ]
    }
   ],
   "source": [
    "# if an argument is followed by a value in the function definition, that argument is now optional - if you omit it, it will have the default value given in the def statement.\n",
    "def calculate_total(price, discount=0, tax=19):\n",
    "    \"\"\"Calculate the total cost after applying discount and tax.\"\"\"\n",
    "    print(f\"Arguments {price=}, {discount=}, {tax=}\")  # print the values of the arguments for illustration\n",
    "    price_after_discount = price - (price * discount / 100)\n",
    "    total_price = price_after_discount + (price_after_discount * tax / 100)\n",
    "    return total_price\n",
    "\n",
    "print(calculate_total(100))  # calculate the price with the default discount=0 and tax=19\n",
    "print(calculate_total(100, 20))  # calculate the price with a discount of 20\n",
    "print(calculate_total(100, 20, 9))  # calculate the price with a discount of 20 and reduced tax of 9"
   ]
  },
  {
   "cell_type": "markdown",
   "metadata": {},
   "source": [
    "### Positional vs. keyword arguments\n",
    "The arguments are assigned to variables in the function by position - the first argument is `price`, the second is `discount` etc. The arguments are used as so-called \"positional arguments\"."
   ]
  },
  {
   "cell_type": "code",
   "execution_count": 87,
   "metadata": {
    "tags": []
   },
   "outputs": [
    {
     "name": "stdout",
     "output_type": "stream",
     "text": [
      "Arguments price=100, discount=10, tax=19\n",
      "107.1\n",
      "Arguments price=19, discount=10, tax=100\n",
      "34.2\n"
     ]
    }
   ],
   "source": [
    "print(calculate_total(100, 10, 19))   # 3 positional arguments - their \"meaning\" is given by their position\n",
    "print(calculate_total(19, 10, 100))  # changing the position of the arguments changes their meaning"
   ]
  },
  {
   "cell_type": "markdown",
   "metadata": {},
   "source": [
    "However, you can make your code more readable by providing the arguments with their names (also called \"keywords). Then, the name of the arguments, not their position determines their meaning. In that keys, the arguments are used as so-called \"keyword arguments\":"
   ]
  },
  {
   "cell_type": "code",
   "execution_count": 88,
   "metadata": {},
   "outputs": [
    {
     "name": "stdout",
     "output_type": "stream",
     "text": [
      "Arguments price=100, discount=20, tax=9\n",
      "87.2\n",
      "Arguments price=100, discount=20, tax=9\n",
      "87.2\n"
     ]
    }
   ],
   "source": [
    "print(calculate_total(price=100, discount=20, tax=9))\n",
    "print(calculate_total(discount=20, tax=9, price=100))  # the meaning of the arguments is now given by the keywords, their position does not matter anymore"
   ]
  },
  {
   "cell_type": "markdown",
   "metadata": {},
   "source": [
    "When defining or using functions, positional arguments must always come before keyword arguments."
   ]
  },
  {
   "cell_type": "code",
   "execution_count": 89,
   "metadata": {
    "tags": []
   },
   "outputs": [
    {
     "ename": "SyntaxError",
     "evalue": "positional argument follows keyword argument (2186902967.py, line 1)",
     "output_type": "error",
     "traceback": [
      "\u001b[0;36m  Cell \u001b[0;32mIn[89], line 1\u001b[0;36m\u001b[0m\n\u001b[0;31m    print(calculate_total(price=100, 20, 9))\u001b[0m\n\u001b[0m                                          ^\u001b[0m\n\u001b[0;31mSyntaxError\u001b[0m\u001b[0;31m:\u001b[0m positional argument follows keyword argument\n"
     ]
    }
   ],
   "source": [
    "print(calculate_total(price=100, 20, 9))"
   ]
  },
  {
   "cell_type": "markdown",
   "metadata": {},
   "source": [
    "```{admonition} Clicker question \"functions args\"([Click me!](https://go.uos.de/0ypAi))\n",
    "Let's define the following function. Which of these statements work?\n",
    "```python\n",
    "def my_fun(a, b=0, c=0):\n",
    "    return a + b + c\n",
    "\n",
    "my_fun(10)\n",
    "my_fun(a=10)\n",
    "my_fun(b=0)\n",
    "my_fun(a=10, c=10)\n",
    "my_fun(b=10, a=10)\n",
    "my_fun(a=10, 1)\n",
    "```\n",
    "```"
   ]
  },
  {
   "cell_type": "markdown",
   "metadata": {},
   "source": [
    "### Arguments can be of any type\n",
    "Anything can be an argument: floats, strings, int, lists, tuples, any other objects. The return statement is optional, too."
   ]
  },
  {
   "cell_type": "code",
   "execution_count": 90,
   "metadata": {
    "tags": []
   },
   "outputs": [
    {
     "name": "stdout",
     "output_type": "stream",
     "text": [
      "Tom was born 20 years ago.\n"
     ]
    }
   ],
   "source": [
    "def print_name_and_age(name, age):\n",
    "    print(f\"{name} was born {age} years ago.\")\n",
    "\n",
    "print_name_and_age(\"Tom\", 20)"
   ]
  },
  {
   "cell_type": "markdown",
   "metadata": {},
   "source": [
    "## Functions can return zero, one, or multiple variables\n",
    "Functions without a `return` statement or with a blank `return` statement do not return anything:"
   ]
  },
  {
   "cell_type": "code",
   "execution_count": 27,
   "metadata": {},
   "outputs": [
    {
     "name": "stdout",
     "output_type": "stream",
     "text": [
      "Ole was born 64 years ago.\n"
     ]
    }
   ],
   "source": [
    "def print_name_and_age(name, age):\n",
    "    print(f\"{name} was born {age} years ago.\")\n",
    "    # functions with no return statement (or blank return statement) will return nothing\n",
    "\n",
    "print_name_and_age('Ole', 64)"
   ]
  },
  {
   "cell_type": "markdown",
   "metadata": {},
   "source": [
    "Technical side note: functions without a return statement or with a blank return statement return `None`, a special python type that indicates an missing or empty value:"
   ]
  },
  {
   "cell_type": "code",
   "execution_count": 28,
   "metadata": {},
   "outputs": [
    {
     "name": "stdout",
     "output_type": "stream",
     "text": [
      "Olaf was born 64 years ago.\n",
      "None <class 'NoneType'>\n"
     ]
    }
   ],
   "source": [
    "output = print_name_and_age(\"Olaf\", 64)\n",
    "print(output, type(output))"
   ]
  },
  {
   "cell_type": "markdown",
   "metadata": {},
   "source": [
    "To return one or multiple variables from inside the function, add their names in the `return` statement, with mutiple return values separated by a comma: `return var1, var2`. You then \"catch\" the returned variables like so: `returned_var1, returned_var2 = my_function()`."
   ]
  },
  {
   "cell_type": "code",
   "execution_count": 29,
   "metadata": {
    "tags": []
   },
   "outputs": [],
   "source": [
    "def sum_and_diff(a, b):\n",
    "    the_sum = a + b\n",
    "    the_diff = a - b\n",
    "    return the_sum, the_diff  # return two variables from inside the function\n",
    "\n",
    "returned_sum, returned_difference = sum_and_diff(10, 20)\n",
    "\n",
    "# What is the type of \"catch_as_single_variable\" this?? HINT: Check the structure of return statemnent inside the function\n",
    "catch_as_single_variable = sum_and_diff(10, 20)"
   ]
  },
  {
   "cell_type": "markdown",
   "metadata": {},
   "source": [
    "## The \"scope\" of a variable - local variables\n",
    "\n",
    "Why do we need to `return` variables from inside the function? It is because what you define inside a function is not accessible outside: all variables created inside functions are _local_ variables for that function. To access these _local_ variables outside of the function, you need to return them to the outside."
   ]
  },
  {
   "cell_type": "code",
   "execution_count": 33,
   "metadata": {
    "tags": []
   },
   "outputs": [
    {
     "name": "stdout",
     "output_type": "stream",
     "text": [
      "The value of pi inside the function is 3.14\n",
      "314.0\n"
     ]
    },
    {
     "ename": "NameError",
     "evalue": "name 'pi' is not defined",
     "output_type": "error",
     "traceback": [
      "\u001b[0;31m---------------------------------------------------------------------------\u001b[0m",
      "\u001b[0;31mNameError\u001b[0m                                 Traceback (most recent call last)",
      "Cell \u001b[0;32mIn[33], line 8\u001b[0m\n\u001b[1;32m      5\u001b[0m     \u001b[38;5;28;01mreturn\u001b[39;00m the_area\n\u001b[1;32m      7\u001b[0m \u001b[38;5;28mprint\u001b[39m(area(\u001b[38;5;241m10\u001b[39m)) \u001b[38;5;66;03m# we print the value returned by our function\u001b[39;00m\n\u001b[0;32m----> 8\u001b[0m \u001b[38;5;28mprint\u001b[39m(\u001b[38;5;124mf\u001b[39m\u001b[38;5;124m'\u001b[39m\u001b[38;5;124mThe value of pi outside the function is \u001b[39m\u001b[38;5;132;01m{\u001b[39;00m\u001b[43mpi\u001b[49m\u001b[38;5;132;01m}\u001b[39;00m\u001b[38;5;124m'\u001b[39m)  \u001b[38;5;66;03m# pi only exists inside the function\u001b[39;00m\n",
      "\u001b[0;31mNameError\u001b[0m: name 'pi' is not defined"
     ]
    }
   ],
   "source": [
    "def area(radius):\n",
    "    pi = 3.14 # inside the function we change the value of pi, but this is another pi\n",
    "    the_area = pi * radius ** 2 # We calculate the area using the pi inside the function\n",
    "    print(f'The value of pi inside the function is {pi}') # we print the pi inside the function\n",
    "    return the_area\n",
    "\n",
    "print(area(10)) # we print the value returned by our function\n",
    "print(f'The value of pi outside the function is {pi}')  # pi only exists inside the function"
   ]
  },
  {
   "cell_type": "markdown",
   "metadata": {},
   "source": [
    "Functions have their own memory/variable space. We can re-define variables inside a function without it affecting the outside:"
   ]
  },
  {
   "cell_type": "code",
   "execution_count": 34,
   "metadata": {
    "tags": []
   },
   "outputs": [
    {
     "name": "stdout",
     "output_type": "stream",
     "text": [
      "The value of pi outside and before the function is 4.3\n",
      "The value of pi inside the function is 3.14\n",
      "314.0\n",
      "The value of pi outside and after the function is 4.3\n"
     ]
    }
   ],
   "source": [
    "pi=4.3  # we define pi outside the function giving it a value\n",
    "print(f'The value of pi outside and before the function is {pi}') # we print the pi outside the function\n",
    "\n",
    "def area(radius):\n",
    "    pi = 3.14 # inside the function we change the value of pi, but this is another pi\n",
    "    the_area = pi * radius ** 2 # We calculate the area using the pi inside the function\n",
    "    print(f'The value of pi inside the function is {pi}') # we print the pi inside the function\n",
    "    return the_area\n",
    "\n",
    "print(area(10)) # we print the value returned by our function\n",
    "print(f'The value of pi outside and after the function is {pi}') # we print the pi outside the function"
   ]
  },
  {
   "cell_type": "markdown",
   "metadata": {},
   "source": [
    "But: While variables created inside a function are not accessible to the outside without returning them, every variable created outside is accessible inside the function. So things can leak into the function but not out of it.\n",
    "\n",
    "This makes it hard to debug functions, since you don't have easy access to variable inside the function. That's why you should write functions from the inside out: First implement the inner logic using normal python code (so you can easily inspect the values of variables), then wrap the working code in a function."
   ]
  },
  {
   "cell_type": "code",
   "execution_count": 35,
   "metadata": {
    "tags": []
   },
   "outputs": [
    {
     "name": "stdout",
     "output_type": "stream",
     "text": [
      "The value of pi inside the function is 3.14\n"
     ]
    },
    {
     "data": {
      "text/plain": [
       "314.0"
      ]
     },
     "execution_count": 35,
     "metadata": {},
     "output_type": "execute_result"
    }
   ],
   "source": [
    "pi = 3.14\n",
    "def area(radius):\n",
    "    print(f'The value of pi inside the function is {pi}') # we print the pi inside the function\n",
    "    area = pi * radius ** 2 # because we are not defining any new pi inside the function, python searches the one outside the function\n",
    "    return area\n",
    "\n",
    "area(10)"
   ]
  },
  {
   "cell_type": "markdown",
   "metadata": {},
   "source": [
    "```{admonition} Clicker question \"functions scope\"([Click me!](https://go.uos.de/0ypAi))\n",
    "What is the value of x at the end of this code?\n",
    "```python\n",
    "d = 10\n",
    "def my_fun(a, b=0, c=0):\n",
    "    d = 100\n",
    "    return a + b + c + d\n",
    "\n",
    "x = my_fun(20)\n",
    "```\n",
    "```"
   ]
  },
  {
   "cell_type": "markdown",
   "metadata": {},
   "source": [
    "## Documenting functions\n",
    "How do you know what a function does? You can inspect the code and try to infer what is going on. If you are lucky, the function is well documented with a so-called \"doc string\".\n",
    "\n",
    "The doc string is a block of text, enclosed by triple double quotes (`\"\"\"`) and must contain the following information (but you can add more information if necessary):\n",
    "1. A one-sentence decription of what the function does.\n",
    "2. A block defining the function arguments and what they do.\n",
    "3. A block definign what the function returns "
   ]
  },
  {
   "cell_type": "code",
   "execution_count": null,
   "metadata": {},
   "outputs": [],
   "source": [
    "def mean(data):\n",
    "    \"\"\"Compute the mean of a list of numbers.\n",
    "\n",
    "    Args:\n",
    "        data (List of numbers)\n",
    "\n",
    "    Returns:\n",
    "        float: The mean\n",
    "    \"\"\"\n",
    "\n",
    "    # compute the sum\n",
    "    data_sum = 0\n",
    "    for d in data:\n",
    "        data_sum += d\n",
    "\n",
    "    # convert the sum into the mean\n",
    "    data_mean = data_sum / len(data)\n",
    "\n",
    "    return data_mean\n"
   ]
  },
  {
   "cell_type": "markdown",
   "metadata": {},
   "source": [
    "You can print the doc string using the `help` function:"
   ]
  },
  {
   "cell_type": "code",
   "execution_count": null,
   "metadata": {},
   "outputs": [
    {
     "name": "stdout",
     "output_type": "stream",
     "text": [
      "Help on function mean in module __main__:\n",
      "\n",
      "mean(data)\n",
      "    Compute the mean of a list of numbers.\n",
      "\n",
      "    Args:\n",
      "        data (List of numbers)\n",
      "\n",
      "    Returns:\n",
      "        float: The mean\n",
      "\n"
     ]
    }
   ],
   "source": [
    "help(mean)"
   ]
  }
 ],
 "metadata": {
  "kernelspec": {
   "display_name": "neu715",
   "language": "python",
   "name": "python3"
  },
  "language_info": {
   "codemirror_mode": {
    "name": "ipython",
    "version": 3
   },
   "file_extension": ".py",
   "mimetype": "text/x-python",
   "name": "python",
   "nbconvert_exporter": "python",
   "pygments_lexer": "ipython3",
   "version": "3.12.7"
  }
 },
 "nbformat": 4,
 "nbformat_minor": 4
}
