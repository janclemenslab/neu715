{
 "cells": [
  {
   "cell_type": "markdown",
   "metadata": {},
   "source": [
    "# Lecture 2.4 - Handling errors with exceptions\n",
    "\n",
    "## Catch \"hidden\" errors, that won't make your program fail, but produce wrong results\n",
    "In the below example, concatenate will only work as expected if the inputs are two lists, not of the inputs are numbers:"
   ]
  },
  {
   "cell_type": "code",
   "execution_count": 1,
   "metadata": {},
   "outputs": [
    {
     "name": "stdout",
     "output_type": "stream",
     "text": [
      "[1, 2, 3, 10, 20, 30]\n",
      "5\n"
     ]
    }
   ],
   "source": [
    "# hidden error\n",
    "def concat(l1, l2):\n",
    "    \"\"\"Concatenates two lists.\n",
    "\n",
    "    Args:\n",
    "        l1 (list): First list to concatenate.\n",
    "        l2 (list): Second list to concatenate\n",
    "\n",
    "    Returns:\n",
    "        list: Concatenated list [*l1, *l2]\n",
    "    \"\"\"\n",
    "    return l1 + l2\n",
    "\n",
    "a = [1,2,3]\n",
    "b = [10,20,30]\n",
    "\n",
    "print(concat(a, b))  # this works of intended\n",
    "print(concat(2, 3))  # this does not raise an error but produces a wrong result"
   ]
  },
  {
   "cell_type": "markdown",
   "metadata": {},
   "source": [
    "It is therefore useful to check that the inputs are indeed lists.\n",
    "\n",
    "While the function `type(var_name)` can be used to print the type of a variable, `isinstance(var_name, target_type)` is used to check whether a variable is of a specific type (is an instance of a type).\n",
    "\n",
    "Now, if the inputs are not lists, we produce an error. This is also called \"raising an exception\": `raise Kind_of_error(error_message_as_string)`.\n",
    "\n",
    "In this example, we raise a `TypeError`, because the type of the input arguments is wrong. More info on different kinds of errors below and in the [python docs](https://docs.python.org/3/library/exceptions.html)."
   ]
  },
  {
   "cell_type": "code",
   "execution_count": 2,
   "metadata": {},
   "outputs": [
    {
     "name": "stdout",
     "output_type": "stream",
     "text": [
      "[1, 2, 3, 10, 20, 30]\n"
     ]
    },
    {
     "ename": "TypeError",
     "evalue": "Both arguments need to be lists.",
     "output_type": "error",
     "traceback": [
      "\u001b[0;31m---------------------------------------------------------------------------\u001b[0m",
      "\u001b[0;31mTypeError\u001b[0m                                 Traceback (most recent call last)",
      "Cell \u001b[0;32mIn[2], line 22\u001b[0m\n\u001b[1;32m     19\u001b[0m b \u001b[39m=\u001b[39m [\u001b[39m10\u001b[39m, \u001b[39m20\u001b[39m, \u001b[39m30\u001b[39m]\n\u001b[1;32m     21\u001b[0m \u001b[39mprint\u001b[39m(concat(a, b))  \u001b[39m# this works of intended\u001b[39;00m\n\u001b[0;32m---> 22\u001b[0m \u001b[39mprint\u001b[39m(concat(\u001b[39m2\u001b[39;49m, \u001b[39m3\u001b[39;49m))  \u001b[39m# this does not raise an error but produces a wrong result\u001b[39;00m\n",
      "Cell \u001b[0;32mIn[2], line 14\u001b[0m, in \u001b[0;36mconcat\u001b[0;34m(l1, l2)\u001b[0m\n\u001b[1;32m     12\u001b[0m \u001b[39m# check args\u001b[39;00m\n\u001b[1;32m     13\u001b[0m \u001b[39mif\u001b[39;00m \u001b[39mnot\u001b[39;00m \u001b[39misinstance\u001b[39m(l1, \u001b[39mlist\u001b[39m) \u001b[39mor\u001b[39;00m \u001b[39mnot\u001b[39;00m \u001b[39misinstance\u001b[39m(l2, \u001b[39mlist\u001b[39m):\n\u001b[0;32m---> 14\u001b[0m     \u001b[39mraise\u001b[39;00m \u001b[39mTypeError\u001b[39;00m(\u001b[39mf\u001b[39m\u001b[39m\"\u001b[39m\u001b[39mBoth arguments need to be lists.\u001b[39m\u001b[39m\"\u001b[39m)\n\u001b[1;32m     16\u001b[0m \u001b[39mreturn\u001b[39;00m l1 \u001b[39m+\u001b[39m l2\n",
      "\u001b[0;31mTypeError\u001b[0m: Both arguments need to be lists."
     ]
    }
   ],
   "source": [
    "# hidden error\n",
    "def concat(l1, l2):\n",
    "    \"\"\"Concatenates two lists.\n",
    "\n",
    "    Args:\n",
    "        l1 (list): First list to concatenate.\n",
    "        l2 (list): Second list to concatenate\n",
    "\n",
    "    Returns:\n",
    "        list: Concatenated list [*l1, *l2]\n",
    "    \"\"\"\n",
    "    # check args\n",
    "    if not isinstance(l1, list) or not isinstance(l2, list):\n",
    "        raise TypeError(f\"Both arguments need to be lists.\")\n",
    "\n",
    "    return l1 + l2\n",
    "\n",
    "a = [1, 2, 3]\n",
    "b = [10, 20, 30]\n",
    "\n",
    "print(concat(a, b))  # this works of intended\n",
    "print(concat(2, 3))  # now this raises an error\n"
   ]
  },
  {
   "cell_type": "markdown",
   "metadata": {},
   "source": [
    "#### Catch errors to prevent the program from failing and for providing useful feedback\n",
    "To prevent our program from crashing, and potentially fixing the cause of the error, we can \"catch\" an exception using try-except:\n",
    "```python\n",
    "try:\n",
    "    # some code\n",
    "except TypeError as e:\n",
    "    # catch a specific kind of error\n",
    "except:\n",
    "    # catch any type of error\n",
    "```\n",
    "\n",
    "This pattern is also called \"Ask for forgiveness not permission\"..."
   ]
  },
  {
   "cell_type": "code",
   "execution_count": 4,
   "metadata": {},
   "outputs": [
    {
     "name": "stdout",
     "output_type": "stream",
     "text": [
      "concat failed with the following error:\n",
      "Both arguments need to be lists.\n",
      "fixing things...\n",
      "[2, 3]\n"
     ]
    }
   ],
   "source": [
    "a = 2\n",
    "b = 3\n",
    "\n",
    "try:\n",
    "    result = concat(a, b)\n",
    "except ValueError as e:\n",
    "    print('concat raised a ValueError.')\n",
    "except TypeError as e:\n",
    "    print('concat failed with the following error:')\n",
    "    print(e)\n",
    "    print('fixing things...')\n",
    "    if not isinstance(a, list):\n",
    "        a = [a]\n",
    "    if not isinstance(b, list):\n",
    "        b = [b]\n",
    "    result = concat(a, b)\n",
    "\n",
    "print(result)"
   ]
  },
  {
   "cell_type": "markdown",
   "metadata": {},
   "source": [
    "There are two approaches to dealing with errors:\n",
    "- \"Look before you leap\" - first check for potential errors, then execture.\n",
    "- \"Easier to ask for forgiveness than permission\" - just try it and catch the error."
   ]
  },
  {
   "cell_type": "code",
   "execution_count": 16,
   "metadata": {},
   "outputs": [
    {
     "name": "stdout",
     "output_type": "stream",
     "text": [
      "key 'tom' not in dct\n"
     ]
    }
   ],
   "source": [
    "dct = {}\n",
    "key = 'tom'\n",
    "\n",
    "# Look before you leap\n",
    "if key in dct:  # check for existence of key before doing sth\n",
    "    print(key, dct[key])  # now we know that key is in dct, so we can print it\n",
    "\n",
    "# Easier to ask for forgiveness than permission\n",
    "try:  # just try and see\n",
    "    print(key, dct[key])  # try to print the dct value for key\n",
    "except KeyError as e:\n",
    "    print(f\"key '{key}' not in dct\")  # catch the error"
   ]
  },
  {
   "cell_type": "markdown",
   "metadata": {},
   "source": [
    "### Common exceptions"
   ]
  },
  {
   "cell_type": "markdown",
   "metadata": {},
   "source": [
    "IndexError - accessing a non-existing list index"
   ]
  },
  {
   "cell_type": "code",
   "execution_count": 17,
   "metadata": {},
   "outputs": [
    {
     "ename": "IndexError",
     "evalue": "list index out of range",
     "output_type": "error",
     "traceback": [
      "\u001b[0;31m---------------------------------------------------------------------------\u001b[0m",
      "\u001b[0;31mIndexError\u001b[0m                                Traceback (most recent call last)",
      "Cell \u001b[0;32mIn[17], line 2\u001b[0m\n\u001b[1;32m      1\u001b[0m a \u001b[39m=\u001b[39m [\u001b[39m2\u001b[39m,\u001b[39m3\u001b[39m,\u001b[39m4\u001b[39m]\n\u001b[0;32m----> 2\u001b[0m a[\u001b[39m10\u001b[39;49m]\n",
      "\u001b[0;31mIndexError\u001b[0m: list index out of range"
     ]
    }
   ],
   "source": [
    "a = [2,3,4]\n",
    "a[10]"
   ]
  },
  {
   "cell_type": "markdown",
   "metadata": {},
   "source": [
    "KeyError  - accessing a non-existing key:value pair"
   ]
  },
  {
   "cell_type": "code",
   "execution_count": 18,
   "metadata": {},
   "outputs": [
    {
     "ename": "KeyError",
     "evalue": "'better'",
     "output_type": "error",
     "traceback": [
      "\u001b[0;31m---------------------------------------------------------------------------\u001b[0m",
      "\u001b[0;31mKeyError\u001b[0m                                  Traceback (most recent call last)",
      "Cell \u001b[0;32mIn[18], line 2\u001b[0m\n\u001b[1;32m      1\u001b[0m d \u001b[39m=\u001b[39m {\u001b[39m'\u001b[39m\u001b[39mtest\u001b[39m\u001b[39m'\u001b[39m:\u001b[39m10\u001b[39m, \u001b[39m'\u001b[39m\u001b[39mloop\u001b[39m\u001b[39m'\u001b[39m: \u001b[39m13\u001b[39m}\n\u001b[0;32m----> 2\u001b[0m d[\u001b[39m'\u001b[39;49m\u001b[39mbetter\u001b[39;49m\u001b[39m'\u001b[39;49m]\n",
      "\u001b[0;31mKeyError\u001b[0m: 'better'"
     ]
    }
   ],
   "source": [
    "d = {'test':10, 'loop': 13}\n",
    "d['better']"
   ]
  },
  {
   "cell_type": "markdown",
   "metadata": {},
   "source": [
    "AttributeError - using a non-existing \"attribute\""
   ]
  },
  {
   "cell_type": "code",
   "execution_count": 19,
   "metadata": {},
   "outputs": [
    {
     "ename": "AttributeError",
     "evalue": "'dict' object has no attribute 'thesaurus'",
     "output_type": "error",
     "traceback": [
      "\u001b[0;31m---------------------------------------------------------------------------\u001b[0m",
      "\u001b[0;31mAttributeError\u001b[0m                            Traceback (most recent call last)",
      "Cell \u001b[0;32mIn[19], line 2\u001b[0m\n\u001b[1;32m      1\u001b[0m d \u001b[39m=\u001b[39m {\u001b[39m'\u001b[39m\u001b[39mtest\u001b[39m\u001b[39m'\u001b[39m:\u001b[39m10\u001b[39m, \u001b[39m'\u001b[39m\u001b[39mloop\u001b[39m\u001b[39m'\u001b[39m: \u001b[39m13\u001b[39m}\n\u001b[0;32m----> 2\u001b[0m d\u001b[39m.\u001b[39;49mthesaurus(\u001b[39m10\u001b[39m)\n",
      "\u001b[0;31mAttributeError\u001b[0m: 'dict' object has no attribute 'thesaurus'"
     ]
    }
   ],
   "source": [
    "d = {'test':10, 'loop': 13}\n",
    "d.thesaurus(10)"
   ]
  },
  {
   "cell_type": "markdown",
   "metadata": {},
   "source": [
    "ImportError and Module NotFoundError"
   ]
  },
  {
   "cell_type": "code",
   "execution_count": 20,
   "metadata": {},
   "outputs": [
    {
     "ename": "ModuleNotFoundError",
     "evalue": "No module named 'i_do_not_exist'",
     "output_type": "error",
     "traceback": [
      "\u001b[0;31m---------------------------------------------------------------------------\u001b[0m",
      "\u001b[0;31mModuleNotFoundError\u001b[0m                       Traceback (most recent call last)",
      "Cell \u001b[0;32mIn[20], line 1\u001b[0m\n\u001b[0;32m----> 1\u001b[0m \u001b[39mimport\u001b[39;00m \u001b[39mi_do_not_exist\u001b[39;00m\n",
      "\u001b[0;31mModuleNotFoundError\u001b[0m: No module named 'i_do_not_exist'"
     ]
    }
   ],
   "source": [
    "import i_do_not_exist"
   ]
  },
  {
   "cell_type": "markdown",
   "metadata": {},
   "source": [
    "NameError"
   ]
  },
  {
   "cell_type": "code",
   "execution_count": 21,
   "metadata": {},
   "outputs": [
    {
     "ename": "NameError",
     "evalue": "name 'non_existing_variable' is not defined",
     "output_type": "error",
     "traceback": [
      "\u001b[0;31m---------------------------------------------------------------------------\u001b[0m",
      "\u001b[0;31mNameError\u001b[0m                                 Traceback (most recent call last)",
      "Cell \u001b[0;32mIn[21], line 1\u001b[0m\n\u001b[0;32m----> 1\u001b[0m non_existing_variable \u001b[39m+\u001b[39m \u001b[39m10\u001b[39m\n",
      "\u001b[0;31mNameError\u001b[0m: name 'non_existing_variable' is not defined"
     ]
    }
   ],
   "source": [
    "non_existing_variable + 10"
   ]
  },
  {
   "cell_type": "markdown",
   "metadata": {},
   "source": [
    "SyntaxError"
   ]
  },
  {
   "cell_type": "code",
   "execution_count": 22,
   "metadata": {},
   "outputs": [
    {
     "ename": "SyntaxError",
     "evalue": "invalid syntax (53219979.py, line 1)",
     "output_type": "error",
     "traceback": [
      "\u001b[0;36m  Cell \u001b[0;32mIn[22], line 1\u001b[0;36m\u001b[0m\n\u001b[0;31m    for i in range(10)  # forgot the :\u001b[0m\n\u001b[0m                        ^\u001b[0m\n\u001b[0;31mSyntaxError\u001b[0m\u001b[0;31m:\u001b[0m invalid syntax\n"
     ]
    }
   ],
   "source": [
    "for i in range(10)  # forgot the :\n",
    "    print(i)"
   ]
  }
 ],
 "metadata": {
  "kernelspec": {
   "display_name": "Python 3 (ipykernel)",
   "language": "python",
   "name": "python3"
  },
  "language_info": {
   "codemirror_mode": {
    "name": "ipython",
    "version": 3
   },
   "file_extension": ".py",
   "mimetype": "text/x-python",
   "name": "python",
   "nbconvert_exporter": "python",
   "pygments_lexer": "ipython3",
   "version": "3.11.6"
  },
  "vscode": {
   "interpreter": {
    "hash": "7ea0ec616133ead53c1908c8f6539f5c0cb9b2f78368e2bb6ab3f847e89ca400"
   }
  }
 },
 "nbformat": 4,
 "nbformat_minor": 4
}
