{
 "cells": [
  {
   "cell_type": "markdown",
   "metadata": {},
   "source": [
    "# Numerical computing and data science - numpy, scipy, pandas\n",
    "Numpy is the foundation for numerical computing in python. It enables fast numerical operations, by moving computationally expensive computations to faster code.\n",
    "\n",
    "Numpy itself mainly provides \"low-level\" functions for handling vector data:\n",
    "- multi-dimensional numerical arrays to represent vectors, matrices etc (`np.ndarray`)\n",
    "- multi-dimensional indexing and slicing\n",
    "- boolean indexing\n",
    "- functions for searching and filtering data: min/max, argmax, where (e.g. find pos. values: how many, at which indices, which values?)\n",
    "- basic statistical functions: np.sum, np.mean, np.std\n",
    "- linear algebra (dot products, eigenvalues etc), Fourier transforms, interpolation\n",
    "\n",
    "Numpy forms the basis for a whole eco system of scientific computing:\n",
    "1. _Scipy_ provides more advanced algorithms. We will cover the following:\n",
    "    - statistics and statistical tests (mean, std, ttest, anova, non-parametric tests)\n",
    "    - linear regression and curve fitting\n",
    "    - frequency analyses\n",
    "2. _Pandas_ provides a way for handling tabular data with named columns and rows, plus the ability to load/save common file formats\n",
    "    \n",
    "_Numpy for matlab users_:\n",
    "If you know Matlab, than numpy is conceptually very similar. Here is a great resource for matlab users that want to use numpy: [Numpy for Matlab users](https://numpy.org/doc/stable/user/numpy-for-matlab-users.html).\n",
    "\n",
    "Last remark - numpy, scipy, and pandas are large packages, with many functions. We will only scratch the surface of what can be done with these.\n"
   ]
  },
  {
   "cell_type": "markdown",
   "metadata": {},
   "source": [
    "## Why?\n",
    "Numpy allows you to express common computations on arrays more concisely, without needing for loops. Numpy is also much faster."
   ]
  },
  {
   "cell_type": "code",
   "execution_count": 4,
   "metadata": {
    "tags": []
   },
   "outputs": [],
   "source": [
    "import numpy as np\n",
    "\n",
    "# data = {}\n",
    "# data['voltage_trace'] = np.load('data/voltage_trace_long.npz', allow_pickle=True)['voltage_trace'][:]\n",
    "# data['times_seconds'] = np.arange(len(data['voltage_trace'])) / 10 / 60 / 60\n",
    "# np.savez_compressed('data/voltage_trace_long.npz', **data)\n",
    "\n",
    "data = np.load('data/voltage_trace_long.npz')\n",
    "voltages = data['voltage_trace']\n",
    "times = data['times_seconds']\n",
    "\n",
    "threshold = 10"
   ]
  },
  {
   "cell_type": "code",
   "execution_count": 18,
   "metadata": {},
   "outputs": [
    {
     "name": "stdout",
     "output_type": "stream",
     "text": [
      "CPU times: user 8.73 s, sys: 91.7 ms, total: 8.82 s\n",
      "Wall time: 8.84 s\n"
     ]
    }
   ],
   "source": [
    "%%time\n",
    "spike_times = []\n",
    "for index in range(len(voltages)):\n",
    "    if voltages[index] > threshold:\n",
    "        spike_times.append(times[index])"
   ]
  },
  {
   "cell_type": "markdown",
   "metadata": {},
   "source": [
    "With numpy this is a one-liner and almost 100x faster:"
   ]
  },
  {
   "cell_type": "code",
   "execution_count": 19,
   "metadata": {},
   "outputs": [
    {
     "name": "stdout",
     "output_type": "stream",
     "text": [
      "CPU times: user 106 ms, sys: 20 ms, total: 126 ms\n",
      "Wall time: 125 ms\n"
     ]
    }
   ],
   "source": [
    "%%time\n",
    "spike_times = times[voltages > threshold]"
   ]
  },
  {
   "cell_type": "markdown",
   "metadata": {},
   "source": [
    "## From lists to numpy arrays\n",
    "We have a list of numbers and want to subtract the mean from each value in the list.\n",
    "This is how it looks using core python:"
   ]
  },
  {
   "cell_type": "code",
   "execution_count": 28,
   "metadata": {
    "tags": []
   },
   "outputs": [
    {
     "data": {
      "text/plain": [
       "[-0.33333333333333215,\n",
       " -18.333333333333332,\n",
       " 7.666666666666668,\n",
       " -15.333333333333332,\n",
       " 7.666666666666668,\n",
       " 18.666666666666668]"
      ]
     },
     "execution_count": 28,
     "metadata": {},
     "output_type": "execute_result"
    }
   ],
   "source": [
    "data = [24, 6, 32, 9, 32, 43]\n",
    "\n",
    "# compute the mean\n",
    "mean = 0\n",
    "for d in data:\n",
    "    mean = mean + d\n",
    "mean = mean / len(data)\n",
    "\n",
    "# subtract the mean from each element of the list\n",
    "new_data = []\n",
    "for d in data:\n",
    "    new_data.append(d - mean)\n",
    "\n",
    "new_data"
   ]
  },
  {
   "cell_type": "markdown",
   "metadata": {},
   "source": [
    "Wouldn't it be nice if we could write code that is closer to how we would express the mathematical operation we want to perform, without needing a for loop?\n",
    "\n",
    "Like, $\\vec{y} = \\vec{x} - m(\\vec{x})$, where $m$ is a mathematical function that returns the mean of the elements in $\\vec{x}$.\n",
    "\n",
    "You can't do this with python lists, because python lists are a generic data type, not optimized for numerical data and computation.\n",
    "\n",
    "This is exactly where numpy comes into play - it makes working with numerical data easier and faster, by providing a specialized, numerical, data type - the numpy array - and numerical functions:"
   ]
  },
  {
   "cell_type": "code",
   "execution_count": 29,
   "metadata": {
    "tags": []
   },
   "outputs": [
    {
     "data": {
      "text/plain": [
       "array([ -0.33333333, -18.33333333,   7.66666667, -15.33333333,\n",
       "         7.66666667,  18.66666667])"
      ]
     },
     "execution_count": 29,
     "metadata": {},
     "output_type": "execute_result"
    }
   ],
   "source": [
    "import numpy as np  # this is the standard way of importing numpy, as np!\n",
    "\n",
    "array = np.array(data)  # cast the list into a numpy array\n",
    "\n",
    "new_array = array - np.mean(data)  # compute the mean and subtract it from each element in the array\n",
    "new_array"
   ]
  },
  {
   "cell_type": "markdown",
   "metadata": {},
   "source": [
    "So, while you can express any computation using core python, often with for loops, numpy allows you to express these computations more concisely, without for loops.\n",
    "\n",
    "In addition, numpy (and scipy) provide functions for many complex computations, so you don't have to implement them yourself.\n",
    "\n",
    "Overall, this makes code easier to read (less text) and faster to execute.\n",
    "\n",
    "We will see more examples of this below."
   ]
  },
  {
   "cell_type": "markdown",
   "metadata": {},
   "source": [
    "### Numpy arrays\n",
    "A numpy array can be created from a python list using `np.array`.\n",
    "\n",
    "We can inspect the array:"
   ]
  },
  {
   "cell_type": "code",
   "execution_count": 4,
   "metadata": {
    "tags": []
   },
   "outputs": [
    {
     "name": "stdout",
     "output_type": "stream",
     "text": [
      "data=array([24.4,  6.5, 32.3,  9.8, 32.1, 43.7])\n",
      "Shape: data.shape=(6,)\n",
      "This returns the size of the first dimension: len(data)=6\n",
      "Data type of the array elements data.dtype=dtype('float64')\n"
     ]
    }
   ],
   "source": [
    "import numpy as np\n",
    "\n",
    "data = np.array([24.4, 6.5, 32.3, 9.8, 32.1, 43.7])\n",
    "print(f\"{data=}\")\n",
    "print(f\"Shape: {data.shape=}\")\n",
    "print(f\"This returns the size of the first dimension: {len(data)=}\")\n",
    "print(f\"Data type of the array elements {data.dtype=}\")"
   ]
  },
  {
   "cell_type": "markdown",
   "metadata": {},
   "source": [
    "Numpy arrays can be multi-dimensional. This is useful for a lot of scientific data you might encounter:\n",
    "- black and white images are 2D matrices of pixel color values - XxY\n",
    "- color images are 3D matrices of pixel color values - XxYxColor (Color=RGB)\n",
    "- volumetric data (microscopy stacks, structural MRI stacks) are 3D matrices - stacks of images - XxYxZ\n",
    "- behavioral videos or fMRI data can be represented as 3D matrices - a time series of images - XxYxTime\n",
    "- multi-channel audio or electrophysiology data are often 2D matrices - TimexChannel\n",
    "\n",
    "The following will create a matrix (2D array) from a nested list:"
   ]
  },
  {
   "cell_type": "code",
   "execution_count": 5,
   "metadata": {
    "tags": []
   },
   "outputs": [
    {
     "name": "stdout",
     "output_type": "stream",
     "text": [
      "data=array([[24,  6, 32],\n",
      "       [ 9, 32, 43]])\n",
      "Shape: data.shape=(2, 3)\n",
      "Data type of the array elements data.dtype=dtype('int64')\n"
     ]
    }
   ],
   "source": [
    "data = np.array([[24, 6, 32],[9, 32, 43]])\n",
    "print(f\"{data=}\")\n",
    "print(f\"Shape: {data.shape=}\")\n",
    "print(f\"Data type of the array elements {data.dtype=}\")"
   ]
  },
  {
   "cell_type": "markdown",
   "metadata": {},
   "source": [
    "### Array creation\n",
    "\n",
    "Numpy also provides tools for creating \"empty\" arrays of a specific size, to be filled with data later:"
   ]
  },
  {
   "cell_type": "code",
   "execution_count": 7,
   "metadata": {
    "tags": []
   },
   "outputs": [
    {
     "name": "stdout",
     "output_type": "stream",
     "text": [
      "ones: [1. 1. 1. 1.]\n",
      "zeros: [0. 0. 0. 0.]\n",
      "ones 2D: [[1. 1. 1. 1.]\n",
      " [1. 1. 1. 1.]]\n",
      "arange: [-1.   -0.75 -0.5  -0.25  0.    0.25  0.5   0.75]\n",
      "linspace: [ 0.          3.33333333  6.66666667 10.        ]\n"
     ]
    }
   ],
   "source": [
    "print('ones:', np.ones(shape=4))\n",
    "print('zeros:', np.zeros(shape=4))\n",
    "print('ones 2D:', np.ones(shape=(2,4)))\n",
    "print('arange:', np.arange(-1, 1, 0.25))  # like range but allows non-integer arguments (start, stop, step)\n",
    "print('linspace:', np.linspace(0, 10, 4))"
   ]
  },
  {
   "cell_type": "markdown",
   "metadata": {},
   "source": [
    "### Indexing and slicing\n",
    "Indexing and slicing numpy arrays works similar as for lists.\n",
    "\n",
    "However, numpy also provides multi-dimensional indexing:"
   ]
  },
  {
   "cell_type": "code",
   "execution_count": 9,
   "metadata": {
    "tags": []
   },
   "outputs": [
    {
     "name": "stdout",
     "output_type": "stream",
     "text": [
      "[[24  6 32]\n",
      " [ 9 32 43]]\n",
      "element at second row, first column: data[1, 0]=np.int64(9)\n",
      "first row: data[0, :]=array([24,  6, 32])\n",
      "equivalent to: data[0]=array([24,  6, 32])\n",
      "first column: data[:, 0]=array([24,  9])\n",
      "first two columns: data[:, :2]=array([[24,  6],\n",
      "       [ 9, 32]])\n",
      "last column: data[:, -1]=array([32, 43])\n"
     ]
    }
   ],
   "source": [
    "data = np.array([[24, 6, 32],[9, 32, 43]])\n",
    "\n",
    "print(data)\n",
    "print(f\"element at second row, first column: {data[1, 0]=}\")\n",
    "print(f\"first row: {data[0, :]=}\")\n",
    "print(f\"equivalent to: {data[0]=}\")\n",
    "print(f\"first column: {data[:, 0]=}\")\n",
    "print(f\"first two columns: {data[:, :2]=}\")\n",
    "print(f\"last column: {data[:, -1]=}\")"
   ]
  },
  {
   "cell_type": "markdown",
   "metadata": {},
   "source": [
    "One can also use arrays or lists as indices for arrays. This was not possible with lists. "
   ]
  },
  {
   "cell_type": "code",
   "execution_count": 10,
   "metadata": {},
   "outputs": [
    {
     "name": "stdout",
     "output_type": "stream",
     "text": [
      "data=array([ 0,  2,  4,  6,  8, 10, 12, 14, 16, 18, 20, 22, 24, 26, 28, 30, 32,\n",
      "       34, 36, 38])\n",
      "indices=[1, 2, 3]\n",
      "data values at the indices: data[indices]=array([2, 4, 6])\n"
     ]
    }
   ],
   "source": [
    "data = np.arange(0, 40, 2)\n",
    "\n",
    "print(f\"{data=}\")\n",
    "\n",
    "indices = [1, 2, 3]\n",
    "print(f\"{indices=}\")\n",
    "print(f\"data values at the indices: {data[indices]=}\")"
   ]
  },
  {
   "cell_type": "markdown",
   "metadata": {},
   "source": [
    "```{admonition} Clicker question \"numpy indexing\"([Click me!](https://go.uos.de/0ypAi))\n",
    "Which of the following expressions is correct?\n",
    "\n",
    "```python\n",
    "a = np.array([[1,2], [10, 20]])\n",
    "[[ 1  2]\n",
    " [10 20]]\n",
    "\n",
    "print(a[0, :]): [1, 2]\n",
    "print(a[0]): [1]\n",
    "print(a[:, 0]): [1, 20]\n",
    "print(a[:, -1]): [2, 20]\n",
    "```"
   ]
  },
  {
   "cell_type": "markdown",
   "metadata": {},
   "source": [
    "__Important__ As with lists, the type of the indices must not be `float`. They should `int` or `bool`."
   ]
  },
  {
   "cell_type": "code",
   "execution_count": 11,
   "metadata": {},
   "outputs": [
    {
     "name": "stdout",
     "output_type": "stream",
     "text": [
      "Indices are of type float: indices.dtype=dtype('float64')\n"
     ]
    },
    {
     "ename": "IndexError",
     "evalue": "arrays used as indices must be of integer (or boolean) type",
     "output_type": "error",
     "traceback": [
      "\u001b[0;31m---------------------------------------------------------------------------\u001b[0m",
      "\u001b[0;31mIndexError\u001b[0m                                Traceback (most recent call last)",
      "Cell \u001b[0;32mIn[11], line 3\u001b[0m\n\u001b[1;32m      1\u001b[0m indices \u001b[38;5;241m=\u001b[39m np\u001b[38;5;241m.\u001b[39marray([\u001b[38;5;241m1.0\u001b[39m, \u001b[38;5;241m7.0\u001b[39m, \u001b[38;5;241m18.0\u001b[39m])\n\u001b[1;32m      2\u001b[0m \u001b[38;5;28mprint\u001b[39m(\u001b[38;5;124mf\u001b[39m\u001b[38;5;124m\"\u001b[39m\u001b[38;5;124mIndices are of type float: \u001b[39m\u001b[38;5;132;01m{\u001b[39;00mindices\u001b[38;5;241m.\u001b[39mdtype\u001b[38;5;132;01m=}\u001b[39;00m\u001b[38;5;124m\"\u001b[39m)\n\u001b[0;32m----> 3\u001b[0m \u001b[38;5;28mprint\u001b[39m(\u001b[38;5;124mf\u001b[39m\u001b[38;5;124m\"\u001b[39m\u001b[38;5;124mThis does not work: \u001b[39m\u001b[38;5;132;01m{\u001b[39;00m\u001b[43mdata\u001b[49m\u001b[43m[\u001b[49m\u001b[43mindices\u001b[49m\u001b[43m]\u001b[49m\u001b[38;5;132;01m=}\u001b[39;00m\u001b[38;5;124m\"\u001b[39m)\n",
      "\u001b[0;31mIndexError\u001b[0m: arrays used as indices must be of integer (or boolean) type"
     ]
    }
   ],
   "source": [
    "indices = np.array([1.0, 7.0, 18.0])\n",
    "print(f\"Indices are of type float: {indices.dtype=}\")\n",
    "print(f\"This does not work: {data[indices]=}\")"
   ]
  },
  {
   "cell_type": "markdown",
   "metadata": {},
   "source": [
    "### Assigning values\n",
    "Assignment works similarly to indexing:"
   ]
  },
  {
   "cell_type": "code",
   "execution_count": 12,
   "metadata": {
    "tags": []
   },
   "outputs": [
    {
     "name": "stdout",
     "output_type": "stream",
     "text": [
      "[[0. 0. 0. 0. 0. 0. 0. 0. 0. 0.]\n",
      " [0. 0. 0. 0. 0. 0. 0. 0. 0. 0.]\n",
      " [0. 0. 0. 0. 0. 0. 0. 0. 0. 0.]\n",
      " [0. 0. 0. 0. 0. 0. 0. 0. 0. 0.]\n",
      " [0. 0. 0. 0. 0. 0. 0. 0. 0. 0.]\n",
      " [0. 0. 0. 0. 0. 0. 0. 0. 0. 0.]\n",
      " [0. 0. 0. 0. 0. 0. 0. 0. 0. 0.]\n",
      " [0. 0. 0. 0. 0. 0. 0. 0. 0. 0.]\n",
      " [0. 0. 0. 0. 0. 0. 0. 0. 0. 0.]\n",
      " [0. 0. 0. 0. 0. 0. 0. 0. 0. 0.]]\n",
      "[[ 0.  0.  0.  0.  0.  0.  0.  0.  0.  0.]\n",
      " [ 0.  0.  0.  0.  0.  0.  0.  0.  0.  0.]\n",
      " [ 0.  0.  0.  0.  0.  0.  0.  0.  0.  0.]\n",
      " [ 0.  0.  0.  0.  0.  0.  0.  0.  0.  0.]\n",
      " [ 0.  0.  0.  0.  0.  0.  0.  0.  0.  0.]\n",
      " [ 0.  0.  0.  0.  0.  0.  0.  0.  0.  0.]\n",
      " [ 0.  0.  0.  0.  0.  0.  0.  0.  0.  0.]\n",
      " [ 0.  0. -1.  0.  0.  0.  0.  0.  0.  0.]\n",
      " [ 0.  0.  0.  0.  0.  0.  0.  0.  0.  0.]\n",
      " [ 0.  0.  0.  0.  0.  0.  0.  0.  0.  0.]]\n",
      "[[  0.   0.   0.   0.   0.   0.   0.   0.   0.   0.]\n",
      " [  0.   0.   0.   0.   0. 100. 100. 100.   0.   0.]\n",
      " [  0.   0.   0.   0.   0. 100. 100. 100.   0.   0.]\n",
      " [  0.   0.   0.   0.   0. 100. 100. 100.   0.   0.]\n",
      " [  0.   0.   0.   0.   0.   0.   0.   0.   0.   0.]\n",
      " [  0.   0.   0.   0.   0.   0.   0.   0.   0.   0.]\n",
      " [  0.   0.   0.   0.   0.   0.   0.   0.   0.   0.]\n",
      " [  0.   0.  -1.   0.   0.   0.   0.   0.   0.   0.]\n",
      " [  0.   0.   0.   0.   0.   0.   0.   0.   0.   0.]\n",
      " [  0.   0.   0.   0.   0.   0.   0.   0.   0.   0.]]\n"
     ]
    }
   ],
   "source": [
    "d = np.zeros((10, 10))\n",
    "print(d)\n",
    "\n",
    "d[7, 2] = -1\n",
    "print(d)\n",
    "\n",
    "d[1:4, 5:8] = 100\n",
    "print(d)"
   ]
  },
  {
   "cell_type": "markdown",
   "metadata": {},
   "source": [
    "### Math"
   ]
  },
  {
   "cell_type": "code",
   "execution_count": 29,
   "metadata": {},
   "outputs": [
    {
     "name": "stdout",
     "output_type": "stream",
     "text": [
      "data=array([0.        , 0.11111111, 0.22222222, 0.33333333, 0.44444444,\n",
      "       0.55555556, 0.66666667, 0.77777778, 0.88888889, 1.        ])\n",
      "np.mean(data)=np.float64(0.5)\n",
      "np.std(data)=np.float64(0.31914236925211265)\n",
      "np.prod(data)=np.float64(0.0)\n",
      "np.diff(data)=array([0.11111111, 0.11111111, 0.11111111, 0.11111111, 0.11111111,\n",
      "       0.11111111, 0.11111111, 0.11111111, 0.11111111])\n"
     ]
    }
   ],
   "source": [
    "data = np.linspace(0, 1, 10)\n",
    "print(f\"{data=}\")\n",
    "print(f\"{np.mean(data)=}\")\n",
    "print(f\"{np.std(data)=}\")\n",
    "print(f\"{np.prod(data)=}\")\n",
    "print(f\"{np.diff(data)=}\")"
   ]
  },
  {
   "cell_type": "markdown",
   "metadata": {},
   "source": [
    "In many numpy functions, the `axis` argument allows you to apply an operation to a specific axis, not to the full matrix.\n",
    "This allows you to compute the mean only over rows, or only over columns."
   ]
  },
  {
   "cell_type": "code",
   "execution_count": 15,
   "metadata": {},
   "outputs": [
    {
     "name": "stdout",
     "output_type": "stream",
     "text": [
      "data=array([[ 1,  2,  3],\n",
      "       [10, 20, 30]])\n",
      "Mean for the full matrix: np.mean(data)=np.float64(11.0)\n",
      "For each column: np.mean(data, axis=0)=array([ 5.5, 11. , 16.5])\n",
      "For each row: np.mean(data, axis=1)=array([ 2., 20.])\n"
     ]
    }
   ],
   "source": [
    "data = np.array([[1, 2, 3], [10, 20, 30]])\n",
    "print(f\"{data=}\")\n",
    "print(f\"Mean for the full matrix: {np.mean(data)=}\")\n",
    "print(f\"For each column: {np.mean(data, axis=0)=}\")\n",
    "print(f\"For each row: {np.mean(data, axis=1)=}\")"
   ]
  },
  {
   "cell_type": "markdown",
   "metadata": {},
   "source": [
    "### Searching arrays and boolean indexing\n",
    "Just like with math, we can also apply comparisons to all elements of an array. This creates boolean arrays:"
   ]
  },
  {
   "cell_type": "code",
   "execution_count": 16,
   "metadata": {},
   "outputs": [
    {
     "name": "stdout",
     "output_type": "stream",
     "text": [
      "data=array([[24,  6, 30,  9, 32, 43]])\n",
      "data<10=array([[False,  True, False,  True, False, False]])\n"
     ]
    }
   ],
   "source": [
    "data = np.array([[24, 6, 30, 9, 32, 43]])\n",
    "print(f\"{data=}\")\n",
    "print(f\"{data<10=}\")"
   ]
  },
  {
   "cell_type": "markdown",
   "metadata": {},
   "source": [
    "If all we care about is how many values match the condition, we simply take the sum. This works because True will be interpreted as 1 and False as 0 during summation. That way, all True values contribute with 1 to the sum:"
   ]
  },
  {
   "cell_type": "code",
   "execution_count": 17,
   "metadata": {},
   "outputs": [
    {
     "name": "stdout",
     "output_type": "stream",
     "text": [
      "data=array([[24,  6, 30,  9, 32, 43]])\n",
      "np.sum(data<10)=np.int64(2)\n"
     ]
    }
   ],
   "source": [
    "print(f\"{data=}\")\n",
    "print(f\"{np.sum(data<10)=}\")"
   ]
  },
  {
   "cell_type": "markdown",
   "metadata": {},
   "source": [
    "Here's an example for a matrix with two rows. \n",
    "\n",
    "We can then use the boolean array as an index to only get the values in the array that match our condition (in this case \"<10\"). This will return only the data values for which the boolean index is `True`"
   ]
  },
  {
   "cell_type": "code",
   "execution_count": 24,
   "metadata": {},
   "outputs": [
    {
     "name": "stdout",
     "output_type": "stream",
     "text": [
      "data=array([[24,  6, 30,  9, 32, 43],\n",
      "       [18,  3,  8, 89, 38,  5]])\n",
      "data < 10=array([[False,  True, False,  True, False, False],\n",
      "       [False,  True,  True, False, False,  True]])\n",
      "data[data < 10]=array([6, 9, 3, 8, 5])\n"
     ]
    }
   ],
   "source": [
    "data = np.array([[24, 6, 30, 9, 32, 43], [18, 3, 8, 89, 38, 5]])\n",
    "\n",
    "print(f\"{data=}\")\n",
    "print(f\"{data < 10=}\")\n",
    "print(f\"{data[data < 10]=}\")\n"
   ]
  },
  {
   "cell_type": "markdown",
   "metadata": {},
   "source": [
    "We can count the total number of True values by summing over all values or we can count in rows or columns by summing only over columns and row, respectively:"
   ]
  },
  {
   "cell_type": "code",
   "execution_count": 25,
   "metadata": {},
   "outputs": [
    {
     "name": "stdout",
     "output_type": "stream",
     "text": [
      "data=array([[24,  6, 30,  9, 32, 43],\n",
      "       [18,  3,  8, 89, 38,  5]])\n",
      "(2, 6)\n",
      "data<10=array([[False,  True, False,  True, False, False],\n",
      "       [False,  True,  True, False, False,  True]])\n",
      "Total number of True values: np.sum(data<10)=np.int64(5)\n",
      "Number of True values in each column: np.sum(data<10, axis=0)=array([0, 2, 1, 1, 0, 1])\n",
      "Number of True values in each row: np.sum(data<10, axis=1)=array([2, 3])\n"
     ]
    }
   ],
   "source": [
    "print(f\"{data=}\")\n",
    "print(f\"{data.shape}\")\n",
    "print(f\"{data<10=}\")\n",
    "print(f\"Total number of True values: {np.sum(data<10)=}\")\n",
    "print(f\"Number of True values in each column: {np.sum(data<10, axis=0)=}\")\n",
    "print(f\"Number of True values in each row: {np.sum(data<10, axis=1)=}\")"
   ]
  },
  {
   "cell_type": "markdown",
   "metadata": {},
   "source": [
    "```{admonition} Clicker question \"numpy bool\"([Click me!](https://go.uos.de/0ypAi))\n",
    "Which of the following pairs of boolean expressions and results are correct?\n",
    "\n",
    "```python\n",
    "data = np.array([1, 0, 2, -1])\n",
    "\n",
    "print(data > 0): array([ True, True,  False, False])\n",
    "print(data > 0): array([ True, False,  True, False])\n",
    "\n",
    "print(data >= 0): array([ True,  False,  False, False])\n",
    "print(data >= 0): array([ True,  True,  True, False])\n",
    "\n",
    "print(data == 2): array([True, True,  False, True])\n",
    "print(data == 2): array([False, False,  True, False])\n",
    "```\n",
    "```\n"
   ]
  },
  {
   "cell_type": "markdown",
   "metadata": {},
   "source": [
    "`np.where` will return the indices at which the expression is True:"
   ]
  },
  {
   "cell_type": "code",
   "execution_count": 26,
   "metadata": {},
   "outputs": [
    {
     "name": "stdout",
     "output_type": "stream",
     "text": [
      "data.shape=(2, 6), rows=array([0, 0, 1, 1, 1]), cols=array([1, 3, 1, 2, 5])\n"
     ]
    }
   ],
   "source": [
    "rows, cols = np.where(data < 10)\n",
    "print(f\"{data.shape=}, {rows=}, {cols=}\")"
   ]
  },
  {
   "cell_type": "markdown",
   "metadata": {},
   "source": [
    "To combine different conditions on a numpy array with `and` or `or`, we need to use `np.logical_and` or `np.logical_or`:"
   ]
  },
  {
   "cell_type": "code",
   "execution_count": 35,
   "metadata": {
    "tags": []
   },
   "outputs": [
    {
     "name": "stdout",
     "output_type": "stream",
     "text": [
      "[[24  6 30  9 32 43]\n",
      " [18  3  8 89 38  5]]\n",
      "[[ True False  True False  True  True]\n",
      " [ True False False  True  True False]]\n",
      "[[ True  True  True  True False False]\n",
      " [ True  True  True False False  True]]\n",
      "[[ True False  True False False False]\n",
      " [ True False False False False False]]\n",
      "[24 30 18]\n"
     ]
    }
   ],
   "source": [
    "lower = data > 10\n",
    "upper = data < 31\n",
    "print(data)\n",
    "print(lower)\n",
    "print(upper)\n",
    "\n",
    "both = np.logical_and(lower, upper)  # takes two boolean arrays, returns a new array in which only elements are True that where True in the two inputs - lower AND upper\n",
    "\n",
    "print(both)\n",
    "print(data[both])"
   ]
  },
  {
   "cell_type": "code",
   "execution_count": 36,
   "metadata": {},
   "outputs": [
    {
     "name": "stdout",
     "output_type": "stream",
     "text": [
      "[[24  6 30  9 32 43]\n",
      " [18  3  8 89 38  5]]\n",
      "[[False  True False  True False False]\n",
      " [False  True  True False False  True]]\n",
      "[[False False False False  True  True]\n",
      " [False False False  True  True False]]\n",
      "[[False  True False  True  True  True]\n",
      " [False  True  True  True  True  True]]\n",
      "[ 6  9 32 43  3  8 89 38  5]\n"
     ]
    }
   ],
   "source": [
    "lower = data < 10\n",
    "upper = data > 31\n",
    "print(data)\n",
    "print(lower)\n",
    "print(upper)\n",
    "\n",
    "both = np.logical_or(lower, upper)  # takes two boolean arrays, returns a new array in which all elements are True that where True in at least one of the two inputs - lower OR upper\n",
    "\n",
    "print(both)\n",
    "print(data[both])"
   ]
  },
  {
   "cell_type": "markdown",
   "metadata": {},
   "source": [
    "```{admonition} Clicker question \"numpy boolean indexing\"([Click me!](https://go.uos.de/0ypAi))\n",
    "Which of these statements is correct?\n",
    "```python\n",
    "data = np.array([1, 0, 2, -1])\n",
    "print(data[data == 0]): [0]\n",
    "print(data[data > 0]): [1, 0, 2]\n",
    "print(data[data < 1]): [0, -1]\n",
    "print(data[data >-2]): [1, 0, 2, -1]\n",
    "```\n",
    "```\n",
    "\n"
   ]
  },
  {
   "cell_type": "code",
   "execution_count": null,
   "metadata": {},
   "outputs": [],
   "source": []
  }
 ],
 "metadata": {
  "kernelspec": {
   "display_name": "neu715",
   "language": "python",
   "name": "python3"
  },
  "language_info": {
   "codemirror_mode": {
    "name": "ipython",
    "version": 3
   },
   "file_extension": ".py",
   "mimetype": "text/x-python",
   "name": "python",
   "nbconvert_exporter": "python",
   "pygments_lexer": "ipython3",
   "version": "3.12.7"
  }
 },
 "nbformat": 4,
 "nbformat_minor": 4
}
