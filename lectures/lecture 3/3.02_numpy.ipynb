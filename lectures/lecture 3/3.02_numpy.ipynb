{
 "cells": [
  {
   "cell_type": "markdown",
   "metadata": {},
   "source": [
    "# Lecture 3.2 - Numerical computing and data science - numpy, scipy, pandas\n",
    "Numpy is the foundation for numerical computing in python. It enables fast numerical operations, by moving computationally expensive computations to faster code.\n",
    "\n",
    "Numpy itself mainly provides \"low-level\" functions for handling vector data:\n",
    "- multi-dimensional numerical arrays to represent vectors, matrices etc (`np.ndarray`)\n",
    "- multi-dimensional indexing and slicing\n",
    "- boolean indexing\n",
    "- functions for searching and filtering data: min/max, argmax, where (e.g. find pos. values: how many, at which indices, which values?)\n",
    "- basic statistical functions: np.sum, np.mean, np.std\n",
    "- linear algebra (dot products, eigenvalues etc), Fourier transforms, interpolation\n",
    "\n",
    "Numpy forms the basis for a whole eco system of scientific computing:\n",
    "1. _Scipy_ provides more advanced algorithms. We will cover the following:\n",
    "    - statistics and statistical tests (mean, std, ttest, anova, non-parametric tests) - Week 4\n",
    "    - curve fitting and optimization - Week 5\n",
    "    - frequency analyses - Week 6(?)\n",
    "2. _Pandas_ provides a way for handling tabular data with named columns and rows, plus the ability to load/save common file formats (Week 3, Week 5)\n",
    "    \n",
    "_Numpy for matlab users_:\n",
    "If you know Matlab, than numpy is conceptually very similar. Here is a great resource for matlab users that want to use numpy: [Numpy for Matlab users](https://numpy.org/doc/stable/user/numpy-for-matlab-users.html).\n",
    "\n",
    "Last remark - numpy, scipy, and pandas are large packages, with many functions. We will only scratch the surface of what can be done with these.\n"
   ]
  },
  {
   "cell_type": "markdown",
   "metadata": {},
   "source": [
    "## Why?\n",
    "So far, we've dealt with small data sets - what if we have realistic amounts of data?\n",
    "For instance, it is now easy to record electrophysiological activity for many hours on hundreds of channels. Processing these large volumes of data should not take days!!\n",
    "\n",
    "However, python is slow for raw number crunching. \n",
    "\n",
    "As an example, take a moderately long recording - 10 hours of single channel data voltage recordings:"
   ]
  },
  {
   "cell_type": "code",
   "execution_count": 6,
   "metadata": {
    "tags": []
   },
   "outputs": [],
   "source": [
    "import numpy as np\n",
    "data = np.load('data/voltage_trace_long.npz')"
   ]
  },
  {
   "cell_type": "markdown",
   "metadata": {},
   "source": [
    "Detecting spikes in these data with our \"old\" python code takes a long time - 17 seconds."
   ]
  },
  {
   "cell_type": "code",
   "execution_count": 7,
   "metadata": {
    "tags": []
   },
   "outputs": [
    {
     "name": "stdout",
     "output_type": "stream",
     "text": [
      "Detected 5270400 spikes.\n",
      "CPU times: user 10.5 s, sys: 288 ms, total: 10.8 s\n",
      "Wall time: 10.8 s\n"
     ]
    }
   ],
   "source": [
    "%%time\n",
    "threshold = 10\n",
    "spike_times_old = []\n",
    "spike_voltages_old = []\n",
    "\n",
    "for v, t in zip(data['voltage_trace'], data['times_seconds']):\n",
    "    if v > threshold:\n",
    "        spike_voltages_old.append(v)\n",
    "        spike_times_old.append(t)\n",
    "print(f\"Detected {len(spike_times_old)} spikes.\")"
   ]
  },
  {
   "cell_type": "markdown",
   "metadata": {},
   "source": [
    "The same, implemented in numpy is not only faster - it takes less than two seconds - but also more concise and easier to read!\n",
    "\n",
    "Below code will make more sense at the end of this lecture."
   ]
  },
  {
   "cell_type": "code",
   "execution_count": 8,
   "metadata": {
    "tags": []
   },
   "outputs": [
    {
     "name": "stdout",
     "output_type": "stream",
     "text": [
      "Detected 5270400\n",
      "CPU times: user 1.64 s, sys: 294 ms, total: 1.93 s\n",
      "Wall time: 1.94 s\n"
     ]
    }
   ],
   "source": [
    "%%time\n",
    "idx = data['voltage_trace'] > threshold  # determine which values in voltage_trace exceed the threshold\n",
    "spike_times = data['times_seconds'][idx]  # take the time of the super-threshold values\n",
    "spike_voltages = data['voltage_trace'][idx]  # take the voltage of the super-threshold values\n",
    "print(f\"Detected {len(spike_times)}\")"
   ]
  },
  {
   "cell_type": "markdown",
   "metadata": {},
   "source": [
    "## From lists to numpy arrays\n",
    "We have a list of numbers and want to subtract the mean from each value in the list.\n",
    "This is how it looks using core python:"
   ]
  },
  {
   "cell_type": "code",
   "execution_count": 11,
   "metadata": {
    "tags": []
   },
   "outputs": [],
   "source": [
    "data = [24, 6, 32, 9, 32, 43]\n",
    "\n",
    "# compute the mean\n",
    "mean = sum(data) / len(data)\n",
    "\n",
    "# subtract the mean from each element of the list\n",
    "new_data = []\n",
    "for d in data:\n",
    "    new_data.append(d - mean)"
   ]
  },
  {
   "cell_type": "markdown",
   "metadata": {},
   "source": [
    "Wouldn't it be nice if we could write code that is closer to how we would express the mathematical operation we want to perform, without needing a for loop?\n",
    "\n",
    "Like, $\\vec{y} = \\vec{x} - m(\\vec{x})$, where $m$ is a mathematical function that returns the mean of the elements in $\\vec{x}$.\n",
    "\n",
    "You can't do this with python lists, because python lists are a generic data type, not optimized for numerical data and computation.\n",
    "\n",
    "This is exactly where numpy comes into play - it makes working with numerical data easier and faster, by providing a specialized, numerical, data type - the numpy array - and numerical functions:"
   ]
  },
  {
   "cell_type": "code",
   "execution_count": 12,
   "metadata": {
    "tags": []
   },
   "outputs": [
    {
     "data": {
      "text/plain": [
       "array([ -0.33333333, -18.33333333,   7.66666667, -15.33333333,\n",
       "         7.66666667,  18.66666667])"
      ]
     },
     "execution_count": 12,
     "metadata": {},
     "output_type": "execute_result"
    }
   ],
   "source": [
    "import numpy as np  # this is the standard way of importing numpy, as np!\n",
    "\n",
    "array = np.array(data)  # cast the list into a numpy array\n",
    "new_array = array - np.mean(data)  # compute the mean and subtract it from each element in the array\n",
    "new_array"
   ]
  },
  {
   "cell_type": "markdown",
   "metadata": {},
   "source": [
    "So, while you can express any computation using core python, often with for loops, numpy allows you to express these computations more concisely, without for loops.\n",
    "\n",
    "In addition, numpy (and scipy) provide functions for many complex computations, so you don't have to implement them yourself.\n",
    "\n",
    "Overall, this makes code easier to read (less text) and faster to execute.\n",
    "\n",
    "We will see more examples of this below."
   ]
  },
  {
   "cell_type": "markdown",
   "metadata": {},
   "source": [
    "### Numpy arrays\n",
    "A numpy array can be created from a python list using `np.array`.\n",
    "\n",
    "We can inspect the array:"
   ]
  },
  {
   "cell_type": "code",
   "execution_count": 2,
   "metadata": {
    "tags": []
   },
   "outputs": [
    {
     "name": "stdout",
     "output_type": "stream",
     "text": [
      "data=array([24,  6, 32,  9, 32, 43])\n",
      "Number of dimensions (1D, 2D, ND): data.ndim=1\n",
      "Shape: data.shape=(6,)\n",
      "This returns the size of the first dimension: len(data)=6\n",
      "Data type of the array elements data.dtype=dtype('int64')\n"
     ]
    }
   ],
   "source": [
    "import numpy as np\n",
    "\n",
    "data = np.array([24, 6, 32,9, 32, 43])\n",
    "print(f\"{data=}\")\n",
    "print(f\"Number of dimensions (1D, 2D, ND): {data.ndim=}\")\n",
    "print(f\"Shape: {data.shape=}\")\n",
    "print(f\"This returns the size of the first dimension: {len(data)=}\")\n",
    "print(f\"Data type of the array elements {data.dtype=}\")"
   ]
  },
  {
   "cell_type": "markdown",
   "metadata": {},
   "source": [
    "Numpy arrays can be multi-dimensional. This is useful for a lot of scientific data you might encounter:\n",
    "- black and white images are 2D matrices of pixel color values - XxY\n",
    "- color images are 3D matrices of pixel color values - XxYxColor (Color=RGB)\n",
    "- volumetric data (microscopy stacks, structural MRI stacks) are 3D matrices - stacks of images - XxYxZ\n",
    "- behavioral videos or fMRI data can be represented as 3D matrices - a time series of images - XxYxTime\n",
    "- multi-channel audio or electrophysiology data are often 2D matrices - TimexChannel\n",
    "\n",
    "The following will create a matrix (2D array) from a nested list:"
   ]
  },
  {
   "cell_type": "code",
   "execution_count": 4,
   "metadata": {
    "tags": []
   },
   "outputs": [
    {
     "name": "stdout",
     "output_type": "stream",
     "text": [
      "data=array([[24,  6, 32],\n",
      "       [ 9, 32, 43]])\n",
      "Number of dimensions (1D, 2D, ND): data.ndim=2\n",
      "Shape: data.shape=(2, 3)\n",
      "This returns the size of the first dimension: len(data)=2\n",
      "Data type of the array elements data.dtype=dtype('int64')\n"
     ]
    }
   ],
   "source": [
    "data = np.array([[24, 6, 32],[9, 32, 43]])\n",
    "print(f\"{data=}\")\n",
    "print(f\"Number of dimensions (1D, 2D, ND): {data.ndim=}\")\n",
    "print(f\"Shape: {data.shape=}\")\n",
    "print(f\"This returns the size of the first dimension: {len(data)=}\")\n",
    "print(f\"Data type of the array elements {data.dtype=}\")"
   ]
  },
  {
   "cell_type": "markdown",
   "metadata": {},
   "source": [
    "### Array creation\n",
    "\n",
    "Numpy also provides tools for creating \"empty\" arrays of a specific size, to be filled with data later:"
   ]
  },
  {
   "cell_type": "code",
   "execution_count": 5,
   "metadata": {
    "tags": []
   },
   "outputs": [
    {
     "name": "stdout",
     "output_type": "stream",
     "text": [
      "ones: [1. 1. 1. 1.]\n",
      "zeros: [0. 0. 0. 0.]\n",
      "ones 2D: [[1. 1. 1. 1.]\n",
      " [1. 1. 1. 1.]]\n",
      "ones, with same dtype and shape as the \"data\" array: [[1 1 1]\n",
      " [1 1 1]]\n",
      "arange: [-1.   -0.75 -0.5  -0.25  0.    0.25  0.5   0.75]\n",
      "linspace: [ 0.          3.33333333  6.66666667 10.        ]\n"
     ]
    }
   ],
   "source": [
    "print('ones:', np.ones(shape=(4,)))\n",
    "print('zeros:', np.zeros(shape=(4,)))\n",
    "print('ones 2D:', np.ones(shape=(2,4)))\n",
    "print('ones, with same dtype and shape as the \"data\" array:', np.ones_like(data))\n",
    "print('arange:', np.arange(-1, 1, 0.25))  # like range but allows non-integer arguments (start, stop, step)\n",
    "print('linspace:', np.linspace(0, 10, 4))"
   ]
  },
  {
   "cell_type": "markdown",
   "metadata": {},
   "source": [
    "### Indexing and slicing\n",
    "Indexing and slicing numpy arrays works similar as for lists.\n",
    "\n",
    "However, numpy also provides multi-dimensional indexing:"
   ]
  },
  {
   "cell_type": "code",
   "execution_count": 6,
   "metadata": {
    "tags": []
   },
   "outputs": [
    {
     "name": "stdout",
     "output_type": "stream",
     "text": [
      "[[24  6 32]\n",
      " [ 9 32 43]]\n",
      "first row: data[0, :]=array([24,  6, 32])\n",
      "element at second row, first column: data[1, 0]=9\n",
      "same using list-style indexing: data[1][0]=9\n",
      "first column: data[:, 0]=array([24,  9])\n",
      "first two columns: data[:, :2]=array([[24,  6],\n",
      "       [ 9, 32]])\n",
      "last column: data[:, -1]=array([32, 43])\n"
     ]
    }
   ],
   "source": [
    "data = np.array([[24, 6, 32],[9, 32, 43]])\n",
    "\n",
    "print(data)\n",
    "print(f\"first row: {data[0, :]=}\")\n",
    "print(f\"element at second row, first column: {data[1, 0]=}\")\n",
    "print(f\"same using list-style indexing: {data[1][0]=}\")\n",
    "print(f\"first column: {data[:, 0]=}\")\n",
    "print(f\"first two columns: {data[:, :2]=}\")\n",
    "print(f\"last column: {data[:, -1]=}\")"
   ]
  },
  {
   "cell_type": "markdown",
   "metadata": {},
   "source": [
    "Assignment works similarly:"
   ]
  },
  {
   "cell_type": "code",
   "execution_count": 7,
   "metadata": {
    "tags": []
   },
   "outputs": [
    {
     "name": "stdout",
     "output_type": "stream",
     "text": [
      "[[0. 0. 0. 0. 0. 0. 0. 0. 0. 0.]\n",
      " [0. 0. 0. 0. 0. 0. 0. 0. 0. 0.]\n",
      " [0. 0. 0. 0. 0. 0. 0. 0. 0. 0.]\n",
      " [0. 0. 0. 0. 0. 0. 0. 0. 0. 0.]\n",
      " [0. 0. 0. 0. 0. 0. 0. 0. 0. 0.]\n",
      " [0. 0. 0. 0. 0. 0. 0. 0. 0. 0.]\n",
      " [0. 0. 0. 0. 0. 0. 0. 0. 0. 0.]\n",
      " [0. 0. 0. 0. 0. 0. 0. 0. 0. 0.]\n",
      " [0. 0. 0. 0. 0. 0. 0. 0. 0. 0.]\n",
      " [0. 0. 0. 0. 0. 0. 0. 0. 0. 0.]]\n",
      "[[  0.   0.   0.   0.   0.   0.   0.   0.   0.   0.]\n",
      " [  0.   0.   0.   0.   0. 100. 100. 100.   0.   0.]\n",
      " [  0.   0.   0.   0.   0. 100. 100. 100.   0.   0.]\n",
      " [  0.   0.   0.   0.   0. 100. 100. 100.   0.   0.]\n",
      " [  0.   0.   0.   0.   0.   0.   0.   0.   0.   0.]\n",
      " [  0.   0.   0.   0.   0.   0.   0.   0.   0.   0.]\n",
      " [  0.   0.   0.   0.   0.   0.   0.   0.   0.   0.]\n",
      " [  0.   0.   0.   0.   0.   0.   0.   0.   0.   0.]\n",
      " [  0.   0.   0.   0.   0.   0.   0.   0.   0.   0.]\n",
      " [  0.   0.   0.   0.   0.   0.   0.   0.   0.   0.]]\n"
     ]
    }
   ],
   "source": [
    "d = np.zeros((10, 10))\n",
    "print(d)\n",
    "\n",
    "d[1:4, 5:8] = 100\n",
    "print(d)"
   ]
  },
  {
   "cell_type": "markdown",
   "metadata": {},
   "source": [
    "One can even use arrays to index other arrays or lists:"
   ]
  },
  {
   "cell_type": "code",
   "execution_count": 9,
   "metadata": {},
   "outputs": [
    {
     "name": "stdout",
     "output_type": "stream",
     "text": [
      "data=array([ 0,  2,  4,  6,  8, 10, 12, 14, 16, 18, 20, 22, 24, 26, 28, 30, 32,\n",
      "       34, 36, 38])\n",
      "indices=array([False, False, False, False, False, False,  True,  True,  True,\n",
      "        True,  True,  True,  True,  True,  True,  True,  True,  True,\n",
      "        True,  True])\n",
      "data values at the indices: data[indices]=array([12, 14, 16, 18, 20, 22, 24, 26, 28, 30, 32, 34, 36, 38])\n"
     ]
    }
   ],
   "source": [
    "data = np.arange(0, 40, 2)\n",
    "\n",
    "indices = data > 10\n",
    "print(f\"{data=}\")\n",
    "print(f\"{indices=}\")\n",
    "print(f\"data values at the indices: {data[indices]=}\")"
   ]
  },
  {
   "cell_type": "markdown",
   "metadata": {},
   "source": [
    "__Important__, the type of the list elements we want to use for indexing needs to be int, not float."
   ]
  },
  {
   "cell_type": "code",
   "execution_count": 10,
   "metadata": {},
   "outputs": [
    {
     "name": "stdout",
     "output_type": "stream",
     "text": [
      "Indices are of type float: indices.dtype=dtype('float64')\n"
     ]
    },
    {
     "ename": "IndexError",
     "evalue": "arrays used as indices must be of integer (or boolean) type",
     "output_type": "error",
     "traceback": [
      "\u001b[0;31m---------------------------------------------------------------------------\u001b[0m",
      "\u001b[0;31mIndexError\u001b[0m                                Traceback (most recent call last)",
      "\u001b[1;32m/Users/janc/Library/CloudStorage/Dropbox/_teaching/neu715/neu715/lectures/lecture 3/3.02_numpy.ipynb Cell 26\u001b[0m line \u001b[0;36m3\n\u001b[1;32m      <a href='vscode-notebook-cell:/Users/janc/Library/CloudStorage/Dropbox/_teaching/neu715/neu715/lectures/lecture%203/3.02_numpy.ipynb#X34sZmlsZQ%3D%3D?line=0'>1</a>\u001b[0m indices \u001b[39m=\u001b[39m np\u001b[39m.\u001b[39marray([\u001b[39m1.0\u001b[39m, \u001b[39m7.0\u001b[39m, \u001b[39m18.0\u001b[39m])\n\u001b[1;32m      <a href='vscode-notebook-cell:/Users/janc/Library/CloudStorage/Dropbox/_teaching/neu715/neu715/lectures/lecture%203/3.02_numpy.ipynb#X34sZmlsZQ%3D%3D?line=1'>2</a>\u001b[0m \u001b[39mprint\u001b[39m(\u001b[39mf\u001b[39m\u001b[39m\"\u001b[39m\u001b[39mIndices are of type float: \u001b[39m\u001b[39m{\u001b[39;00mindices\u001b[39m.\u001b[39mdtype\u001b[39m=}\u001b[39;00m\u001b[39m\"\u001b[39m)\n\u001b[0;32m----> <a href='vscode-notebook-cell:/Users/janc/Library/CloudStorage/Dropbox/_teaching/neu715/neu715/lectures/lecture%203/3.02_numpy.ipynb#X34sZmlsZQ%3D%3D?line=2'>3</a>\u001b[0m \u001b[39mprint\u001b[39m(\u001b[39mf\u001b[39m\u001b[39m\"\u001b[39m\u001b[39mThis does not work: \u001b[39m\u001b[39m{\u001b[39;00mdata[indices]\u001b[39m=}\u001b[39;00m\u001b[39m\"\u001b[39m)\n",
      "\u001b[0;31mIndexError\u001b[0m: arrays used as indices must be of integer (or boolean) type"
     ]
    }
   ],
   "source": [
    "indices = np.array([1.0, 7.0, 18.0])\n",
    "print(f\"Indices are of type float: {indices.dtype=}\")\n",
    "print(f\"This does not work: {data[indices]=}\")"
   ]
  },
  {
   "cell_type": "markdown",
   "metadata": {},
   "source": [
    "### Array types and casting\n",
    "The type of all data in an array can be easily changed. This is useful to ensure you can use an array for indexing!"
   ]
  },
  {
   "cell_type": "code",
   "execution_count": 14,
   "metadata": {},
   "outputs": [
    {
     "name": "stdout",
     "output_type": "stream",
     "text": [
      "x=array([-4. , -3.5, -3. , -2.5, -2. , -1.5, -1. , -0.5,  0. ,  0.5,  1. ,\n",
      "        1.5,  2. ,  2.5,  3. ,  3.5])\n",
      "x.dtype=dtype('float64')\n",
      "x.astype(int)=array([-4, -3, -3, -2, -2, -1, -1,  0,  0,  0,  1,  1,  2,  2,  3,  3])\n",
      "x.astype(np.uint)=array([0, 0, 0, 0, 0, 0, 0, 0, 0, 0, 1, 1, 2, 2, 3, 3], dtype=uint64)\n"
     ]
    },
    {
     "name": "stderr",
     "output_type": "stream",
     "text": [
      "/var/folders/bc/5m_c7nkj1vnc2w7xmmnhpfww0000gn/T/ipykernel_30083/2679548855.py:5: RuntimeWarning: invalid value encountered in cast\n",
      "  print(f\"{x.astype(np.uint)=}\")  # cast to unsigned int\n"
     ]
    }
   ],
   "source": [
    "x = np.arange(-4, 4, 0.5)\n",
    "print(f\"{x=}\")\n",
    "print(f\"{x.dtype=}\")  # default type if float64\n",
    "print(f\"{x.astype(int)=}\")  # cast to int\n",
    "print(f\"{x.astype(np.uint)=}\")  # cast to unsigned int"
   ]
  },
  {
   "cell_type": "markdown",
   "metadata": {},
   "source": [
    "### Math"
   ]
  },
  {
   "cell_type": "code",
   "execution_count": 15,
   "metadata": {},
   "outputs": [
    {
     "name": "stdout",
     "output_type": "stream",
     "text": [
      "data=array([ 0,  2,  4,  6,  8, 10, 12, 14, 16, 18, 20, 22, 24, 26, 28, 30, 32,\n",
      "       34, 36, 38])\n",
      "data + 10=array([10, 12, 14, 16, 18, 20, 22, 24, 26, 28, 30, 32, 34, 36, 38, 40, 42,\n",
      "       44, 46, 48])\n",
      "data - np.ones_like(data) * 2=array([-2,  0,  2,  4,  6,  8, 10, 12, 14, 16, 18, 20, 22, 24, 26, 28, 30,\n",
      "       32, 34, 36])\n",
      "data - np.array([[1], [2.5]])=array([[-1. ,  1. ,  3. ,  5. ,  7. ,  9. , 11. , 13. , 15. , 17. , 19. ,\n",
      "        21. , 23. , 25. , 27. , 29. , 31. , 33. , 35. , 37. ],\n",
      "       [-2.5, -0.5,  1.5,  3.5,  5.5,  7.5,  9.5, 11.5, 13.5, 15.5, 17.5,\n",
      "        19.5, 21.5, 23.5, 25.5, 27.5, 29.5, 31.5, 33.5, 35.5]])\n",
      "data * np.array([[1], [2.5]])=array([[ 0.,  2.,  4.,  6.,  8., 10., 12., 14., 16., 18., 20., 22., 24.,\n",
      "        26., 28., 30., 32., 34., 36., 38.],\n",
      "       [ 0.,  5., 10., 15., 20., 25., 30., 35., 40., 45., 50., 55., 60.,\n",
      "        65., 70., 75., 80., 85., 90., 95.]])\n"
     ]
    }
   ],
   "source": [
    "print(f\"{data=}\")\n",
    "print(f\"{data + 10=}\")\n",
    "print(f\"{data - np.ones_like(data) * 2=}\")\n",
    "print(f\"{data - np.array([[1], [2.5]])=}\")\n",
    "print(f\"{data * np.array([[1], [2.5]])=}\")"
   ]
  },
  {
   "cell_type": "markdown",
   "metadata": {},
   "source": [
    "more functions:"
   ]
  },
  {
   "cell_type": "code",
   "execution_count": 16,
   "metadata": {},
   "outputs": [
    {
     "name": "stdout",
     "output_type": "stream",
     "text": [
      "data=array([0.        , 0.11111111, 0.22222222, 0.33333333, 0.44444444,\n",
      "       0.55555556, 0.66666667, 0.77777778, 0.88888889, 1.        ])\n",
      "np.mean(data)=0.5\n",
      "np.prod(data)=0.0\n",
      "np.diff(data)=array([0.11111111, 0.11111111, 0.11111111, 0.11111111, 0.11111111,\n",
      "       0.11111111, 0.11111111, 0.11111111, 0.11111111])\n"
     ]
    }
   ],
   "source": [
    "data = np.linspace(0, 1, 10)\n",
    "print(f\"{data=}\")\n",
    "print(f\"{np.mean(data)=}\")\n",
    "print(f\"{np.prod(data)=}\")\n",
    "print(f\"{np.diff(data)=}\")"
   ]
  },
  {
   "cell_type": "markdown",
   "metadata": {},
   "source": [
    "In many numpy functions, the `axis` argument allows you to apply an operation only to an axis, not to the full matrix.\n",
    "This allows you to compute the mean only over rows, or only over columns."
   ]
  },
  {
   "cell_type": "code",
   "execution_count": 17,
   "metadata": {},
   "outputs": [
    {
     "name": "stdout",
     "output_type": "stream",
     "text": [
      "data=array([[ 1,  2,  3],\n",
      "       [10, 20, 30]])\n",
      "np.mean(data, axis=0)=array([ 5.5, 11. , 16.5])\n",
      "np.mean(data, axis=1)=array([ 2., 20.])\n"
     ]
    }
   ],
   "source": [
    "data = np.array([[1, 2, 3], [10, 20, 30]])\n",
    "print(f\"{data=}\")\n",
    "print(f\"{np.mean(data, axis=0)=}\")\n",
    "print(f\"{np.mean(data, axis=1)=}\")"
   ]
  },
  {
   "cell_type": "markdown",
   "metadata": {},
   "source": [
    "### Searching arrays and Boolean indexing\n",
    "Just like with math, we can also apply comparisons to all elements of an array. This creates boolean arrays:"
   ]
  },
  {
   "cell_type": "code",
   "execution_count": 18,
   "metadata": {},
   "outputs": [
    {
     "name": "stdout",
     "output_type": "stream",
     "text": [
      "data=array([[24,  6, 30],\n",
      "       [ 9, 32, 43]])\n",
      "data > 10=array([[ True, False,  True],\n",
      "       [False,  True,  True]])\n"
     ]
    }
   ],
   "source": [
    "data = np.array([[24, 6, 30],[9, 32, 43]])\n",
    "print(f\"{data=}\")\n",
    "print(f\"{data > 10=}\")"
   ]
  },
  {
   "cell_type": "markdown",
   "metadata": {},
   "source": [
    "We can then use the boolean array as an index. This will return only the data values for which the boolean index is `True`:"
   ]
  },
  {
   "cell_type": "code",
   "execution_count": 19,
   "metadata": {},
   "outputs": [
    {
     "name": "stdout",
     "output_type": "stream",
     "text": [
      "data=array([[24,  6, 30],\n",
      "       [ 9, 32, 43]])\n",
      "[24 30 32 43]\n",
      "[6 9]\n"
     ]
    }
   ],
   "source": [
    "print(f\"{data=}\")\n",
    "print(f\"{data[data > 10]}\")\n",
    "print(f\"{data[data < 10]}\")"
   ]
  },
  {
   "cell_type": "markdown",
   "metadata": {},
   "source": [
    "`np.where` will return the indices at which the expression is True:"
   ]
  },
  {
   "cell_type": "code",
   "execution_count": 20,
   "metadata": {},
   "outputs": [
    {
     "name": "stdout",
     "output_type": "stream",
     "text": [
      "(array([0, 1]), array([1, 0]))\n"
     ]
    }
   ],
   "source": [
    "print(f\"{np.where(data < 10)}\")"
   ]
  },
  {
   "cell_type": "markdown",
   "metadata": {},
   "source": [
    "To combine different conditions, we need to logically combine the indices, using `np.logical_and` or `np.logical_or`:"
   ]
  },
  {
   "cell_type": "code",
   "execution_count": 21,
   "metadata": {
    "tags": []
   },
   "outputs": [
    {
     "name": "stdout",
     "output_type": "stream",
     "text": [
      "[[24  6 30]\n",
      " [ 9 32 43]]\n",
      "[[ True False  True]\n",
      " [False  True  True]]\n",
      "[[ True  True  True]\n",
      " [ True False False]]\n",
      "[[ True False  True]\n",
      " [False False False]]\n",
      "[24 30]\n"
     ]
    }
   ],
   "source": [
    "lower = data > 10\n",
    "upper = data < 31\n",
    "both = np.logical_and(lower, upper)  # takes two boolean arrays, returns a new array in which only elements are True that where True in the two inputs - lower AND upper\n",
    "\n",
    "print(data)\n",
    "print(lower)\n",
    "print(upper)\n",
    "print(both)\n",
    "print(data[both])"
   ]
  },
  {
   "cell_type": "code",
   "execution_count": 22,
   "metadata": {},
   "outputs": [
    {
     "name": "stdout",
     "output_type": "stream",
     "text": [
      "[[24  6 30]\n",
      " [ 9 32 43]]\n",
      "[[False  True False]\n",
      " [ True False False]]\n",
      "[[False False False]\n",
      " [False  True  True]]\n",
      "[[False  True False]\n",
      " [ True  True  True]]\n",
      "[ 6  9 32 43]\n"
     ]
    }
   ],
   "source": [
    "lower = data < 10\n",
    "upper = data > 31\n",
    "both = np.logical_or(lower, upper)  # takes two boolean arrays, returns a new array in which all elements are True that where True in at least one of the two inputs - lower OR upper\n",
    "\n",
    "print(data)\n",
    "print(lower)\n",
    "print(upper)\n",
    "print(both)\n",
    "print(data[both])"
   ]
  },
  {
   "cell_type": "code",
   "execution_count": 23,
   "metadata": {},
   "outputs": [
    {
     "name": "stdout",
     "output_type": "stream",
     "text": [
      "data=array([[24,  6, 30],\n",
      "       [ 9, 32, 43]])\n",
      "np.max(data)=43\n",
      "np.min(data)=6\n",
      "np.min(data, axis=0)=array([ 9,  6, 30])\n",
      "np.argmin(data)=1\n",
      "data.flatten()[1]=6\n",
      "np.max(data, axis=1)=array([30, 43])\n",
      "rows, cols=(array([0, 0, 1, 1]), array([0, 2, 1, 2]))\n"
     ]
    }
   ],
   "source": [
    "print(f\"{data=}\")\n",
    "print(f\"{np.max(data)=}\")  # max over all axes\n",
    "print(f\"{np.min(data)=}\")  # min over all axes\n",
    "print(f\"{np.min(data, axis=0)=}\")  # min for each column\n",
    "print(f\"{np.argmin(data)=}\")    # index of the smallest value, after \"flattening\" the matrix\n",
    "print(f\"{data.flatten()[1]=}\")\n",
    "print(f\"{np.max(data, axis=1)=}\")\n",
    "rows, cols = np.where(data > 10)\n",
    "print(f\"{rows, cols=}\")"
   ]
  }
 ],
 "metadata": {
  "interpreter": {
   "hash": "7ea0ec616133ead53c1908c8f6539f5c0cb9b2f78368e2bb6ab3f847e89ca400"
  },
  "kernelspec": {
   "display_name": "Python 3 (ipykernel)",
   "language": "python",
   "name": "python3"
  },
  "language_info": {
   "codemirror_mode": {
    "name": "ipython",
    "version": 3
   },
   "file_extension": ".py",
   "mimetype": "text/x-python",
   "name": "python",
   "nbconvert_exporter": "python",
   "pygments_lexer": "ipython3",
   "version": "3.12.0"
  }
 },
 "nbformat": 4,
 "nbformat_minor": 4
}
