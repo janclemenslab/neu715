{
 "cells": [
  {
   "cell_type": "markdown",
   "metadata": {},
   "source": [
    "# Working with files\n",
    "Experimental data is saved in a bunch of files - often one file per animal or experiment. \n",
    "\n",
    "Let's say we have the data organized in the following folder structure:\n",
    "```\n",
    "experiments\n",
    "├── experiment_1\n",
    "│   ├── final_behavioral_scores.txt\n",
    "│   └── initial_behavioral_scores.txt\n",
    "├── experiment_2\n",
    "│   ├── final_behavioral_scores.txt\n",
    "│   └── initial_behavioral_scores.txt\n",
    "├── experiment_3\n",
    "│   ├── final_behavioral_scores.txt\n",
    "│   └── initial_behavioral_scores.txt\n",
    "├── experiment_4\n",
    "│   ├── final_behavioral_scores.txt\n",
    "│   └── initial_behavioral_scores.txt\n",
    "├── experiment_5\n",
    "│   ├── final_behavioral_scores.txt\n",
    "│   └── initial_behavioral_scores.txt\n",
    "├── information.txt\n",
    "└── mouse_names.txt\n",
    "```\n",
    "\n",
    "__Describe question and discuss analysis steps!__\n",
    "\n",
    "\n",
    "If we want to analyse the data for all animals or experiments we need to:\n",
    "1. Discover and list these data files, so you can process each of them automatically in a for loop.\n",
    "2. Read the data in the files into python variables, perform our analysis on the data, and save the results stored in python variables to results files.\n",
    "\n",
    "Let's build this workflow step-by-step together!"
   ]
  },
  {
   "cell_type": "markdown",
   "metadata": {},
   "source": [
    "## Loading and analysing data from a text file\n",
    "The data is saved in text files - filenames with the extension `.txt`.\n",
    "\n",
    "__MAKE DATA 2D IN EACH FILE__\n",
    "\n",
    "To understand the organization of the data inside each file, we can open it in a text editor:\n",
    "```csv\n",
    "Time,Responses\n",
    "1,0.561\n",
    "2,0.342\n",
    "3,0.23\n",
    "4,0.144\n",
    "```\n",
    "\n",
    "We see that each files contains a table with two columns: `Time` and `Responses`.\n",
    "\n",
    "The columns are separated by a comma (`,`). The symbol separating individual columns is also called _delimiter_.\n",
    "\n",
    "To load the table into a numpy array, we can use the `np.loadtxt` function:"
   ]
  },
  {
   "cell_type": "code",
   "execution_count": 5,
   "metadata": {},
   "outputs": [
    {
     "data": {
      "text/plain": [
       "array([ 1.,  2.,  3.,  4.,  5., 56.,  6.])"
      ]
     },
     "execution_count": 5,
     "metadata": {},
     "output_type": "execute_result"
    }
   ],
   "source": [
    "import numpy as np\n",
    "data = np.loadtxt('experiments/experiment_1/final_behavioral_scores.txt', delimiter='`', skiprows=1)\n",
    "data"
   ]
  },
  {
   "cell_type": "markdown",
   "metadata": {},
   "source": [
    "We can now analyze the data:\n",
    "..."
   ]
  },
  {
   "cell_type": "code",
   "execution_count": 6,
   "metadata": {},
   "outputs": [],
   "source": [
    "x = np.mean(data)"
   ]
  },
  {
   "cell_type": "markdown",
   "metadata": {},
   "source": [
    "## Analyzing a whole data set\n",
    "So far so good.\n",
    "\n",
    "Now we want to do that for every file in the folder. And save the results to a new file.\n",
    "\n",
    "How do we do that?\n",
    "\n",
    "\n",
    "### Discovering files\n",
    "The [glob](https://docs.python.org/3/library/glob.html) module allows you to list directories or files in a directory.\n",
    "\n",
    "_Wild card_ characters allow you to find file names matching a specific pattern:\n",
    "- `?` matches individual characters\n",
    "- `*` matches any string of characters"
   ]
  },
  {
   "cell_type": "code",
   "execution_count": 7,
   "metadata": {},
   "outputs": [
    {
     "name": "stdout",
     "output_type": "stream",
     "text": [
      "glob('experiments/*')=['experiments/experiment_1', 'experiments/information.txt', 'experiments/mouse_names.txt', 'experiments/experiment_2']\n",
      "glob('experiments/*.txt')=['experiments/information.txt', 'experiments/mouse_names.txt']\n",
      "glob('experiments/i*.txt')=['experiments/information.txt']\n",
      "glob('experiments/experiment_?')=['experiments/experiment_1', 'experiments/experiment_2']\n",
      "glob('experiments/*/')=['experiments/experiment_1/', 'experiments/experiment_2/']\n",
      "glob('experiments/*/*.txt')=['experiments/experiment_1/initial_behavioral_scores.txt', 'experiments/experiment_1/final_behavioral_scores.txt', 'experiments/experiment_2/initial_behavioral_scores.txt', 'experiments/experiment_2/final_behavioral_scores.txt']\n"
     ]
    }
   ],
   "source": [
    "from glob import glob\n",
    "print(f\"{glob('experiments/*')=}\")  # find all files and directories in the experiments directory\n",
    "print(f\"{glob('experiments/*.txt')=}\")  # find files ending in '.txt'\n",
    "print(f\"{glob('experiments/i*.txt')=}\")  # find files and directories in 'experiments', starting with 'i', and ending in '.txt'\n",
    "print(f\"{glob('experiments/experiment_?')=}\")  # find files and directories in 'experiments', starting with 'experiment_', and ending in a single unknown character.\n",
    "\n",
    "print(f\"{glob('experiments/*/')=}\")  # find all subdirectories\n",
    "print(f\"{glob('experiments/*/*.txt')=}\")  # find 'txt' files in all subdirectories"
   ]
  },
  {
   "cell_type": "markdown",
   "metadata": {},
   "source": [
    "A bit of nomenclature: Take this path `experiments/experiment_1/final_behavioral_scores.txt`\n",
    "- `final_behavioral_scores.txt` is the file name, `final_behavioral_scores` is called the file stem, `.txt` is called the suffix or extension\n",
    "- `experiments` and `experiment_1` are directories or folders. `experiments` is the parent directory of `experiment_1`. `experiment_1` is  a subdirectory of `experiments`\n",
    "- `/` is the path separator.\n",
    "\n",
    "We can now list all data files, ending in `.txt` in the `experiment_*` subfolders:"
   ]
  },
  {
   "cell_type": "code",
   "execution_count": 9,
   "metadata": {},
   "outputs": [
    {
     "data": {
      "text/plain": [
       "['experiments/experiment_1/initial_behavioral_scores.txt',\n",
       " 'experiments/experiment_1/final_behavioral_scores.txt',\n",
       " 'experiments/experiment_2/initial_behavioral_scores.txt',\n",
       " 'experiments/experiment_2/final_behavioral_scores.txt']"
      ]
     },
     "execution_count": 9,
     "metadata": {},
     "output_type": "execute_result"
    }
   ],
   "source": [
    "data_files = glob('experiments/experiment_*/*.txt')\n",
    "data_files"
   ]
  },
  {
   "cell_type": "markdown",
   "metadata": {},
   "source": [
    "### Load files from a list"
   ]
  },
  {
   "cell_type": "code",
   "execution_count": 12,
   "metadata": {},
   "outputs": [
    {
     "name": "stdout",
     "output_type": "stream",
     "text": [
      "Loading experiments/experiment_1/initial_behavioral_scores.txt\n",
      "Loading experiments/experiment_1/final_behavioral_scores.txt\n",
      "Loading experiments/experiment_2/initial_behavioral_scores.txt\n",
      "Loading experiments/experiment_2/final_behavioral_scores.txt\n"
     ]
    }
   ],
   "source": [
    "for data_file in data_files:\n",
    "    print(f\"Loading {data_file}\")\n",
    "    data = np.loadtxt(data_file, delimiter='`', skiprows=1)\n"
   ]
  },
  {
   "cell_type": "markdown",
   "metadata": {},
   "source": [
    "### Analyzing data from files in a list"
   ]
  },
  {
   "cell_type": "code",
   "execution_count": null,
   "metadata": {},
   "outputs": [
    {
     "name": "stdout",
     "output_type": "stream",
     "text": [
      "Loading experiments/experiment_1/initial_behavioral_scores.txt\n",
      "Loading experiments/experiment_1/final_behavioral_scores.txt\n",
      "Loading experiments/experiment_2/initial_behavioral_scores.txt\n",
      "Loading experiments/experiment_2/final_behavioral_scores.txt\n"
     ]
    },
    {
     "data": {
      "text/plain": [
       "[<matplotlib.lines.Line2D at 0x11fe59910>]"
      ]
     },
     "execution_count": 17,
     "metadata": {},
     "output_type": "execute_result"
    },
    {
     "data": {
      "image/png": "[encoded data removed]",
      "text/plain": [
       "<Figure size 640x480 with 1 Axes>"
      ]
     },
     "metadata": {},
     "output_type": "display_data"
    }
   ],
   "source": [
    "import matplotlib.pyplot as plt\n",
    "\n",
    "results = []\n",
    "\n",
    "for data_file in data_files:\n",
    "    print(f\"Loading {data_file}\")\n",
    "    data = np.loadtxt(data_file, delimiter='`', skiprows=1)\n",
    "\n",
    "    results.append(np.mean(data))\n",
    "\n",
    "plt.plot(results, 'o-')"
   ]
  },
  {
   "cell_type": "markdown",
   "metadata": {},
   "source": [
    "### Saving results to a text file\n",
    "We can use numpy to save any numpy array to a text file:"
   ]
  },
  {
   "cell_type": "code",
   "execution_count": 19,
   "metadata": {},
   "outputs": [],
   "source": [
    "np.savetxt('results.txt', results, header='Responses')  # the \"header\" argument is optional"
   ]
  },
  {
   "cell_type": "markdown",
   "metadata": {},
   "source": [
    "### Saving with specific names derived from the data file name\n",
    "\n",
    "Something that requires path manipulations - different file extension, different folder, same filestem\n",
    "\n"
   ]
  },
  {
   "cell_type": "markdown",
   "metadata": {},
   "source": [
    "### Manipulating paths\n",
    "We often need to manipulate path names.\n",
    "\n",
    "Say we want to process the data in `initial_behavioral_scores.txt` and `final_behavioral_scores.txt` for each experiment in `experiments`, and want to save the results in a folder called `results` that mimics the structure of the data folder: `results/experiment_1/behavior.xls`, `results/experiment_2/behavior.xls`.\n",
    "\n",
    "We want to generate the paths for the new results files automatically from the paths of the data files. That means we need to manipulate the path names. In one exercise, you will do just that!!\n",
    "\n",
    "There are two ways of working with paths in python\n",
    "- [os.path](https://docs.python.org/3/library/os.path.html) (old)\n",
    "- [pathlib](https://docs.python.org/3/library/pathlib.html) (new but more complicated - we won't cover it here)\n"
   ]
  },
  {
   "cell_type": "code",
   "execution_count": null,
   "metadata": {},
   "outputs": [
    {
     "name": "stdout",
     "output_type": "stream",
     "text": [
      "os.path.splitext(my_path)=('parentdir/subdir/name', '.txt')\n",
      "my_path='parentdir/subdir/name.txt', trunk='parentdir/subdir/name', extension='.txt'\n",
      "trunk='parentdir/subdir', head='name.txt'\n",
      "new_trunk='parentdir', new_head='subdir'\n",
      "os.path.basename(my_path)='name.txt'\n",
      "os.path.dirname(my_path)='parentdir/subdir'\n"
     ]
    }
   ],
   "source": [
    "import os.path\n",
    "my_path = 'parentdir/subdir/name.txt'\n",
    "\n",
    "print(f\"{os.path.splitext(my_path)=}\")\n",
    "my_path_parts = os.path.splitext(my_path)\n",
    "trunk = my_path_parts[0]\n",
    "extension = my_path_parts[1]\n",
    "print(f\"{my_path=}, {trunk=}, {extension=}\")\n",
    "\n",
    "# this will split off the file name from the rest of the path:\n",
    "trunk, head = os.path.split(my_path)\n",
    "print(f\"{trunk=}, {head=}\")\n",
    "\n",
    "# we can split the trunk again to split off the sub directory\n",
    "new_trunk, new_head = os.path.split(trunk)\n",
    "print(f\"{new_trunk=}, {new_head=}\")\n",
    "\n",
    "print(f\"{os.path.basename(my_path)=}\")  # returns the filename\n",
    "print(f\"{os.path.dirname(my_path)=}\")  # returns the directories"
   ]
  },
  {
   "cell_type": "markdown",
   "metadata": {},
   "source": [
    "We now know how to split a path in various ways. How can we assemble the parts into something new?\n",
    "\n",
    "We can use `os.path.join` with multiple strings as arguments to join them into a new path. This function will use the correct path separator."
   ]
  },
  {
   "cell_type": "code",
   "execution_count": null,
   "metadata": {},
   "outputs": [
    {
     "name": "stdout",
     "output_type": "stream",
     "text": [
      "directory_name/subdirectory_name/file_name.ext\n"
     ]
    }
   ],
   "source": [
    "new_path = os.path.join('directory_name', 'subdirectory_name', 'file_name.ext')\n",
    "print(new_path)"
   ]
  },
  {
   "cell_type": "markdown",
   "metadata": {},
   "source": [
    "What if we want to change the file extension? \n",
    "Say our data file is an excel file (extension '.xlsx') and we want to save the results from analyzing that file to a text file (extension '.txt'). \n",
    "\n",
    "Since the parts are strings, we can use the `+` operator to concatenate them. This will create a file name with a new suffix:"
   ]
  },
  {
   "cell_type": "code",
   "execution_count": null,
   "metadata": {},
   "outputs": [
    {
     "name": "stdout",
     "output_type": "stream",
     "text": [
      "Load data from mouse_276.xls\n",
      "Save result to mouse_276.txt\n"
     ]
    }
   ],
   "source": [
    "data_file_name = 'mouse_276.xls'\n",
    "print('Load data from', data_file_name)\n",
    "\n",
    "# First split off the old extension:\n",
    "data_file_trunk, data_file_ext = os.path.splitext(data_file_name)\n",
    "\n",
    "# Then add the new extension to the file trunk\n",
    "results_file_name = data_file_trunk + '.txt'\n",
    "print('Save result to', results_file_name)\n"
   ]
  },
  {
   "cell_type": "markdown",
   "metadata": {},
   "source": [
    "### Creating directories\n",
    "To save files to new directories, we can create them directly with python:\n",
    "\n",
    "`os.makedirs('tmp/sub1/sub2', exist_ok=True)`\n",
    "\n",
    "`exist_ok=True` prevents an error if the directory already exists."
   ]
  },
  {
   "cell_type": "markdown",
   "metadata": {},
   "source": [
    "### Saving data to numpy files\n",
    "A more efficient (faster load/save, less disk space) format is the numpy file. There are two ways of saving data to numpy files.\n",
    "\n",
    "You can save a single variable using the `np.save`. The resulting file should have the extension `npy`."
   ]
  },
  {
   "cell_type": "code",
   "execution_count": null,
   "metadata": {},
   "outputs": [
    {
     "name": "stdout",
     "output_type": "stream",
     "text": [
      "[1 2 3 4]\n"
     ]
    }
   ],
   "source": [
    "import numpy as np\n",
    "time = np.array([1, 2, 3, 4])\n",
    "print(time)\n",
    "np.save('saved_single_variable.npy', time)"
   ]
  },
  {
   "cell_type": "markdown",
   "metadata": {},
   "source": [
    "You can load the variabe from the file using `np.load`. Since the file only contained a single variable, `np.load` will return the values of the variable directly:"
   ]
  },
  {
   "cell_type": "code",
   "execution_count": null,
   "metadata": {},
   "outputs": [
    {
     "data": {
      "text/plain": [
       "array([1, 2, 3, 4])"
      ]
     },
     "metadata": {},
     "output_type": "display_data"
    }
   ],
   "source": [
    "loaded_npy = np.load('saved_single_variable.npy')\n",
    "loaded_npy"
   ]
  },
  {
   "cell_type": "markdown",
   "metadata": {},
   "source": [
    "You can also save multiple variables to a single file using `np.savez`, which will create a file with the extension `npz`."
   ]
  },
  {
   "cell_type": "code",
   "execution_count": null,
   "metadata": {},
   "outputs": [],
   "source": [
    "time_to_save = np.array([1, 2, 3, 4])\n",
    "voltage_to_save = np.array([-60, -60, 40, -60])\n",
    "np.savez('saved_multiple_variables.npz', time=time_to_save, voltage=voltage_to_save)  # the keywords \"time\" and \"voltage\" will be the names associated with the saved data variables.\n",
    "np.savez('saved_multiple_variables_NO.npz', time_to_save, voltage_to_save)  # the keywords \"time\" and \"voltage\" will be the names associated with the saved data variables."
   ]
  },
  {
   "cell_type": "markdown",
   "metadata": {},
   "source": [
    "Loading an `npz` files will return a dictionary-like data structure, with the names of the saved variables as keys and the variables' data as values:"
   ]
  },
  {
   "cell_type": "code",
   "execution_count": null,
   "metadata": {},
   "outputs": [
    {
     "name": "stdout",
     "output_type": "stream",
     "text": [
      "NpzFile 'saved_multiple_variables.npz' with keys: time, voltage\n",
      "time: [1 2 3 4]\n",
      "Variable \"time\" with values \"[1 2 3 4]\".\n",
      "Variable \"voltage\" with values \"[-60 -60  40 -60]\".\n"
     ]
    }
   ],
   "source": [
    "loaded_npz = np.load('saved_multiple_variables.npz')\n",
    "print(loaded_npz)\n",
    "\n",
    "print(\"time:\", loaded_npz['time'])\n",
    "\n",
    "for key, val in loaded_npz.items():\n",
    "    print(f'Variable \"{key}\" with values \"{val}\".')"
   ]
  }
 ],
 "metadata": {
  "kernelspec": {
   "display_name": "neu715",
   "language": "python",
   "name": "python3"
  },
  "language_info": {
   "codemirror_mode": {
    "name": "ipython",
    "version": 3
   },
   "file_extension": ".py",
   "mimetype": "text/x-python",
   "name": "python",
   "nbconvert_exporter": "python",
   "pygments_lexer": "ipython3",
   "version": "3.12.7"
  }
 },
 "nbformat": 4,
 "nbformat_minor": 4
}
