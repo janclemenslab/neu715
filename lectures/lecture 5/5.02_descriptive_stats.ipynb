{
 "cells": [
  {
   "cell_type": "markdown",
   "metadata": {},
   "source": [
    "# Descriptive statistics\n",
    "So far we encountered the mean and the standard deviation as descriptive statistics. These two quantities are sufficient to fully describe normally distributed data! Alas, not all data is normally distributed so we need other measures of central tendency and dispersion."
   ]
  },
  {
   "cell_type": "markdown",
   "metadata": {},
   "source": [
    "## Measures of central tendency: Mean, median, mode\n",
    "- Mean: Average value: $1/N \\sum_i^N x_i$\n",
    "- Median: Value at the midpoint of the distribution, such that there is an equal probability of observing values below and above the median (50% of the samples are below the median, 50% above).\n",
    "- Mode: Most frequent value for a discrete distribution or the point at which a continuous pdf (histogram) attains its max value.\n",
    "\n",
    "For a normal distribution, mean, median, and mode are identical.\n",
    "\n",
    "![](fig/5.02_descriptive_stats1.png)"
   ]
  },
  {
   "cell_type": "markdown",
   "metadata": {},
   "source": [
    "## Measures of dispersion: Variance, standard deviation and inter-quartile range\n",
    "- Variance: $\\sigma^2 = 1/(N-1) \\sum_i^N (x_i - \\hat{x})^2$ ($\\hat{x}$ is the mean of all x)\n",
    "- Standard deviation is the square root of the variance: $\\sigma = \\sqrt{\\sigma^2}$. Useful for normal data.\n",
    "- Inter-quartile range (IQR): Quartiles split the data into 4 parts each with equal number of samples - the first quartile contains the 25% of samples with the lowest values, the last quartile contains the 25% of the samples with the highest values. The interquartile range is the range of data that spans the central 50% of the distribution. Useful for non-normal (asymmetrical) data.\n",
    "\n",
    "__Note__ The variance measures the average squared distance of the samples from the sample mean. Why then use a normalizaton factor of $N-1$, instead of $N$ as expected for an average? Turns out the values obtained with normalization $N$ are biased - you will explore this in the exercise.\n",
    "\n",
    "![](fig/5.02_descriptive_stats2.png)"
   ]
  },
  {
   "cell_type": "markdown",
   "metadata": {},
   "source": [
    "### Mini Exercise\n",
    "- Visualize the density distribution of the data in x\n",
    "- Calculate and plot the mean and the median of the distribution as vertical lines. Why is the mean greater than the median?"
   ]
  },
  {
   "cell_type": "code",
   "execution_count": 1,
   "metadata": {},
   "outputs": [],
   "source": [
    "import numpy as np\n",
    "import matplotlib.pyplot as plt\n",
    "\n",
    "x = np.random.weibull(.4, (1_000_000))  # generate 1M random numbers from a probability distribution\n",
    "\n",
    "# your solution here"
   ]
  },
  {
   "cell_type": "markdown",
   "metadata": {},
   "source": [
    "## Percentiles\n",
    "Median and quartiles are special cases of percentiles.\n",
    "A _percentile_ is the value at or below which a given percentage of all samples falls.\n",
    "\n",
    "- The median is the 50th percentile - 50% of all samples fall below the median.\n",
    "- The first quartile is the 25th percentile - 25% (a quarter) of all samples fall below the quartile.\n",
    "- 99% of all samples fall below the 99th percentile."
   ]
  },
  {
   "cell_type": "code",
   "execution_count": 29,
   "metadata": {},
   "outputs": [
    {
     "name": "stdout",
     "output_type": "stream",
     "text": [
      "[-2.3  -2.06 -1.1  -1.07 -0.88 -0.76 -0.61 -0.53 -0.38 -0.32 -0.25 -0.17\n",
      "  0.04  0.32  0.58  0.87  1.13  1.46  1.62  1.74]\n"
     ]
    },
    {
     "data": {
      "image/png": "[encoded data removed]",
      "text/plain": [
       "<Figure size 640x480 with 1 Axes>"
      ]
     },
     "metadata": {
      "needs_background": "light"
     },
     "output_type": "display_data"
    }
   ],
   "source": [
    "np.random.seed(1)\n",
    "y = np.random.randn(20)  # generate 20 random numbers\n",
    "\n",
    "y.sort()  # sort them\n",
    "rank = np.arange(1, len(x)+1)  # the rank is the position of a value when the data is sorted from lowest to highest, like a ranking in sports.\n",
    "print(np.around(y, decimals=2))\n",
    "\n",
    "plt.plot(rank, y, 'o', c='dodgerblue')\n",
    "plt.xticks(rank)\n",
    "plt.show()\n",
    "\n",
    "# Where is the median?\n",
    "# Where is the first quartile?\n",
    "# Where is the 10th perentile?\n",
    "# Where is the 90th perentile?\n",
    "# Where is the 99th perentile?"
   ]
  }
 ],
 "metadata": {
  "kernelspec": {
   "display_name": "neu715",
   "language": "python",
   "name": "python3"
  },
  "language_info": {
   "codemirror_mode": {
    "name": "ipython",
    "version": 3
   },
   "file_extension": ".py",
   "mimetype": "text/x-python",
   "name": "python",
   "nbconvert_exporter": "python",
   "pygments_lexer": "ipython3",
   "version": "3.12.7"
  }
 },
 "nbformat": 4,
 "nbformat_minor": 4
}
